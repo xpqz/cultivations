{
 "cells": [
  {
   "cell_type": "markdown",
   "id": "b9d4e1e8",
   "metadata": {},
   "source": [
    "# Power in depth: `f⍣g`\n",
    "\n",
    "`⍣` with a _function_ right operand is conceptually simple, but has some gotchas to be aware of. For this section, we'll call the left operand `f` and the right operand `g`, that is, we're applying `f⍣g`. When the derived function is used dyadically, it is just as if it was used monadically with the left argument bound to `f`. That is, `X f⍣g Y` is exactly the same as `X∘f⍣g Y`, so we only need to discuss the monadic case. The high-level view is that `f⍣g` applies `f` until `f g ⊢`.\n",
    "\n",
    "Now, what exactly does that mean?\n",
    "\n",
    "We start by applying `f Y` and its result is used as left argument to `g`. The right argument to `g` is the original `Y`. `g` must then return `0` or `1`. If `g` returns 1 it means we're done, and the result will be the newly found value, `f Y`. If `g` returns 0 then we conceptually set `Y←f Y` and start over. For example, we can find a \"fix-point\" by having `g←=`. If we take 10 and divide it by 2 over and over until it doesn't change any more, we'll end up with… 0:"
   ]
  },
  {
   "cell_type": "code",
   "execution_count": 1,
   "id": "838180df",
   "metadata": {},
   "outputs": [
    {
     "data": {
      "text/html": [
       "<span style=\"white-space:pre; font-family: monospace\">0\n",
       "</span>"
      ]
     },
     "execution_count": 1,
     "metadata": {},
     "output_type": "execute_result"
    }
   ],
   "source": [
    "2÷⍨⍣=10"
   ]
  },
  {
   "cell_type": "markdown",
   "id": "92cf3ed3",
   "metadata": {},
   "source": [
    "The power (no pun) of `⍣` is of course that you can use _any_ functions as operands. You also don't have to use both arguments of `g`. Often, you just want to repeat an action until a condition on the generated value is fulfilled.\n",
    "\n",
    "Let's say we want to use `⍣` to find the first power of 2 larger than 100. That is, double 1 until it exceeds 100.\n",
    "Remember that the newly generated value (the one we're interested in) is the left argument of `g`. If you use the right argument of `g`, you'll have applied `f` one more time than needed because your stop condition hinges on the previous value, but the current value has already advanced one more step."
   ]
  },
  {
   "cell_type": "code",
   "execution_count": 2,
   "id": "0ebbb23b",
   "metadata": {},
   "outputs": [
    {
     "data": {
      "text/html": [
       "<span style=\"white-space:pre; font-family: monospace\">128\n",
       "</span>"
      ]
     },
     "execution_count": 2,
     "metadata": {},
     "output_type": "execute_result"
    }
   ],
   "source": [
    "2×⍣{100<⍺}1"
   ]
  },
  {
   "cell_type": "markdown",
   "id": "dfdda3c2",
   "metadata": {},
   "source": [
    "Another example. Given a string, keep dropping characters from the front until it is a palindrome."
   ]
  },
  {
   "cell_type": "code",
   "execution_count": 5,
   "id": "54728542",
   "metadata": {},
   "outputs": [
    {
     "data": {
      "text/html": [
       "<span style=\"white-space:pre; font-family: monospace\">┌────┬────┐\n",
       "│otto│otto│\n",
       "└────┴────┘\n",
       "</span>"
      ]
     },
     "execution_count": 5,
     "metadata": {},
     "output_type": "execute_result"
    }
   ],
   "source": [
    "IsPal←⊢≡⌽\n",
    "Palify←{1↓⍣{IsPal ⍺}⍣(~IsPal ⍵)⊢⍵}\n",
    "Palify¨'otto' 'risotto'"
   ]
  },
  {
   "cell_type": "markdown",
   "id": "d73f996e",
   "metadata": {},
   "source": [
    "Here, `1↓⍣{IsPal ⍺}` is the same as what we've done before, but we only apply it if the argument isn't already a palindrome. The \"if\" is expressed with `⍣` and an array right-operand.\n",
    "\n",
    "`⍣` can be your friend when you want to test each one of a set until you find a good one, without having to test all of them. You can also use it to loop indefinitely until some outside condition tells you to stop. In that case, you'd use neither of the arguments of `g`. Sometimes, you don't care about the argument(s) to `f` either, you just need a dummy argument to get the loop going.\n",
    "\n",
    "For example, here is an expression to collect lines of text from the user until they enter a blank line:\n",
    "\n",
    "```apl\n",
    "¯1↓text⊣{text,∘⊂←⍞}⍣{''≡⍺}text←0⍴⊂''\n",
    "```\n",
    "And here is one that neither uses the arguments of `f`, nor of `g`; output random numbers `1…10` until we roll a 6: "
   ]
  },
  {
   "cell_type": "code",
   "execution_count": 6,
   "id": "01ad74f7",
   "metadata": {},
   "outputs": [
    {
     "data": {
      "text/html": [
       "<span style=\"white-space:pre; font-family: monospace\">4\n",
       "4\n",
       "1\n",
       "5\n",
       "2\n",
       "10\n",
       "5\n",
       "8\n",
       "4\n",
       "2\n",
       "</span>"
      ]
     },
     "execution_count": 6,
     "metadata": {},
     "output_type": "execute_result"
    }
   ],
   "source": [
    "{}{⎕←?10}⍣{6=?6}⍬"
   ]
  },
  {
   "cell_type": "markdown",
   "id": "c571d9f7",
   "metadata": {},
   "source": [
    "It doesn't output the condition roll, just some random number each time. Here is one that keeps rolling until it gets a 6: "
   ]
  },
  {
   "cell_type": "code",
   "execution_count": 7,
   "id": "a141197f",
   "metadata": {},
   "outputs": [
    {
     "data": {
      "text/html": [
       "<span style=\"white-space:pre; font-family: monospace\">8\n",
       "10\n",
       "10\n",
       "1\n",
       "10\n",
       "9\n",
       "10\n",
       "10\n",
       "9\n",
       "9\n",
       "10\n",
       "1\n",
       "6\n",
       "</span>"
      ]
     },
     "execution_count": 7,
     "metadata": {},
     "output_type": "execute_result"
    }
   ],
   "source": [
    "{}{⎕←?10}⍣{6=⍺}⍬"
   ]
  },
  {
   "cell_type": "markdown",
   "id": "19622869",
   "metadata": {},
   "source": [
    "Here's a trick using f⍣g. Sometimes, we can have a nested list of lists of lists, for example, because we got some JSON data, but we really want to use APL's array capabilities, so we want to convert this to a proper multi-dimensional array.\n",
    "\n",
    "For example, we get the JSON data `[[[5,22,13,18],[9,19,16,11],[4,2,12,20]],[[8,6,17,1],[10,24,15,14],[21,23,7,3]]]` which we can convert to an APL array: "
   ]
  },
  {
   "cell_type": "code",
   "execution_count": 8,
   "id": "39e82bb3",
   "metadata": {},
   "outputs": [
    {
     "data": {
      "text/html": [
       "<span style=\"white-space:pre; font-family: monospace\">┌─────────────────────────────────┬────────────────────────────────┐\n",
       "│┌──────────┬──────────┬─────────┐│┌────────┬───────────┬─────────┐│\n",
       "││5 22 13 18│9 19 16 11│4 2 12 20│││8 6 17 1│10 24 15 14│21 23 7 3││\n",
       "│└──────────┴──────────┴─────────┘│└────────┴───────────┴─────────┘│\n",
       "└─────────────────────────────────┴────────────────────────────────┘\n",
       "</span>"
      ]
     },
     "execution_count": 8,
     "metadata": {},
     "output_type": "execute_result"
    }
   ],
   "source": [
    "⎕JSON'[[[5,22,13,18],[9,19,16,11],[4,2,12,20]],[[8,6,17,1],[10,24,15,14],[21,23,7,3]]]'"
   ]
  },
  {
   "cell_type": "markdown",
   "id": "d884e288",
   "metadata": {},
   "source": [
    "But we want a 2-by-3-by-4 array. How would we do this in a general fashion, without querying the depth?"
   ]
  },
  {
   "cell_type": "code",
   "execution_count": 9,
   "id": "349ea38c",
   "metadata": {},
   "outputs": [
    {
     "data": {
      "text/html": [
       "<span style=\"white-space:pre; font-family: monospace\"> 5 22 13 18\n",
       " 9 19 16 11\n",
       " 4  2 12 20\n",
       "\n",
       " 8  6 17  1\n",
       "10 24 15 14\n",
       "21 23  7  3\n",
       "</span>"
      ]
     },
     "execution_count": 9,
     "metadata": {},
     "output_type": "execute_result"
    }
   ],
   "source": [
    "↑⍣≡⎕JSON'[[[5,22,13,18],[9,19,16,11],[4,2,12,20]],[[8,6,17,1],[10,24,15,14],[21,23,7,3]]]' "
   ]
  },
  {
   "cell_type": "markdown",
   "id": "09bdb7d9",
   "metadata": {},
   "source": [
    "So `↑⍣≡` is a neat idiomatic expression which is worth remembering. The other way, converting a high-rank array to lists of lists isn't as neat, because you can keep applying `↓` and it will just add more nesting. What can we come up with for that? Since `↓` starts at the \"bottom\", we can just keep going until we have a vector. However, if we know we'll get one enclosure too much, we can just disclose once when done. "
   ]
  },
  {
   "cell_type": "code",
   "execution_count": 10,
   "id": "2223342d",
   "metadata": {},
   "outputs": [
    {
     "data": {
      "text/html": [
       "<span style=\"white-space:pre; font-family: monospace\">┌────────────────────────────┬─────────────────────────────────────┐\n",
       "│┌───────┬───────┬──────────┐│┌───────────┬───────────┬───────────┐│\n",
       "││1 2 3 4│5 6 7 8│9 10 11 12│││13 14 15 16│17 18 19 20│21 22 23 24││\n",
       "│└───────┴───────┴──────────┘│└───────────┴───────────┴───────────┘│\n",
       "└────────────────────────────┴─────────────────────────────────────┘\n",
       "</span>"
      ]
     },
     "execution_count": 10,
     "metadata": {},
     "output_type": "execute_result"
    }
   ],
   "source": [
    "⊃↓⍣{0≡≢⍴⍺}2 3 4⍴⍳24"
   ]
  },
  {
   "cell_type": "code",
   "execution_count": null,
   "id": "9d015dfd",
   "metadata": {},
   "outputs": [],
   "source": []
  }
 ],
 "metadata": {
  "kernelspec": {
   "display_name": "Dyalog APL",
   "language": "apl",
   "name": "dyalog-kernel"
  },
  "language_info": {
   "file_extension": ".apl",
   "mimetype": "text/apl",
   "name": "APL"
  }
 },
 "nbformat": 4,
 "nbformat_minor": 5
}
