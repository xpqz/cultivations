{
 "cells": [
  {
   "cell_type": "markdown",
   "id": "a9bd5014",
   "metadata": {},
   "source": [
    "# Atop and Over `⍤⍥`\n",
    "\n",
    "In this chapter, we'll cover the two compositional operators, [Atop](http://help.dyalog.com/latest/index.htm#Language/Primitive%20Operators/Atop.htm) (`⍤`) and [Over](http://help.dyalog.com/latest/index.htm#Language/Primitive%20Operators/Over.htm) (`⍥`), introduced in Dyalog version 18.0. \n",
    "\n",
    "## Atop\n",
    "\n",
    "Atop has been assigned `function⍤function`, thus sharing the symbol with the rank operator's `function⍤array`. You should be familiar with the 2-train, which is also called \"atop\": `(f g)Y` and `X(f g)Y`. Maybe you've even been burned by `f∘g Y` being an atop, but `X f∘g Y` _not_ being an atop. Well, the atop operator is what you would expect, i.e. `f⍤g Y` is exactly like `f∘g Y` but `X f⍤g Y` is `f X g Y` or `X (f g) Y`. We strongly recommend transitioning to use `⍤` in places where you've hitherto used monadic `f∘g`: it will prevent (at least one potential cause of) frustration should you ever decide to add a left argument to your code. \n",
    "\n",
    "Let's say you define a function that returns the magnitude of reciprocal:"
   ]
  },
  {
   "cell_type": "code",
   "execution_count": 1,
   "id": "22ab2a51",
   "metadata": {},
   "outputs": [
    {
     "data": {
      "text/html": [
       "<span style=\"white-space:pre; font-family: monospace\">\n",
       "Rebuilding user command cache... \n",
       "done\n",
       "</span>"
      ]
     },
     "execution_count": 1,
     "metadata": {},
     "output_type": "execute_result"
    },
    {
     "data": {
      "text/html": [
       "<span style=\"white-space:pre; font-family: monospace\">0.25\n",
       "</span>"
      ]
     },
     "execution_count": 1,
     "metadata": {},
     "output_type": "execute_result"
    },
    {
     "data": {
      "text/html": [
       "<span style=\"white-space:pre; font-family: monospace\">0.2\n",
       "</span>"
      ]
     },
     "execution_count": 1,
     "metadata": {},
     "output_type": "execute_result"
    }
   ],
   "source": [
    "|∘÷ ¯4\n",
    "|∘÷ ¯5"
   ]
  },
  {
   "cell_type": "markdown",
   "id": "af847806",
   "metadata": {},
   "source": [
    "(This could be written without the `∘`, but this is a very simple function useful for illustration purposes.)\n",
    "\n",
    "Now you get a feature request that the function should take a left argument which is a numerator (instead of the default 1). "
   ]
  },
  {
   "cell_type": "code",
   "execution_count": 2,
   "id": "0b06bcff",
   "metadata": {},
   "outputs": [
    {
     "data": {
      "text/html": [
       "<span style=\"white-space:pre; font-family: monospace\">1.75\n",
       "</span>"
      ]
     },
     "execution_count": 2,
     "metadata": {},
     "output_type": "execute_result"
    },
    {
     "data": {
      "text/html": [
       "<span style=\"white-space:pre; font-family: monospace\">1.8\n",
       "</span>"
      ]
     },
     "execution_count": 2,
     "metadata": {},
     "output_type": "execute_result"
    }
   ],
   "source": [
    "2 |∘÷ ¯4\n",
    "2 |∘÷ ¯5"
   ]
  },
  {
   "cell_type": "markdown",
   "id": "5e914091",
   "metadata": {},
   "source": [
    "Oops. However: "
   ]
  },
  {
   "cell_type": "code",
   "execution_count": 3,
   "id": "6dd5edc8",
   "metadata": {},
   "outputs": [
    {
     "data": {
      "text/html": [
       "<span style=\"white-space:pre; font-family: monospace\">0.25\n",
       "</span>"
      ]
     },
     "execution_count": 3,
     "metadata": {},
     "output_type": "execute_result"
    },
    {
     "data": {
      "text/html": [
       "<span style=\"white-space:pre; font-family: monospace\">0.2\n",
       "</span>"
      ]
     },
     "execution_count": 3,
     "metadata": {},
     "output_type": "execute_result"
    },
    {
     "data": {
      "text/html": [
       "<span style=\"white-space:pre; font-family: monospace\">0.5\n",
       "</span>"
      ]
     },
     "execution_count": 3,
     "metadata": {},
     "output_type": "execute_result"
    },
    {
     "data": {
      "text/html": [
       "<span style=\"white-space:pre; font-family: monospace\">0.4\n",
       "</span>"
      ]
     },
     "execution_count": 3,
     "metadata": {},
     "output_type": "execute_result"
    }
   ],
   "source": [
    "|⍤÷ ¯4\n",
    "|⍤÷ ¯5\n",
    "2 |⍤÷ ¯4\n",
    "2 |⍤÷ ¯5"
   ]
  },
  {
   "cell_type": "markdown",
   "id": "83183c55",
   "metadata": {},
   "source": [
    "One way to look at `f∘g` vs `f⍤g` is that, when given a left argument, `∘` gives it to the left-hand function and `⍤` gives it to the right-hand function. Other than that, they are equivalent.  Another way to look at `f∘g` vs `f⍤g` is simply choosing order of the first two tokens in the equivalent explicit expression: `X f∘g Y` computes `X f g Y` and `X f⍤g Y` computes `f X g Y`. So we're simply swapping `X` and `f`.\n",
    "\n",
    "Then there's the classic problem with slashes, especially in tacit programming. If you've ever tried using replicate/compress in a train, you'll have bumped into the fact that slashes prefer being operators over being functions. This means that `{(5<⍵)/⍵}` doesn't convert to `(5<⊢)/⊢`.\n",
    "\n",
    "While it may not be obvious at first sight, if we define `f←5<⊢` it might become clearer that `f/⊢` isn't at all what we want. Now, there's an axiom in APL that an operator cannot be an operand. (Shh, don't mention `∘.f`). This means that if a slash ends up in a situation where it has to be an operand, it will resort to being a function. You may even have noticed that constructs like `⊢(/⍨)5<⊢` work fine, though `⊢/⍨5<⊢` doesn't. This is because the `/` in isolation with the `⍨` is forced to become the operand of `⍨`. But since operators bind from the left, `⊢/` binds first, and so `⊢/⍨5<⊢` becomes `(⊢/)⍨5<⊢` or `(5<⊢)⊢/(5<⊢)` which is usually not what you want.\n",
    "\n",
    "So, `⍤` to the rescue. If `⍤` (or any dyadic operator) is found to the immediate left of a slash, then clearly the dyadic operator cannot be the operand of the slash, `⍤` being a dyadic operator itself, and it can't be part of the function on the left, since it requires a right-operand, too. Therefore, the slash is forced to become a function. So `-⍤/` is the negation of the replicate: "
   ]
  },
  {
   "cell_type": "code",
   "execution_count": 4,
   "id": "caeb2a8b",
   "metadata": {},
   "outputs": [
    {
     "data": {
      "text/html": [
       "<span style=\"white-space:pre; font-family: monospace\">¯10 ¯30 ¯30\n",
       "</span>"
      ]
     },
     "execution_count": 4,
     "metadata": {},
     "output_type": "execute_result"
    }
   ],
   "source": [
    "1 0 2-⍤/10 20 30"
   ]
  },
  {
   "cell_type": "markdown",
   "id": "9ad4d2b5",
   "metadata": {},
   "source": [
    "It is easy to think then that \"oh, this is an atop, so I should be able to do this with parentheses too; `(f g)`\" but that'd be a mistake: `(-/)` is just a normal minus-reduction. Since `f⍤g` is \"atop\" and `(f g)` is \"atop\", you might think they are interchangeable. \n",
    "\n",
    "Another mistake is to think: \"if a slash is an operand, it'll be a function\" and then think that `/∘⊢` would work like `⊢⍤/` by pre-processing the right argument with a no-op rather than post-processing the result with a no-op.\n",
    "\n",
    "Let's say we have a two-element vector of a mask and some data, and you want to \"apply\" the mask to the data… Perhaps your instinct is to try"
   ]
  },
  {
   "cell_type": "code",
   "execution_count": 5,
   "id": "6b6bbcdb",
   "metadata": {},
   "outputs": [],
   "source": [
    "apply ← // "
   ]
  },
  {
   "cell_type": "markdown",
   "id": "55685281",
   "metadata": {},
   "source": [
    "but that gives an enclosed result, which isn't what we want:"
   ]
  },
  {
   "cell_type": "code",
   "execution_count": 6,
   "id": "34adc0cf",
   "metadata": {},
   "outputs": [
    {
     "data": {
      "text/html": [
       "<span style=\"white-space:pre; font-family: monospace\">┌──────┐\n",
       "│ ┌→─┐ │\n",
       "│ │ac│ │\n",
       "│ └──┘ │\n",
       "└∊─────┘\n",
       "</span>"
      ]
     },
     "execution_count": 6,
     "metadata": {},
     "output_type": "execute_result"
    }
   ],
   "source": [
    "]display apply (1 0 1)'abc'"
   ]
  },
  {
   "cell_type": "markdown",
   "id": "ccb4f1a5",
   "metadata": {},
   "source": [
    "Instead we can do something like"
   ]
  },
  {
   "cell_type": "code",
   "execution_count": 8,
   "id": "a0647063",
   "metadata": {},
   "outputs": [],
   "source": [
    "apply ← ⊃⊢⍤//"
   ]
  },
  {
   "cell_type": "code",
   "execution_count": 9,
   "id": "69259136",
   "metadata": {},
   "outputs": [
    {
     "data": {
      "text/html": [
       "<span style=\"white-space:pre; font-family: monospace\">┌→─┐\n",
       "│ac│\n",
       "└──┘\n",
       "</span>"
      ]
     },
     "execution_count": 9,
     "metadata": {},
     "output_type": "execute_result"
    }
   ],
   "source": [
    "]display apply (1 0 1)'abc'"
   ]
  },
  {
   "cell_type": "markdown",
   "id": "2fb9f699",
   "metadata": {},
   "source": [
    "In fact, once `⊢⍤/` becomes a common pattern, you can actually help the reader of your code by using `⊢⍤/` so they don't have to consider if your slash is Replicate or Reduce. For example, if your code says `z←x/y` it might not be obvious what's going on. If you instead write `z←x⊢⍤/y` your reader knows exactly what you're doing. \n",
    "\n",
    "Another example. Given a string, replace every character with two copies of itself prefixed and suffixed by a space. For example, `'abc'` becomes `' aa  bb  cc '`. Yes, you can do this with regex. Please don't. "
   ]
  },
  {
   "cell_type": "code",
   "execution_count": 11,
   "id": "ab63b6c4",
   "metadata": {},
   "outputs": [
    {
     "data": {
      "text/html": [
       "<span style=\"white-space:pre; font-family: monospace\"> aa  bb  cc \n",
       "</span>"
      ]
     },
     "execution_count": 11,
     "metadata": {},
     "output_type": "execute_result"
    }
   ],
   "source": [
    "(⊢ ⊢⍤⍀ ⍨0 2 0⍴⍨3×≢)'abc'"
   ]
  },
  {
   "cell_type": "markdown",
   "id": "bb32258b",
   "metadata": {},
   "source": [
    "## Over\n",
    "\n",
    "Recall how `f∘g` preprocesses the right argument of `f` using `g`. One way to look at _Over_ is simply as preprocessing all arguments of `f` using `g`. All, as in both or the only. So again `f⍥g Y` is the same as `f⍤g Y` and `f∘g Y`. The difference is, again, when we do a dyadic application. While `X f∘g Y` is `X f(g Y)` we have `X f⍥g Y` be `(g X)f(g Y)`. This may seem like an overly involved operator, but really, the pattern of preprocessing both arguments comes up a lot. Once you start looking for it, you'll see it all over.\n",
    "\n",
    "For example, a dyadic function computing the sum of absolute values of its arguments:"
   ]
  },
  {
   "cell_type": "code",
   "execution_count": 12,
   "id": "d3469f16",
   "metadata": {},
   "outputs": [
    {
     "data": {
      "text/html": [
       "<span style=\"white-space:pre; font-family: monospace\">3 5 11 9\n",
       "</span>"
      ]
     },
     "execution_count": 12,
     "metadata": {},
     "output_type": "execute_result"
    }
   ],
   "source": [
    "¯1 ¯2 3 4 +⍥| 2 3 ¯8 5"
   ]
  },
  {
   "cell_type": "markdown",
   "id": "7f156de6",
   "metadata": {},
   "source": [
    "Given arguments which are vectors, which one has the smallest maximum? Return `¯1` if the left argument has the smallest maximum, `1` if the right one has, or `0` if they are equal."
   ]
  },
  {
   "cell_type": "code",
   "execution_count": 13,
   "id": "cd67da73",
   "metadata": {},
   "outputs": [
    {
     "data": {
      "text/html": [
       "<span style=\"white-space:pre; font-family: monospace\">¯1\n",
       "</span>"
      ]
     },
     "execution_count": 13,
     "metadata": {},
     "output_type": "execute_result"
    }
   ],
   "source": [
    "¯1 ¯2 3 4 ×⍤-⍥(⌈/) 2 3 ¯8 5"
   ]
  },
  {
   "cell_type": "markdown",
   "id": "4ad35d3d",
   "metadata": {},
   "source": [
    "Beautiful use of both Atop and Over. You can, of course, omit the `⍤` here, unless used inline. OK, how about this: write an alternative to replicate which can take arguments of equal shape, both with rank greater than 1, and replicates the corresponding elements. Since the result might otherwise be ragged, you have to return a vector. \n",
    "\n",
    "```apl\n",
    "      (2 3⍴⍳6) YourFunction 2 3⍴⎕A\n",
    "ABBCCCDDDDEEEEEFFFFFF\n",
    "```"
   ]
  },
  {
   "cell_type": "code",
   "execution_count": 14,
   "id": "86c10c7a",
   "metadata": {},
   "outputs": [
    {
     "data": {
      "text/html": [
       "<span style=\"white-space:pre; font-family: monospace\">ABBCCCDDDDEEEEEFFFFFF\n",
       "</span>"
      ]
     },
     "execution_count": 14,
     "metadata": {},
     "output_type": "execute_result"
    }
   ],
   "source": [
    "(2 3⍴⍳6) ⊢⍤/⍥, 2 3⍴⎕A"
   ]
  },
  {
   "cell_type": "markdown",
   "id": "20450e23",
   "metadata": {},
   "source": [
    "Also, in this case, you don't _need_ `⊢⍤`, but it is good for clarity, and necessary if used inline in a train. A golfing tip regarding `⍥`: you can sometimes use it to pre-process the left argument, when it is a no-op on the right. For example, `1≡⍥,≡,⍴`, only ravels the left argument, since the right argument already is a vector."
   ]
  },
  {
   "cell_type": "code",
   "execution_count": null,
   "id": "06929a9e",
   "metadata": {},
   "outputs": [],
   "source": []
  }
 ],
 "metadata": {
  "kernelspec": {
   "display_name": "Dyalog APL",
   "language": "apl",
   "name": "dyalog-kernel"
  },
  "language_info": {
   "file_extension": ".apl",
   "mimetype": "text/apl",
   "name": "APL"
  }
 },
 "nbformat": 4,
 "nbformat_minor": 5
}
