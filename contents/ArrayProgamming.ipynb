{
 "cells": [
  {
   "cell_type": "markdown",
   "id": "da654e01",
   "metadata": {},
   "source": [
    "# Array programming techniques\n",
    "\n",
    "There are a few things one can do to make APL look more... APL. What really characterises \"classic\" code is control structures and especially loops. Modern APL has control structures, too, and loops can easily be done with `¨`. So those are really the features you want to _avoid_.\n",
    "\n",
    "Try to think of differentiation between cases in terms of any of:\n",
    "* Boolean masks\n",
    "* Mathematical relationships\n",
    "* Commonality between cases\n",
    "\n",
    "## FizzBuzz\n",
    "\n",
    "Maybe [FizzBuzz](https://en.wikipedia.org/wiki/Fizz_buzz) would be a good example. The classic approach (other than \"I don't think that's possible\"!) is a loop. Possibly two loops, an outer one for N and an inner one for the 3, 5 list. Instead, let's try processing the entire list `⍳35` at once, using any one or more of the above. \n",
    "\n",
    "To start off, we can find which numbers are divisible by 3 or 5 with an outer product:"
   ]
  },
  {
   "cell_type": "code",
   "execution_count": 3,
   "id": "b0439ff9",
   "metadata": {},
   "outputs": [
    {
     "data": {
      "text/html": [
       "<span style=\"white-space:pre; font-family: monospace\">0 0 1 0 0 1 0 0 1 0 0 1 0 0 1 0 0 1 0 0 1 0 0 1 0 0 1 0 0 1 0 0 1 0 0\n",
       "0 0 0 0 1 0 0 0 0 1 0 0 0 0 1 0 0 0 0 1 0 0 0 0 1 0 0 0 0 1 0 0 0 0 1\n",
       "</span>"
      ]
     },
     "execution_count": 3,
     "metadata": {},
     "output_type": "execute_result"
    }
   ],
   "source": [
    "mask←⎕←0=3 5∘.|⍳35"
   ]
  },
  {
   "cell_type": "markdown",
   "id": "32844223",
   "metadata": {},
   "source": [
    "which gives us a nice mask for when we need Fizz and when we need Buzz, but when do we need the number itself? Let's create an additional row in the mask array that holds 1 if neither of the Fizz or Buzz mask holds a 1:"
   ]
  },
  {
   "cell_type": "code",
   "execution_count": 4,
   "id": "1944d8b3",
   "metadata": {},
   "outputs": [
    {
     "data": {
      "text/html": [
       "<span style=\"white-space:pre; font-family: monospace\">1 1 0 1 0 0 1 1 0 0 1 0 1 1 0 1 1 0 1 0 0 1 1 0 0 1 0 1 1 0 1 1 0 1 0\n",
       "0 0 1 0 0 1 0 0 1 0 0 1 0 0 1 0 0 1 0 0 1 0 0 1 0 0 1 0 0 1 0 0 1 0 0\n",
       "0 0 0 0 1 0 0 0 0 1 0 0 0 0 1 0 0 0 0 1 0 0 0 0 1 0 0 0 0 1 0 0 0 0 1\n",
       "</span>"
      ]
     },
     "execution_count": 4,
     "metadata": {},
     "output_type": "execute_result"
    }
   ],
   "source": [
    "(⍱⌿⍪⊢)mask"
   ]
  },
  {
   "cell_type": "markdown",
   "id": "d01ba5a2",
   "metadata": {},
   "source": [
    "So far, everything has been pretty clean. Things will start to get dirty now because FizzBuzz essentially is a mixed-type problem, but we can still try to stick with Array operations until the very end. \n",
    "\n",
    "We can zero out unwanted numbers by multiplying the mask with the numbers,"
   ]
  },
  {
   "cell_type": "code",
   "execution_count": 5,
   "id": "6db9a640",
   "metadata": {},
   "outputs": [
    {
     "data": {
      "text/html": [
       "<span style=\"white-space:pre; font-family: monospace\">1 2 0 4 0 0 7 8 0 0 11 0 13 14 0 16 17 0 19 0 0 22 23 0 0 26 0 28 29 0 31 32 0 34 0\n",
       "0 0 1 0 0 1 0 0 1 0  0 1  0  0 1  0  0 1  0 0 1  0  0 1 0  0 1  0  0 1  0  0 1  0 0\n",
       "0 0 0 0 1 0 0 0 0 1  0 0  0  0 1  0  0 0  0 1 0  0  0 0 1  0 0  0  0 1  0  0 0  0 1\n",
       "</span>"
      ]
     },
     "execution_count": 5,
     "metadata": {},
     "output_type": "execute_result"
    }
   ],
   "source": [
    "(⍳35)×@1⊢(⍱⌿⍪⊢)mask"
   ]
  },
  {
   "cell_type": "markdown",
   "id": "f57fca73",
   "metadata": {},
   "source": [
    "If we split that up a bit, we end up with"
   ]
  },
  {
   "cell_type": "code",
   "execution_count": 8,
   "id": "2d6b52b3",
   "metadata": {},
   "outputs": [],
   "source": [
    "nums←⍳35\n",
    "mat←(⍱⌿⍪⊢)0=3 5∘.|nums\n",
    "mat×@1⍨←nums"
   ]
  },
  {
   "cell_type": "markdown",
   "id": "13953a39",
   "metadata": {},
   "source": [
    "The next step is to replace all 1s in row 2 with 'Fizz', and the 1s in row 3 with 'Buzz':"
   ]
  },
  {
   "cell_type": "code",
   "execution_count": 9,
   "id": "fbab9071",
   "metadata": {},
   "outputs": [],
   "source": [
    "mat←(⊂'Fizz')@⊢@2⊢mat\n",
    "mat←(⊂'Buzz')@⊢@3⊢mat"
   ]
  },
  {
   "cell_type": "code",
   "execution_count": 10,
   "id": "4dea383f",
   "metadata": {},
   "outputs": [
    {
     "data": {
      "text/html": [
       "<span style=\"white-space:pre; font-family: monospace\">┌─┬─┬────┬─┬────┬────┬─┬─┬────┬────┬──┬────┬──┬──┬────┬──┬──┬────┬──┬────┬────┬──┬──┬────┬────┬──┬────┬──┬──┬────┬──┬──┬────┬──┬────┐\n",
       "│1│2│0   │4│0   │0   │7│8│0   │0   │11│0   │13│14│0   │16│17│0   │19│0   │0   │22│23│0   │0   │26│0   │28│29│0   │31│32│0   │34│0   │\n",
       "├─┼─┼────┼─┼────┼────┼─┼─┼────┼────┼──┼────┼──┼──┼────┼──┼──┼────┼──┼────┼────┼──┼──┼────┼────┼──┼────┼──┼──┼────┼──┼──┼────┼──┼────┤\n",
       "│0│0│Fizz│0│0   │Fizz│0│0│Fizz│0   │0 │Fizz│0 │0 │Fizz│0 │0 │Fizz│0 │0   │Fizz│0 │0 │Fizz│0   │0 │Fizz│0 │0 │Fizz│0 │0 │Fizz│0 │0   │\n",
       "├─┼─┼────┼─┼────┼────┼─┼─┼────┼────┼──┼────┼──┼──┼────┼──┼──┼────┼──┼────┼────┼──┼──┼────┼────┼──┼────┼──┼──┼────┼──┼──┼────┼──┼────┤\n",
       "│0│0│0   │0│Buzz│0   │0│0│0   │Buzz│0 │0   │0 │0 │Buzz│0 │0 │0   │0 │Buzz│0   │0 │0 │0   │Buzz│0 │0   │0 │0 │Buzz│0 │0 │0   │0 │Buzz│\n",
       "└─┴─┴────┴─┴────┴────┴─┴─┴────┴────┴──┴────┴──┴──┴────┴──┴──┴────┴──┴────┴────┴──┴──┴────┴────┴──┴────┴──┴──┴────┴──┴──┴────┴──┴────┘\n",
       "</span>"
      ]
     },
     "execution_count": 10,
     "metadata": {},
     "output_type": "execute_result"
    }
   ],
   "source": [
    "mat"
   ]
  },
  {
   "cell_type": "markdown",
   "id": "d18b61c3",
   "metadata": {},
   "source": [
    "Now we have to combine everything by joining vertically and then removing the 0s. The final step forces us to use `¨`."
   ]
  },
  {
   "cell_type": "code",
   "execution_count": 11,
   "id": "a72ab1a4",
   "metadata": {},
   "outputs": [],
   "source": [
    "]dinput\n",
    "FizzBuzz ← {\n",
    "    nums ← ⍳⍵\n",
    "    mat ← (⍱⌿⍪⊢)0=3 5∘.|nums\n",
    "    mat×@1⍨ ← nums\n",
    "    mat ← (⊂'Fizz')@⊢@2⊢mat\n",
    "    mat ← (⊂'Buzz')@⊢@3⊢mat\n",
    "    0~⍨¨,⌿mat\n",
    "}"
   ]
  },
  {
   "cell_type": "code",
   "execution_count": 12,
   "id": "52775266",
   "metadata": {},
   "outputs": [
    {
     "data": {
      "text/html": [
       "<span style=\"white-space:pre; font-family: monospace\">┌─┬─┬────┬─┬────┬────┬─┬─┬────┬────┬──┬────┬──┬──┬────────┬──┬──┬────┬──┬────┬────┬──┬──┬────┬────┬──┬────┬──┬──┬────────┬──┬──┬────┬──┬────┐\n",
       "│1│2│Fizz│4│Buzz│Fizz│7│8│Fizz│Buzz│11│Fizz│13│14│FizzBuzz│16│17│Fizz│19│Buzz│Fizz│22│23│Fizz│Buzz│26│Fizz│28│29│FizzBuzz│31│32│Fizz│34│Buzz│\n",
       "└─┴─┴────┴─┴────┴────┴─┴─┴────┴────┴──┴────┴──┴──┴────────┴──┴──┴────┴──┴────┴────┴──┴──┴────┴────┴──┴────┴──┴──┴────────┴──┴──┴────┴──┴────┘\n",
       "</span>"
      ]
     },
     "execution_count": 12,
     "metadata": {},
     "output_type": "execute_result"
    }
   ],
   "source": [
    "FizzBuzz 35"
   ]
  },
  {
   "cell_type": "markdown",
   "id": "22e49c21",
   "metadata": {},
   "source": [
    "This isn't, perhaps, how you should implement FizzBuzz in an industrial context, and it does do things that impact performance, but it is a pretty good demonstration of applying the array approach to a traditionally loopy problem. \n",
    "\n",
    "## Justify it\n",
    "\n",
    "Let's do another example: take a character matrix and justify it without looping over the lines. This means distributing the trailing spaces into the existing word separations.\n",
    "\n",
    "For example,\n",
    "\n",
    "    In publishing and graphic design,\n",
    "    Lorem ipsum is a placeholder text\n",
    "    commonly used to demonstrate the visual form\n",
    "    of a document or a typeface\n",
    "    without relying on meaningful content.\n",
    "\n",
    "becomes\n",
    "\n",
    "    In    publishing    and    graphic   design,\n",
    "    Lorem    ipsum   is   a   placeholder   text\n",
    "    commonly used to demonstrate the visual form\n",
    "    of     a     document    or    a    typeface\n",
    "    without   relying   on  meaningful  content.\n",
    "    \n",
    "    \n",
    "This isn't a particularly difficult problem for a single line, but if we enforce treating the contiguous ravelled data in one go, it becomes a bit more tricky. So, let's say we have `t` as the above 5-by-44 matrix. It follows that our result must also be a 5-by-44 matrix. \n",
    "\n",
    "There are two obvious approaches. One is to move some spaces from the end of the lines to the middle by reordering elements. The other is to determine for each space how many copies if it we need (0 to remove it, 1 to keep it, and more to extend it). Let's go with the latter method. "
   ]
  },
  {
   "cell_type": "code",
   "execution_count": 13,
   "id": "a6ba1779",
   "metadata": {},
   "outputs": [],
   "source": [
    "t←(5 44⍴'In publishing and graphic design,           Lorem ipsum is a placeholder text           commonly used to demonstrate the visual formof a document or a typeface                 without relying on meaningful content.      ')"
   ]
  },
  {
   "cell_type": "code",
   "execution_count": 14,
   "id": "c1099bae",
   "metadata": {},
   "outputs": [
    {
     "data": {
      "text/html": [
       "<span style=\"white-space:pre; font-family: monospace\">In publishing and graphic design,           \n",
       "Lorem ipsum is a placeholder text           \n",
       "commonly used to demonstrate the visual form\n",
       "of a document or a typeface                 \n",
       "without relying on meaningful content.      \n",
       "</span>"
      ]
     },
     "execution_count": 14,
     "metadata": {},
     "output_type": "execute_result"
    }
   ],
   "source": [
    "t"
   ]
  },
  {
   "cell_type": "markdown",
   "id": "a63c8755",
   "metadata": {},
   "source": [
    "The first step is identifying spaces. Luckily, scalar extension allows use to do `spaces←' '=t`:"
   ]
  },
  {
   "cell_type": "code",
   "execution_count": 15,
   "id": "6d86ca5b",
   "metadata": {},
   "outputs": [
    {
     "data": {
      "text/html": [
       "<span style=\"white-space:pre; font-family: monospace\">0 0 1 0 0 0 0 0 0 0 0 0 0 1 0 0 0 1 0 0 0 0 0 0 0 1 0 0 0 0 0 0 0 1 1 1 1 1 1 1 1 1 1 1\n",
       "0 0 0 0 0 1 0 0 0 0 0 1 0 0 1 0 1 0 0 0 0 0 0 0 0 0 0 0 1 0 0 0 0 1 1 1 1 1 1 1 1 1 1 1\n",
       "0 0 0 0 0 0 0 0 1 0 0 0 0 1 0 0 1 0 0 0 0 0 0 0 0 0 0 0 1 0 0 0 1 0 0 0 0 0 0 1 0 0 0 0\n",
       "0 0 1 0 1 0 0 0 0 0 0 0 0 1 0 0 1 0 1 0 0 0 0 0 0 0 0 1 1 1 1 1 1 1 1 1 1 1 1 1 1 1 1 1\n",
       "0 0 0 0 0 0 0 1 0 0 0 0 0 0 0 1 0 0 1 0 0 0 0 0 0 0 0 0 0 1 0 0 0 0 0 0 0 0 1 1 1 1 1 1\n",
       "</span>"
      ]
     },
     "execution_count": 15,
     "metadata": {},
     "output_type": "execute_result"
    }
   ],
   "source": [
    "spaces←⎕←' '=t"
   ]
  },
  {
   "cell_type": "markdown",
   "id": "0db40e5f",
   "metadata": {},
   "source": [
    "How might we use that to create a mask (Boolean matrix) for the characters we want to _keep_?"
   ]
  },
  {
   "cell_type": "code",
   "execution_count": 16,
   "id": "ac149220",
   "metadata": {},
   "outputs": [
    {
     "data": {
      "text/html": [
       "<span style=\"white-space:pre; font-family: monospace\">1 1 1 1 1 1 1 1 1 1 1 1 1 1 1 1 1 1 1 1 1 1 1 1 1 1 1 1 1 1 1 1 1 0 0 0 0 0 0 0 0 0 0 0\n",
       "1 1 1 1 1 1 1 1 1 1 1 1 1 1 1 1 1 1 1 1 1 1 1 1 1 1 1 1 1 1 1 1 1 0 0 0 0 0 0 0 0 0 0 0\n",
       "1 1 1 1 1 1 1 1 1 1 1 1 1 1 1 1 1 1 1 1 1 1 1 1 1 1 1 1 1 1 1 1 1 1 1 1 1 1 1 1 1 1 1 1\n",
       "1 1 1 1 1 1 1 1 1 1 1 1 1 1 1 1 1 1 1 1 1 1 1 1 1 1 1 0 0 0 0 0 0 0 0 0 0 0 0 0 0 0 0 0\n",
       "1 1 1 1 1 1 1 1 1 1 1 1 1 1 1 1 1 1 1 1 1 1 1 1 1 1 1 1 1 1 1 1 1 1 1 1 1 1 0 0 0 0 0 0\n",
       "</span>"
      ]
     },
     "execution_count": 16,
     "metadata": {},
     "output_type": "execute_result"
    }
   ],
   "source": [
    "keep←⎕←~⌽∧\\⌽spaces"
   ]
  },
  {
   "cell_type": "markdown",
   "id": "9231b8f0",
   "metadata": {},
   "source": [
    "Next we need to get the number of trailing spaces on each line,"
   ]
  },
  {
   "cell_type": "code",
   "execution_count": 19,
   "id": "074d9f89",
   "metadata": {},
   "outputs": [
    {
     "data": {
      "text/html": [
       "<span style=\"white-space:pre; font-family: monospace\">11 11 0 17 6\n",
       "</span>"
      ]
     },
     "execution_count": 19,
     "metadata": {},
     "output_type": "execute_result"
    }
   ],
   "source": [
    "cols←⊃⌽⍴keep\n",
    "trail←⎕←cols-+/keep"
   ]
  },
  {
   "cell_type": "markdown",
   "id": "1edc4818",
   "metadata": {},
   "source": [
    "Since we need to distribute extra width over inner spaces, we need to know how many inner spaces each line has, so we can divide the trailing width by that."
   ]
  },
  {
   "cell_type": "code",
   "execution_count": 20,
   "id": "98a9124f",
   "metadata": {},
   "outputs": [
    {
     "data": {
      "text/html": [
       "<span style=\"white-space:pre; font-family: monospace\">4 5 6 5 4\n",
       "</span>"
      ]
     },
     "execution_count": 20,
     "metadata": {},
     "output_type": "execute_result"
    }
   ],
   "source": [
    "inner←⎕←trail-⍨+/spaces"
   ]
  },
  {
   "cell_type": "markdown",
   "id": "b2743fe3",
   "metadata": {},
   "source": [
    "We now need to distribute the extra spaces over the inner spaces, noting that they may not be evenly distributable. We can just take the floor throughout, and the strategically add 1 here and there, preferably as evenly distributed as possible. We could start at the beginning and add one to each interspace until we're \"fully adjusted\". If you look at the example above, that's what we did:\n",
    "\n",
    "    In⎕⎕⎕⎕publishing⎕⎕⎕⎕and⎕⎕⎕⎕graphic⎕⎕⎕design,\n",
    "\n",
    "The first three have 4 and the last one has 3. How might we determine the number of spaces that need one extra space? Well, it's the remainder of dividing total needed spaces by how many spaces we have. For example, if we need to have 14 spaces and only have 5 spots then it'd be 4. We can express this as:"
   ]
  },
  {
   "cell_type": "code",
   "execution_count": 21,
   "id": "9d48a4bc",
   "metadata": {},
   "outputs": [
    {
     "data": {
      "text/html": [
       "<span style=\"white-space:pre; font-family: monospace\">3 1 0 2 2\n",
       "</span>"
      ]
     },
     "execution_count": 21,
     "metadata": {},
     "output_type": "execute_result"
    }
   ],
   "source": [
    "mod←⎕←inner|trail"
   ]
  },
  {
   "cell_type": "markdown",
   "id": "adef864f",
   "metadata": {},
   "source": [
    "The base extension per line is"
   ]
  },
  {
   "cell_type": "code",
   "execution_count": 22,
   "id": "4969facc",
   "metadata": {},
   "outputs": [
    {
     "data": {
      "text/html": [
       "<span style=\"white-space:pre; font-family: monospace\">2 2 0 3 1\n",
       "</span>"
      ]
     },
     "execution_count": 22,
     "metadata": {},
     "output_type": "execute_result"
    }
   ],
   "source": [
    "div←⎕←⌊trail÷inner"
   ]
  },
  {
   "cell_type": "markdown",
   "id": "001c77df",
   "metadata": {},
   "source": [
    "Now we can create a mask for spaces that need an extra space:"
   ]
  },
  {
   "cell_type": "code",
   "execution_count": 25,
   "id": "cbd104c2",
   "metadata": {},
   "outputs": [
    {
     "data": {
      "text/html": [
       "<span style=\"white-space:pre; font-family: monospace\">0 0 1 0 0 0 0 0 0 0 0 0 0 1 0 0 0 1 0 0 0 0 0 0 0 0 0 0 0 0 0 0 0 0 0 0 0 0 0 0 0 0 0 0\n",
       "0 0 0 0 0 1 0 0 0 0 0 0 0 0 0 0 0 0 0 0 0 0 0 0 0 0 0 0 0 0 0 0 0 0 0 0 0 0 0 0 0 0 0 0\n",
       "0 0 0 0 0 0 0 0 0 0 0 0 0 0 0 0 0 0 0 0 0 0 0 0 0 0 0 0 0 0 0 0 0 0 0 0 0 0 0 0 0 0 0 0\n",
       "0 0 1 0 1 0 0 0 0 0 0 0 0 0 0 0 0 0 0 0 0 0 0 0 0 0 0 0 0 0 0 0 0 0 0 0 0 0 0 0 0 0 0 0\n",
       "0 0 0 0 0 0 0 1 0 0 0 0 0 0 0 1 0 0 0 0 0 0 0 0 0 0 0 0 0 0 0 0 0 0 0 0 0 0 0 0 0 0 0 0\n",
       "</span>"
      ]
     },
     "execution_count": 25,
     "metadata": {},
     "output_type": "execute_result"
    }
   ],
   "source": [
    "extra←⎕←spaces×mod≥⍤0 1+\\spaces×keep"
   ]
  },
  {
   "cell_type": "markdown",
   "id": "94405a04",
   "metadata": {},
   "source": [
    "Now we're ready to put the parts together to get a replication factor for each character. "
   ]
  },
  {
   "cell_type": "code",
   "execution_count": 26,
   "id": "343ebc79",
   "metadata": {},
   "outputs": [
    {
     "data": {
      "text/html": [
       "<span style=\"white-space:pre; font-family: monospace\">1 1 4 1 1 1 1 1 1 1 1 1 1 4 1 1 1 4 1 1 1 1 1 1 1 3 1 1 1 1 1 1 1 0 0 0 0 0 0 0 0 0 0 0\n",
       "1 1 1 1 1 4 1 1 1 1 1 3 1 1 3 1 3 1 1 1 1 1 1 1 1 1 1 1 3 1 1 1 1 0 0 0 0 0 0 0 0 0 0 0\n",
       "1 1 1 1 1 1 1 1 1 1 1 1 1 1 1 1 1 1 1 1 1 1 1 1 1 1 1 1 1 1 1 1 1 1 1 1 1 1 1 1 1 1 1 1\n",
       "1 1 5 1 5 1 1 1 1 1 1 1 1 4 1 1 4 1 4 1 1 1 1 1 1 1 1 0 0 0 0 0 0 0 0 0 0 0 0 0 0 0 0 0\n",
       "1 1 1 1 1 1 1 3 1 1 1 1 1 1 1 3 1 1 2 1 1 1 1 1 1 1 1 1 1 2 1 1 1 1 1 1 1 1 0 0 0 0 0 0\n",
       "</span>"
      ]
     },
     "execution_count": 26,
     "metadata": {},
     "output_type": "execute_result"
    }
   ],
   "source": [
    "replication←⎕←keep+extra+div(×⍤0 1)spaces×keep"
   ]
  },
  {
   "cell_type": "markdown",
   "id": "aac45cbd",
   "metadata": {},
   "source": [
    "and, finally, we can apply the transformation:"
   ]
  },
  {
   "cell_type": "code",
   "execution_count": 27,
   "id": "55d2a745",
   "metadata": {},
   "outputs": [
    {
     "data": {
      "text/html": [
       "<span style=\"white-space:pre; font-family: monospace\">In    publishing    and    graphic   design,\n",
       "Lorem    ipsum   is   a   placeholder   text\n",
       "commonly used to demonstrate the visual form\n",
       "of     a     document    or    a    typeface\n",
       "without   relying   on  meaningful  content.\n",
       "</span>"
      ]
     },
     "execution_count": 27,
     "metadata": {},
     "output_type": "execute_result"
    }
   ],
   "source": [
    "(⍴ t)⍴(,replication)/,t"
   ]
  },
  {
   "cell_type": "markdown",
   "id": "f3b7dfdb",
   "metadata": {},
   "source": [
    "Combine it all into a dfn, and we get:"
   ]
  },
  {
   "cell_type": "code",
   "execution_count": 29,
   "id": "e1a4a7c3",
   "metadata": {},
   "outputs": [],
   "source": [
    "]dinput\n",
    "Justify ← {\n",
    "    spaces ← ' '=⍵\n",
    "    keep ← ~⌽∧\\⌽spaces\n",
    "    trail ← +/~keep\n",
    "    inner ← |trail - +/spaces\n",
    "    mod ← inner|trail\n",
    "    div ← ⌊trail÷inner\n",
    "    extra ← spaces×mod(≥⍤0 1)+\\ spaces×keep\n",
    "    replication ← keep+extra+div(×⍤0 1)spaces×keep\n",
    "    (⍴ ⍵)⍴(,replication)/,⍵\n",
    "}"
   ]
  },
  {
   "cell_type": "code",
   "execution_count": 30,
   "id": "badcf2ce",
   "metadata": {},
   "outputs": [
    {
     "data": {
      "text/html": [
       "<span style=\"white-space:pre; font-family: monospace\">In    publishing    and    graphic   design,\n",
       "Lorem    ipsum   is   a   placeholder   text\n",
       "commonly used to demonstrate the visual form\n",
       "of     a     document    or    a    typeface\n",
       "without   relying   on  meaningful  content.\n",
       "</span>"
      ]
     },
     "execution_count": 30,
     "metadata": {},
     "output_type": "execute_result"
    }
   ],
   "source": [
    "Justify t"
   ]
  },
  {
   "cell_type": "code",
   "execution_count": null,
   "id": "f24afb99",
   "metadata": {},
   "outputs": [],
   "source": []
  }
 ],
 "metadata": {
  "kernelspec": {
   "display_name": "Dyalog APL",
   "language": "apl",
   "name": "dyalog-kernel"
  },
  "language_info": {
   "file_extension": ".apl",
   "mimetype": "text/apl",
   "name": "APL"
  }
 },
 "nbformat": 4,
 "nbformat_minor": 5
}
