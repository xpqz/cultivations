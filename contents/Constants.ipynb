{
 "cells": [
  {
   "cell_type": "markdown",
   "id": "043b01b8",
   "metadata": {},
   "source": [
    "# Constants, tools and utils\n",
    "\n",
    "In this section we'll cover some system constants and utility functions.\n",
    "\n",
    "## Alphabetic chars `⎕A`\n",
    "\n",
    "`⎕A` is the [uppercase English alphabet](http://help.dyalog.com/latest/index.htm#Language/System%20Functions/a.htm) :"
   ]
  },
  {
   "cell_type": "code",
   "execution_count": 2,
   "id": "c2aaac19",
   "metadata": {},
   "outputs": [
    {
     "data": {
      "text/html": [
       "<span style=\"white-space:pre; font-family: monospace\">ABCDEFGHIJKLMNOPQRSTUVWXYZ\n",
       "</span>"
      ]
     },
     "execution_count": 2,
     "metadata": {},
     "output_type": "execute_result"
    }
   ],
   "source": [
    "⎕A"
   ]
  },
  {
   "cell_type": "markdown",
   "id": "4c0cb771",
   "metadata": {},
   "source": [
    "There is no built-in for the lowercase alphabet, but you can get it with the [case convert](http://help.dyalog.com/latest/index.htm#Language/System%20Functions/c.htm) system function, `⎕C`:"
   ]
  },
  {
   "cell_type": "code",
   "execution_count": 1,
   "id": "270ac1f4",
   "metadata": {},
   "outputs": [
    {
     "data": {
      "text/html": [
       "<span style=\"white-space:pre; font-family: monospace\">abcdefghijklmnopqrstuvwxyz\n",
       "</span>"
      ]
     },
     "execution_count": 1,
     "metadata": {},
     "output_type": "execute_result"
    }
   ],
   "source": [
    "⎕C⎕A"
   ]
  },
  {
   "cell_type": "markdown",
   "id": "6e173533",
   "metadata": {},
   "source": [
    "## Digits `⎕D`\n",
    "\n",
    "`⎕D` has the [digits](http://help.dyalog.com/latest/index.htm#Language/System%20Functions/d.htm):"
   ]
  },
  {
   "cell_type": "code",
   "execution_count": 7,
   "id": "6f727d5e",
   "metadata": {},
   "outputs": [
    {
     "data": {
      "text/html": [
       "<span style=\"white-space:pre; font-family: monospace\">0123456789\n",
       "</span>"
      ]
     },
     "execution_count": 7,
     "metadata": {},
     "output_type": "execute_result"
    }
   ],
   "source": [
    "⎕D"
   ]
  },
  {
   "cell_type": "markdown",
   "id": "9e4d9639",
   "metadata": {},
   "source": [
    "## Null item `⎕NULL`\n",
    "\n",
    "`⎕NULL` is a [scalar null](http://help.dyalog.com/latest/index.htm#Language/System%20Functions/null.htm) value. It isn't really used much in APL itself, but you can meet it e.g. when importing spreadsheets where it represents empty cells.  Note that it is _not_ JSON `null`, which is represented as `⊂'null'` to match true and false being `⊂'true'` and `⊂'false'`.  Note also that `⎕NULL` equals itself. These three (`⎕A ⎕D ⎕NULL`) are system _constants_; you can't assign to them. \n",
    "\n",
    "## Win/unix command  `⎕CMD ⎕SH`\n",
    "\n",
    "[`⎕CMD`](http://help.dyalog.com/latest/index.htm#Language/System%20Functions/cmd.htm) and [`⎕SH`](http://help.dyalog.com/latest/index.htm#Language/System%20Functions/sh.htm) are identical, but the first feels more natural to Windows users while the second feels more natural to UNIX users. Pressing <kbd>f1</kbd> on them will give you the help appropriate for that OS. They are used to call the OS command processor:"
   ]
  },
  {
   "cell_type": "code",
   "execution_count": 8,
   "id": "c67bfbdb",
   "metadata": {},
   "outputs": [
    {
     "data": {
      "text/html": [
       "<span style=\"white-space:pre; font-family: monospace\">Applications\n",
       "Library\n",
       "System\n",
       "Users\n",
       "Volumes\n",
       "bin\n",
       "cores\n",
       "dev\n",
       "etc\n",
       "home\n",
       "opt\n",
       "private\n",
       "sbin\n",
       "tmp\n",
       "usr\n",
       "var\n",
       "</span>"
      ]
     },
     "execution_count": 8,
     "metadata": {},
     "output_type": "execute_result"
    }
   ],
   "source": [
    "⎕SH'ls /'"
   ]
  },
  {
   "cell_type": "markdown",
   "id": "b1b09bb1",
   "metadata": {},
   "source": [
    "## Comma separated values `⎕CSV`\n",
    "\n",
    "`⎕CSV` will import and export [Comma/Character Separated Values](http://help.dyalog.com/latest/index.htm#Language/System%20Functions/csv.htm)."
   ]
  },
  {
   "cell_type": "code",
   "execution_count": 9,
   "id": "b4118fe3",
   "metadata": {},
   "outputs": [
    {
     "data": {
      "text/html": [
       "<span style=\"white-space:pre; font-family: monospace\">┌───┬───┬─┐\n",
       "│abc│def│3│\n",
       "└───┴───┴─┘\n",
       "</span>"
      ]
     },
     "execution_count": 9,
     "metadata": {},
     "output_type": "execute_result"
    }
   ],
   "source": [
    "⎕CSV '\"abc\",\"def\",3' 'S'"
   ]
  },
  {
   "cell_type": "markdown",
   "id": "0d197e93",
   "metadata": {},
   "source": [
    "It has a ton of options for almost anything you could want, including import and export directly to and from text files. \n",
    "\n",
    "## Data representation `⎕DR`\n",
    "\n",
    "`⎕DR` is [Data Representation](http://help.dyalog.com/latest/index.htm#Language/System%20Functions/dr.htm). Monadically, it will tell you how an array is represented internally, and dyadically, it allows you to convert between data types: "
   ]
  },
  {
   "cell_type": "code",
   "execution_count": 10,
   "id": "b7a83d17",
   "metadata": {},
   "outputs": [
    {
     "data": {
      "text/html": [
       "<span style=\"white-space:pre; font-family: monospace\">83\n",
       "</span>"
      ]
     },
     "execution_count": 10,
     "metadata": {},
     "output_type": "execute_result"
    }
   ],
   "source": [
    "⎕DR 42"
   ]
  },
  {
   "cell_type": "markdown",
   "id": "053c8175",
   "metadata": {},
   "source": [
    "Dyalog APL data type codes have two parts, the 1's place and the rest. The 1's place tells you which kind of data it is, the rest tells you how many bits are used to store it, with one exception: pointers are always 326 even on 64 bit systems. The number 42 gave us 83, where 3 means integer and 8 means 8-bit. \n",
    "\n",
    "Dyalog APL has single-bit Boolean arrays, so they are type 11 where the rightmost 1 means Boolean, and the leftmost 1 means 1-bit. "
   ]
  },
  {
   "cell_type": "code",
   "execution_count": 11,
   "id": "b4893d60",
   "metadata": {},
   "outputs": [
    {
     "data": {
      "text/html": [
       "<span style=\"white-space:pre; font-family: monospace\">11\n",
       "</span>"
      ]
     },
     "execution_count": 11,
     "metadata": {},
     "output_type": "execute_result"
    }
   ],
   "source": [
    "⎕DR 1 0 1 1 1 0"
   ]
  },
  {
   "cell_type": "markdown",
   "id": "f719ff46",
   "metadata": {},
   "source": [
    "Dyadic `⎕DR` lets you convert between types: "
   ]
  },
  {
   "cell_type": "code",
   "execution_count": 12,
   "id": "819476a0",
   "metadata": {},
   "outputs": [
    {
     "data": {
      "text/html": [
       "<span style=\"white-space:pre; font-family: monospace\">0 0 1 0 1 0 1 0\n",
       "</span>"
      ]
     },
     "execution_count": 12,
     "metadata": {},
     "output_type": "execute_result"
    }
   ],
   "source": [
    "11⎕DR 42"
   ]
  },
  {
   "cell_type": "markdown",
   "id": "1260d3e9",
   "metadata": {},
   "source": [
    "This takes the memory which was used to represent 42 and interprets it as if it was a Boolean array. \n",
    "You can also combine two steps of `⎕DR` into one. A two-element left argument will interpret the right argument as that type, then convert it to the type given by the second element of the left argument. \n",
    "\n",
    "## Format `⎕FMT`\n",
    "\n",
    "`⎕FMT` is [ForMaT](http://help.dyalog.com/latest/index.htm#Language/System%20Functions/fmt.htm). It is like a beefed up version of `⍕`. `⍕` retains the rank of its argument (except for numeric scalars becoming character vectors). `⎕FMT` always returns a matrix. Also, `⍕` treats control characters as normal characters, while `⎕FMT` will resolve them: "
   ]
  },
  {
   "cell_type": "code",
   "execution_count": 22,
   "id": "07ecc6de",
   "metadata": {},
   "outputs": [
    {
     "data": {
      "text/html": [
       "<span style=\"white-space:pre; font-family: monospace\">abdef\n",
       "</span>"
      ]
     },
     "execution_count": 22,
     "metadata": {},
     "output_type": "execute_result"
    },
    {
     "data": {
      "text/html": [
       "<span style=\"white-space:pre; font-family: monospace\">abdef\n",
       "7\n",
       "</span>"
      ]
     },
     "execution_count": 22,
     "metadata": {},
     "output_type": "execute_result"
    },
    {
     "data": {
      "text/html": [
       "<span style=\"white-space:pre; font-family: monospace\">abdef\n",
       "1 5\n",
       "</span>"
      ]
     },
     "execution_count": 22,
     "metadata": {},
     "output_type": "execute_result"
    }
   ],
   "source": [
    "str←⎕←'abc',(⎕UCS 8),'def' ⍝ 8 is backspace\n",
    "⍴⎕←⍕str                    ⍝ ⍕ treats backspace as any other char\n",
    "⍴⎕←⎕FMT str                ⍝ ⎕FMT resolves it"
   ]
  },
  {
   "cell_type": "markdown",
   "id": "234385f1",
   "metadata": {},
   "source": [
    "You see that the `'c'` really was erased by the backspace.\n",
    "\n",
    "Dyadic `⎕FMT` gives you access to a whole new language, namely a formatting specification language. We won't go though all the details here (see docs!), but here's a taste: "
   ]
  },
  {
   "cell_type": "code",
   "execution_count": 21,
   "id": "9a0014b7",
   "metadata": {},
   "outputs": [
    {
     "data": {
      "text/html": [
       "<span style=\"white-space:pre; font-family: monospace\">  1 2.00  3 4.00\n",
       "  5 6.00  7 8.00\n",
       "</span>"
      ]
     },
     "execution_count": 21,
     "metadata": {},
     "output_type": "execute_result"
    }
   ],
   "source": [
    "'I3,F5.2' ⎕FMT 2 4⍴⍳8"
   ]
  },
  {
   "cell_type": "markdown",
   "id": "9d64a867",
   "metadata": {},
   "source": [
    "The formatting string `I3,F5.2` means that each row should first have an integer, then a float which uses five characters in width and has 2 decimals, then this formatting is cycled as much as needed for all the columns (here twice). \n",
    "\n",
    "## Import/export JSON  `⎕JSON`\n",
    "\n",
    "`⎕JSON` [imports/exports JSON](http://help.dyalog.com/latest/index.htm#Language/System%20Functions/json.htm). It works for both arrays and objects: "
   ]
  },
  {
   "cell_type": "code",
   "execution_count": 23,
   "id": "ebfaaca7",
   "metadata": {},
   "outputs": [
    {
     "data": {
      "text/html": [
       "<span style=\"white-space:pre; font-family: monospace\">┌───────────┬─────┐\n",
       "│┌──┬──────┐│hello│\n",
       "││42│┌────┐││     │\n",
       "││  ││null│││     │\n",
       "││  │└────┘││     │\n",
       "│└──┴──────┘│     │\n",
       "└───────────┴─────┘\n",
       "</span>"
      ]
     },
     "execution_count": 23,
     "metadata": {},
     "output_type": "execute_result"
    }
   ],
   "source": [
    "⎕JSON'[[42,null],\"hello\"]'"
   ]
  },
  {
   "cell_type": "code",
   "execution_count": 25,
   "id": "2161d9ba",
   "metadata": {},
   "outputs": [
    {
     "data": {
      "text/html": [
       "<span style=\"white-space:pre; font-family: monospace\">#.[JSON object]\n",
       "</span>"
      ]
     },
     "execution_count": 25,
     "metadata": {},
     "output_type": "execute_result"
    },
    {
     "data": {
      "text/html": [
       "<span style=\"white-space:pre; font-family: monospace\">┌──┬─────┐\n",
       "│42│hello│\n",
       "└──┴─────┘\n",
       "</span>"
      ]
     },
     "execution_count": 25,
     "metadata": {},
     "output_type": "execute_result"
    }
   ],
   "source": [
    "⊢ns←⎕JSON'{\"abc\":42,\"de\":null,\"f\":\"hello\"}'\n",
    "ns.(abc f)"
   ]
  },
  {
   "cell_type": "markdown",
   "id": "18f1f6e0",
   "metadata": {},
   "source": [
    "We can also export from APL to JSON:"
   ]
  },
  {
   "cell_type": "code",
   "execution_count": 26,
   "id": "eb9fc2d7",
   "metadata": {},
   "outputs": [
    {
     "data": {
      "text/html": [
       "<span style=\"white-space:pre; font-family: monospace\">[[\"abc\",1,2,3],4,5]\n",
       "</span>"
      ]
     },
     "execution_count": 26,
     "metadata": {},
     "output_type": "execute_result"
    }
   ],
   "source": [
    "⎕JSON ('abc' 1 2 3) 4 5"
   ]
  },
  {
   "cell_type": "markdown",
   "id": "f12935ae",
   "metadata": {},
   "source": [
    "Just be aware that if you want to convert an APL string to JSON, you need use the left argument to specify whether you want import (0) or export (1). \n",
    "\n",
    "You can also tell `⎕JSON` that you want your JSON fully white-spaced: "
   ]
  },
  {
   "cell_type": "code",
   "execution_count": 27,
   "id": "2e511b2a",
   "metadata": {},
   "outputs": [
    {
     "data": {
      "text/html": [
       "<span style=\"white-space:pre; font-family: monospace\">[\n",
       "  [\n",
       "    \"abc\",\n",
       "    1,\n",
       "    2,\n",
       "    3\n",
       "  ],\n",
       "  4,\n",
       "  5\n",
       "]\n",
       "</span>"
      ]
     },
     "execution_count": 27,
     "metadata": {},
     "output_type": "execute_result"
    }
   ],
   "source": [
    "⎕JSON⍠'Compact'0⊢('abc' 1 2 3)4 5"
   ]
  },
  {
   "cell_type": "markdown",
   "id": "0997271f",
   "metadata": {},
   "source": [
    "Finally, whilst you can import any JSON object, not every APL namespace can be exported. For example, a namespace with APL functions cannot be converted to JSON. Again, `⎕JSON` has some more advanced options — see the docs. `⎕JSON` is fully compliant with JSON, though, but we do allow some leniency which allows you to create some JavaScript objects which are not valid JSON. For example,"
   ]
  },
  {
   "cell_type": "code",
   "execution_count": 28,
   "id": "a0e05c49",
   "metadata": {},
   "outputs": [
    {
     "data": {
      "text/html": [
       "<span style=\"white-space:pre; font-family: monospace\">[\"hello\",world]\n",
       "</span>"
      ]
     },
     "execution_count": 28,
     "metadata": {},
     "output_type": "execute_result"
    }
   ],
   "source": [
    "⎕JSON 'hello' (⊂'world') "
   ]
  },
  {
   "cell_type": "markdown",
   "id": "25db7ab4",
   "metadata": {},
   "source": [
    "We opted for a generalised system for strings without quotes, rather than special casing `null`. The I-beam that preceded `⎕JSON` did in fact use `⎕NULL`. By using enclosed strings, we can losslessly roundtrip. However, If you DO want to use APL's `⎕NULL`, you can specify this using the `Null` variant to `⎕JSON`:"
   ]
  },
  {
   "cell_type": "code",
   "execution_count": 3,
   "id": "a7d5c00e",
   "metadata": {},
   "outputs": [
    {
     "data": {
      "text/html": [
       "<span style=\"white-space:pre; font-family: monospace\">[Null]\n",
       "</span>"
      ]
     },
     "execution_count": 3,
     "metadata": {},
     "output_type": "execute_result"
    },
    {
     "data": {
      "text/html": [
       "<span style=\"white-space:pre; font-family: monospace\">1\n",
       "</span>"
      ]
     },
     "execution_count": 3,
     "metadata": {},
     "output_type": "execute_result"
    }
   ],
   "source": [
    "j←⎕JSON⍠'Null' ⎕NULL⊢'{\"name\": null}'\n",
    "j.name\n",
    "j.name = ⎕NULL"
   ]
  },
  {
   "cell_type": "markdown",
   "id": "e7580562",
   "metadata": {},
   "source": [
    "Finally, there is also a `Dialect` variant, which is either `'JSON'` (the default) or `'JSON5'`. The latter enables [JSON5](https://json5.org/) extensions on import and export."
   ]
  },
  {
   "cell_type": "markdown",
   "id": "0fffc32b",
   "metadata": {},
   "source": [
    "## Map file `⎕MAP`\n",
    "\n",
    "[`⎕MAP`](http://help.dyalog.com/latest/index.htm#Language/System%20Functions/map.htm) is a function we'll only mention and not demonstrate (see the docs). It basically allows you to use a file as an array instead of keeping the array in memory. Very useful. \n",
    "\n",
    "## Unicode convert `⎕UCS`\n",
    "\n",
    "This brings us to [Unicode Convert](http://help.dyalog.com/latest/index.htm#Language/System%20Functions/ucs.htm), `⎕UCS`, which in its monadic form flips characters and their Unicode code points: "
   ]
  },
  {
   "cell_type": "code",
   "execution_count": 29,
   "id": "98acd954",
   "metadata": {},
   "outputs": [
    {
     "data": {
      "text/html": [
       "<span style=\"white-space:pre; font-family: monospace\">καλημέρα\n",
       "</span>"
      ]
     },
     "execution_count": 29,
     "metadata": {},
     "output_type": "execute_result"
    }
   ],
   "source": [
    "⎕UCS 954 945 955 951 956 941 961 945"
   ]
  },
  {
   "cell_type": "markdown",
   "id": "a1292cad",
   "metadata": {},
   "source": [
    "The dyadic form takes a left argument specifying an encoding scheme and converts to and from byte values rather than code points: "
   ]
  },
  {
   "cell_type": "code",
   "execution_count": 30,
   "id": "83bdea22",
   "metadata": {},
   "outputs": [
    {
     "data": {
      "text/html": [
       "<span style=\"white-space:pre; font-family: monospace\">γεια σου\n",
       "</span>"
      ]
     },
     "execution_count": 30,
     "metadata": {},
     "output_type": "execute_result"
    }
   ],
   "source": [
    "'UTF-8' ⎕UCS 206 179 206 181 206 185 206 177 32 207 131 206 191 207 133"
   ]
  },
  {
   "cell_type": "markdown",
   "id": "bd956400",
   "metadata": {},
   "source": [
    "## Verify and fix input `⎕VFI`\n",
    "\n",
    "`⎕VFI` is [Verify and Fix Input](http://help.dyalog.com/latest/index.htm#Language/System%20Functions/vfi.htm). It takes a string and returns two lists. It cuts the string into space separated fields. Then it attempts to convert each field to a number. If it succeeds then the corresponding element of the left result list is 1 (else 0) and the corresponding element of the right list is the number (else 0). "
   ]
  },
  {
   "cell_type": "code",
   "execution_count": 31,
   "id": "8ed95d32",
   "metadata": {},
   "outputs": [
    {
     "data": {
      "text/html": [
       "<span style=\"white-space:pre; font-family: monospace\">┌─────┬────────┐\n",
       "│1 0 1│123 0 42│\n",
       "└─────┴────────┘\n",
       "</span>"
      ]
     },
     "execution_count": 31,
     "metadata": {},
     "output_type": "execute_result"
    }
   ],
   "source": [
    "⎕VFI '123 four 42'"
   ]
  },
  {
   "cell_type": "markdown",
   "id": "31e5de3c",
   "metadata": {},
   "source": [
    "You can also specify one or more valid field separators as left argument: "
   ]
  },
  {
   "cell_type": "code",
   "execution_count": 32,
   "id": "aac060fc",
   "metadata": {},
   "outputs": [
    {
     "data": {
      "text/html": [
       "<span style=\"white-space:pre; font-family: monospace\">┌─────┬─────┐\n",
       "│0 1 1│0 2 4│\n",
       "└─────┴─────┘\n",
       "</span>"
      ]
     },
     "execution_count": 32,
     "metadata": {},
     "output_type": "execute_result"
    }
   ],
   "source": [
    "';/'⎕VFI '123 four,42 5/2/4'"
   ]
  },
  {
   "cell_type": "markdown",
   "id": "0a9a9aae",
   "metadata": {},
   "source": [
    "Here `123 four` were grouped because space is not a separator anymore, and so it is an invalid number. So too with `42 5`. Only `2` and `4` were valid. You can get just the valid numbers with: "
   ]
  },
  {
   "cell_type": "code",
   "execution_count": 33,
   "id": "4c2891a0",
   "metadata": {},
   "outputs": [
    {
     "data": {
      "text/html": [
       "<span style=\"white-space:pre; font-family: monospace\">┌───┐\n",
       "│2 4│\n",
       "└───┘\n",
       "</span>"
      ]
     },
     "execution_count": 33,
     "metadata": {},
     "output_type": "execute_result"
    }
   ],
   "source": [
    "//';/'⎕VFI '123 four,42 5/2/4'"
   ]
  },
  {
   "cell_type": "markdown",
   "id": "35522c1f",
   "metadata": {},
   "source": [
    "## XML convert `⎕XML`\n",
    "\n",
    "`⎕XML` is [converts to and from XML](http://help.dyalog.com/latest/index.htm#Language/System%20Functions/xml.htm), but the corresponding APL format is rather involved. We usually just use ⎕XML to verify that some XML is valid or to normalise whitespace: "
   ]
  },
  {
   "cell_type": "code",
   "execution_count": 34,
   "id": "e32b6620",
   "metadata": {},
   "outputs": [
    {
     "data": {
      "text/html": [
       "<span style=\"white-space:pre; font-family: monospace\">&lt;xml&gt;\n",
       "  &lt;document id=\"001\"&gt;An introduction to XML&lt;/document&gt;\n",
       "&lt;/xml&gt;\n",
       "</span>"
      ]
     },
     "execution_count": 34,
     "metadata": {},
     "output_type": "execute_result"
    }
   ],
   "source": [
    "⎕XML⍣2 ⊢ '<xml><document id=\"001\">An introduction to XML</document></xml>'"
   ]
  },
  {
   "cell_type": "markdown",
   "id": "0eacf397",
   "metadata": {},
   "source": [
    "## Case conversion `⎕C`\n",
    "\n",
    "`⎕C` provides various handy [case conversion](http://help.dyalog.com/latest/index.htm#Language/System%20Functions/c.htm) operations for strings. The left argument, if given, currently has to be a single simple scalar integer, 1 or ¯1 or ¯3:\n",
    "\n",
    "* 1 does upper-casing\n",
    "* ¯1 does lower-casing\n",
    "* ¯3 does case normalisation\n",
    "\n",
    "For ASCII, and most European languages, there's no difference between lowercasing and normalising case. However, some languages have multiple forms of a single letter. Normalising makes all those forms the same, so they can be compared easily. For example, Greek has two lowercase forms of Σ: σ and ς. Even Latin script (like in English and German) used to use a medial form of S: ſ. Note that it does _not_ \"de-diacriticize\": á and a are still seen as different. Nor does it do decomposition or other length-changing normalisation. The constants 2 and ¯2 and ¯4 are reserved for length-changing mapping (upper/lower) and folding (normalisation) in the future. \n",
    "\n",
    "Here's an example: given a character vector, uppercase the first character.\n",
    "\n",
    "    'hello, world!' → 'Hello, world!' "
   ]
  },
  {
   "cell_type": "code",
   "execution_count": 1,
   "id": "c4849055",
   "metadata": {},
   "outputs": [
    {
     "data": {
      "text/html": [
       "<span style=\"white-space:pre; font-family: monospace\">Hello, world!\n",
       "</span>"
      ]
     },
     "execution_count": 1,
     "metadata": {},
     "output_type": "execute_result"
    }
   ],
   "source": [
    "1⎕C@1⊢'hello, world!'"
   ]
  },
  {
   "cell_type": "markdown",
   "id": "5f3473f1",
   "metadata": {},
   "source": [
    "Next up: a better (still not perfect) palindrome checker. Given a string without diacritics, but which may have spaces, determine if it is a palindrome. Examples: \n",
    "\n",
    "    'race car' → 1\n",
    "    'Σοφος' → 1\n",
    "    'hello' → 0\n",
    "    'Νιψον ανομηματα μη μοναν οψιν' → 1 "
   ]
  },
  {
   "cell_type": "code",
   "execution_count": 5,
   "id": "b45821a2",
   "metadata": {},
   "outputs": [
    {
     "data": {
      "text/html": [
       "<span style=\"white-space:pre; font-family: monospace\">1 1 0 1\n",
       "</span>"
      ]
     },
     "execution_count": 5,
     "metadata": {},
     "output_type": "execute_result"
    }
   ],
   "source": [
    "((⊢≡⌽)¯3⎕C~∘' ')¨ 'race car' 'Σοφος' 'hello' 'Νιψον ανομηματα μη μοναν οψιν'"
   ]
  },
  {
   "cell_type": "markdown",
   "id": "93989239",
   "metadata": {},
   "source": [
    "Here's a trick too: monadic `⎕C` is the same as `¯3∘⎕C`."
   ]
  },
  {
   "cell_type": "markdown",
   "id": "46b6c971",
   "metadata": {},
   "source": [
    "## Date-time conversions `⎕DT`\n",
    "\n",
    "`⎕DT` provides a wealth of [date-time conversions](http://help.dyalog.com/latest/index.htm#Language/System%20Functions/dt.htm). It allows you to convert any numeric representation of a date-time into any other representation. You can use it to glue together two 3rd-party systems that otherwise can't easily communicate. "
   ]
  },
  {
   "cell_type": "code",
   "execution_count": 6,
   "id": "99516b3c",
   "metadata": {},
   "outputs": [
    {
     "data": {
      "text/html": [
       "<span style=\"white-space:pre; font-family: monospace\">1597162233\n",
       "</span>"
      ]
     },
     "execution_count": 6,
     "metadata": {},
     "output_type": "execute_result"
    }
   ],
   "source": [
    "20 ⎕DT 44053.674 ⍝ Dyalog to Unix time"
   ]
  },
  {
   "cell_type": "markdown",
   "id": "06068164",
   "metadata": {},
   "source": [
    "Dyalog's basic representation of a moment is the number of days since 1899-12-31. The advantage of Dyalog's system (which was actually the original one) is that you can then find the day-of-week with `7|⌊`: "
   ]
  },
  {
   "cell_type": "code",
   "execution_count": 7,
   "id": "e2412375",
   "metadata": {},
   "outputs": [
    {
     "data": {
      "text/html": [
       "<span style=\"white-space:pre; font-family: monospace\">2\n",
       "</span>"
      ]
     },
     "execution_count": 7,
     "metadata": {},
     "output_type": "execute_result"
    }
   ],
   "source": [
    "7|⌊44053.674"
   ]
  },
  {
   "cell_type": "markdown",
   "id": "7d4df732",
   "metadata": {},
   "source": [
    "0: Sunday, 1: Monday, etc. \n",
    "\n",
    "Does anyone use some software that has its own date format? Answer: yes, you all do. APL does. It has the 7-element vector `⎕TS` for the current [Time Stamp](http://help.dyalog.com/latest/index.htm#Language/System%20Functions/ts.htm)."
   ]
  },
  {
   "cell_type": "code",
   "execution_count": 8,
   "id": "3248de29",
   "metadata": {},
   "outputs": [
    {
     "data": {
      "text/html": [
       "<span style=\"white-space:pre; font-family: monospace\">┌──────────────────────┐\n",
       "│2020 8 11 16 10 33 600│\n",
       "└──────────────────────┘\n",
       "</span>"
      ]
     },
     "execution_count": 8,
     "metadata": {},
     "output_type": "execute_result"
    }
   ],
   "source": [
    "¯1 ⎕DT 44053.674 ⍝ to ⎕TS"
   ]
  },
  {
   "cell_type": "markdown",
   "id": "6d44cd16",
   "metadata": {},
   "source": [
    "The left argument tells `⎕DT` what you want to convert to. The numbers are largely arbitrary, but not entirely so. Positive codes indicate a scalar format (one number per date-time) and negative numbers indicate a vector format (multiple numbers per date-time). Also, the number divided by 10 and floored indicates the family. So we had 2(0) for UNIX and 4(0) for applications (Excel). The last element of `⎕TS` is the milliseconds. We can get more precision in the `⎕TS`-style result by using `¯2` for microseconds and `¯3` for nanoseconds:"
   ]
  },
  {
   "cell_type": "code",
   "execution_count": 9,
   "id": "dc304b31",
   "metadata": {},
   "outputs": [
    {
     "data": {
      "text/html": [
       "<span style=\"white-space:pre; font-family: monospace\">┌─────────────────────────┐\n",
       "│2020 8 11 16 10 33 600000│\n",
       "└─────────────────────────┘\n",
       "</span>"
      ]
     },
     "execution_count": 9,
     "metadata": {},
     "output_type": "execute_result"
    },
    {
     "data": {
      "text/html": [
       "<span style=\"white-space:pre; font-family: monospace\">┌────────────────────────────┐\n",
       "│2020 8 11 16 10 33 600000000│\n",
       "└────────────────────────────┘\n",
       "</span>"
      ]
     },
     "execution_count": 9,
     "metadata": {},
     "output_type": "execute_result"
    }
   ],
   "source": [
    "¯2 ⎕DT 44053.674\n",
    "¯3 ⎕DT 44053.674"
   ]
  },
  {
   "cell_type": "markdown",
   "id": "6b09814f",
   "metadata": {},
   "source": [
    "Notice also that vector formats are enclosed. This allows `⎕DT` to handle arrays of dates:"
   ]
  },
  {
   "cell_type": "code",
   "execution_count": 10,
   "id": "56b05a38",
   "metadata": {},
   "outputs": [
    {
     "data": {
      "text/html": [
       "<span style=\"white-space:pre; font-family: monospace\">┌─────────────────┬─────────────────┬─────────────────┐\n",
       "│2020 8 12 0 0 0 0│2020 8 13 0 0 0 0│2020 8 14 0 0 0 0│\n",
       "└─────────────────┴─────────────────┴─────────────────┘\n",
       "</span>"
      ]
     },
     "execution_count": 10,
     "metadata": {},
     "output_type": "execute_result"
    }
   ],
   "source": [
    "¯1 ⎕DT 44053+⍳3"
   ]
  },
  {
   "cell_type": "markdown",
   "id": "13118bb0",
   "metadata": {},
   "source": [
    "There are many of these codes; we won't cover them all here, but they are readily available in the [documentation](http://help.dyalog.com/latest/index.htm#Language/System%20Functions/dt.htm). What you do need to know is how to convert from one of these formats. Until now, we've just used the Dyalog day number. That's the default for simple scalars in the right argument. The default for enclosed vectors is the `⎕TS` format (`¯1`). If your input is anything else, you need to give `⎕DT` a two-element left argument. The first element is the input type, and the second is the output type.\n",
    "\n",
    "For example, this converts an ISO year, week of year, day of week to `⎕TS`-style:"
   ]
  },
  {
   "cell_type": "code",
   "execution_count": 11,
   "id": "103ab250",
   "metadata": {},
   "outputs": [
    {
     "data": {
      "text/html": [
       "<span style=\"white-space:pre; font-family: monospace\">┌─────────────────┐\n",
       "│2020 9 30 0 0 0 0│\n",
       "└─────────────────┘\n",
       "</span>"
      ]
     },
     "execution_count": 11,
     "metadata": {},
     "output_type": "execute_result"
    }
   ],
   "source": [
    "¯11 ¯1⎕DT⊂2020 40 3"
   ]
  },
  {
   "cell_type": "markdown",
   "id": "0f4bb9ba",
   "metadata": {},
   "source": [
    "Another example: given two ISO-style dates (as a 2 element vector of Y,M,D vectors), compute the inclusive number of days between them. E.g. `(2020 6 25)(2020 08 10)` should give 47. `(2020 08 10)(2020 6 25)` should also give 47. `(2020 08 10)(2020 08 10)` should give 1. "
   ]
  },
  {
   "cell_type": "code",
   "execution_count": 13,
   "id": "299afd5d",
   "metadata": {},
   "outputs": [
    {
     "data": {
      "text/html": [
       "<span style=\"white-space:pre; font-family: monospace\">47\n",
       "</span>"
      ]
     },
     "execution_count": 13,
     "metadata": {},
     "output_type": "execute_result"
    },
    {
     "data": {
      "text/html": [
       "<span style=\"white-space:pre; font-family: monospace\">47\n",
       "</span>"
      ]
     },
     "execution_count": 13,
     "metadata": {},
     "output_type": "execute_result"
    },
    {
     "data": {
      "text/html": [
       "<span style=\"white-space:pre; font-family: monospace\">1\n",
       "</span>"
      ]
     },
     "execution_count": 13,
     "metadata": {},
     "output_type": "execute_result"
    }
   ],
   "source": [
    "diff ← {1+|-/1⎕DT⍵}\n",
    "diff (2020 6 25)(2020 08 10)\n",
    "diff (2020 08 10)(2020 6 25)\n",
    "diff (2020 08 10)(2020 08 10)"
   ]
  },
  {
   "cell_type": "markdown",
   "id": "d3ecc6ef",
   "metadata": {},
   "source": [
    "## Format Date-Time `1200⌶`\n",
    "\n",
    "Above we covered how to convert between different numerical date-time representations. What about converting a numeric date-time representation to text? For that we can use the [Format Date-Time](http://help.dyalog.com/latest/index.htm#Language/I%20Beam%20Functions/Format%20Datetime.htm) I-beam function, `1200⌶`.\n",
    "\n",
    "When you want to convert a numeric date-time to text, the first step is always to convert it to a Dyalog day number. After that, you can use `1200⌶` to convert that to text. It takes a left argument which is a format pattern. "
   ]
  },
  {
   "cell_type": "code",
   "execution_count": 14,
   "id": "4b9b0c96",
   "metadata": {},
   "outputs": [
    {
     "data": {
      "text/html": [
       "<span style=\"white-space:pre; font-family: monospace\">┌───────────────┐\n",
       "│2020 11 08 1132│\n",
       "└───────────────┘\n",
       "</span>"
      ]
     },
     "execution_count": 14,
     "metadata": {},
     "output_type": "execute_result"
    }
   ],
   "source": [
    "'YYYY DD MM hhmm'(1200⌶)1⎕DT⊂2020 08 11 11 32"
   ]
  },
  {
   "cell_type": "markdown",
   "id": "d29e01d8",
   "metadata": {},
   "source": [
    "The system in the pattern for `1200⌶` is that numeric parts of the date are uppercase, while parts of the time are lowercase. You can use a single character for a variable-width pattern, or multi-character for a 0-padded pattern. If instead you want space-padding, use an underscore as the first character: "
   ]
  },
  {
   "cell_type": "code",
   "execution_count": 15,
   "id": "3c19666f",
   "metadata": {},
   "outputs": [
    {
     "data": {
      "text/html": [
       "<span style=\"white-space:pre; font-family: monospace\">┌──────────────────┬───────────────┬──────────────────┐\n",
       "│┌────────────────┐│┌─────────────┐│┌────────────────┐│\n",
       "││2020-11-08@01:03│││2020-11-8@1:3│││2020-11- 8@ 1: 3││\n",
       "│└────────────────┘│└─────────────┘│└────────────────┘│\n",
       "└──────────────────┴───────────────┴──────────────────┘\n",
       "</span>"
      ]
     },
     "execution_count": 15,
     "metadata": {},
     "output_type": "execute_result"
    }
   ],
   "source": [
    "'YYYY-DD-MM@hh:mm' 'YYYY-D-M@h:m' 'YYYY-_D-_M@_h:_m'(1200⌶)¨1⎕DT⊂2020 8 11 1 3"
   ]
  },
  {
   "cell_type": "markdown",
   "id": "73befd9b",
   "metadata": {},
   "source": [
    "`t` is for 12-hour. `h` is for 24-hour. Furthermore, the format also allows for casing and languages other than English:"
   ]
  },
  {
   "cell_type": "code",
   "execution_count": 17,
   "id": "92f69e2b",
   "metadata": {},
   "outputs": [
    {
     "data": {
      "text/html": [
       "<span style=\"white-space:pre; font-family: monospace\">┌──────────────────┐\n",
       "│2020 AUG 1 at 4:30│\n",
       "└──────────────────┘\n",
       "</span>"
      ]
     },
     "execution_count": 17,
     "metadata": {},
     "output_type": "execute_result"
    },
    {
     "data": {
      "text/html": [
       "<span style=\"white-space:pre; font-family: monospace\">┌────────────┬────────────┐\n",
       "│┌──────────┐│┌──────────┐│\n",
       "││2020 Aug 1│││2020 aug 1││\n",
       "│└──────────┘│└──────────┘│\n",
       "└────────────┴────────────┘\n",
       "</span>"
      ]
     },
     "execution_count": 17,
     "metadata": {},
     "output_type": "execute_result"
    },
    {
     "data": {
      "text/html": [
       "<span style=\"white-space:pre; font-family: monospace\">┌───────────┐\n",
       "│2020 Août 1│\n",
       "└───────────┘\n",
       "</span>"
      ]
     },
     "execution_count": 17,
     "metadata": {},
     "output_type": "execute_result"
    }
   ],
   "source": [
    "'YYYY MMM D \"at\" h:mm'(1200⌶)1⎕DT⊂2020 8 1 4 30\n",
    "'YYYY Mmm D' 'YYYY mmm D'(1200⌶)¨1⎕DT⊂2020 8 1\n",
    "'__fr__YYYY Mmmm D'(1200⌶)1⎕DT⊂2020 8 1"
   ]
  },
  {
   "cell_type": "markdown",
   "id": "f9c4d0a8",
   "metadata": {},
   "source": [
    "Like `⎕DT`, `1200⌶` has lots of options, including custom languages. Have a look at the [documentation](http://help.dyalog.com/latest/index.htm#Language/I%20Beam%20Functions/Format%20Datetime.htm)."
   ]
  },
  {
   "cell_type": "code",
   "execution_count": null,
   "id": "6af6ecea",
   "metadata": {},
   "outputs": [],
   "source": []
  }
 ],
 "metadata": {
  "kernelspec": {
   "display_name": "Dyalog APL",
   "language": "apl",
   "name": "dyalog-kernel"
  },
  "language_info": {
   "file_extension": ".apl",
   "mimetype": "text/apl",
   "name": "APL"
  }
 },
 "nbformat": 4,
 "nbformat_minor": 5
}
