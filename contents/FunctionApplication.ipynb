{
 "cells": [
  {
   "cell_type": "markdown",
   "id": "5b149fdb",
   "metadata": {},
   "source": [
    "# Function application\n",
    "\n",
    "Some operators apply (to) their operands in intricate ways. How do you get a clearer picture of what they actually do? Let's take outer product `∘.f` as an example. "
   ]
  },
  {
   "cell_type": "code",
   "execution_count": 1,
   "id": "1f7d4238",
   "metadata": {},
   "outputs": [
    {
     "data": {
      "text/html": [
       "<span style=\"white-space:pre; font-family: monospace\">10 20 30  40\n",
       "20 40 60  80\n",
       "30 60 90 120\n",
       "</span>"
      ]
     },
     "execution_count": 1,
     "metadata": {},
     "output_type": "execute_result"
    }
   ],
   "source": [
    "10 20 30∘.×1 2 3 4"
   ]
  },
  {
   "cell_type": "markdown",
   "id": "5b4620bb",
   "metadata": {},
   "source": [
    "Sure, ok, but what actually happened? It may seem simple, but what about: "
   ]
  },
  {
   "cell_type": "code",
   "execution_count": 2,
   "id": "ca2895c8",
   "metadata": {},
   "outputs": [
    {
     "data": {
      "text/html": [
       "<span style=\"white-space:pre; font-family: monospace\"> 10  20  30  40\n",
       " 50  60  70  80\n",
       "\n",
       " 20  40  60  80\n",
       "100 120 140 160\n",
       "\n",
       "\n",
       " 30  60  90 120\n",
       "150 180 210 240\n",
       "\n",
       " 40  80 120 160\n",
       "200 240 280 320\n",
       "\n",
       "\n",
       " 50 100 150 200\n",
       "250 300 350 400\n",
       "\n",
       " 60 120 180 240\n",
       "300 360 420 480\n",
       "</span>"
      ]
     },
     "execution_count": 2,
     "metadata": {},
     "output_type": "execute_result"
    }
   ],
   "source": [
    "(3 2⍴10×⍳6)∘.×(2 4⍴⍳8)"
   ]
  },
  {
   "cell_type": "markdown",
   "id": "263b5202",
   "metadata": {},
   "source": [
    "What exactly got paired up with what? Here's a trick you can use to analyse derived functions, that is both functions modified by operators and all tacit functions in general. Let's replace the function (the operand) with a function which doesn't actually do the computation, but rather tells us what the computation would be: "
   ]
  },
  {
   "cell_type": "code",
   "execution_count": 3,
   "id": "73b7f0e5",
   "metadata": {},
   "outputs": [
    {
     "data": {
      "text/html": [
       "<span style=\"white-space:pre; font-family: monospace\">( 10 20 30 × 1 2 3 )\n",
       "</span>"
      ]
     },
     "execution_count": 3,
     "metadata": {},
     "output_type": "execute_result"
    }
   ],
   "source": [
    "10 20 30{'(',⍺,'×',⍵,')'}1 2 3"
   ]
  },
  {
   "cell_type": "markdown",
   "id": "eb30295b",
   "metadata": {},
   "source": [
    "`×` is scalar. We can model that too: "
   ]
  },
  {
   "cell_type": "code",
   "execution_count": 4,
   "id": "c19dc816",
   "metadata": {},
   "outputs": [
    {
     "data": {
      "text/html": [
       "<span style=\"white-space:pre; font-family: monospace\">┌──────────┬──────────┬──────────┐\n",
       "│( 10 × 1 )│( 20 × 2 )│( 30 × 3 )│\n",
       "└──────────┴──────────┴──────────┘\n",
       "</span>"
      ]
     },
     "execution_count": 4,
     "metadata": {},
     "output_type": "execute_result"
    }
   ],
   "source": [
    "10 20 30{⍺{'(',⍺,'×',⍵,')'}¨⍵}1 2 3"
   ]
  },
  {
   "cell_type": "code",
   "execution_count": 5,
   "id": "883e3448",
   "metadata": {},
   "outputs": [
    {
     "data": {
      "text/html": [
       "<span style=\"white-space:pre; font-family: monospace\">┌────────────┬────────────┬────────────┬────────────┐\n",
       "│┌──────────┐│┌──────────┐│┌──────────┐│┌──────────┐│\n",
       "││( 10 × 1 )│││( 10 × 2 )│││( 10 × 3 )│││( 10 × 4 )││\n",
       "│└──────────┘│└──────────┘│└──────────┘│└──────────┘│\n",
       "├────────────┼────────────┼────────────┼────────────┤\n",
       "│┌──────────┐│┌──────────┐│┌──────────┐│┌──────────┐│\n",
       "││( 10 × 5 )│││( 10 × 6 )│││( 10 × 7 )│││( 10 × 8 )││\n",
       "│└──────────┘│└──────────┘│└──────────┘│└──────────┘│\n",
       "└────────────┴────────────┴────────────┴────────────┘\n",
       "┌────────────┬────────────┬────────────┬────────────┐\n",
       "│┌──────────┐│┌──────────┐│┌──────────┐│┌──────────┐│\n",
       "││( 20 × 1 )│││( 20 × 2 )│││( 20 × 3 )│││( 20 × 4 )││\n",
       "│└──────────┘│└──────────┘│└──────────┘│└──────────┘│\n",
       "├────────────┼────────────┼────────────┼────────────┤\n",
       "│┌──────────┐│┌──────────┐│┌──────────┐│┌──────────┐│\n",
       "││( 20 × 5 )│││( 20 × 6 )│││( 20 × 7 )│││( 20 × 8 )││\n",
       "│└──────────┘│└──────────┘│└──────────┘│└──────────┘│\n",
       "└────────────┴────────────┴────────────┴────────────┘\n",
       "                                                     \n",
       "┌────────────┬────────────┬────────────┬────────────┐\n",
       "│┌──────────┐│┌──────────┐│┌──────────┐│┌──────────┐│\n",
       "││( 30 × 1 )│││( 30 × 2 )│││( 30 × 3 )│││( 30 × 4 )││\n",
       "│└──────────┘│└──────────┘│└──────────┘│└──────────┘│\n",
       "├────────────┼────────────┼────────────┼────────────┤\n",
       "│┌──────────┐│┌──────────┐│┌──────────┐│┌──────────┐│\n",
       "││( 30 × 5 )│││( 30 × 6 )│││( 30 × 7 )│││( 30 × 8 )││\n",
       "│└──────────┘│└──────────┘│└──────────┘│└──────────┘│\n",
       "└────────────┴────────────┴────────────┴────────────┘\n",
       "┌────────────┬────────────┬────────────┬────────────┐\n",
       "│┌──────────┐│┌──────────┐│┌──────────┐│┌──────────┐│\n",
       "││( 40 × 1 )│││( 40 × 2 )│││( 40 × 3 )│││( 40 × 4 )││\n",
       "│└──────────┘│└──────────┘│└──────────┘│└──────────┘│\n",
       "├────────────┼────────────┼────────────┼────────────┤\n",
       "│┌──────────┐│┌──────────┐│┌──────────┐│┌──────────┐│\n",
       "││( 40 × 5 )│││( 40 × 6 )│││( 40 × 7 )│││( 40 × 8 )││\n",
       "│└──────────┘│└──────────┘│└──────────┘│└──────────┘│\n",
       "└────────────┴────────────┴────────────┴────────────┘\n",
       "                                                     \n",
       "┌────────────┬────────────┬────────────┬────────────┐\n",
       "│┌──────────┐│┌──────────┐│┌──────────┐│┌──────────┐│\n",
       "││( 50 × 1 )│││( 50 × 2 )│││( 50 × 3 )│││( 50 × 4 )││\n",
       "│└──────────┘│└──────────┘│└──────────┘│└──────────┘│\n",
       "├────────────┼────────────┼────────────┼────────────┤\n",
       "│┌──────────┐│┌──────────┐│┌──────────┐│┌──────────┐│\n",
       "││( 50 × 5 )│││( 50 × 6 )│││( 50 × 7 )│││( 50 × 8 )││\n",
       "│└──────────┘│└──────────┘│└──────────┘│└──────────┘│\n",
       "└────────────┴────────────┴────────────┴────────────┘\n",
       "┌────────────┬────────────┬────────────┬────────────┐\n",
       "│┌──────────┐│┌──────────┐│┌──────────┐│┌──────────┐│\n",
       "││( 60 × 1 )│││( 60 × 2 )│││( 60 × 3 )│││( 60 × 4 )││\n",
       "│└──────────┘│└──────────┘│└──────────┘│└──────────┘│\n",
       "├────────────┼────────────┼────────────┼────────────┤\n",
       "│┌──────────┐│┌──────────┐│┌──────────┐│┌──────────┐│\n",
       "││( 60 × 5 )│││( 60 × 6 )│││( 60 × 7 )│││( 60 × 8 )││\n",
       "│└──────────┘│└──────────┘│└──────────┘│└──────────┘│\n",
       "└────────────┴────────────┴────────────┴────────────┘\n",
       "</span>"
      ]
     },
     "execution_count": 5,
     "metadata": {},
     "output_type": "execute_result"
    }
   ],
   "source": [
    "(3 2⍴10×⍳6)∘.{⍺{'(',⍺,'×',⍵,')'}¨⍵}(2 4⍴⍳8)"
   ]
  },
  {
   "cell_type": "markdown",
   "id": "c12c3dcf",
   "metadata": {},
   "source": [
    "_Now_ we can see what's going on! Even better if we use indices as arguments: "
   ]
  },
  {
   "cell_type": "code",
   "execution_count": 7,
   "id": "33f29247",
   "metadata": {},
   "outputs": [
    {
     "data": {
      "text/html": [
       "<span style=\"white-space:pre; font-family: monospace\">┌─────────────────┬─────────────────┬─────────────────┬─────────────────┐\n",
       "│┌───────────────┐│┌───────────────┐│┌───────────────┐│┌───────────────┐│\n",
       "││(⍺[1;1]×⍵[1;1])│││(⍺[1;1]×⍵[1;2])│││(⍺[1;1]×⍵[1;3])│││(⍺[1;1]×⍵[1;4])││\n",
       "│└───────────────┘│└───────────────┘│└───────────────┘│└───────────────┘│\n",
       "├─────────────────┼─────────────────┼─────────────────┼─────────────────┤\n",
       "│┌───────────────┐│┌───────────────┐│┌───────────────┐│┌───────────────┐│\n",
       "││(⍺[1;1]×⍵[2;1])│││(⍺[1;1]×⍵[2;2])│││(⍺[1;1]×⍵[2;3])│││(⍺[1;1]×⍵[2;4])││\n",
       "│└───────────────┘│└───────────────┘│└───────────────┘│└───────────────┘│\n",
       "└─────────────────┴─────────────────┴─────────────────┴─────────────────┘\n",
       "┌─────────────────┬─────────────────┬─────────────────┬─────────────────┐\n",
       "│┌───────────────┐│┌───────────────┐│┌───────────────┐│┌───────────────┐│\n",
       "││(⍺[1;2]×⍵[1;1])│││(⍺[1;2]×⍵[1;2])│││(⍺[1;2]×⍵[1;3])│││(⍺[1;2]×⍵[1;4])││\n",
       "│└───────────────┘│└───────────────┘│└───────────────┘│└───────────────┘│\n",
       "├─────────────────┼─────────────────┼─────────────────┼─────────────────┤\n",
       "│┌───────────────┐│┌───────────────┐│┌───────────────┐│┌───────────────┐│\n",
       "││(⍺[1;2]×⍵[2;1])│││(⍺[1;2]×⍵[2;2])│││(⍺[1;2]×⍵[2;3])│││(⍺[1;2]×⍵[2;4])││\n",
       "│└───────────────┘│└───────────────┘│└───────────────┘│└───────────────┘│\n",
       "└─────────────────┴─────────────────┴─────────────────┴─────────────────┘\n",
       "┌─────────────────┬─────────────────┬─────────────────┬─────────────────┐\n",
       "│┌───────────────┐│┌───────────────┐│┌───────────────┐│┌───────────────┐│\n",
       "││(⍺[1;3]×⍵[1;1])│││(⍺[1;3]×⍵[1;2])│││(⍺[1;3]×⍵[1;3])│││(⍺[1;3]×⍵[1;4])││\n",
       "│└───────────────┘│└───────────────┘│└───────────────┘│└───────────────┘│\n",
       "├─────────────────┼─────────────────┼─────────────────┼─────────────────┤\n",
       "│┌───────────────┐│┌───────────────┐│┌───────────────┐│┌───────────────┐│\n",
       "││(⍺[1;3]×⍵[2;1])│││(⍺[1;3]×⍵[2;2])│││(⍺[1;3]×⍵[2;3])│││(⍺[1;3]×⍵[2;4])││\n",
       "│└───────────────┘│└───────────────┘│└───────────────┘│└───────────────┘│\n",
       "└─────────────────┴─────────────────┴─────────────────┴─────────────────┘\n",
       "                                                                         \n",
       "┌─────────────────┬─────────────────┬─────────────────┬─────────────────┐\n",
       "│┌───────────────┐│┌───────────────┐│┌───────────────┐│┌───────────────┐│\n",
       "││(⍺[2;1]×⍵[1;1])│││(⍺[2;1]×⍵[1;2])│││(⍺[2;1]×⍵[1;3])│││(⍺[2;1]×⍵[1;4])││\n",
       "│└───────────────┘│└───────────────┘│└───────────────┘│└───────────────┘│\n",
       "├─────────────────┼─────────────────┼─────────────────┼─────────────────┤\n",
       "│┌───────────────┐│┌───────────────┐│┌───────────────┐│┌───────────────┐│\n",
       "││(⍺[2;1]×⍵[2;1])│││(⍺[2;1]×⍵[2;2])│││(⍺[2;1]×⍵[2;3])│││(⍺[2;1]×⍵[2;4])││\n",
       "│└───────────────┘│└───────────────┘│└───────────────┘│└───────────────┘│\n",
       "└─────────────────┴─────────────────┴─────────────────┴─────────────────┘\n",
       "┌─────────────────┬─────────────────┬─────────────────┬─────────────────┐\n",
       "│┌───────────────┐│┌───────────────┐│┌───────────────┐│┌───────────────┐│\n",
       "││(⍺[2;2]×⍵[1;1])│││(⍺[2;2]×⍵[1;2])│││(⍺[2;2]×⍵[1;3])│││(⍺[2;2]×⍵[1;4])││\n",
       "│└───────────────┘│└───────────────┘│└───────────────┘│└───────────────┘│\n",
       "├─────────────────┼─────────────────┼─────────────────┼─────────────────┤\n",
       "│┌───────────────┐│┌───────────────┐│┌───────────────┐│┌───────────────┐│\n",
       "││(⍺[2;2]×⍵[2;1])│││(⍺[2;2]×⍵[2;2])│││(⍺[2;2]×⍵[2;3])│││(⍺[2;2]×⍵[2;4])││\n",
       "│└───────────────┘│└───────────────┘│└───────────────┘│└───────────────┘│\n",
       "└─────────────────┴─────────────────┴─────────────────┴─────────────────┘\n",
       "┌─────────────────┬─────────────────┬─────────────────┬─────────────────┐\n",
       "│┌───────────────┐│┌───────────────┐│┌───────────────┐│┌───────────────┐│\n",
       "││(⍺[2;3]×⍵[1;1])│││(⍺[2;3]×⍵[1;2])│││(⍺[2;3]×⍵[1;3])│││(⍺[2;3]×⍵[1;4])││\n",
       "│└───────────────┘│└───────────────┘│└───────────────┘│└───────────────┘│\n",
       "├─────────────────┼─────────────────┼─────────────────┼─────────────────┤\n",
       "│┌───────────────┐│┌───────────────┐│┌───────────────┐│┌───────────────┐│\n",
       "││(⍺[2;3]×⍵[2;1])│││(⍺[2;3]×⍵[2;2])│││(⍺[2;3]×⍵[2;3])│││(⍺[2;3]×⍵[2;4])││\n",
       "│└───────────────┘│└───────────────┘│└───────────────┘│└───────────────┘│\n",
       "└─────────────────┴─────────────────┴─────────────────┴─────────────────┘\n",
       "</span>"
      ]
     },
     "execution_count": 7,
     "metadata": {},
     "output_type": "execute_result"
    }
   ],
   "source": [
    "({⊂'⍺[',(⍕1⊃⍵),';',(⍕2⊃⍵),']'}¨⍳2 3)∘.{⍺{'(',⍺,'×',⍵,')'}¨⍵}({⊂'⍵[',(⍕1⊃⍵),';',(⍕2⊃⍵),']'}¨⍳2 4)"
   ]
  },
  {
   "cell_type": "markdown",
   "id": "1865401a",
   "metadata": {},
   "source": [
    "We can make this an \"eXplanation\" operator: "
   ]
  },
  {
   "cell_type": "code",
   "execution_count": 8,
   "id": "34e8cb3e",
   "metadata": {},
   "outputs": [],
   "source": [
    "X←{f←⍺⍺ ⋄ ⍺←⊢ ⋄ '(',⍺,(⎕CR'f'),⍵,')'}"
   ]
  },
  {
   "cell_type": "markdown",
   "id": "18d1a208",
   "metadata": {},
   "source": [
    "How does it work? First it captures its operand `⍺⍺` as `f`, then it makes `⍺` into identity which is a common trick to make ambivalent functions. Finally, it strings together the left arg, the function character representation, and the right arg. "
   ]
  },
  {
   "cell_type": "code",
   "execution_count": 9,
   "id": "86334932",
   "metadata": {},
   "outputs": [
    {
     "data": {
      "text/html": [
       "<span style=\"white-space:pre; font-family: monospace\">┌─────┬─────┬─────┐\n",
       "│(a×D)│(a×E)│(a×F)│\n",
       "├─────┼─────┼─────┤\n",
       "│(b×D)│(b×E)│(b×F)│\n",
       "├─────┼─────┼─────┤\n",
       "│(c×D)│(c×E)│(c×F)│\n",
       "└─────┴─────┴─────┘\n",
       "</span>"
      ]
     },
     "execution_count": 9,
     "metadata": {},
     "output_type": "execute_result"
    }
   ],
   "source": [
    "'abc'∘.(×X)'DEF'"
   ]
  },
  {
   "cell_type": "markdown",
   "id": "aa7530e7",
   "metadata": {},
   "source": [
    "OK, now that we have a grip on `∘.f`, let's look at `f.g`. "
   ]
  },
  {
   "cell_type": "code",
   "execution_count": 10,
   "id": "3109ca55",
   "metadata": {},
   "outputs": [
    {
     "data": {
      "text/html": [
       "<span style=\"white-space:pre; font-family: monospace\">┌─────────────────────┐\n",
       "│((a×D)+((b×E)+(c×F)))│\n",
       "└─────────────────────┘\n",
       "</span>"
      ]
     },
     "execution_count": 10,
     "metadata": {},
     "output_type": "execute_result"
    }
   ],
   "source": [
    "'abc'(+X).(×X)'DEF'"
   ]
  },
  {
   "cell_type": "markdown",
   "id": "b32fa762",
   "metadata": {},
   "source": [
    "The result is enclosed which shows us that if the arguments are vectors (as in this case) then the result is a scalar. What happens with higher-rank arguments?"
   ]
  },
  {
   "cell_type": "code",
   "execution_count": 11,
   "id": "f3a9b5a8",
   "metadata": {},
   "outputs": [
    {
     "data": {
      "text/html": [
       "<span style=\"white-space:pre; font-family: monospace\">┌─────────────────────┬─────────────────────┐\n",
       "│((a×D)+((b×F)+(c×H)))│((a×E)+((b×G)+(c×I)))│\n",
       "└─────────────────────┴─────────────────────┘\n",
       "</span>"
      ]
     },
     "execution_count": 11,
     "metadata": {},
     "output_type": "execute_result"
    }
   ],
   "source": [
    "'abc'(+X).(×X)(3 2⍴'DEFGHI')"
   ]
  },
  {
   "cell_type": "markdown",
   "id": "1bb10497",
   "metadata": {},
   "source": [
    "The left argument was a 3-element vector and the right argument a 3-by-2 matrix. We can see how the left argument cells were distributed to the right argument cells. "
   ]
  },
  {
   "cell_type": "code",
   "execution_count": 12,
   "id": "d9eb5be7",
   "metadata": {},
   "outputs": [
    {
     "data": {
      "text/html": [
       "<span style=\"white-space:pre; font-family: monospace\">┌─────────────────────┬─────────────────────┐\n",
       "│((a×D)+((b×F)+(c×H)))│((a×E)+((b×G)+(c×I)))│\n",
       "├─────────────────────┼─────────────────────┤\n",
       "│((d×D)+((e×F)+(f×H)))│((d×E)+((e×G)+(f×I)))│\n",
       "└─────────────────────┴─────────────────────┘\n",
       "</span>"
      ]
     },
     "execution_count": 12,
     "metadata": {},
     "output_type": "execute_result"
    }
   ],
   "source": [
    "(2 3⍴'abcdef')(+X).(×X)3 2⍴'DEFGHI'"
   ]
  },
  {
   "cell_type": "markdown",
   "id": "80057c6c",
   "metadata": {},
   "source": [
    "OK, now it is getting more interesting. The left arg was `2 3⍴` and the right was `3 2⍴`. The result became `2 2⍴`.\n",
    "In fact, the rule is that `f.g` removes the last axis of the left argument and the first axis of the right argument, so the result has the shape `(¯1↓⍴⍺),(1↓⍴⍵)`. So if the left arg is shape `2 4 3` and the right arg is `3 5 1` the result should be shape `2 4 5 1`:  "
   ]
  },
  {
   "cell_type": "code",
   "execution_count": 13,
   "id": "d09c3dd0",
   "metadata": {},
   "outputs": [
    {
     "data": {
      "text/html": [
       "<span style=\"white-space:pre; font-family: monospace\">2 4 5 1\n",
       "</span>"
      ]
     },
     "execution_count": 13,
     "metadata": {},
     "output_type": "execute_result"
    }
   ],
   "source": [
    "⍴(2 4 3⍴0)+.×(3 5 1⍴0)"
   ]
  },
  {
   "cell_type": "markdown",
   "id": "e55ed663",
   "metadata": {},
   "source": [
    "Let's return to `∘.f` for a moment. What is the rule about the shape of the result of _that_?"
   ]
  },
  {
   "cell_type": "code",
   "execution_count": 14,
   "id": "3090af77",
   "metadata": {},
   "outputs": [
    {
     "data": {
      "text/html": [
       "<span style=\"white-space:pre; font-family: monospace\">2 4 3 3 5 1\n",
       "</span>"
      ]
     },
     "execution_count": 14,
     "metadata": {},
     "output_type": "execute_result"
    }
   ],
   "source": [
    "⍴(2 4 3⍴0)∘.×(3 5 1⍴0)"
   ]
  },
  {
   "cell_type": "markdown",
   "id": "17b30d16",
   "metadata": {},
   "source": [
    "So the shape of `∘.f` is `(⍴⍺),(⍴⍵)`. `∘.f` and `f.g` are definitely related! In fact, Iverson suggested that the slightly anomalous `∘` in `∘.f` be replaced with a number that indicates how many axes to combine. This way `0.f` would be `∘.f`. However, there is a more general alternative: the [rank operator](http://help.dyalog.com/latest/index.htm#Language/Primitive%20Operators/Rank.htm), `⍤`. This powerful operator is one many struggle with. Let's explore it! Let's use a slightly modified version of `X`:"
   ]
  },
  {
   "cell_type": "code",
   "execution_count": 15,
   "id": "343b6c63",
   "metadata": {},
   "outputs": [],
   "source": [
    "X←{f←⍺⍺ ⋄ ⍺←'' ⋄ '(',(⍕⍺(⎕CR'f')⍵),')'}"
   ]
  },
  {
   "cell_type": "code",
   "execution_count": 16,
   "id": "78f6c6c1",
   "metadata": {},
   "outputs": [
    {
     "data": {
      "text/html": [
       "<span style=\"white-space:pre; font-family: monospace\">(   ⊂  ABCD )\n",
       "(      EFGH )\n",
       "(      IJKL )\n",
       "(           )\n",
       "(      MNOP )\n",
       "(      QRST )\n",
       "(      UVWX )\n",
       "</span>"
      ]
     },
     "execution_count": 16,
     "metadata": {},
     "output_type": "execute_result"
    }
   ],
   "source": [
    "(⊂X)2 3 4⍴⎕A"
   ]
  },
  {
   "cell_type": "markdown",
   "id": "982366b4",
   "metadata": {},
   "source": [
    "This just shows enclosing the rank-3 alphabet. "
   ]
  },
  {
   "cell_type": "code",
   "execution_count": 17,
   "id": "fdfd94c7",
   "metadata": {},
   "outputs": [
    {
     "data": {
      "text/html": [
       "<span style=\"white-space:pre; font-family: monospace\">(   ⊂  ABCD )\n",
       "(      EFGH )\n",
       "(      IJKL )\n",
       "\n",
       "(   ⊂  MNOP )\n",
       "(      QRST )\n",
       "(      UVWX )\n",
       "</span>"
      ]
     },
     "execution_count": 17,
     "metadata": {},
     "output_type": "execute_result"
    }
   ],
   "source": [
    "(⊂X)⍤¯1⊢2 3 4⍴⎕A"
   ]
  },
  {
   "cell_type": "markdown",
   "id": "ed2cf6a3",
   "metadata": {},
   "source": [
    "Let's begin with negative rank, which is often what you really want. `f⍤¯N ⊢ B` applies the function to cells of rank `(≢⍴B)-N`. So in this case the array had rank 3, and the function was applied to sub-arrays of rank 3-1, that is 2, that is, matrices."
   ]
  },
  {
   "cell_type": "code",
   "execution_count": 18,
   "id": "35e40637",
   "metadata": {},
   "outputs": [
    {
     "data": {
      "text/html": [
       "<span style=\"white-space:pre; font-family: monospace\">(   ⊂  ABCD )\n",
       "(   ⊂  EFGH )\n",
       "(   ⊂  IJKL )\n",
       "\n",
       "(   ⊂  MNOP )\n",
       "(   ⊂  QRST )\n",
       "(   ⊂  UVWX )\n",
       "</span>"
      ]
     },
     "execution_count": 18,
     "metadata": {},
     "output_type": "execute_result"
    }
   ],
   "source": [
    "(⊂X)⍤¯2⊢2 3 4⍴⎕A"
   ]
  },
  {
   "cell_type": "markdown",
   "id": "ef10e4a1",
   "metadata": {},
   "source": [
    "Here, the function was applied to sub-arrays of rank 3-2, that is 1, i.e. vectors. Now lets try positive rank."
   ]
  },
  {
   "cell_type": "code",
   "execution_count": 19,
   "id": "b20bf6b8",
   "metadata": {},
   "outputs": [
    {
     "data": {
      "text/html": [
       "<span style=\"white-space:pre; font-family: monospace\">(   ⊂  ABCD )\n",
       "(   ⊂  EFGH )\n",
       "(   ⊂  IJKL )\n",
       "\n",
       "(   ⊂  MNOP )\n",
       "(   ⊂  QRST )\n",
       "(   ⊂  UVWX )\n",
       "</span>"
      ]
     },
     "execution_count": 19,
     "metadata": {},
     "output_type": "execute_result"
    }
   ],
   "source": [
    "(⊂X)⍤1⊢2 3 4⍴⎕A"
   ]
  },
  {
   "cell_type": "markdown",
   "id": "85ae0711",
   "metadata": {},
   "source": [
    "`f⍤N` applies the function to sub-arrays of rank `N`. So `f⍤1` digs in until it finds vectors. "
   ]
  },
  {
   "cell_type": "code",
   "execution_count": 20,
   "id": "fc16e2bc",
   "metadata": {},
   "outputs": [
    {
     "data": {
      "text/html": [
       "<span style=\"white-space:pre; font-family: monospace\">(   ⊂  ABCD )\n",
       "(      EFGH )\n",
       "(      IJKL )\n",
       "\n",
       "(   ⊂  MNOP )\n",
       "(      QRST )\n",
       "(      UVWX )\n",
       "</span>"
      ]
     },
     "execution_count": 20,
     "metadata": {},
     "output_type": "execute_result"
    }
   ],
   "source": [
    "(⊂X)⍤2⊢2 3 4⍴⎕A"
   ]
  },
  {
   "cell_type": "markdown",
   "id": "df4cdde1",
   "metadata": {},
   "source": [
    "So, too, does `⍤2` apply the function to matrices. What about `⍤0`? It applies the function to sub-arrays of rank 0, i.e. scalars. `⊂` obviously isn't a useful function on scalars, but some functions are, for example, `∊`. Consider the following nested array: "
   ]
  },
  {
   "cell_type": "code",
   "execution_count": 21,
   "id": "edb40091",
   "metadata": {},
   "outputs": [
    {
     "data": {
      "text/html": [
       "<span style=\"white-space:pre; font-family: monospace\">┌───┬───┐\n",
       "│ABC│AB │\n",
       "│DEF│CD │\n",
       "│   │EF │\n",
       "├───┼───┤\n",
       "│AB │ABC│\n",
       "│CD │DEF│\n",
       "│   │GHI│\n",
       "└───┴───┘\n",
       "</span>"
      ]
     },
     "execution_count": 21,
     "metadata": {},
     "output_type": "execute_result"
    }
   ],
   "source": [
    "m←⎕←2 2⍴(2 3⍴⎕A)(3 2⍴⎕A)(2 2⍴⎕A)(3 3⍴⎕A)"
   ]
  },
  {
   "cell_type": "markdown",
   "id": "a8a1832a",
   "metadata": {},
   "source": [
    "It has four scalars. We can apply `∊` on each scalar:"
   ]
  },
  {
   "cell_type": "code",
   "execution_count": 22,
   "id": "8eca9f45",
   "metadata": {},
   "outputs": [
    {
     "data": {
      "text/html": [
       "<span style=\"white-space:pre; font-family: monospace\">ABCDEF   \n",
       "ABCDEF   \n",
       "\n",
       "ABCD     \n",
       "ABCDEFGHI\n",
       "</span>"
      ]
     },
     "execution_count": 22,
     "metadata": {},
     "output_type": "execute_result"
    }
   ],
   "source": [
    "∊⍤0⊢m"
   ]
  },
  {
   "cell_type": "markdown",
   "id": "125ac0cc",
   "metadata": {},
   "source": [
    "Notice the description: _on each_. In general, `⍤0` is the same as `¨`: "
   ]
  },
  {
   "cell_type": "code",
   "execution_count": 23,
   "id": "24a23aa5",
   "metadata": {},
   "outputs": [
    {
     "data": {
      "text/html": [
       "<span style=\"white-space:pre; font-family: monospace\">┌──────┬─────────┐\n",
       "│ABCDEF│ABCDEF   │\n",
       "├──────┼─────────┤\n",
       "│ABCD  │ABCDEFGHI│\n",
       "└──────┴─────────┘\n",
       "</span>"
      ]
     },
     "execution_count": 23,
     "metadata": {},
     "output_type": "execute_result"
    }
   ],
   "source": [
    "∊¨m"
   ]
  },
  {
   "cell_type": "markdown",
   "id": "168129e5",
   "metadata": {},
   "source": [
    "except that `⍤` \"mixes\" the results while `¨` encloses them."
   ]
  },
  {
   "cell_type": "code",
   "execution_count": 24,
   "id": "1bf27130",
   "metadata": {},
   "outputs": [
    {
     "data": {
      "text/html": [
       "<span style=\"white-space:pre; font-family: monospace\">ABCDEF   \n",
       "ABCDEF   \n",
       "\n",
       "ABCD     \n",
       "ABCDEFGHI\n",
       "</span>"
      ]
     },
     "execution_count": 24,
     "metadata": {},
     "output_type": "execute_result"
    }
   ],
   "source": [
    "↑∊¨m"
   ]
  },
  {
   "cell_type": "code",
   "execution_count": 25,
   "id": "807ebad1",
   "metadata": {},
   "outputs": [
    {
     "data": {
      "text/html": [
       "<span style=\"white-space:pre; font-family: monospace\">┌──────┬─────────┐\n",
       "│ABCDEF│ABCDEF   │\n",
       "├──────┼─────────┤\n",
       "│ABCD  │ABCDEFGHI│\n",
       "└──────┴─────────┘\n",
       "</span>"
      ]
     },
     "execution_count": 25,
     "metadata": {},
     "output_type": "execute_result"
    }
   ],
   "source": [
    "⊂∘∊⍤0⊢m"
   ]
  },
  {
   "cell_type": "markdown",
   "id": "184f11ff",
   "metadata": {},
   "source": [
    "Actually, rank can do more than just that, in a powerful way that `¨` cannot compare to. The derived function can be applied dyadically. "
   ]
  },
  {
   "cell_type": "code",
   "execution_count": 27,
   "id": "a1241fad",
   "metadata": {},
   "outputs": [
    {
     "data": {
      "text/html": [
       "<span style=\"white-space:pre; font-family: monospace\">( abcd  ,  ABCD )\n",
       "( efgh  ,  EFGH )\n",
       "( ijkl  ,  IJKL )\n",
       "\n",
       "( mnop  ,  MNOP )\n",
       "( qrst  ,  QRST )\n",
       "( uvwx  ,  UVWX )\n",
       "</span>"
      ]
     },
     "execution_count": 27,
     "metadata": {},
     "output_type": "execute_result"
    }
   ],
   "source": [
    "(⎕C 2 3 4⍴⎕A)(,X)⍤1⊢2 3 4⍴⎕A"
   ]
  },
  {
   "cell_type": "markdown",
   "id": "47a6469a",
   "metadata": {},
   "source": [
    "Here, we're concatenating the rank-1 sub-arrays of the arguments. Let's use _different_ ranks for the left and right arguments! "
   ]
  },
  {
   "cell_type": "code",
   "execution_count": 28,
   "id": "1dbb42ef",
   "metadata": {},
   "outputs": [
    {
     "data": {
      "text/html": [
       "<span style=\"white-space:pre; font-family: monospace\">( ab  ,  AB )\n",
       "(        CD )\n",
       "\n",
       "( cd  ,  EF )\n",
       "(        GH )\n",
       "</span>"
      ]
     },
     "execution_count": 28,
     "metadata": {},
     "output_type": "execute_result"
    }
   ],
   "source": [
    "(⎕C 2 2⍴⎕A)(,X)⍤1 2⊢2 2 2⍴⎕A"
   ]
  },
  {
   "cell_type": "markdown",
   "id": "99fb2a2c",
   "metadata": {},
   "source": [
    "Here, we are concatenating rank-1 sub-arrays of the left arg with rank-2 sub-arrays of the right arg:"
   ]
  },
  {
   "cell_type": "code",
   "execution_count": 29,
   "id": "f324907a",
   "metadata": {},
   "outputs": [
    {
     "data": {
      "text/html": [
       "<span style=\"white-space:pre; font-family: monospace\">aAB\n",
       "bCD\n",
       "\n",
       "cEF\n",
       "dGH\n",
       "</span>"
      ]
     },
     "execution_count": 29,
     "metadata": {},
     "output_type": "execute_result"
    }
   ],
   "source": [
    "(⎕C 2 2⍴⎕A),⍤1 2⊢2 2 2⍴⎕A"
   ]
  },
  {
   "cell_type": "markdown",
   "id": "1eb372c6",
   "metadata": {},
   "source": [
    "We can express the outer product in terms of rank. "
   ]
  },
  {
   "cell_type": "code",
   "execution_count": 30,
   "id": "27f5fe4b",
   "metadata": {},
   "outputs": [
    {
     "data": {
      "text/html": [
       "<span style=\"white-space:pre; font-family: monospace\">┌───────┬───────┐\n",
       "│(a , A)│(a , B)│\n",
       "├───────┼───────┤\n",
       "│(a , C)│(a , D)│\n",
       "├───────┼───────┤\n",
       "│(a , E)│(a , F)│\n",
       "└───────┴───────┘\n",
       "┌───────┬───────┐\n",
       "│(b , A)│(b , B)│\n",
       "├───────┼───────┤\n",
       "│(b , C)│(b , D)│\n",
       "├───────┼───────┤\n",
       "│(b , E)│(b , F)│\n",
       "└───────┴───────┘\n",
       "                 \n",
       "┌───────┬───────┐\n",
       "│(c , A)│(c , B)│\n",
       "├───────┼───────┤\n",
       "│(c , C)│(c , D)│\n",
       "├───────┼───────┤\n",
       "│(c , E)│(c , F)│\n",
       "└───────┴───────┘\n",
       "┌───────┬───────┐\n",
       "│(d , A)│(d , B)│\n",
       "├───────┼───────┤\n",
       "│(d , C)│(d , D)│\n",
       "├───────┼───────┤\n",
       "│(d , E)│(d , F)│\n",
       "└───────┴───────┘\n",
       "</span>"
      ]
     },
     "execution_count": 30,
     "metadata": {},
     "output_type": "execute_result"
    }
   ],
   "source": [
    "(⎕C 2 2⍴⎕A)∘.(,X)3 2⍴⎕A"
   ]
  },
  {
   "cell_type": "markdown",
   "id": "1cf504e4",
   "metadata": {},
   "source": [
    "Note how each scalar in `⍺` got paired up with the _entire_ `⍵`. In other words, we need the left rank to be 0 and the right rank to be infinite. But since Dyalog APL only allows arrays of up to rank 15, that is enough (15 = ∞ for very small values of ∞).\n",
    "\n",
    "`⍤N` can also take a three-element `N`. That's only useful for ambivalent functions. It then means that if the derived function is applied monadically, it gets applied to sub-arrays of rank `N[1]` and if it is applied dyadically, it is applied to sub-arrays of rank `N[2]` of `⍺` and of `N[3]` of `⍵`. "
   ]
  },
  {
   "cell_type": "code",
   "execution_count": 41,
   "id": "f3748f9b",
   "metadata": {},
   "outputs": [
    {
     "data": {
      "text/html": [
       "<span style=\"white-space:pre; font-family: monospace\">(   ⊂  AB )\n",
       "(   ⊂  CD )\n",
       "</span>"
      ]
     },
     "execution_count": 41,
     "metadata": {},
     "output_type": "execute_result"
    }
   ],
   "source": [
    "(⊂X)⍤1 2 0⊢2 2⍴⎕A"
   ]
  },
  {
   "cell_type": "markdown",
   "id": "7a5c00a5",
   "metadata": {},
   "source": [
    "That is, applies to rank-1 sub-arrays. "
   ]
  },
  {
   "cell_type": "code",
   "execution_count": 42,
   "id": "a2a14670",
   "metadata": {},
   "outputs": [
    {
     "data": {
      "text/html": [
       "<span style=\"white-space:pre; font-family: monospace\">( ab  ⊂ A)\n",
       "( cd     )\n",
       "\n",
       "( ab  ⊂ B)\n",
       "( cd     )\n",
       "\n",
       "\n",
       "( ab  ⊂ C)\n",
       "( cd     )\n",
       "\n",
       "( ab  ⊂ D)\n",
       "( cd     )\n",
       "</span>"
      ]
     },
     "execution_count": 42,
     "metadata": {},
     "output_type": "execute_result"
    }
   ],
   "source": [
    "(⎕C 2 2⍴⎕A)(⊂X)⍤1 2 0⊢2 2⍴⎕A"
   ]
  },
  {
   "cell_type": "markdown",
   "id": "8e90a273",
   "metadata": {},
   "source": [
    "That is, applies to rank-2s of `⍺` (which happens to be the entire array here) and rank-0s of `⍵`.\n",
    "\n",
    "Finally, let's explore how `f∘g` works. Let's again use a slightly modified X: "
   ]
  },
  {
   "cell_type": "code",
   "execution_count": 43,
   "id": "a6a66957",
   "metadata": {},
   "outputs": [],
   "source": [
    "X←{f←⍺⍺ ⋄ ⍺←'' ⋄ ∊'('⍺(⎕CR'f')⍵')'}"
   ]
  },
  {
   "cell_type": "code",
   "execution_count": 44,
   "id": "3c24741e",
   "metadata": {},
   "outputs": [
    {
     "data": {
      "text/html": [
       "<span style=\"white-space:pre; font-family: monospace\">(,(⊂⍵))\n",
       "(⍺,(⊂⍵))\n",
       "</span>"
      ]
     },
     "execution_count": 44,
     "metadata": {},
     "output_type": "execute_result"
    }
   ],
   "source": [
    "(,X)∘(⊂X)'⍵' ⋄ ⎕←'⍺'(,X)∘(⊂X)'⍵'"
   ]
  },
  {
   "cell_type": "markdown",
   "id": "30714d2b",
   "metadata": {},
   "source": [
    "Here is an example of how we can use this to analyse more complex trains, like this CamelCase splitter: "
   ]
  },
  {
   "cell_type": "code",
   "execution_count": 45,
   "id": "ba0a52fe",
   "metadata": {},
   "outputs": [
    {
     "data": {
      "text/html": [
       "<span style=\"white-space:pre; font-family: monospace\">┌─────┬────┬─────┐\n",
       "│Camel│Case│Rocks│\n",
       "└─────┴────┴─────┘\n",
       "</span>"
      ]
     },
     "execution_count": 45,
     "metadata": {},
     "output_type": "execute_result"
    }
   ],
   "source": [
    "(⊢⊂⍨∊∘⎕A)'CamelCaseRocks'"
   ]
  },
  {
   "cell_type": "markdown",
   "id": "36428efd",
   "metadata": {},
   "source": [
    "The `⍨` isn't necessary, but it is in there for illustration purposes."
   ]
  },
  {
   "cell_type": "code",
   "execution_count": 46,
   "id": "838bc194",
   "metadata": {},
   "outputs": [
    {
     "data": {
      "text/html": [
       "<span style=\"white-space:pre; font-family: monospace\">((∊∘ABCDEFGHIJKLMNOPQRSTUVWXYZ⍵)⊂(⊢⍵))\n",
       "</span>"
      ]
     },
     "execution_count": 46,
     "metadata": {},
     "output_type": "execute_result"
    }
   ],
   "source": [
    "(⊢X⊂X⍨∊∘⎕A X)'⍵'"
   ]
  },
  {
   "cell_type": "markdown",
   "id": "6126cf47",
   "metadata": {},
   "source": [
    "So now we can see how `⍨` works and how `⍵` is distributed to the outer functions. Here's an even more complex train, which splits on any number of delimiters:"
   ]
  },
  {
   "cell_type": "code",
   "execution_count": 47,
   "id": "5500b625",
   "metadata": {},
   "outputs": [
    {
     "data": {
      "text/html": [
       "<span style=\"white-space:pre; font-family: monospace\">┌────┬──────────┬──┬───┐\n",
       "│some│delimiters│in│use│\n",
       "└────┴──────────┴──┴───┘\n",
       "</span>"
      ]
     },
     "execution_count": 47,
     "metadata": {},
     "output_type": "execute_result"
    }
   ],
   "source": [
    "' ,;'(⊢⊆⍨∘~∊⍨)'some delimiters;in,use'"
   ]
  },
  {
   "cell_type": "code",
   "execution_count": 48,
   "id": "d0473094",
   "metadata": {},
   "outputs": [
    {
     "data": {
      "text/html": [
       "<span style=\"white-space:pre; font-family: monospace\">((~(⍵∊⍺))⊆(⍺⊢⍵))\n",
       "</span>"
      ]
     },
     "execution_count": 48,
     "metadata": {},
     "output_type": "execute_result"
    }
   ],
   "source": [
    "'⍺'((⊢X)(⊆X)⍨∘(~X)(∊X)⍨)'⍵'"
   ]
  },
  {
   "cell_type": "markdown",
   "id": "5ebea7da",
   "metadata": {},
   "source": [
    "Now we just have to note the obvious that `⍺⊢⍵` is `⍵`. This should also explain why `⊣` and `⊢` can get you the arguments when in a train. "
   ]
  },
  {
   "cell_type": "code",
   "execution_count": null,
   "id": "692c713b",
   "metadata": {},
   "outputs": [],
   "source": []
  }
 ],
 "metadata": {
  "kernelspec": {
   "display_name": "Dyalog APL",
   "language": "apl",
   "name": "dyalog-kernel"
  },
  "language_info": {
   "file_extension": ".apl",
   "mimetype": "text/apl",
   "name": "APL"
  }
 },
 "nbformat": 4,
 "nbformat_minor": 5
}
