{
 "cells": [
  {
   "cell_type": "markdown",
   "id": "a00f5ec8",
   "metadata": {},
   "source": [
    "# Primitive operators\n",
    "\n",
    "Operators take _operands_, which may be functions, and derive a function. You can think of APL's operators as higher-order functions.\n",
    "\n",
    "## Reduce `/` `⌿`\n",
    "\n",
    "The first operator is `/`, called [reduce](https://help.dyalog.com/latest/#Language/Primitive%20Operators/Reduce.htm). It is a monadic operator which derives an ambivalent function. An ambivalent function is one which can be called either monadically or dyadically. For example, `-` is ambivalent. Monadically, it is negate; dyadically, it is subtraction.\n",
    "\n",
    "`+/` is a derived ambivalent function. The monadic function is plus-reduction (i.e. sum) and the dyadic function is windowed sum, as in sliding windows of size `⍺` (shorthand for \"left argument\")."
   ]
  },
  {
   "cell_type": "code",
   "execution_count": 1,
   "id": "fbbbe28c",
   "metadata": {},
   "outputs": [
    {
     "data": {
      "text/html": [
       "<span style=\"white-space:pre; font-family: monospace\">14\n",
       "</span>"
      ]
     },
     "execution_count": 1,
     "metadata": {},
     "output_type": "execute_result"
    },
    {
     "data": {
      "text/html": [
       "<span style=\"white-space:pre; font-family: monospace\">4 5 5 6\n",
       "</span>"
      ]
     },
     "execution_count": 1,
     "metadata": {},
     "output_type": "execute_result"
    },
    {
     "data": {
      "text/html": [
       "<span style=\"white-space:pre; font-family: monospace\">8 6 10\n",
       "</span>"
      ]
     },
     "execution_count": 1,
     "metadata": {},
     "output_type": "execute_result"
    }
   ],
   "source": [
    "+/3 1 4 1 5\n",
    "2 +/ 3 1 4 1 5\n",
    "3 +/ 3 1 4 1 5 "
   ]
  },
  {
   "cell_type": "markdown",
   "id": "f06bb619",
   "metadata": {},
   "source": [
    "Question:\n",
    "> What does `3-/` do? Subtraction isn't associative. "
   ]
  },
  {
   "cell_type": "code",
   "execution_count": 2,
   "id": "036bae6e",
   "metadata": {},
   "outputs": [
    {
     "data": {
      "text/html": [
       "<span style=\"white-space:pre; font-family: monospace\">2 3 4\n",
       "</span>"
      ]
     },
     "execution_count": 2,
     "metadata": {},
     "output_type": "execute_result"
    }
   ],
   "source": [
    "3-/ 1 2 3 4 5"
   ]
  },
  {
   "cell_type": "markdown",
   "id": "6da958f1",
   "metadata": {},
   "source": [
    "As functions in APL are right-associative, `-/⍵` (this is a shorthand which means the monadic form of `-/`) is alternating sum. "
   ]
  },
  {
   "cell_type": "code",
   "execution_count": 3,
   "id": "60d579ed",
   "metadata": {},
   "outputs": [
    {
     "data": {
      "text/html": [
       "<span style=\"white-space:pre; font-family: monospace\">2\n",
       "</span>"
      ]
     },
     "execution_count": 3,
     "metadata": {},
     "output_type": "execute_result"
    }
   ],
   "source": [
    "1 - (2 - 3)"
   ]
  },
  {
   "cell_type": "markdown",
   "id": "1d2b915a",
   "metadata": {},
   "source": [
    "`f/⍵` is called _reduce_ because it reduces the rank of its argument by 1. For example, if we apply it to a matrix, we'll get back a vector, even if the function we provide does not \"combine\" its arguments. "
   ]
  },
  {
   "cell_type": "code",
   "execution_count": 4,
   "id": "bd4a64a8",
   "metadata": {},
   "outputs": [
    {
     "data": {
      "text/html": [
       "<span style=\"white-space:pre; font-family: monospace\">┌─────────────┐\n",
       "│(H(e(l(lo))))│\n",
       "└─────────────┘\n",
       "</span>"
      ]
     },
     "execution_count": 4,
     "metadata": {},
     "output_type": "execute_result"
    }
   ],
   "source": [
    "{'(',⍺,⍵,')'}/'Hello'"
   ]
  },
  {
   "cell_type": "markdown",
   "id": "cd4638ca",
   "metadata": {},
   "source": [
    "Here, the function we gave concatenates its arguments and parentheses. With output boxing turned on, it is clear to see that there is a space in front of the leftmost `(`. Without output boxing, that space is still there, but you may have to look a bit more carefully in order to notice it. This is APLs way to indicate that the array (a character vector) is enclosed. In other words, it returned `⊂'(H(e(l(lo))))'`."
   ]
  },
  {
   "cell_type": "code",
   "execution_count": 5,
   "id": "dfafb7f1",
   "metadata": {},
   "outputs": [
    {
     "data": {
      "text/html": [
       "<span style=\"white-space:pre; font-family: monospace\">1\n",
       "</span>"
      ]
     },
     "execution_count": 5,
     "metadata": {},
     "output_type": "execute_result"
    }
   ],
   "source": [
    "(⊂'(H(e(l(lo))))') ≡ {'(',⍺,⍵,')'}/'Hello'"
   ]
  },
  {
   "cell_type": "markdown",
   "id": "552dd221",
   "metadata": {},
   "source": [
    "We can also apply reductions to higher-rank arrays:"
   ]
  },
  {
   "cell_type": "code",
   "execution_count": 6,
   "id": "2f47dc6c",
   "metadata": {},
   "outputs": [
    {
     "data": {
      "text/html": [
       "<span style=\"white-space:pre; font-family: monospace\">1  2  3  4\n",
       "5  6  7  8\n",
       "9 10 11 12\n",
       "</span>"
      ]
     },
     "execution_count": 6,
     "metadata": {},
     "output_type": "execute_result"
    },
    {
     "data": {
      "text/html": [
       "<span style=\"white-space:pre; font-family: monospace\">10 26 42\n",
       "</span>"
      ]
     },
     "execution_count": 6,
     "metadata": {},
     "output_type": "execute_result"
    }
   ],
   "source": [
    "3 4⍴⍳12\n",
    "+/3 4⍴⍳12"
   ]
  },
  {
   "cell_type": "markdown",
   "id": "abcec314",
   "metadata": {},
   "source": [
    "Notice how the rank went down from 2 to 1 (i.e. matrix to vector). Reductions lower the rank. `N f/` is called N-wise reduce, and does not lower the rank. Notice that `/` goes along the trailing axis, i.e. the it reduced the rows of the matrix. It has a twin, `⌿`, which goes along the first axis, i.e. the columns of a matrix. "
   ]
  },
  {
   "cell_type": "code",
   "execution_count": 7,
   "id": "dc6b1e5e",
   "metadata": {},
   "outputs": [
    {
     "data": {
      "text/html": [
       "<span style=\"white-space:pre; font-family: monospace\">15 18 21 24\n",
       "</span>"
      ]
     },
     "execution_count": 7,
     "metadata": {},
     "output_type": "execute_result"
    }
   ],
   "source": [
    "+⌿3 4⍴⍳12 "
   ]
  },
  {
   "cell_type": "markdown",
   "id": "b42ed942",
   "metadata": {},
   "source": [
    "If you have higher-rank arrays, you can reduce along any axis with a bracket axis specification:"
   ]
  },
  {
   "cell_type": "code",
   "execution_count": 8,
   "id": "26ce4fbc",
   "metadata": {},
   "outputs": [
    {
     "data": {
      "text/html": [
       "<span style=\"white-space:pre; font-family: monospace\"> 1  2  3  4\n",
       " 5  6  7  8\n",
       " 9 10 11 12\n",
       "\n",
       "13 14 15 16\n",
       "17 18 19 20\n",
       "21 22 23 24\n",
       "</span>"
      ]
     },
     "execution_count": 8,
     "metadata": {},
     "output_type": "execute_result"
    },
    {
     "data": {
      "text/html": [
       "<span style=\"white-space:pre; font-family: monospace\">┌───────────┬───────────┬────────┐\n",
       "│14 16 18 20│15 18 21 24│10 26 42│\n",
       "│22 24 26 28│51 54 57 60│58 74 90│\n",
       "│30 32 34 36│           │        │\n",
       "└───────────┴───────────┴────────┘\n",
       "</span>"
      ]
     },
     "execution_count": 8,
     "metadata": {},
     "output_type": "execute_result"
    }
   ],
   "source": [
    "2 3 4⍴⍳24\n",
    "(+⌿2 3 4⍴⍳24)(+/[2]2 3 4⍴⍳24)(+/2 3 4⍴⍳24)"
   ]
  },
  {
   "cell_type": "markdown",
   "id": "8469f317",
   "metadata": {},
   "source": [
    "Note that `f/[1]` is the same thing as `f⌿`.\n",
    "\n",
    "## Scan `\\`  `⍀`\n",
    "\n",
    "While `/` is reduction, `\\` is cumulative reduction, known as [scan](http://help.dyalog.com/latest/index.htm#Language/Primitive%20Operators/Scan.htm):"
   ]
  },
  {
   "cell_type": "code",
   "execution_count": 9,
   "id": "e2f9d943",
   "metadata": {},
   "outputs": [
    {
     "data": {
      "text/html": [
       "<span style=\"white-space:pre; font-family: monospace\">3 4 8 9 14\n",
       "</span>"
      ]
     },
     "execution_count": 9,
     "metadata": {},
     "output_type": "execute_result"
    }
   ],
   "source": [
    "+\\3 1 4 1 5"
   ]
  },
  {
   "cell_type": "markdown",
   "id": "43e86f1c",
   "metadata": {},
   "source": [
    "`/`'s cousin `\\` of course has a twin, too; `⍀`, behaving analogously."
   ]
  },
  {
   "cell_type": "markdown",
   "id": "7061917e",
   "metadata": {},
   "source": [
    "## Each `¨`"
   ]
  },
  {
   "cell_type": "markdown",
   "id": "4a4f176b",
   "metadata": {},
   "source": [
    "The next operator is `¨` which is called [each](http://help.dyalog.com/latest/index.htm#Language/Primitive%20Operators/Each%20with%20Monadic%20Operand.htm) for a good reason. `f¨⍵` applies the function `f` monadically to each element of `⍵`. `⍺ f¨ ⍵` applies `f` between the paired-up elements of `⍺` and `⍵`. "
   ]
  },
  {
   "cell_type": "code",
   "execution_count": 10,
   "id": "6745ea44",
   "metadata": {},
   "outputs": [
    {
     "data": {
      "text/html": [
       "<span style=\"white-space:pre; font-family: monospace\">1 2 3 4 5 6\n",
       "</span>"
      ]
     },
     "execution_count": 10,
     "metadata": {},
     "output_type": "execute_result"
    },
    {
     "data": {
      "text/html": [
       "<span style=\"white-space:pre; font-family: monospace\">┌───┬───┬───┐\n",
       "│1 4│2 5│3 6│\n",
       "└───┴───┴───┘\n",
       "</span>"
      ]
     },
     "execution_count": 10,
     "metadata": {},
     "output_type": "execute_result"
    },
    {
     "data": {
      "text/html": [
       "<span style=\"white-space:pre; font-family: monospace\">┌───────┬───────┬─────┐\n",
       "│1 10 20│2 30 40│3 5 6│\n",
       "└───────┴───────┴─────┘\n",
       "</span>"
      ]
     },
     "execution_count": 10,
     "metadata": {},
     "output_type": "execute_result"
    }
   ],
   "source": [
    "1 2 3 , 4 5 6 \n",
    "1 2 3 ,¨ 4 5 6\n",
    "1 2 3 ,¨ (10 20)(30 40)(5 6) "
   ]
  },
  {
   "cell_type": "markdown",
   "id": "92b2f4ac",
   "metadata": {},
   "source": [
    "Most arithmetic functions are \"scalar\" meaning they penetrate to the very leaves of the arrays. `¨` is meaningless for scalar functions. "
   ]
  },
  {
   "cell_type": "code",
   "execution_count": 11,
   "id": "c1f6f92e",
   "metadata": {},
   "outputs": [
    {
     "data": {
      "text/html": [
       "<span style=\"white-space:pre; font-family: monospace\">6 4 7 4 8 12 5 9 8\n",
       "</span>"
      ]
     },
     "execution_count": 11,
     "metadata": {},
     "output_type": "execute_result"
    },
    {
     "data": {
      "text/html": [
       "<span style=\"white-space:pre; font-family: monospace\">6 4 7 4 8 12 5 9 8\n",
       "</span>"
      ]
     },
     "execution_count": 11,
     "metadata": {},
     "output_type": "execute_result"
    }
   ],
   "source": [
    "3+¨3 1 4 1 5 9 2 6 5  ⍝ works; but pointless\n",
    "3+3 1 4 1 5 9 2 6 5   ⍝ scalar function + is pervasive"
   ]
  },
  {
   "cell_type": "markdown",
   "id": "0a9e33e5",
   "metadata": {},
   "source": [
    "## Power `⍣`"
   ]
  },
  {
   "cell_type": "markdown",
   "id": "bfa70f3c",
   "metadata": {},
   "source": [
    "`⍣` is the [power](http://help.dyalog.com/latest/index.htm#Language/Primitive%20Operators/Power%20Operator.htm) operator. `f⍣n` applies the function `f` n times. "
   ]
  },
  {
   "cell_type": "code",
   "execution_count": 12,
   "id": "7a0735a8",
   "metadata": {},
   "outputs": [
    {
     "data": {
      "text/html": [
       "<span style=\"white-space:pre; font-family: monospace\">6\n",
       "</span>"
      ]
     },
     "execution_count": 12,
     "metadata": {},
     "output_type": "execute_result"
    },
    {
     "data": {
      "text/html": [
       "<span style=\"white-space:pre; font-family: monospace\">12\n",
       "</span>"
      ]
     },
     "execution_count": 12,
     "metadata": {},
     "output_type": "execute_result"
    },
    {
     "data": {
      "text/html": [
       "<span style=\"white-space:pre; font-family: monospace\">24\n",
       "</span>"
      ]
     },
     "execution_count": 12,
     "metadata": {},
     "output_type": "execute_result"
    },
    {
     "data": {
      "text/html": [
       "<span style=\"white-space:pre; font-family: monospace\">24\n",
       "</span>"
      ]
     },
     "execution_count": 12,
     "metadata": {},
     "output_type": "execute_result"
    }
   ],
   "source": [
    "2×3\n",
    "2×2×3\n",
    "2×2×2×3\n",
    "2(×⍣3)3"
   ]
  },
  {
   "cell_type": "markdown",
   "id": "bb1f41bc",
   "metadata": {},
   "source": [
    "It did the multiplication 3 times. We need parentheses here to separate the two 3s to make sure the two 3s don't strand into a single array. Note that `⍺ (f⍣n) ⍵` is defined as `(⍺∘f⍣n) ⍵`. In the case above, `⍺ (×⍣3) ⍵` therefore is `⍺ × ⍺ × ⍺ × ⍵`. Operators are never ambivalent. Their derived functions can be, but they are either monadic or dyadic. `⍣` is dyadic. `/` and `¨` are monadic. The result of `×⍣3` is a new function which takes arrays as arguments.\n",
    "\n",
    "`f⍣≡` is the fixpoint of `f`. "
   ]
  },
  {
   "cell_type": "code",
   "execution_count": 1,
   "id": "66a4eb2c",
   "metadata": {},
   "outputs": [
    {
     "data": {
      "text/html": [
       "<span style=\"white-space:pre; font-family: monospace\">\n",
       "Rebuilding user command cache... \n",
       "done\n",
       "\n",
       "Rebuilding user command cache... \n",
       "done\n",
       "</span>"
      ]
     },
     "execution_count": 1,
     "metadata": {},
     "output_type": "execute_result"
    },
    {
     "data": {
      "text/html": [
       "<span style=\"white-space:pre; font-family: monospace\">0\n",
       "</span>"
      ]
     },
     "execution_count": 1,
     "metadata": {},
     "output_type": "execute_result"
    }
   ],
   "source": [
    "0.5×⍣≡1"
   ]
  },
  {
   "cell_type": "markdown",
   "id": "d1d84c69",
   "metadata": {},
   "source": [
    "If you keep halving 1 you end up with 0. `0.5×⍣≡` means keep multiplying 0.5 with the argument until it stops changing. The power operator can take a custom right function operator, too. See the [documentation](http://help.dyalog.com/latest/index.htm#Language/Primitive%20Operators/Power%20Operator.htm).\n",
    "\n",
    "## Commute `f ⍨`\n",
    "\n",
    "[Commute](http://help.dyalog.com/latest/index.htm#Language/Primitive%20Operators/Commute.htm), `⍨`, is a monadic operator taking a dyadic function and deriving an ambivalent function. `⍺ f⍨ ⍵` is `⍵ f ⍺`. `f⍨ ⍵` is `⍵ f ⍵`. We sometimes informally refer to `⍨` as \"selfie\" when the derived function is used monadically, because that's what it does, and it looks like a selfie (photo) too. `⍨` seems very simple, but it has some neat applications. Monadic `+⍨` is double. Monadic `×⍨` is square. "
   ]
  },
  {
   "cell_type": "markdown",
   "id": "941fca33",
   "metadata": {},
   "source": [
    "## Constant `A ⍨`"
   ]
  },
  {
   "cell_type": "markdown",
   "id": "5e63a4f8",
   "metadata": {},
   "source": [
    "With an array operator, `⍨` is [constant](https://help.dyalog.com/latest/#Language/Primitive%20Operators/Constant.htm). It always returns the operator array. It might not be immediately obvious when this is useful. Consider the following examples:"
   ]
  },
  {
   "cell_type": "code",
   "execution_count": 3,
   "id": "74143c30",
   "metadata": {},
   "outputs": [
    {
     "data": {
      "text/html": [
       "<span style=\"white-space:pre; font-family: monospace\">¯1 2 ¯3\n",
       "</span>"
      ]
     },
     "execution_count": 3,
     "metadata": {},
     "output_type": "execute_result"
    }
   ],
   "source": [
    "neg←{-@(⍺⍨)⍵}\n",
    "1 0 1 neg ⍳3"
   ]
  },
  {
   "cell_type": "markdown",
   "id": "176cc681",
   "metadata": {},
   "source": [
    "Here we have a function that uses a Boolean left argument to indicate where to apply negation in the right argument. Whilst it's certainly possible to achieve this without _constant_, it'd be a bit more cumbersome, for example:"
   ]
  },
  {
   "cell_type": "code",
   "execution_count": 6,
   "id": "33dee63a",
   "metadata": {},
   "outputs": [
    {
     "data": {
      "text/html": [
       "<span style=\"white-space:pre; font-family: monospace\">¯1 2 ¯3\n",
       "</span>"
      ]
     },
     "execution_count": 6,
     "metadata": {},
     "output_type": "execute_result"
    }
   ],
   "source": [
    "1 0 1 {a←⍺⋄-@{a}⍵} ⍳3"
   ]
  },
  {
   "cell_type": "markdown",
   "id": "579b6175",
   "metadata": {},
   "source": [
    "We could use `⍸` to expand the left argument into indices, but that introduces an unnecessary inefficiency we avoid when using _constant_:"
   ]
  },
  {
   "cell_type": "code",
   "execution_count": 15,
   "id": "2098b60b",
   "metadata": {},
   "outputs": [
    {
     "data": {
      "text/html": [
       "<span style=\"white-space:pre; font-family: monospace\">¯1 2 ¯3\n",
       "</span>"
      ]
     },
     "execution_count": 15,
     "metadata": {},
     "output_type": "execute_result"
    }
   ],
   "source": [
    "1 0 1 {-@(⍸⍺)⊢⍵} ⍳3"
   ]
  },
  {
   "cell_type": "markdown",
   "id": "59c76d6a",
   "metadata": {},
   "source": [
    "Another usecase is when you want to use one array's structure as a model, but use a particular element instead:"
   ]
  },
  {
   "cell_type": "code",
   "execution_count": 18,
   "id": "7ae9a741",
   "metadata": {},
   "outputs": [
    {
     "data": {
      "text/html": [
       "<span style=\"white-space:pre; font-family: monospace\">3 3 3 3 3 3 3 3 3 3 3 3 3 3 3 3\n",
       "</span>"
      ]
     },
     "execution_count": 18,
     "metadata": {},
     "output_type": "execute_result"
    }
   ],
   "source": [
    "(?3)⍨¨'this is a string'"
   ]
  },
  {
   "cell_type": "markdown",
   "id": "72150bee",
   "metadata": {},
   "source": [
    "The alternatives, again, tend to be either more cumbersome, or inefficient"
   ]
  },
  {
   "cell_type": "code",
   "execution_count": 22,
   "id": "f4ad43c7",
   "metadata": {},
   "outputs": [
    {
     "data": {
      "text/html": [
       "<span style=\"white-space:pre; font-family: monospace\">1 1 1 1 1 1 1 1 1 1 1 1 1 1 1 1\n",
       "</span>"
      ]
     },
     "execution_count": 22,
     "metadata": {},
     "output_type": "execute_result"
    }
   ],
   "source": [
    "(⍴'this is a string')⍴?3"
   ]
  },
  {
   "cell_type": "markdown",
   "id": "6841cc6c",
   "metadata": {},
   "source": [
    "Note that we can't do"
   ]
  },
  {
   "cell_type": "code",
   "execution_count": 21,
   "id": "779b617e",
   "metadata": {},
   "outputs": [
    {
     "data": {
      "text/html": [
       "<span style=\"white-space:pre; font-family: monospace\">2 2 1 2 2 1 2 2 2 1 1 2 1 2 3 3\n",
       "</span>"
      ]
     },
     "execution_count": 21,
     "metadata": {},
     "output_type": "execute_result"
    }
   ],
   "source": [
    "{?3}¨'this is a string'  ⍝ Not the same thing!"
   ]
  },
  {
   "cell_type": "markdown",
   "id": "7b22ae58",
   "metadata": {},
   "source": [
    "## Beside/atop `∘`\n",
    "\n",
    "The [Beside](http://help.dyalog.com/latest/index.htm#Language/Primitive%20Operators/Beside.htm) operator, `∘`.  `∘` comes from function composition, like how `f(g(x))` can be written `f∘g(x)` in mathematics. So, too, in APL, if `f` and `g` are functions, then `f∘g x` is the same as `f g x` (APL doesn't need parentheses for function application). This alone is, of course, not very interesting. However, APL also has dyadic (infix) functions: `A f∘g B` is `A f g B`.\n",
    "\n",
    "Both of these are very important when writing tacit APL code. For example, if we want to write a function which adds its left argument to the reciprocal (monadic `÷`) of its right argument, it can be written as `f ← +∘÷`. \n",
    "\n",
    "The golden ratio (phi) can be calculated with the continued fraction\n",
    "\n",
    "$\\Large \\phi = 1 + \\frac{1}{1+\\frac{1}{1+\\frac{1}{1+\\frac{1}{\\ddots}}}}$\n",
    "\n",
    "So $\\phi$ is `1+÷1+÷1+÷…`. We can insert the same function between elements of a list with the `/` operator, for example,  "
   ]
  },
  {
   "cell_type": "code",
   "execution_count": 6,
   "id": "16ba7d4f",
   "metadata": {},
   "outputs": [
    {
     "data": {
      "text/html": [
       "<span style=\"white-space:pre; font-family: monospace\">7\n",
       "</span>"
      ]
     },
     "execution_count": 6,
     "metadata": {},
     "output_type": "execute_result"
    }
   ],
   "source": [
    "+/1 1 2 3 "
   ]
  },
  {
   "cell_type": "markdown",
   "id": "e0e875aa",
   "metadata": {},
   "source": [
    "In our case, we want to insert `…+÷…`, but that isn't a single function. However, we can use `+∘÷`: "
   ]
  },
  {
   "cell_type": "code",
   "execution_count": 7,
   "id": "3ccb6d8e",
   "metadata": {},
   "outputs": [
    {
     "data": {
      "text/html": [
       "<span style=\"white-space:pre; font-family: monospace\">1.618181818181818181818181818181818\n",
       "</span>"
      ]
     },
     "execution_count": 7,
     "metadata": {},
     "output_type": "execute_result"
    }
   ],
   "source": [
    "+∘÷/1 1 1 1 1 1 1 1 1 1"
   ]
  },
  {
   "cell_type": "markdown",
   "id": "2f227d38",
   "metadata": {},
   "source": [
    "`X⍴Y` reshapes `Y` into shape `X`:"
   ]
  },
  {
   "cell_type": "code",
   "execution_count": 11,
   "id": "651edb33",
   "metadata": {},
   "outputs": [
    {
     "data": {
      "text/html": [
       "<span style=\"white-space:pre; font-family: monospace\">1.618033988749894848204586834365638\n",
       "</span>"
      ]
     },
     "execution_count": 11,
     "metadata": {},
     "output_type": "execute_result"
    }
   ],
   "source": [
    "+∘÷/1000⍴1  ⍝ A good approximation of phi."
   ]
  },
  {
   "cell_type": "markdown",
   "id": "f0ed8857",
   "metadata": {},
   "source": [
    "`∘` also allows you to compose with argumnents. `g←f∘A` where `f` is a dyadic function and `A` an array (any data) gives `g`, a new monadic function which calculates `x f A`. Similarly, `g←A∘f` makes `g` a function which calculates `A f x`.\n",
    "\n",
    "For _operators_ you can \"curry\" their right operand. So `WithTwo←∘2` is a new monadic operator which can in turn modify a dyadic function to become monadic (using 2 as its right argument). For example, `+ WithTwo 3` will give 5. "
   ]
  },
  {
   "cell_type": "code",
   "execution_count": 14,
   "id": "e88dbff1",
   "metadata": {},
   "outputs": [
    {
     "data": {
      "text/html": [
       "<span style=\"white-space:pre; font-family: monospace\">5\n",
       "</span>"
      ]
     },
     "execution_count": 14,
     "metadata": {},
     "output_type": "execute_result"
    }
   ],
   "source": [
    "WithTwo←∘2\n",
    "+ WithTwo 3"
   ]
  },
  {
   "cell_type": "markdown",
   "id": "80e93060",
   "metadata": {},
   "source": [
    "This is especially useful with the `f⍣n` [power operator](http://help.dyalog.com/latest/index.htm#Language/Primitive%20Operators/Power%20Operator.htm) which applies its `f` operand function `n` times. `twice←⍣2` is an operator which applies a function twice. For example, `2+twice 3` is 7. "
   ]
  },
  {
   "cell_type": "code",
   "execution_count": 15,
   "id": "4569ae04",
   "metadata": {},
   "outputs": [
    {
     "data": {
      "text/html": [
       "<span style=\"white-space:pre; font-family: monospace\">7\n",
       "</span>"
      ]
     },
     "execution_count": 15,
     "metadata": {},
     "output_type": "execute_result"
    }
   ],
   "source": [
    "twice←⍣2\n",
    "2+twice 3"
   ]
  },
  {
   "cell_type": "markdown",
   "id": "7423fd7f",
   "metadata": {},
   "source": [
    "`inv←⍣¯1` is an operator which will apply a function -1 times, i.e. applies the inverse of that function. \n",
    "\n",
    "Question:\n",
    "> Do all functions have inverses?\n",
    "\n",
    "No, but surprisingly many do. If you derive new functions tacitly using only operators and invertible functions, then the resulting function can also (generally) be inverted automatically. Even structural functions can be inverted: "
   ]
  },
  {
   "cell_type": "code",
   "execution_count": 16,
   "id": "451ddb58",
   "metadata": {},
   "outputs": [
    {
     "data": {
      "text/html": [
       "<span style=\"white-space:pre; font-family: monospace\">abc\n",
       "</span>"
      ]
     },
     "execution_count": 16,
     "metadata": {},
     "output_type": "execute_result"
    }
   ],
   "source": [
    "('x'∘,⍣¯1) 'x'∘, 'abc' "
   ]
  },
  {
   "cell_type": "markdown",
   "id": "1e2d55d4",
   "metadata": {},
   "source": [
    "So what happened there is that we applied the function `'x'∘`, which prepends the letter `x`, and then we applied its inverse, which removes an `x` from the left side. The specific function `'x'∘`, is not hardcoded. Instead the interpreter has a bunch of rules which lets it determine the inverse of various compositions."
   ]
  },
  {
   "cell_type": "markdown",
   "id": "f2e827c8",
   "metadata": {},
   "source": [
    "That's really all there is to say about `∘`. However, a warning is in place: `(f g)Y` is the same as `f∘g Y` which may fool you into thinking that `X(f g)Y` is the same as `X f∘g Y`. However, they are not the same!\n",
    "\n",
    "A nice golfing trick using `∘` is having the left operand be `⊢`. This allows using a monadic function on the right argument while ignoring the left argument. "
   ]
  },
  {
   "cell_type": "markdown",
   "id": "bd38a577",
   "metadata": {},
   "source": [
    "## At `@`"
   ]
  },
  {
   "cell_type": "markdown",
   "id": "147452d5",
   "metadata": {},
   "source": [
    "The [at](https://help.dyalog.com/latest/#Language/Primitive%20Operators/At.htm) operator, `@`, does exactly what it says. What's on its left gets done at the position indicated by its right operand."
   ]
  },
  {
   "cell_type": "code",
   "execution_count": 12,
   "id": "0729cab8",
   "metadata": {},
   "outputs": [
    {
     "data": {
      "text/html": [
       "<span style=\"white-space:pre; font-family: monospace\">HXllX\n",
       "</span>"
      ]
     },
     "execution_count": 12,
     "metadata": {},
     "output_type": "execute_result"
    }
   ],
   "source": [
    "('X'@2 5) 'Hello'"
   ]
  },
  {
   "cell_type": "markdown",
   "id": "fde5f59d",
   "metadata": {},
   "source": [
    "So we put an `X` at positions 2 and 5 (APL is 1-indexed by default – you can change to 0-indexing if you want). We can also give an array which matches the selected elements:"
   ]
  },
  {
   "cell_type": "code",
   "execution_count": 13,
   "id": "53cc87e0",
   "metadata": {},
   "outputs": [
    {
     "data": {
      "text/html": [
       "<span style=\"white-space:pre; font-family: monospace\">HXllY\n",
       "</span>"
      ]
     },
     "execution_count": 13,
     "metadata": {},
     "output_type": "execute_result"
    }
   ],
   "source": [
    "('XY'@2 5) 'Hello'"
   ]
  },
  {
   "cell_type": "markdown",
   "id": "9974583d",
   "metadata": {},
   "source": [
    "So far, we've only used `@` to substitute elements. We can also use it to modify them: "
   ]
  },
  {
   "cell_type": "code",
   "execution_count": 17,
   "id": "9b4ec8cb",
   "metadata": {},
   "outputs": [
    {
     "data": {
      "text/html": [
       "<span style=\"white-space:pre; font-family: monospace\">10 ¯20 30 40 ¯50 60\n",
       "</span>"
      ]
     },
     "execution_count": 17,
     "metadata": {},
     "output_type": "execute_result"
    }
   ],
   "source": [
    "(-@2 5)10 20 30 40 50 60 "
   ]
  },
  {
   "cell_type": "markdown",
   "id": "c72e3cab",
   "metadata": {},
   "source": [
    "Here we applied the monadic function `-` (negate) at positions 2 and 5. We can do the same with a dyadic function, too:"
   ]
  },
  {
   "cell_type": "code",
   "execution_count": 18,
   "id": "105ba982",
   "metadata": {},
   "outputs": [
    {
     "data": {
      "text/html": [
       "<span style=\"white-space:pre; font-family: monospace\">10 27 30 40 57 60\n",
       "</span>"
      ]
     },
     "execution_count": 18,
     "metadata": {},
     "output_type": "execute_result"
    }
   ],
   "source": [
    "7(+@2 5)10 20 30 40 50 60"
   ]
  },
  {
   "cell_type": "markdown",
   "id": "9c7fede7",
   "metadata": {},
   "source": [
    "So far, we have been using an array right operand. If we use a function right operand it gets applied to the right argument, and the result must be a Boolean mask instead of a list of indices."
   ]
  },
  {
   "cell_type": "code",
   "execution_count": 19,
   "id": "9cc33fb0",
   "metadata": {},
   "outputs": [
    {
     "data": {
      "text/html": [
       "<span style=\"white-space:pre; font-family: monospace\">ABCDEFGHIJKLMNOPQRSTUVWXYZ\n",
       "</span>"
      ]
     },
     "execution_count": 19,
     "metadata": {},
     "output_type": "execute_result"
    },
    {
     "data": {
      "text/html": [
       "<span style=\"white-space:pre; font-family: monospace\">xello xorld\n",
       "</span>"
      ]
     },
     "execution_count": 19,
     "metadata": {},
     "output_type": "execute_result"
    }
   ],
   "source": [
    "⎕A ⍝ uppercase alphabet \n",
    "'x'@(∊∘⎕A)'Hello World' "
   ]
  },
  {
   "cell_type": "markdown",
   "id": "d00b3c8f",
   "metadata": {},
   "source": [
    "`∊` is [membership](http://help.dyalog.com/latest/index.htm#Language/Primitive%20Functions/Membership.htm), so the derived function `∊∘⎕A` gives a Boolean for where elements of the right (and only) argument are members of the uppercase alphabet: "
   ]
  },
  {
   "cell_type": "code",
   "execution_count": 20,
   "id": "dda70938",
   "metadata": {},
   "outputs": [
    {
     "data": {
      "text/html": [
       "<span style=\"white-space:pre; font-family: monospace\">1 0 0 0 0 0 1 0 0 0 0\n",
       "</span>"
      ]
     },
     "execution_count": 20,
     "metadata": {},
     "output_type": "execute_result"
    }
   ],
   "source": [
    "(∊∘⎕A)'Hello World'"
   ]
  },
  {
   "cell_type": "markdown",
   "id": "629b5def",
   "metadata": {},
   "source": [
    "which is then used as mask by `@` to determine where to substitute with `x`. See, for example [Goto the Nth Page](https://codegolf.stackexchange.com/questions/147318/goto-the-nth-page/147339#147339) which uses `@` twice.\n",
    "\n",
    "## I-beam `⌶`\n",
    "\n",
    "[I-beam](https://help.dyalog.com/latest/#Language/Primitive%20Operators/I%20Beam.htm), `⌶`, is a special monadic operator (although it follows normal APL syntax) which uses a positive integer operand to select a functionality, typically from a range of system related services. Note that although documentation is provided for `⌶` functions, any service provided this way should be considered as \"experimental\" and subject to change – without notice – from one release to the next. \n",
    "\n",
    "One example is [Format Date-Time](https://help.dyalog.com/latest/#Language/I%20Beam%20Functions/Format%20Datetime.htm), `1200⌶`, which formats _Dyalog Date Numbers_ according to a set of pattern rules."
   ]
  },
  {
   "cell_type": "code",
   "execution_count": 21,
   "id": "20605cb7",
   "metadata": {},
   "outputs": [
    {
     "data": {
      "text/html": [
       "<span style=\"white-space:pre; font-family: monospace\">┌───────────────────┐\n",
       "│2022-01-04T17:42:49│\n",
       "└───────────────────┘\n",
       "</span>"
      ]
     },
     "execution_count": 21,
     "metadata": {},
     "output_type": "execute_result"
    }
   ],
   "source": [
    "'%ISO%'(1200⌶)1⎕DT'J'"
   ]
  },
  {
   "cell_type": "markdown",
   "id": "fa99caa9",
   "metadata": {},
   "source": [
    "## Stencil `⌺`"
   ]
  },
  {
   "cell_type": "markdown",
   "id": "e9faf4bd",
   "metadata": {},
   "source": [
    "Next up is [stencil](https://help.dyalog.com/latest/#Language/Primitive%20Operators/Stencil.htm) (as in [stencil code](https://en.wikipedia.org/wiki/Iterative_Stencil_Loops)), `⌺`. The symbol is supposed to evoke the picture of a stencil over a paper. Stencil is useful for [Game of Life](https://en.wikipedia.org/wiki/Conway%27s_Game_of_Life) and related problems. It is a dyadic operator which derives a monadic function. The left operand must be a function and the right operand must be an array. \n",
    "\n",
    "The right operand specifies what neighbourhoods to apply to. For example, in Game of Life, the neighbourhoods are 3-by-3 sub-matrices centred on each element in the input array. The operand gets called dyadically. The right argument is a neighbourhood and the left is information about whether he neighbourhood overlaps an edge of the original argument world.\n",
    "\n",
    "To see how it works, we'll use `{⊂⍵}` as left operand. It just encloses the neighbourhood so we can see it. As right operand we use `3 3`, i.e. the neighbourhood size: "
   ]
  },
  {
   "cell_type": "code",
   "execution_count": 1,
   "id": "44782a43",
   "metadata": {},
   "outputs": [
    {
     "data": {
      "text/html": [
       "<span style=\"white-space:pre; font-family: monospace\">ABCDEF\n",
       "GHIJKL\n",
       "MNOPQR\n",
       "STUVWX\n",
       "</span>"
      ]
     },
     "execution_count": 1,
     "metadata": {},
     "output_type": "execute_result"
    },
    {
     "data": {
      "text/html": [
       "<span style=\"white-space:pre; font-family: monospace\">┌───┬───┬───┬───┬───┬───┐\n",
       "│   │   │   │   │   │   │\n",
       "│ AB│ABC│BCD│CDE│DEF│EF │\n",
       "│ GH│GHI│HIJ│IJK│JKL│KL │\n",
       "├───┼───┼───┼───┼───┼───┤\n",
       "│ AB│ABC│BCD│CDE│DEF│EF │\n",
       "│ GH│GHI│HIJ│IJK│JKL│KL │\n",
       "│ MN│MNO│NOP│OPQ│PQR│QR │\n",
       "├───┼───┼───┼───┼───┼───┤\n",
       "│ GH│GHI│HIJ│IJK│JKL│KL │\n",
       "│ MN│MNO│NOP│OPQ│PQR│QR │\n",
       "│ ST│STU│TUV│UVW│VWX│WX │\n",
       "├───┼───┼───┼───┼───┼───┤\n",
       "│ MN│MNO│NOP│OPQ│PQR│QR │\n",
       "│ ST│STU│TUV│UVW│VWX│WX │\n",
       "│   │   │   │   │   │   │\n",
       "└───┴───┴───┴───┴───┴───┘\n",
       "</span>"
      ]
     },
     "execution_count": 1,
     "metadata": {},
     "output_type": "execute_result"
    }
   ],
   "source": [
    "4 6⍴⎕A ⍝ our argument\n",
    "({⊂⍵}⌺3 3) 4 6⍴⎕A "
   ]
  },
  {
   "cell_type": "markdown",
   "id": "4c3f1967",
   "metadata": {},
   "source": [
    " Here you see that we returned a 4-by-6 matrix of neighbourhoods. Notice that all the neighbourhoods are 3-by-3, even at the edges. They were padded with spaces.\n",
    " \n",
    "The padding was done sometimes on top, sometimes on left, sometimes on right, and sometimes on the bottom. The information about that is in the left argument (`⍺`) of the operand function: "
   ]
  },
  {
   "cell_type": "code",
   "execution_count": 2,
   "id": "f93a0ed4",
   "metadata": {},
   "outputs": [
    {
     "data": {
      "text/html": [
       "<span style=\"white-space:pre; font-family: monospace\">┌────┬────┬────┬────┬────┬─────┐\n",
       "│1 1 │1 0 │1 0 │1 0 │1 0 │1 ¯1 │\n",
       "├────┼────┼────┼────┼────┼─────┤\n",
       "│0 1 │0 0 │0 0 │0 0 │0 0 │0 ¯1 │\n",
       "├────┼────┼────┼────┼────┼─────┤\n",
       "│0 1 │0 0 │0 0 │0 0 │0 0 │0 ¯1 │\n",
       "├────┼────┼────┼────┼────┼─────┤\n",
       "│¯1 1│¯1 0│¯1 0│¯1 0│¯1 0│¯1 ¯1│\n",
       "└────┴────┴────┴────┴────┴─────┘\n",
       "</span>"
      ]
     },
     "execution_count": 2,
     "metadata": {},
     "output_type": "execute_result"
    }
   ],
   "source": [
    "({⊂⍺}⌺3 3) 4 6⍴⎕A "
   ]
  },
  {
   "cell_type": "markdown",
   "id": "04a77787",
   "metadata": {},
   "source": [
    "Each cell contains two elements, one for rows, and one for columns. Positive indicates left/top. Negative is right/bottom. The magnitude indicates how many rows/columns were padded.\n",
    "\n",
    "This fits nicely with the dyadic `↓` [drop](http://help.dyalog.com/latest/index.htm#Language/Primitive%20Functions/Drop.htm) primitive, which takes the number of rows,columns as left argument to drop from the right argument: "
   ]
  },
  {
   "cell_type": "code",
   "execution_count": 3,
   "id": "96446cf9",
   "metadata": {},
   "outputs": [
    {
     "data": {
      "text/html": [
       "<span style=\"white-space:pre; font-family: monospace\">┌──┬───┬───┬───┬───┬──┐\n",
       "│AB│ABC│BCD│CDE│DEF│EF│\n",
       "│GH│GHI│HIJ│IJK│JKL│KL│\n",
       "├──┼───┼───┼───┼───┼──┤\n",
       "│AB│ABC│BCD│CDE│DEF│EF│\n",
       "│GH│GHI│HIJ│IJK│JKL│KL│\n",
       "│MN│MNO│NOP│OPQ│PQR│QR│\n",
       "├──┼───┼───┼───┼───┼──┤\n",
       "│GH│GHI│HIJ│IJK│JKL│KL│\n",
       "│MN│MNO│NOP│OPQ│PQR│QR│\n",
       "│ST│STU│TUV│UVW│VWX│WX│\n",
       "├──┼───┼───┼───┼───┼──┤\n",
       "│MN│MNO│NOP│OPQ│PQR│QR│\n",
       "│ST│STU│TUV│UVW│VWX│WX│\n",
       "└──┴───┴───┴───┴───┴──┘\n",
       "</span>"
      ]
     },
     "execution_count": 3,
     "metadata": {},
     "output_type": "execute_result"
    }
   ],
   "source": [
    "({⊂⍺↓⍵}⌺3 3) 4 6⍴⎕A"
   ]
  },
  {
   "cell_type": "markdown",
   "id": "18d6761a",
   "metadata": {},
   "source": [
    "As you can see, the padding was removed. \n",
    "\n",
    "Another example. Here you can see that on the far left and right, we have to pad two columns to get a 5-wide neighbourhood centred on the first column: "
   ]
  },
  {
   "cell_type": "code",
   "execution_count": 4,
   "id": "b02a61cd",
   "metadata": {},
   "outputs": [
    {
     "data": {
      "text/html": [
       "<span style=\"white-space:pre; font-family: monospace\">┌────┬────┬────┬────┬─────┬─────┐\n",
       "│1 2 │1 1 │1 0 │1 0 │1 ¯1 │1 ¯2 │\n",
       "├────┼────┼────┼────┼─────┼─────┤\n",
       "│0 2 │0 1 │0 0 │0 0 │0 ¯1 │0 ¯2 │\n",
       "├────┼────┼────┼────┼─────┼─────┤\n",
       "│0 2 │0 1 │0 0 │0 0 │0 ¯1 │0 ¯2 │\n",
       "├────┼────┼────┼────┼─────┼─────┤\n",
       "│¯1 2│¯1 1│¯1 0│¯1 0│¯1 ¯1│¯1 ¯2│\n",
       "└────┴────┴────┴────┴─────┴─────┘\n",
       "</span>"
      ]
     },
     "execution_count": 4,
     "metadata": {},
     "output_type": "execute_result"
    }
   ],
   "source": [
    "({⊂⍺}⌺3 5) 4 6⍴⎕A "
   ]
  },
  {
   "cell_type": "markdown",
   "id": "cec4bc40",
   "metadata": {},
   "source": [
    "Now, let's try implementing _Game of Life_.\n",
    "\n",
    "Here are the rules:\n",
    "* A cell will stay alive with 2 or 3 neighbours.\n",
    "* It will become alive with 3 neighbours.\n",
    "* It will die with fewer than 2 or more than 3 neighbours.\n",
    "\n",
    "Let's make a world: "
   ]
  },
  {
   "cell_type": "code",
   "execution_count": 5,
   "id": "d85f5ed7",
   "metadata": {},
   "outputs": [
    {
     "data": {
      "text/html": [
       "<span style=\"white-space:pre; font-family: monospace\">0 0 1 0 0\n",
       "1 0 0 0 1\n",
       "0 0 1 0 0\n",
       "0 1 0 0 1\n",
       "</span>"
      ]
     },
     "execution_count": 5,
     "metadata": {},
     "output_type": "execute_result"
    }
   ],
   "source": [
    "4 5⍴0 0 1 0 0 1 0"
   ]
  },
  {
   "cell_type": "markdown",
   "id": "b53ade3d",
   "metadata": {},
   "source": [
    "The 1s indicate live cells while the 0s indicate dead cells. Let's look at our neighbourhoods:"
   ]
  },
  {
   "cell_type": "code",
   "execution_count": 6,
   "id": "f095036a",
   "metadata": {},
   "outputs": [
    {
     "data": {
      "text/html": [
       "<span style=\"white-space:pre; font-family: monospace\">┌─────┬─────┬─────┬─────┬─────┐\n",
       "│0 0 0│0 0 0│0 0 0│0 0 0│0 0 0│\n",
       "│0 0 0│0 0 1│0 1 0│1 0 0│0 0 0│\n",
       "│0 1 0│1 0 0│0 0 0│0 0 1│0 1 0│\n",
       "├─────┼─────┼─────┼─────┼─────┤\n",
       "│0 0 0│0 0 1│0 1 0│1 0 0│0 0 0│\n",
       "│0 1 0│1 0 0│0 0 0│0 0 1│0 1 0│\n",
       "│0 0 0│0 0 1│0 1 0│1 0 0│0 0 0│\n",
       "├─────┼─────┼─────┼─────┼─────┤\n",
       "│0 1 0│1 0 0│0 0 0│0 0 1│0 1 0│\n",
       "│0 0 0│0 0 1│0 1 0│1 0 0│0 0 0│\n",
       "│0 0 1│0 1 0│1 0 0│0 0 1│0 1 0│\n",
       "├─────┼─────┼─────┼─────┼─────┤\n",
       "│0 0 0│0 0 1│0 1 0│1 0 0│0 0 0│\n",
       "│0 0 1│0 1 0│1 0 0│0 0 1│0 1 0│\n",
       "│0 0 0│0 0 0│0 0 0│0 0 0│0 0 0│\n",
       "└─────┴─────┴─────┴─────┴─────┘\n",
       "</span>"
      ]
     },
     "execution_count": 6,
     "metadata": {},
     "output_type": "execute_result"
    }
   ],
   "source": [
    "({⊂⍵}⌺3 3) 4 5⍴0 0 1 0 0 1 0 "
   ]
  },
  {
   "cell_type": "markdown",
   "id": "488032a4",
   "metadata": {},
   "source": [
    "We can get the number of neighbours by summing. So we make a list with [ravel](http://help.dyalog.com/latest/index.htm#Language/Primitive%20Functions/Ravel.htm), `,`, and use `+/` to sum: "
   ]
  },
  {
   "cell_type": "code",
   "execution_count": 7,
   "id": "14e9c0f0",
   "metadata": {},
   "outputs": [
    {
     "data": {
      "text/html": [
       "<span style=\"white-space:pre; font-family: monospace\">1 2 1 2 1\n",
       "1 3 2 3 1\n",
       "2 3 2 3 2\n",
       "1 2 2 2 1\n",
       "</span>"
      ]
     },
     "execution_count": 7,
     "metadata": {},
     "output_type": "execute_result"
    }
   ],
   "source": [
    "({+/,⍵}⌺3 3) 4 5⍴0 0 1 0 0 1 0"
   ]
  },
  {
   "cell_type": "markdown",
   "id": "43bd715c",
   "metadata": {},
   "source": [
    "We also need to know what the current value is. That is the 5th value in the ravelled neighbourhood: "
   ]
  },
  {
   "cell_type": "code",
   "execution_count": 8,
   "id": "edf8c90c",
   "metadata": {},
   "outputs": [
    {
     "data": {
      "text/html": [
       "<span style=\"white-space:pre; font-family: monospace\">0 0 1 0 0\n",
       "1 0 0 0 1\n",
       "0 0 1 0 0\n",
       "0 1 0 0 1\n",
       "</span>"
      ]
     },
     "execution_count": 8,
     "metadata": {},
     "output_type": "execute_result"
    }
   ],
   "source": [
    "({5⌷,⍵}⌺3 3) 4 5⍴0 0 1 0 0 1 0"
   ]
  },
  {
   "cell_type": "markdown",
   "id": "5cec6746",
   "metadata": {},
   "source": [
    "Now we can say that `self←5⌷,⍵` and `total←+/,⍵`: "
   ]
  },
  {
   "cell_type": "code",
   "execution_count": 9,
   "id": "198ae150",
   "metadata": {},
   "outputs": [
    {
     "data": {
      "text/html": [
       "<span style=\"white-space:pre; font-family: monospace\">┌───┬───┬───┬───┬───┐\n",
       "│0 1│0 2│1 1│0 2│0 1│\n",
       "├───┼───┼───┼───┼───┤\n",
       "│1 1│0 3│0 2│0 3│1 1│\n",
       "├───┼───┼───┼───┼───┤\n",
       "│0 2│0 3│1 2│0 3│0 2│\n",
       "├───┼───┼───┼───┼───┤\n",
       "│0 1│1 2│0 2│0 2│1 1│\n",
       "└───┴───┴───┴───┴───┘\n",
       "</span>"
      ]
     },
     "execution_count": 9,
     "metadata": {},
     "output_type": "execute_result"
    }
   ],
   "source": [
    "({self←5⌷,⍵ ⋄ total←+/,⍵ ⋄ ⊂self total}⌺3 3) 4 5⍴0 0 1 0 0 1 0"
   ]
  },
  {
   "cell_type": "markdown",
   "id": "0d239185",
   "metadata": {},
   "source": [
    "Here we have the self and the total for each cell.\n",
    "\n",
    "The logic is that in the next generation the cell is alive if itself was alive and had 2–3 neighbours (3 or 4 total, including self), or if it was dead and had 3 neighbours.  That is \n",
    "\n",
    "```apl\n",
    "(self ∧ (total∊3 4)) ∨ ((~self) ∧ (total=3))\n",
    "```\n",
    "\n",
    "Let's plug that in: "
   ]
  },
  {
   "cell_type": "code",
   "execution_count": 10,
   "id": "0379f625",
   "metadata": {},
   "outputs": [
    {
     "data": {
      "text/html": [
       "<span style=\"white-space:pre; font-family: monospace\">0 0 0 0 0\n",
       "0 1 0 1 0\n",
       "0 1 0 1 0\n",
       "0 0 0 0 0\n",
       "</span>"
      ]
     },
     "execution_count": 10,
     "metadata": {},
     "output_type": "execute_result"
    }
   ],
   "source": [
    "({self←5⌷,⍵ ⋄ total←+/,⍵ ⋄ (self ∧ (total∊3 4)) ∨ ((~self) ∧ (total=3))}⌺3 3) 4 5⍴0 0 1 0 0 1 0"
   ]
  },
  {
   "cell_type": "markdown",
   "id": "5b1fce8e",
   "metadata": {},
   "source": [
    "This can be shortened considerably, if we so wished. For a detailed walk-though of the shortest possible _Game of Life_ using [stencil](http://help.dyalog.com/latest/index.htm#Language/Primitive%20Operators/Stencil.htm), see the webinar on [dyalog.tv](https://dyalog.tv/Webinar/?v=3FjYly2G_QI). \n",
    "\n",
    "`⌺` can do a further trick, too. If the right operand is a matrix, then the second row indicates the step size. By default it is 1 in every dimension. Consider the following:"
   ]
  },
  {
   "cell_type": "code",
   "execution_count": 11,
   "id": "67afb440",
   "metadata": {},
   "outputs": [
    {
     "data": {
      "text/html": [
       "<span style=\"white-space:pre; font-family: monospace\">┌───┬───┬───┐\n",
       "│   │   │   │\n",
       "│ AB│CDE│FG │\n",
       "│ HI│JKL│MN │\n",
       "├───┼───┼───┤\n",
       "│ OP│QRS│TU │\n",
       "│ VW│XYZ│AB │\n",
       "│ CD│EFG│HI │\n",
       "├───┼───┼───┤\n",
       "│ JK│LMN│OP │\n",
       "│ QR│STU│VW │\n",
       "│   │   │   │\n",
       "└───┴───┴───┘\n",
       "</span>"
      ]
     },
     "execution_count": 11,
     "metadata": {},
     "output_type": "execute_result"
    }
   ],
   "source": [
    "({⊂⍵}⌺(2 2⍴3))7 7⍴⎕A"
   ]
  },
  {
   "cell_type": "markdown",
   "id": "8d9d98c2",
   "metadata": {},
   "source": [
    "Here we used a 2-by-2 matrix of all 3s. In other words, we get 3-by-3 neighbourhoods going over 3 rows and 3 columns. Thus, we \"chop\" the argument, with no overlaps. We can also use even sizes, in which case every \"space\" between elements (rather than elements themselves) gets to be the centre of a neighbourhood: "
   ]
  },
  {
   "cell_type": "code",
   "execution_count": 13,
   "id": "ab3ae2a2",
   "metadata": {},
   "outputs": [
    {
     "data": {
      "text/html": [
       "<span style=\"white-space:pre; font-family: monospace\">┌──┬──┬──┐\n",
       "│AB│CD│EF│\n",
       "│GH│IJ│KL│\n",
       "├──┼──┼──┤\n",
       "│MN│OP│QR│\n",
       "│ST│UV│WX│\n",
       "├──┼──┼──┤\n",
       "│YZ│AB│CD│\n",
       "│EF│GH│IJ│\n",
       "└──┴──┴──┘\n",
       "</span>"
      ]
     },
     "execution_count": 13,
     "metadata": {},
     "output_type": "execute_result"
    },
    {
     "data": {
      "text/html": [
       "<span style=\"white-space:pre; font-family: monospace\">┌────┬────┬────┬────┬────┐\n",
       "│ ABC│ABCD│BCDE│CDEF│DEF │\n",
       "│ GHI│GHIJ│HIJK│IJKL│JKL │\n",
       "├────┼────┼────┼────┼────┤\n",
       "│ GHI│GHIJ│HIJK│IJKL│JKL │\n",
       "│ MNO│MNOP│NOPQ│OPQR│PQR │\n",
       "├────┼────┼────┼────┼────┤\n",
       "│ MNO│MNOP│NOPQ│OPQR│PQR │\n",
       "│ STU│STUV│TUVW│UVWX│VWX │\n",
       "└────┴────┴────┴────┴────┘\n",
       "</span>"
      ]
     },
     "execution_count": 13,
     "metadata": {},
     "output_type": "execute_result"
    }
   ],
   "source": [
    "({⊂⍵}⌺(2 2⍴2))6 6⍴⎕A\n",
    "({⊂⍵}⌺(2 4))4 6⍴⎕A "
   ]
  },
  {
   "cell_type": "markdown",
   "id": "51db1922",
   "metadata": {},
   "source": [
    "## Key `⌸`"
   ]
  },
  {
   "cell_type": "markdown",
   "id": "7d7fb8cc",
   "metadata": {},
   "source": [
    "`⌸` is [key](https://help.dyalog.com/latest/#Language/Primitive%20Operators/Key.htm), a monadic operator deriving an ambivalent function (i.e. monadic or dyadic depending on usage). The lone operand must be a function, and it gets called dyadically in a manner not too different from [stencil's](http://help.dyalog.com/latest/index.htm#Language/Primitive%20Operators/Stencil.htm) left operand.\n",
    "\n",
    "Let's do the monadic derived function first, i.e. `(f⌸) data`.\n",
    "\n",
    "[Key](http://help.dyalog.com/latest/index.htm#Language/Primitive%20Operators/Key.htm) will group identical major cells of the data together and call the operand `f` with the unique element as left argument, and the indices of that element in the data as right argument: "
   ]
  },
  {
   "cell_type": "code",
   "execution_count": 14,
   "id": "04a2b865",
   "metadata": {},
   "outputs": [
    {
     "data": {
      "text/html": [
       "<span style=\"white-space:pre; font-family: monospace\">┌─────┬────────────┬───────────┬────────┐\n",
       "│┌─┬─┐│┌─┬────────┐│┌─┬───────┐│┌─┬────┐│\n",
       "││M│1│││i│2 5 8 11│││s│3 4 6 7│││p│9 10││\n",
       "│└─┴─┘│└─┴────────┘│└─┴───────┘│└─┴────┘│\n",
       "└─────┴────────────┴───────────┴────────┘\n",
       "</span>"
      ]
     },
     "execution_count": 14,
     "metadata": {},
     "output_type": "execute_result"
    }
   ],
   "source": [
    "{⊂⍺⍵}⌸'Mississippi'"
   ]
  },
  {
   "cell_type": "markdown",
   "id": "8cc0cfe3",
   "metadata": {},
   "source": [
    "This tells us that \"M\" is at index 1, \"i\" at 2 5 8 11, etc. It is very common to use `≢` to tally the indices: "
   ]
  },
  {
   "cell_type": "code",
   "execution_count": 15,
   "id": "ec31aa10",
   "metadata": {},
   "outputs": [
    {
     "data": {
      "text/html": [
       "<span style=\"white-space:pre; font-family: monospace\">M 1\n",
       "i 4\n",
       "s 4\n",
       "p 2\n",
       "</span>"
      ]
     },
     "execution_count": 15,
     "metadata": {},
     "output_type": "execute_result"
    }
   ],
   "source": [
    "{⍺,≢⍵}⌸'Mississippi'"
   ]
  },
  {
   "cell_type": "markdown",
   "id": "5cdfd421",
   "metadata": {},
   "source": [
    "which gives us the count of each unique element. We can, for example, use this to remove elements which only occur once. We first use [key](http://help.dyalog.com/latest/index.htm#Language/Primitive%20Operators/Key.htm) to make a Boolean vector for each unique element:"
   ]
  },
  {
   "cell_type": "code",
   "execution_count": 18,
   "id": "5aec5dab",
   "metadata": {},
   "outputs": [
    {
     "data": {
      "text/html": [
       "<span style=\"white-space:pre; font-family: monospace\">0 1 1 1\n",
       "</span>"
      ]
     },
     "execution_count": 18,
     "metadata": {},
     "output_type": "execute_result"
    }
   ],
   "source": [
    "{1≠≢⍵}⌸'Mississippi'"
   ]
  },
  {
   "cell_type": "markdown",
   "id": "ed7e6b41",
   "metadata": {},
   "source": [
    "Monadic `∪` gives us the [unique](http://help.dyalog.com/latest/index.htm#Language/Primitive%20Functions/Unique.htm) elements:"
   ]
  },
  {
   "cell_type": "code",
   "execution_count": 17,
   "id": "799bd446",
   "metadata": {},
   "outputs": [
    {
     "data": {
      "text/html": [
       "<span style=\"white-space:pre; font-family: monospace\">Misp\n",
       "</span>"
      ]
     },
     "execution_count": 17,
     "metadata": {},
     "output_type": "execute_result"
    }
   ],
   "source": [
    "∪'Mississippi'"
   ]
  },
  {
   "cell_type": "markdown",
   "id": "59c3d60e",
   "metadata": {},
   "source": [
    "We can use `/` to filter one by the other:"
   ]
  },
  {
   "cell_type": "code",
   "execution_count": 19,
   "id": "37de5668",
   "metadata": {},
   "outputs": [
    {
     "data": {
      "text/html": [
       "<span style=\"white-space:pre; font-family: monospace\">isp\n",
       "</span>"
      ]
     },
     "execution_count": 19,
     "metadata": {},
     "output_type": "execute_result"
    }
   ],
   "source": [
    "0 1 1 1/'Misp'"
   ]
  },
  {
   "cell_type": "markdown",
   "id": "dbcaadbf",
   "metadata": {},
   "source": [
    "Putting it all together, we get"
   ]
  },
  {
   "cell_type": "code",
   "execution_count": 20,
   "id": "47aee219",
   "metadata": {},
   "outputs": [
    {
     "data": {
      "text/html": [
       "<span style=\"white-space:pre; font-family: monospace\">isp\n",
       "</span>"
      ]
     },
     "execution_count": 20,
     "metadata": {},
     "output_type": "execute_result"
    }
   ],
   "source": [
    "{({1≠≢⍵}⌸⍵)/∪⍵}'Mississippi' ⍝ Unique elements occurring more than once"
   ]
  },
  {
   "cell_type": "markdown",
   "id": "7734dbfe",
   "metadata": {},
   "source": [
    "`⌸` works on higher rank arrays, too (matrices, 3D blocks, etc.), where it will use the major cells (rows for matrices, layers for 3D blocks…) as \"items\". "
   ]
  },
  {
   "cell_type": "code",
   "execution_count": 21,
   "id": "fe1954fa",
   "metadata": {},
   "outputs": [
    {
     "data": {
      "text/html": [
       "<span style=\"white-space:pre; font-family: monospace\">AAA\n",
       "ABC\n",
       "AAA\n",
       "ABB\n",
       "AAA\n",
       "</span>"
      ]
     },
     "execution_count": 21,
     "metadata": {},
     "output_type": "execute_result"
    },
    {
     "data": {
      "text/html": [
       "<span style=\"white-space:pre; font-family: monospace\">┌───┬─────┐\n",
       "│AAA│1 3 5│\n",
       "├───┼─────┤\n",
       "│ABC│2    │\n",
       "├───┼─────┤\n",
       "│ABB│4    │\n",
       "└───┴─────┘\n",
       "</span>"
      ]
     },
     "execution_count": 21,
     "metadata": {},
     "output_type": "execute_result"
    }
   ],
   "source": [
    "5 3⍴'AAAABCAAAABBAAA' \n",
    "{⍺⍵}⌸ 5 3⍴'AAAABCAAAABBAAA' "
   ]
  },
  {
   "cell_type": "markdown",
   "id": "b23f481f",
   "metadata": {},
   "source": [
    "Dyadic _key_ then. Behold: "
   ]
  },
  {
   "cell_type": "code",
   "execution_count": 23,
   "id": "497db751",
   "metadata": {},
   "outputs": [
    {
     "data": {
      "text/html": [
       "<span style=\"white-space:pre; font-family: monospace\">┌─────┬────────────┬───────────┬────────┐\n",
       "│┌─┬─┐│┌─┬────────┐│┌─┬───────┐│┌─┬────┐│\n",
       "││M│1│││i│2 5 8 11│││s│3 4 6 7│││p│9 10││\n",
       "│└─┴─┘│└─┴────────┘│└─┴───────┘│└─┴────┘│\n",
       "└─────┴────────────┴───────────┴────────┘\n",
       "</span>"
      ]
     },
     "execution_count": 23,
     "metadata": {},
     "output_type": "execute_result"
    },
    {
     "data": {
      "text/html": [
       "<span style=\"white-space:pre; font-family: monospace\">┌─────┬────────┬────────┬──────┐\n",
       "│┌─┬─┐│┌─┬────┐│┌─┬────┐│┌─┬──┐│\n",
       "││M│A│││i│BEHK│││s│CDFG│││p│IJ││\n",
       "│└─┴─┘│└─┴────┘│└─┴────┘│└─┴──┘│\n",
       "└─────┴────────┴────────┴──────┘\n",
       "</span>"
      ]
     },
     "execution_count": 23,
     "metadata": {},
     "output_type": "execute_result"
    }
   ],
   "source": [
    "'Mississippi' {⊂⍺⍵}⌸ ⍳11\n",
    "'Mississippi' {⊂⍺⍵}⌸ 'ABCDEFGHIJK'"
   ]
  },
  {
   "cell_type": "markdown",
   "id": "1b984028",
   "metadata": {},
   "source": [
    "Instead of returning the indices of the unique elements (of the right – and only – argument), it returns the elements of the right _corresponding_ to the unique elements of the left. \n",
    "\n",
    "## Atop `f⍤g`\n",
    "\n",
    "[Atop](http://help.dyalog.com/latest/index.htm#Language/Primitive%20Operators/Atop.htm) has been assigned `function⍤function`, thus sharing the symbol with the rank operator's `function⍤array`. You should be familiar with the 2-train, which is also called \"atop\": `(f g)Y` and `X(f g)Y`. Maybe you've even been burned by `f∘g Y` being an atop, but `X f∘g Y` _not_ being an atop. Well, the atop operator is what you would expect, i.e. `f⍤g Y` is exactly like `f∘g Y` but `X f⍤g Y` is `f X g Y` or `X (f g) Y`. We strongly recommend transitioning to use `⍤` in places where you've hitherto used monadic `f∘g`: it will prevent (at least one potential cause of) frustration should you ever decide to add a left argument to your code. \n",
    "\n",
    "Let's say you define a function that returns the magnitude of reciprocal:"
   ]
  },
  {
   "cell_type": "code",
   "execution_count": 1,
   "id": "fdb37be7",
   "metadata": {},
   "outputs": [
    {
     "data": {
      "text/html": [
       "<span style=\"white-space:pre; font-family: monospace\">0.25\n",
       "</span>"
      ]
     },
     "execution_count": 1,
     "metadata": {},
     "output_type": "execute_result"
    },
    {
     "data": {
      "text/html": [
       "<span style=\"white-space:pre; font-family: monospace\">0.2\n",
       "</span>"
      ]
     },
     "execution_count": 1,
     "metadata": {},
     "output_type": "execute_result"
    }
   ],
   "source": [
    "|∘÷ ¯4\n",
    "|∘÷ ¯5"
   ]
  },
  {
   "cell_type": "markdown",
   "id": "27c4b21f",
   "metadata": {},
   "source": [
    "(This could be written without the `∘`, but this is a very simple function useful for illustration purposes.)\n",
    "\n",
    "Now you get a feature request that the function should take a left argument which is a numerator (instead of the default 1). "
   ]
  },
  {
   "cell_type": "code",
   "execution_count": 2,
   "id": "61345412",
   "metadata": {},
   "outputs": [
    {
     "data": {
      "text/html": [
       "<span style=\"white-space:pre; font-family: monospace\">1.75\n",
       "</span>"
      ]
     },
     "execution_count": 2,
     "metadata": {},
     "output_type": "execute_result"
    },
    {
     "data": {
      "text/html": [
       "<span style=\"white-space:pre; font-family: monospace\">1.8\n",
       "</span>"
      ]
     },
     "execution_count": 2,
     "metadata": {},
     "output_type": "execute_result"
    }
   ],
   "source": [
    "2 |∘÷ ¯4\n",
    "2 |∘÷ ¯5"
   ]
  },
  {
   "cell_type": "markdown",
   "id": "f4c382b9",
   "metadata": {},
   "source": [
    "Oops. However: "
   ]
  },
  {
   "cell_type": "code",
   "execution_count": 3,
   "id": "c7ddfe48",
   "metadata": {},
   "outputs": [
    {
     "data": {
      "text/html": [
       "<span style=\"white-space:pre; font-family: monospace\">0.25\n",
       "</span>"
      ]
     },
     "execution_count": 3,
     "metadata": {},
     "output_type": "execute_result"
    },
    {
     "data": {
      "text/html": [
       "<span style=\"white-space:pre; font-family: monospace\">0.2\n",
       "</span>"
      ]
     },
     "execution_count": 3,
     "metadata": {},
     "output_type": "execute_result"
    },
    {
     "data": {
      "text/html": [
       "<span style=\"white-space:pre; font-family: monospace\">0.5\n",
       "</span>"
      ]
     },
     "execution_count": 3,
     "metadata": {},
     "output_type": "execute_result"
    },
    {
     "data": {
      "text/html": [
       "<span style=\"white-space:pre; font-family: monospace\">0.4\n",
       "</span>"
      ]
     },
     "execution_count": 3,
     "metadata": {},
     "output_type": "execute_result"
    }
   ],
   "source": [
    "|⍤÷ ¯4\n",
    "|⍤÷ ¯5\n",
    "2 |⍤÷ ¯4\n",
    "2 |⍤÷ ¯5"
   ]
  },
  {
   "cell_type": "markdown",
   "id": "12b9913d",
   "metadata": {},
   "source": [
    "One way to look at `f∘g` vs `f⍤g` is that, when given a left argument, `∘` gives it to the left-hand function and `⍤` gives it to the right-hand function. Other than that, they are equivalent.  Another way to look at `f∘g` vs `f⍤g` is simply choosing order of the first two tokens in the equivalent explicit expression: `X f∘g Y` computes `X f g Y` and `X f⍤g Y` computes `f X g Y`. So we're simply swapping `X` and `f`.\n",
    "\n",
    "Then there's the classic problem with slashes, especially in tacit programming. If you've ever tried using replicate/compress in a train, you'll have bumped into the fact that slashes prefer being operators over being functions. This means that `{(5<⍵)/⍵}` doesn't convert to `(5<⊢)/⊢`.\n",
    "\n",
    "While it may not be obvious at first sight, if we define `f←5<⊢` it might become clearer that `f/⊢` isn't at all what we want. Now, there's an axiom in APL that an operator cannot be an operand. (Shh, don't mention `∘.f`). This means that if a slash ends up in a situation where it has to be an operand, it will resort to being a function. You may even have noticed that constructs like `⊢(/⍨)5<⊢` work fine, though `⊢/⍨5<⊢` doesn't. This is because the `/` in isolation with the `⍨` is forced to become the operand of `⍨`. But since operators bind from the left, `⊢/` binds first, and so `⊢/⍨5<⊢` becomes `(⊢/)⍨5<⊢` or `(5<⊢)⊢/(5<⊢)` which is usually not what you want.\n",
    "\n",
    "So, `⍤` to the rescue. If `⍤` (or any dyadic operator) is found to the immediate left of a slash, then clearly the dyadic operator cannot be the operand of the slash, `⍤` being a dyadic operator itself, and it can't be part of the function on the left, since it requires a right-operand, too. Therefore, the slash is forced to become a function. So `-⍤/` is the negation of the replicate: "
   ]
  },
  {
   "cell_type": "code",
   "execution_count": 4,
   "id": "f2306edd",
   "metadata": {},
   "outputs": [
    {
     "data": {
      "text/html": [
       "<span style=\"white-space:pre; font-family: monospace\">¯10 ¯30 ¯30\n",
       "</span>"
      ]
     },
     "execution_count": 4,
     "metadata": {},
     "output_type": "execute_result"
    }
   ],
   "source": [
    "1 0 2-⍤/10 20 30"
   ]
  },
  {
   "cell_type": "markdown",
   "id": "3b5d09cf",
   "metadata": {},
   "source": [
    "It is easy to think then that \"oh, this is an atop, so I should be able to do this with parentheses too; `(f g)`\" but that'd be a mistake: `(-/)` is just a normal minus-reduction. Since `f⍤g` is \"atop\" and `(f g)` is \"atop\", you might think they are interchangeable. \n",
    "\n",
    "Another mistake is to think: \"if a slash is an operand, it'll be a function\" and then think that `/∘⊢` would work like `⊢⍤/` by pre-processing the right argument with a no-op rather than post-processing the result with a no-op.\n",
    "\n",
    "Let's say we have a two-element vector of a mask and some data, and you want to \"apply\" the mask to the data… Perhaps your instinct is to try"
   ]
  },
  {
   "cell_type": "code",
   "execution_count": 5,
   "id": "d30bc26a",
   "metadata": {},
   "outputs": [],
   "source": [
    "apply ← //"
   ]
  },
  {
   "cell_type": "markdown",
   "id": "87a1cdd1",
   "metadata": {},
   "source": [
    "but that gives an enclosed result, which isn't what we want:"
   ]
  },
  {
   "cell_type": "code",
   "execution_count": 6,
   "id": "3d7f32a1",
   "metadata": {},
   "outputs": [
    {
     "data": {
      "text/html": [
       "<span style=\"white-space:pre; font-family: monospace\">┌──────┐\n",
       "│ ┌→─┐ │\n",
       "│ │ac│ │\n",
       "│ └──┘ │\n",
       "└∊─────┘\n",
       "</span>"
      ]
     },
     "execution_count": 6,
     "metadata": {},
     "output_type": "execute_result"
    }
   ],
   "source": [
    "]display apply (1 0 1)'abc'"
   ]
  },
  {
   "cell_type": "markdown",
   "id": "f71a30c3",
   "metadata": {},
   "source": [
    "Instead, we can do something like"
   ]
  },
  {
   "cell_type": "code",
   "execution_count": 8,
   "id": "18125050",
   "metadata": {},
   "outputs": [
    {
     "data": {
      "text/html": [
       "<span style=\"white-space:pre; font-family: monospace\">┌→─┐\n",
       "│ac│\n",
       "└──┘\n",
       "</span>"
      ]
     },
     "execution_count": 8,
     "metadata": {},
     "output_type": "execute_result"
    }
   ],
   "source": [
    "apply ← ⊃⊢⍤//\n",
    "]display apply (1 0 1)'abc'"
   ]
  },
  {
   "cell_type": "markdown",
   "id": "33001526",
   "metadata": {},
   "source": [
    "In fact, once `⊢⍤/` becomes a common pattern, you can actually help the reader of your code by using `⊢⍤/` so they don't have to consider if your slash is Replicate or Reduce. For example, if your code says `z←x/y` it might not be obvious what's going on. If you instead write `z←x⊢⍤/y` your reader knows exactly what you're doing. \n",
    "\n",
    "Another example. Given a string, replace every character with two copies of itself prefixed and suffixed by a space. For example, `'abc'` becomes `' aa  bb  cc '`. Yes, you can do this with regex. Please don't. "
   ]
  },
  {
   "cell_type": "code",
   "execution_count": 9,
   "id": "398e5e56",
   "metadata": {},
   "outputs": [
    {
     "data": {
      "text/html": [
       "<span style=\"white-space:pre; font-family: monospace\"> aa  bb  cc \n",
       "</span>"
      ]
     },
     "execution_count": 9,
     "metadata": {},
     "output_type": "execute_result"
    }
   ],
   "source": [
    "(⊢ ⊢⍤⍀ ⍨0 2 0⍴⍨3×≢)'abc'"
   ]
  },
  {
   "cell_type": "markdown",
   "id": "bbdc5513",
   "metadata": {},
   "source": [
    "## Over `f⍥g`\n",
    "\n",
    "Recall how `f∘g` preprocesses the right argument of `f` using `g`. One way to look at [Over](http://help.dyalog.com/latest/index.htm#Language/Primitive%20Operators/Over.htm) is simply as preprocessing all arguments of `f` using `g`. All, as in both or the only. So again `f⍥g Y` is the same as `f⍤g Y` and `f∘g Y`. The difference is, again, when we do a dyadic application. While `X f∘g Y` is `X f(g Y)` we have `X f⍥g Y` be `(g X)f(g Y)`. This may seem like an overly involved operator, but really, the pattern of preprocessing both arguments comes up a lot. Once you start looking for it, you'll see it all over.\n",
    "\n",
    "For example, a dyadic function computing the sum of absolute values of its arguments:"
   ]
  },
  {
   "cell_type": "code",
   "execution_count": 10,
   "id": "e38f9844",
   "metadata": {},
   "outputs": [
    {
     "data": {
      "text/html": [
       "<span style=\"white-space:pre; font-family: monospace\">3 5 11 9\n",
       "</span>"
      ]
     },
     "execution_count": 10,
     "metadata": {},
     "output_type": "execute_result"
    }
   ],
   "source": [
    "¯1 ¯2 3 4 +⍥| 2 3 ¯8 5"
   ]
  },
  {
   "cell_type": "markdown",
   "id": "4912892b",
   "metadata": {},
   "source": [
    "Given arguments which are vectors, which one has the smallest maximum? Return `¯1` if the left argument has the smallest maximum, `1` if the right one has, or `0` if they are equal."
   ]
  },
  {
   "cell_type": "code",
   "execution_count": 11,
   "id": "92739580",
   "metadata": {},
   "outputs": [
    {
     "data": {
      "text/html": [
       "<span style=\"white-space:pre; font-family: monospace\">¯1\n",
       "</span>"
      ]
     },
     "execution_count": 11,
     "metadata": {},
     "output_type": "execute_result"
    }
   ],
   "source": [
    "¯1 ¯2 3 4 ×⍤-⍥(⌈/) 2 3 ¯8 5"
   ]
  },
  {
   "cell_type": "markdown",
   "id": "42659071",
   "metadata": {},
   "source": [
    "Beautiful use of both Atop and Over. You can, of course, omit the `⍤` here, unless used inline. OK, how about this: write an alternative to replicate which can take arguments of equal shape, both with rank greater than 1, and replicates the corresponding elements. Since the result might otherwise be ragged, you have to return a vector. \n",
    "\n",
    "```apl\n",
    "      (2 3⍴⍳6) YourFunction 2 3⍴⎕A\n",
    "ABBCCCDDDDEEEEEFFFFFF\n",
    "```"
   ]
  },
  {
   "cell_type": "code",
   "execution_count": 12,
   "id": "7e500342",
   "metadata": {},
   "outputs": [
    {
     "data": {
      "text/html": [
       "<span style=\"white-space:pre; font-family: monospace\">ABBCCCDDDDEEEEEFFFFFF\n",
       "</span>"
      ]
     },
     "execution_count": 12,
     "metadata": {},
     "output_type": "execute_result"
    }
   ],
   "source": [
    "(2 3⍴⍳6) ⊢⍤/⍥, 2 3⍴⎕A"
   ]
  },
  {
   "cell_type": "markdown",
   "id": "ed52b65a",
   "metadata": {},
   "source": [
    "Also, in this case, you don't _need_ `⊢⍤`, but it is good for clarity, and necessary if used inline in a train. A golfing tip regarding `⍥`: you can sometimes use it to pre-process the left argument, when it is a no-op on the right. For example, `1≡⍥,≡,⍴`, only ravels the left argument, since the right argument already is a vector."
   ]
  },
  {
   "cell_type": "code",
   "execution_count": null,
   "id": "0c948d89",
   "metadata": {},
   "outputs": [],
   "source": []
  }
 ],
 "metadata": {
  "kernelspec": {
   "display_name": "Dyalog APL",
   "language": "apl",
   "name": "dyalog-kernel"
  },
  "language_info": {
   "file_extension": ".apl",
   "mimetype": "text/apl",
   "name": "APL"
  }
 },
 "nbformat": 4,
 "nbformat_minor": 5
}
