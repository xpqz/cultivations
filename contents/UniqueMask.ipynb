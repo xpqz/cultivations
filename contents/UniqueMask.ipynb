{
 "cells": [
  {
   "cell_type": "markdown",
   "id": "6eb0de1e",
   "metadata": {},
   "source": [
    "# Unique mask in depth `≠`\n",
    "\n",
    "Let's have a look at monadic `≠`, called called [unique mask](http://help.dyalog.com/latest/index.htm#Language/Primitive%20Functions/Unique%20Mask.htm) or _nub sieve_. Note that it isn't particularly related to the dyadic form (unequal). Instead, it relates to [unique](http://help.dyalog.com/latest/index.htm#Language/Primitive%20Functions/Unique.htm), `∪`. _Unique_ returns a subset of the major cells of its argument. _Unique mask_ returns a Boolean vector which, when used as left argument to `⌿` and with the original argument as right argument, returns the same as _unique_ would on the original argument:"
   ]
  },
  {
   "cell_type": "code",
   "execution_count": 1,
   "id": "538a917d",
   "metadata": {},
   "outputs": [
    {
     "data": {
      "text/html": [
       "<span style=\"white-space:pre; font-family: monospace\">\n",
       "Rebuilding user command cache... done\n",
       "</span>"
      ]
     },
     "execution_count": 1,
     "metadata": {},
     "output_type": "execute_result"
    },
    {
     "data": {
      "text/html": [
       "<span style=\"white-space:pre; font-family: monospace\">misp\n",
       "</span>"
      ]
     },
     "execution_count": 1,
     "metadata": {},
     "output_type": "execute_result"
    },
    {
     "data": {
      "text/html": [
       "<span style=\"white-space:pre; font-family: monospace\">1 1 1 0 0 0 0 0 1 0 0\n",
       "</span>"
      ]
     },
     "execution_count": 1,
     "metadata": {},
     "output_type": "execute_result"
    },
    {
     "data": {
      "text/html": [
       "<span style=\"white-space:pre; font-family: monospace\">misp\n",
       "</span>"
      ]
     },
     "execution_count": 1,
     "metadata": {},
     "output_type": "execute_result"
    }
   ],
   "source": [
    "∪'mississippi'\n",
    "≠'mississippi'\n",
    "{(≠⍵)⌿⍵}'mississippi'"
   ]
  },
  {
   "cell_type": "markdown",
   "id": "f56d2d4f",
   "metadata": {},
   "source": [
    "Why might we need such a function? Compared with `∪Y`, you can use the results from `≠Y` to filter _other_ arrays, or indeed to do other computations. It is as if `∪Y` already applied their implied information before you had a chance to use that info for what you wanted. It's also worth noting that the result of `≠Y` is much more light-weight than `∪Y`, in that it only ever has one bit per major cell, while `∪Y` could end up duplicating a lot of data.\n",
    "\n",
    "Another thing you can do with the mask is to combine it with other masks: "
   ]
  },
  {
   "cell_type": "code",
   "execution_count": 3,
   "id": "c4c6b067",
   "metadata": {},
   "outputs": [
    {
     "data": {
      "text/html": [
       "<span style=\"white-space:pre; font-family: monospace\">0 1 0 0 1 0 0 0 0 0 0\n",
       "</span>"
      ]
     },
     "execution_count": 3,
     "metadata": {},
     "output_type": "execute_result"
    },
    {
     "data": {
      "text/html": [
       "<span style=\"white-space:pre; font-family: monospace\">eo\n",
       "</span>"
      ]
     },
     "execution_count": 3,
     "metadata": {},
     "output_type": "execute_result"
    }
   ],
   "source": [
    "m←⎕←(≠∧∊∘'aeiou')t←'hello world'\n",
    "m/t"
   ]
  },
  {
   "cell_type": "markdown",
   "id": "d0da099a",
   "metadata": {},
   "source": [
    "which gives the unique vowels. Of course, in this case, you could equally well write `'aeiou'∩'hello world'` but this example is to illustrate the concept.  \n",
    "\n",
    "Here's another example. Given some text (simple character vector) `t`, return a matrix so that the first instance of each occurring character is \"underlined\". Here's one approach:"
   ]
  },
  {
   "cell_type": "code",
   "execution_count": 6,
   "id": "59e920b5",
   "metadata": {},
   "outputs": [],
   "source": [
    "F1 ← ↑⊢,⍥⊂'-'\\⍨≠"
   ]
  },
  {
   "cell_type": "code",
   "execution_count": 7,
   "id": "dad0954b",
   "metadata": {},
   "outputs": [
    {
     "data": {
      "text/html": [
       "<span style=\"white-space:pre; font-family: monospace\">mississippi\n",
       "---     -  \n",
       "</span>"
      ]
     },
     "execution_count": 7,
     "metadata": {},
     "output_type": "execute_result"
    },
    {
     "data": {
      "text/html": [
       "<span style=\"white-space:pre; font-family: monospace\">hello world\n",
       "--- --- - -\n",
       "</span>"
      ]
     },
     "execution_count": 7,
     "metadata": {},
     "output_type": "execute_result"
    }
   ],
   "source": [
    "F1 'mississippi'\n",
    "F1 'hello world'"
   ]
  },
  {
   "cell_type": "markdown",
   "id": "9524af0f",
   "metadata": {},
   "source": [
    "Here's another,"
   ]
  },
  {
   "cell_type": "code",
   "execution_count": 12,
   "id": "01710577",
   "metadata": {},
   "outputs": [],
   "source": [
    "F2 ← {⎕IO←0⋄↑⍵(' _'[≠⍵])} "
   ]
  },
  {
   "cell_type": "code",
   "execution_count": 13,
   "id": "229b614d",
   "metadata": {},
   "outputs": [
    {
     "data": {
      "text/html": [
       "<span style=\"white-space:pre; font-family: monospace\">mississippi\n",
       "___     _  \n",
       "</span>"
      ]
     },
     "execution_count": 13,
     "metadata": {},
     "output_type": "execute_result"
    },
    {
     "data": {
      "text/html": [
       "<span style=\"white-space:pre; font-family: monospace\">hello world\n",
       "___ ___ _ _\n",
       "</span>"
      ]
     },
     "execution_count": 13,
     "metadata": {},
     "output_type": "execute_result"
    }
   ],
   "source": [
    "F2 'mississippi'\n",
    "F2 'hello world'"
   ]
  },
  {
   "cell_type": "markdown",
   "id": "e130fd10",
   "metadata": {},
   "source": [
    "A final example: given a vector, return the set of elements which have duplicates, preserving order:"
   ]
  },
  {
   "cell_type": "code",
   "execution_count": 16,
   "id": "832d1c12",
   "metadata": {},
   "outputs": [],
   "source": [
    "F3 ← (∪∩{⍵/⍨~≠⍵}) ⍝ h/t @bubbler"
   ]
  },
  {
   "cell_type": "code",
   "execution_count": 17,
   "id": "97ea3be3",
   "metadata": {},
   "outputs": [
    {
     "data": {
      "text/html": [
       "<span style=\"white-space:pre; font-family: monospace\">isp\n",
       "</span>"
      ]
     },
     "execution_count": 17,
     "metadata": {},
     "output_type": "execute_result"
    },
    {
     "data": {
      "text/html": [
       "<span style=\"white-space:pre; font-family: monospace\">lo\n",
       "</span>"
      ]
     },
     "execution_count": 17,
     "metadata": {},
     "output_type": "execute_result"
    }
   ],
   "source": [
    "F3 'mississippi'\n",
    "F3 'hello world'"
   ]
  },
  {
   "cell_type": "code",
   "execution_count": null,
   "id": "ff1d378c",
   "metadata": {},
   "outputs": [],
   "source": []
  }
 ],
 "metadata": {
  "kernelspec": {
   "display_name": "Dyalog APL",
   "language": "apl",
   "name": "dyalog-kernel"
  },
  "language_info": {
   "file_extension": ".apl",
   "mimetype": "text/apl",
   "name": "APL"
  }
 },
 "nbformat": 4,
 "nbformat_minor": 5
}
