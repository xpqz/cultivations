{
 "cells": [
  {
   "cell_type": "markdown",
   "id": "27995ff9",
   "metadata": {},
   "source": [
    "# `⊂⊃⊆⌷⍋⍒` \n",
    "## Enclose `⊂` \n",
    "\n",
    "Monadic `⊂` [encloses](http://help.dyalog.com/latest/index.htm#Language/Primitive%20Functions/Enclose.htm) its argument. It packages an arbitrary structure into a scalar. Simple scalars cannot be enclosed. We can turn on boxed output with the `]box` user command to illustrate APL's array structure in more detail:"
   ]
  },
  {
   "cell_type": "code",
   "execution_count": 1,
   "id": "ce5d06fb",
   "metadata": {},
   "outputs": [
    {
     "data": {
      "text/html": [
       "<span style=\"white-space:pre; font-family: monospace\">┌→────────────────┐\n",
       "│Was ON -style=min│\n",
       "└─────────────────┘\n",
       "</span>"
      ]
     },
     "execution_count": 1,
     "metadata": {},
     "output_type": "execute_result"
    }
   ],
   "source": [
    "]box on -s=max"
   ]
  },
  {
   "cell_type": "code",
   "execution_count": 2,
   "id": "686eef73",
   "metadata": {},
   "outputs": [
    {
     "data": {
      "text/html": [
       "<span style=\"white-space:pre; font-family: monospace\">┌→──────┐\n",
       "│1 2 3 4│\n",
       "└~──────┘\n",
       "</span>"
      ]
     },
     "execution_count": 2,
     "metadata": {},
     "output_type": "execute_result"
    },
    {
     "data": {
      "text/html": [
       "<span style=\"white-space:pre; font-family: monospace\">┌───────────┐\n",
       "│ ┌→──────┐ │\n",
       "│ │1 2 3 4│ │\n",
       "│ └~──────┘ │\n",
       "└∊──────────┘\n",
       "</span>"
      ]
     },
     "execution_count": 2,
     "metadata": {},
     "output_type": "execute_result"
    }
   ],
   "source": [
    "v←1 2 3 4\n",
    "v\n",
    "⊂v"
   ]
  },
  {
   "cell_type": "markdown",
   "id": "307a82d0",
   "metadata": {},
   "source": [
    "The little epsilon `∊` in the bottom of the outer box indicates the enclosure.\n",
    "\n",
    "If we tally an enclosed structure, it should come out as 1:"
   ]
  },
  {
   "cell_type": "code",
   "execution_count": 3,
   "id": "24109623",
   "metadata": {},
   "outputs": [
    {
     "data": {
      "text/html": [
       "<span style=\"white-space:pre; font-family: monospace\"> \n",
       "1\n",
       " \n",
       "</span>"
      ]
     },
     "execution_count": 3,
     "metadata": {},
     "output_type": "execute_result"
    }
   ],
   "source": [
    "≢⊂v   ⍝ an enclosed vector is a scalar"
   ]
  },
  {
   "cell_type": "markdown",
   "id": "f4b74ea9",
   "metadata": {},
   "source": [
    "Here's another example:"
   ]
  },
  {
   "cell_type": "code",
   "execution_count": 4,
   "id": "e3142b78",
   "metadata": {},
   "outputs": [
    {
     "data": {
      "text/html": [
       "<span style=\"white-space:pre; font-family: monospace\">┌→─────┐\n",
       "↓ABCABC│\n",
       "│DEFDEF│\n",
       "│GHIGHI│\n",
       "└──────┘\n",
       "</span>"
      ]
     },
     "execution_count": 4,
     "metadata": {},
     "output_type": "execute_result"
    },
    {
     "data": {
      "text/html": [
       "<span style=\"white-space:pre; font-family: monospace\">┌→────────────┐\n",
       "│ ┌→──┐ ┌→──┐ │\n",
       "│ ↓ABC│ ↓ABC│ │\n",
       "│ │DEF│ │DEF│ │\n",
       "│ │GHI│ │GHI│ │\n",
       "│ └───┘ └───┘ │\n",
       "└∊────────────┘\n",
       "</span>"
      ]
     },
     "execution_count": 4,
     "metadata": {},
     "output_type": "execute_result"
    }
   ],
   "source": [
    "(3 3⍴⎕A),(3 3⍴⎕A)   ⍝ concatenation of two matrices. \n",
    "(⊂3 3⍴⎕A),(⊂3 3⍴⎕A) ⍝ concatenation of two enclosed matrices"
   ]
  },
  {
   "cell_type": "markdown",
   "id": "6a9262f6",
   "metadata": {},
   "source": [
    "The first gave us a matrix of shape 3 6, the second gave a vector of shape 2. "
   ]
  },
  {
   "cell_type": "code",
   "execution_count": 5,
   "id": "9256e7a1",
   "metadata": {},
   "outputs": [
    {
     "data": {
      "text/html": [
       "<span style=\"white-space:pre; font-family: monospace\">┌→────────────┐\n",
       "↓       ┌→──┐ │\n",
       "│ A B C ↓ABC│ │\n",
       "│ - - - │DEF│ │\n",
       "│       │GHI│ │\n",
       "│       └───┘ │\n",
       "│       ┌→──┐ │\n",
       "│ D E F ↓ABC│ │\n",
       "│ - - - │DEF│ │\n",
       "│       │GHI│ │\n",
       "│       └───┘ │\n",
       "│       ┌→──┐ │\n",
       "│ G H I ↓ABC│ │\n",
       "│ - - - │DEF│ │\n",
       "│       │GHI│ │\n",
       "│       └───┘ │\n",
       "└∊────────────┘\n",
       "</span>"
      ]
     },
     "execution_count": 5,
     "metadata": {},
     "output_type": "execute_result"
    }
   ],
   "source": [
    "(3 3⍴⎕A),(⊂3 3⍴⎕A) ⍝ concatenation of a matrix and an enclosed matrix "
   ]
  },
  {
   "cell_type": "markdown",
   "id": "bbd44c8c",
   "metadata": {},
   "source": [
    "Concatenating a scalar to a matrix uses the scalar for each row. Here the entire right-hand matrix was treated as a scalar because it was enclosed."
   ]
  },
  {
   "cell_type": "code",
   "execution_count": 6,
   "id": "2d6fd7bd",
   "metadata": {},
   "outputs": [
    {
     "data": {
      "text/html": [
       "<span style=\"white-space:pre; font-family: monospace\">┌→───┐\n",
       "↓ABCx│\n",
       "│DEFx│\n",
       "│GHIx│\n",
       "└────┘\n",
       "</span>"
      ]
     },
     "execution_count": 6,
     "metadata": {},
     "output_type": "execute_result"
    }
   ],
   "source": [
    "(3 3⍴⎕A),'x'"
   ]
  },
  {
   "cell_type": "markdown",
   "id": "145f5b9c",
   "metadata": {},
   "source": [
    "So you can (and should) use `⊂` to tell APL how you want the scalar extension (auto-vectorisation) to be applied.\n",
    "\n",
    "`⊂` is also good for treating text vectors as strings (i.e. in one piece): "
   ]
  },
  {
   "cell_type": "code",
   "execution_count": 7,
   "id": "64e37bc9",
   "metadata": {},
   "outputs": [
    {
     "data": {
      "text/html": [
       "<span style=\"white-space:pre; font-family: monospace\">┌→────┐\n",
       "│4 4 4│\n",
       "└~────┘\n",
       "</span>"
      ]
     },
     "execution_count": 7,
     "metadata": {},
     "output_type": "execute_result"
    }
   ],
   "source": [
    "'aaa' 'bbb' 'ccc' ⍳ 'aaa'"
   ]
  },
  {
   "cell_type": "markdown",
   "id": "bccf5309",
   "metadata": {},
   "source": [
    "This says that each one of the three right-side 'a's is found in position 4 (i.e. are not) in the left-side list."
   ]
  },
  {
   "cell_type": "code",
   "execution_count": 8,
   "id": "7646f778",
   "metadata": {},
   "outputs": [
    {
     "data": {
      "text/html": [
       "<span style=\"white-space:pre; font-family: monospace\"> \n",
       "1\n",
       " \n",
       "</span>"
      ]
     },
     "execution_count": 8,
     "metadata": {},
     "output_type": "execute_result"
    }
   ],
   "source": [
    "'aaa' 'bbb' 'ccc' ⍳ ⊂'aaa'"
   ]
  },
  {
   "cell_type": "markdown",
   "id": "8473e15e",
   "metadata": {},
   "source": [
    "This says that 'aaa' is the first string.\n",
    "\n",
    "## Partitioned enclose `⊂`\n",
    "\n",
    "Dyadic `⊂` is [partitioned enclose](http://help.dyalog.com/latest/index.htm#Language/Primitive%20Functions/Partitioned%20Enclose.htm). It encloses (hence sharing the symbol) pieces of the right argument as indicated by the left argument. Best to use an example: "
   ]
  },
  {
   "cell_type": "code",
   "execution_count": 9,
   "id": "874658f9",
   "metadata": {},
   "outputs": [
    {
     "data": {
      "text/html": [
       "<span style=\"white-space:pre; font-family: monospace\">┌→───────────────────────┐\n",
       "│ ┌→──┐ ┌→─┐ ┌→───┐ ┌→─┐ │\n",
       "│ │Hel│ │lo│ │ Wor│ │ld│ │\n",
       "│ └───┘ └──┘ └────┘ └──┘ │\n",
       "└∊───────────────────────┘\n",
       "</span>"
      ]
     },
     "execution_count": 9,
     "metadata": {},
     "output_type": "execute_result"
    }
   ],
   "source": [
    "1 0 0 1 0 1 0 0 0 1 0⊂'Hello World' "
   ]
  },
  {
   "cell_type": "markdown",
   "id": "803ae73d",
   "metadata": {},
   "source": [
    "This works on higher rank arrays, too. It partitions along the last axis:"
   ]
  },
  {
   "cell_type": "code",
   "execution_count": 10,
   "id": "d5b02885",
   "metadata": {},
   "outputs": [
    {
     "data": {
      "text/html": [
       "<span style=\"white-space:pre; font-family: monospace\">┌→───────────────────────────────┐\n",
       "│ ┌→─┐ ┌→──┐ ┌→─┐ ┌→───┐ ┌→┐ ┌→┐ │\n",
       "│ ↓AB│ ↓CDE│ ↓FG│ ↓HIJK│ ↓L│ ↓M│ │\n",
       "│ │NO│ │PQR│ │ST│ │UVWX│ │Y│ │Z│ │\n",
       "│ └──┘ └───┘ └──┘ └────┘ └─┘ └─┘ │\n",
       "└∊───────────────────────────────┘\n",
       "</span>"
      ]
     },
     "execution_count": 10,
     "metadata": {},
     "output_type": "execute_result"
    }
   ],
   "source": [
    "1 0 1 0 0 1 0 1 0 0 0 1 1 ⊂ 2 13⍴⎕A"
   ]
  },
  {
   "cell_type": "markdown",
   "id": "120a5257",
   "metadata": {},
   "source": [
    "For vectors, `1⊂` is the same as `,¨` which may be useful in trains where you want to have a left argument.\n",
    "For higher rank arrays, `1⊂` cuts into columns:"
   ]
  },
  {
   "cell_type": "code",
   "execution_count": 11,
   "id": "04697c14",
   "metadata": {},
   "outputs": [
    {
     "data": {
      "text/html": [
       "<span style=\"white-space:pre; font-family: monospace\">┌→────────────────────────────────────────────────────┐\n",
       "│ ┌→┐ ┌→┐ ┌→┐ ┌→┐ ┌→┐ ┌→┐ ┌→┐ ┌→┐ ┌→┐ ┌→┐ ┌→┐ ┌→┐ ┌→┐ │\n",
       "│ ↓A│ ↓B│ ↓C│ ↓D│ ↓E│ ↓F│ ↓G│ ↓H│ ↓I│ ↓J│ ↓K│ ↓L│ ↓M│ │\n",
       "│ │N│ │O│ │P│ │Q│ │R│ │S│ │T│ │U│ │V│ │W│ │X│ │Y│ │Z│ │\n",
       "│ └─┘ └─┘ └─┘ └─┘ └─┘ └─┘ └─┘ └─┘ └─┘ └─┘ └─┘ └─┘ └─┘ │\n",
       "└∊────────────────────────────────────────────────────┘\n",
       "</span>"
      ]
     },
     "execution_count": 11,
     "metadata": {},
     "output_type": "execute_result"
    }
   ],
   "source": [
    "1 ⊂ 2 13⍴⎕A"
   ]
  },
  {
   "cell_type": "markdown",
   "id": "f7fab8ee",
   "metadata": {},
   "source": [
    "You can use brackets to indicate which axis you wish to cut along: "
   ]
  },
  {
   "cell_type": "code",
   "execution_count": 12,
   "id": "8bd66204",
   "metadata": {},
   "outputs": [
    {
     "data": {
      "text/html": [
       "<span style=\"white-space:pre; font-family: monospace\">┌→────────────────────────────────┐\n",
       "│ ┌→────────────┐ ┌→────────────┐ │\n",
       "│ ↓ABCDEFGHIJKLM│ ↓NOPQRSTUVWXYZ│ │\n",
       "│ └─────────────┘ └─────────────┘ │\n",
       "└∊────────────────────────────────┘\n",
       "</span>"
      ]
     },
     "execution_count": 12,
     "metadata": {},
     "output_type": "execute_result"
    },
    {
     "data": {
      "text/html": [
       "<span style=\"white-space:pre; font-family: monospace\">┌→──────────────────┐\n",
       "│ ┌→──┐ ┌→──┐ ┌→──┐ │\n",
       "│ ↓ABC│ ↓GHI│ ↓JKL│ │\n",
       "│ │DEF│ └───┘ └───┘ │\n",
       "│ └───┘             │\n",
       "└∊──────────────────┘\n",
       "</span>"
      ]
     },
     "execution_count": 12,
     "metadata": {},
     "output_type": "execute_result"
    }
   ],
   "source": [
    "1 ⊂[1] 2 13⍴⎕A\n",
    "1 0 1 1 ⊂[1] 4 3⍴⎕A "
   ]
  },
  {
   "cell_type": "markdown",
   "id": "54f3104e",
   "metadata": {},
   "source": [
    "Note that the left argument need not be the same length as the right argument. If it's shorter, it's assumed to consist of zeros to the end:"
   ]
  },
  {
   "cell_type": "code",
   "execution_count": 13,
   "id": "7f34d536",
   "metadata": {},
   "outputs": [
    {
     "data": {
      "text/html": [
       "<span style=\"white-space:pre; font-family: monospace\">┌→──────────────────┐\n",
       "│1 0 0 0 1 0 0 0 0 1│\n",
       "└~──────────────────┘\n",
       "</span>"
      ]
     },
     "execution_count": 13,
     "metadata": {},
     "output_type": "execute_result"
    },
    {
     "data": {
      "text/html": [
       "<span style=\"white-space:pre; font-family: monospace\">┌→───────────────────────────────────┐\n",
       "│ ┌→───┐ ┌→────┐ ┌→────────────────┐ │\n",
       "│ │ABCD│ │EFGHI│ │JKLMNOPQRSTUVWXYZ│ │\n",
       "│ └────┘ └─────┘ └─────────────────┘ │\n",
       "└∊───────────────────────────────────┘\n",
       "</span>"
      ]
     },
     "execution_count": 13,
     "metadata": {},
     "output_type": "execute_result"
    }
   ],
   "source": [
    "⍸⍣¯1⊢1 5 10        \n",
    "(⍸⍣¯1⊢1 5 10)⊂⎕A ⍝ note: left arg is length 10. right arg is length 26"
   ]
  },
  {
   "cell_type": "markdown",
   "id": "ef3a487f",
   "metadata": {},
   "source": [
    "Another common use of dyadic `⊂` is to split a vector into its head and tail:"
   ]
  },
  {
   "cell_type": "code",
   "execution_count": 14,
   "id": "ccbb326c",
   "metadata": {},
   "outputs": [
    {
     "data": {
      "text/html": [
       "<span style=\"white-space:pre; font-family: monospace\">┌→──────────────────┐\n",
       "│ ┌→┐ ┌→──────────┐ │\n",
       "│ │1│ │2 3 4 5 6 7│ │\n",
       "│ └~┘ └~──────────┘ │\n",
       "└∊──────────────────┘\n",
       "</span>"
      ]
     },
     "execution_count": 14,
     "metadata": {},
     "output_type": "execute_result"
    }
   ],
   "source": [
    "1 1⊂1 2 3 4 5 6 7"
   ]
  },
  {
   "cell_type": "markdown",
   "id": "e028b146",
   "metadata": {},
   "source": [
    "The left argument does not have to be a Boolean vector, but can in fact be any simple numeric vector. We can think of each number as specifying the number of steps to the left of its next neighbour it is. In other words, we can generate empty segments:"
   ]
  },
  {
   "cell_type": "code",
   "execution_count": 8,
   "id": "33bc6b21",
   "metadata": {},
   "outputs": [
    {
     "data": {
      "text/html": [
       "<span style=\"white-space:pre; font-family: monospace\">┌──┬──┬──┬──┐\n",
       "│AB│CD│EF│GH│\n",
       "└──┴──┴──┴──┘\n",
       "</span>"
      ]
     },
     "execution_count": 8,
     "metadata": {},
     "output_type": "execute_result"
    },
    {
     "data": {
      "text/html": [
       "<span style=\"white-space:pre; font-family: monospace\">┌──┬┬──┬┬┬┬┬──┬┬──┐\n",
       "│AB││CD│││││EF││GH│\n",
       "└──┴┴──┴┴┴┴┴──┴┴──┘\n",
       "</span>"
      ]
     },
     "execution_count": 8,
     "metadata": {},
     "output_type": "execute_result"
    },
    {
     "data": {
      "text/html": [
       "<span style=\"white-space:pre; font-family: monospace\">┌───┬┬─┬┬───────┐\n",
       "│Ken││E││Iverson│\n",
       "└───┴┴─┴┴───────┘\n",
       "</span>"
      ]
     },
     "execution_count": 8,
     "metadata": {},
     "output_type": "execute_result"
    }
   ],
   "source": [
    "1 0 1 0 1 0 1 0 ⊂ 'ABCDEFGH'\n",
    "1 0 2 0 5 0 2 0 ⊂ 'ABCDEFGH'\n",
    "1 0 0 2 2 0 0 0 0 0 0 ⊂ 'KenEIverson'"
   ]
  },
  {
   "cell_type": "markdown",
   "id": "f14c10ba",
   "metadata": {},
   "source": [
    "Here's a practical example. Let's say we have some sorted data, and we'll like to group it by interval. "
   ]
  },
  {
   "cell_type": "code",
   "execution_count": 9,
   "id": "60b4f5a4",
   "metadata": {},
   "outputs": [],
   "source": [
    "values  ← 3 14 15 35 65 89 92\n",
    "cutoffs ← 0 20 40 60 80 100"
   ]
  },
  {
   "cell_type": "markdown",
   "id": "1c9175cd",
   "metadata": {},
   "source": [
    "We want to end up with `(3 14 15) (,35) ⍬ (,65) (89 92)`. That is, all the numbers in the interval `[0,20)` and in `[20,40)` etc. To get the index of each value's interval, we begin by applying Interval Index:"
   ]
  },
  {
   "cell_type": "code",
   "execution_count": 10,
   "id": "387f0e03",
   "metadata": {},
   "outputs": [
    {
     "data": {
      "text/html": [
       "<span style=\"white-space:pre; font-family: monospace\">1 1 1 2 4 5 5\n",
       "</span>"
      ]
     },
     "execution_count": 10,
     "metadata": {},
     "output_type": "execute_result"
    }
   ],
   "source": [
    "cutoffs ⍸ values"
   ]
  },
  {
   "cell_type": "markdown",
   "id": "09674918",
   "metadata": {},
   "source": [
    "Now, you might think that Key `⌸` could do the trick, but then we'd have to insert all the possible intervals. "
   ]
  },
  {
   "cell_type": "code",
   "execution_count": 13,
   "id": "ebb46e49",
   "metadata": {},
   "outputs": [
    {
     "data": {
      "text/html": [
       "<span style=\"white-space:pre; font-family: monospace\">┌───────┬──┬┬──┬─────┬┐\n",
       "│3 14 15│35││65│89 92││\n",
       "└───────┴──┴┴──┴─────┴┘\n",
       "</span>"
      ]
     },
     "execution_count": 13,
     "metadata": {},
     "output_type": "execute_result"
    }
   ],
   "source": [
    "(cutoffs⍸values) {⊂1↓⍵}⌸⍥{⍵,⍨⍳≢cutoffs} values"
   ]
  },
  {
   "cell_type": "markdown",
   "id": "4e1b745a",
   "metadata": {},
   "source": [
    "However, using partitioned enclose with a non-Boolean left argument, we can craft a much more elegant solution:"
   ]
  },
  {
   "cell_type": "code",
   "execution_count": 12,
   "id": "82145857",
   "metadata": {},
   "outputs": [
    {
     "data": {
      "text/html": [
       "<span style=\"white-space:pre; font-family: monospace\">┌───────┬──┬┬──┬─────┐\n",
       "│3 14 15│35││65│89 92│\n",
       "└───────┴──┴┴──┴─────┘\n",
       "</span>"
      ]
     },
     "execution_count": 12,
     "metadata": {},
     "output_type": "execute_result"
    }
   ],
   "source": [
    "(1,2-⍨/cutoffs⍸values)⊂values"
   ]
  },
  {
   "cell_type": "markdown",
   "id": "0ef393e8",
   "metadata": {},
   "source": [
    "or, as a train,"
   ]
  },
  {
   "cell_type": "code",
   "execution_count": 14,
   "id": "b4e6c524",
   "metadata": {},
   "outputs": [
    {
     "data": {
      "text/html": [
       "<span style=\"white-space:pre; font-family: monospace\">┌───────┬──┬┬──┬─────┐\n",
       "│3 14 15│35││65│89 92│\n",
       "└───────┴──┴┴──┴─────┘\n",
       "</span>"
      ]
     },
     "execution_count": 14,
     "metadata": {},
     "output_type": "execute_result"
    }
   ],
   "source": [
    "cutoffs (⊢⊂⍨1,2-⍨/⍸) values"
   ]
  },
  {
   "cell_type": "markdown",
   "id": "4cd606f6",
   "metadata": {},
   "source": [
    "Here's another handy trick. Let's say we want to split a vector at a given set of indices, in other words, "
   ]
  },
  {
   "cell_type": "code",
   "execution_count": 16,
   "id": "ec8fd941",
   "metadata": {},
   "outputs": [
    {
     "data": {
      "text/html": [
       "<span style=\"white-space:pre; font-family: monospace\">1 0 0 1 1 0 0 0 0 0 0\n",
       "</span>"
      ]
     },
     "execution_count": 16,
     "metadata": {},
     "output_type": "execute_result"
    },
    {
     "data": {
      "text/html": [
       "<span style=\"white-space:pre; font-family: monospace\">┌───┬─┬───────┐\n",
       "│Ken│E│Iverson│\n",
       "└───┴─┴───────┘\n",
       "</span>"
      ]
     },
     "execution_count": 16,
     "metadata": {},
     "output_type": "execute_result"
    }
   ],
   "source": [
    "mask ← ⎕ ←'KenEIverson'∊⎕A\n",
    "mask ⊂ 'KenEIverson'"
   ]
  },
  {
   "cell_type": "markdown",
   "id": "83e0775b",
   "metadata": {},
   "source": [
    "...but if instead of the mask, we started with the indices of the 1s: 1 4 5? "
   ]
  },
  {
   "cell_type": "code",
   "execution_count": 17,
   "id": "d784f0ce",
   "metadata": {},
   "outputs": [
    {
     "data": {
      "text/html": [
       "<span style=\"white-space:pre; font-family: monospace\">┌───┬─┬───────┐\n",
       "│Ken│E│Iverson│\n",
       "└───┴─┴───────┘\n",
       "</span>"
      ]
     },
     "execution_count": 17,
     "metadata": {},
     "output_type": "execute_result"
    }
   ],
   "source": [
    "(⍸⍣¯1⊢1 4 5)⊂'KenEIverson' ⍝ ⍸ has an inverse!"
   ]
  },
  {
   "cell_type": "markdown",
   "id": "c5114a62",
   "metadata": {},
   "source": [
    "Anyway, this shows another extension introduced in 18.0, namely that `⍸⍣¯1` conveniently works, but what you might not notice is that it also shows a further extension of `⊂`. Observe: "
   ]
  },
  {
   "cell_type": "code",
   "execution_count": 18,
   "id": "fa9aa2c0",
   "metadata": {},
   "outputs": [
    {
     "data": {
      "text/html": [
       "<span style=\"white-space:pre; font-family: monospace\">1 0 0 1 1\n",
       "┌───┬─┬───────┐\n",
       "│Ken│E│Iverson│\n",
       "└───┴─┴───────┘\n",
       "</span>"
      ]
     },
     "execution_count": 18,
     "metadata": {},
     "output_type": "execute_result"
    }
   ],
   "source": [
    "(⎕←⍸⍣¯1⊢1 4 5)⊂'KenEIverson'"
   ]
  },
  {
   "cell_type": "markdown",
   "id": "a7fa3f17",
   "metadata": {},
   "source": [
    "Note that the length of `⍸⍣¯1⊢1 4 5` doesn't match the length of the string. Until 17.1, the arguments of `⊂` had to have exactly the same length. Now, the left argument can have any length up until 1+the length of the right argument, to allow some empty partitions at the end. "
   ]
  },
  {
   "cell_type": "code",
   "execution_count": 19,
   "id": "c09041b4",
   "metadata": {},
   "outputs": [
    {
     "data": {
      "text/html": [
       "<span style=\"white-space:pre; font-family: monospace\">┌───┬─┬─┬┬┐\n",
       "│Hel│l│o│││\n",
       "└───┴─┴─┴┴┘\n",
       "</span>"
      ]
     },
     "execution_count": 19,
     "metadata": {},
     "output_type": "execute_result"
    }
   ],
   "source": [
    "1 0 0 1 1 2⊂'Hello'"
   ]
  },
  {
   "cell_type": "markdown",
   "id": "03b2291e",
   "metadata": {},
   "source": [
    "So `⊂` will assume that any \"missing\" elements in its left argument are 0. \n",
    "\n",
    "Sometimes, you want to split into a head and a tail, like `1(↑{⍺⍵}↓)vector`. We can now do this: "
   ]
  },
  {
   "cell_type": "code",
   "execution_count": null,
   "id": "6544310e",
   "metadata": {},
   "outputs": [],
   "source": []
  },
  {
   "cell_type": "code",
   "execution_count": null,
   "id": "3d00581c",
   "metadata": {},
   "outputs": [],
   "source": []
  },
  {
   "cell_type": "markdown",
   "id": "4c84bea3",
   "metadata": {},
   "source": [
    "## Disclose `⊃`\n",
    "\n",
    "Monadic `⊃` is [disclose](http://help.dyalog.com/latest/index.htm#Language/Primitive%20Functions/Disclose.htm), which is pretty much the inverse of monadic `⊂`. It discloses a scalar (again, if possible; a simple scalar remains the same). If you use it on a high rank array (i.e. not enclosed), it will give you the first (top left) element: "
   ]
  },
  {
   "cell_type": "code",
   "execution_count": 15,
   "id": "98472414",
   "metadata": {},
   "outputs": [
    {
     "data": {
      "text/html": [
       "<span style=\"white-space:pre; font-family: monospace\">┌→──┐\n",
       "↓ABC│\n",
       "│DEF│\n",
       "│GHI│\n",
       "└───┘\n",
       "</span>"
      ]
     },
     "execution_count": 15,
     "metadata": {},
     "output_type": "execute_result"
    },
    {
     "data": {
      "text/html": [
       "<span style=\"white-space:pre; font-family: monospace\">┌───────┐\n",
       "│ ┌→──┐ │\n",
       "│ ↓ABC│ │\n",
       "│ │DEF│ │\n",
       "│ │GHI│ │\n",
       "│ └───┘ │\n",
       "└∊──────┘\n",
       "</span>"
      ]
     },
     "execution_count": 15,
     "metadata": {},
     "output_type": "execute_result"
    },
    {
     "data": {
      "text/html": [
       "<span style=\"white-space:pre; font-family: monospace\">┌→──┐\n",
       "↓ABC│\n",
       "│DEF│\n",
       "│GHI│\n",
       "└───┘\n",
       "</span>"
      ]
     },
     "execution_count": 15,
     "metadata": {},
     "output_type": "execute_result"
    },
    {
     "data": {
      "text/html": [
       "<span style=\"white-space:pre; font-family: monospace\"> \n",
       "A\n",
       "-\n",
       "</span>"
      ]
     },
     "execution_count": 15,
     "metadata": {},
     "output_type": "execute_result"
    }
   ],
   "source": [
    "3 3⍴⎕A      ⍝ 3x3 matrix\n",
    "⊂3 3⍴⎕A     ⍝ enclosed\n",
    "⊃⊂3 3⍴⎕A    ⍝ disclose enclosed\n",
    "⊃3 3⍴⎕A     ⍝ dislclose unenclosed gives the first element"
   ]
  },
  {
   "cell_type": "markdown",
   "id": "37265fd8",
   "metadata": {},
   "source": [
    "The last feature (\"first\") means that you can combine it with reverses etc, to get corner elements: "
   ]
  },
  {
   "cell_type": "code",
   "execution_count": 16,
   "id": "190cdd9b",
   "metadata": {},
   "outputs": [
    {
     "data": {
      "text/html": [
       "<span style=\"white-space:pre; font-family: monospace\"> \n",
       "C\n",
       "-\n",
       "</span>"
      ]
     },
     "execution_count": 16,
     "metadata": {},
     "output_type": "execute_result"
    },
    {
     "data": {
      "text/html": [
       "<span style=\"white-space:pre; font-family: monospace\"> \n",
       "G\n",
       "-\n",
       "</span>"
      ]
     },
     "execution_count": 16,
     "metadata": {},
     "output_type": "execute_result"
    }
   ],
   "source": [
    "⊃⌽3 3⍴⎕A ⍝ top right\n",
    "⊃⊖3 3⍴⎕A ⍝ bottom left "
   ]
  },
  {
   "cell_type": "markdown",
   "id": "72641d5f",
   "metadata": {},
   "source": [
    "You can use it with `¨` ([each](http://help.dyalog.com/latest/index.htm#Language/Primitive%20Operators/Each%20with%20Monadic%20Operand.htm)) to get initials:"
   ]
  },
  {
   "cell_type": "code",
   "execution_count": 17,
   "id": "f3a1db6e",
   "metadata": {},
   "outputs": [
    {
     "data": {
      "text/html": [
       "<span style=\"white-space:pre; font-family: monospace\">┌→──┐\n",
       "│KEI│\n",
       "└───┘\n",
       "</span>"
      ]
     },
     "execution_count": 17,
     "metadata": {},
     "output_type": "execute_result"
    }
   ],
   "source": [
    "⊃¨'Kenneth' 'Eugene' 'Iverson'"
   ]
  },
  {
   "cell_type": "markdown",
   "id": "2d7e5858",
   "metadata": {},
   "source": [
    "## Pick `⊃`\n",
    "\n",
    "Dyadic `⊃` is [pick](http://help.dyalog.com/latest/index.htm#Language/Primitive%20Functions/Pick.htm). It digs into nested arrays. Every scalar on its left is the index of an element in subsequent layers of nestedness: "
   ]
  },
  {
   "cell_type": "code",
   "execution_count": 18,
   "id": "545094d1",
   "metadata": {},
   "outputs": [
    {
     "data": {
      "text/html": [
       "<span style=\"white-space:pre; font-family: monospace\"> \n",
       "F\n",
       "-\n",
       "</span>"
      ]
     },
     "execution_count": 18,
     "metadata": {},
     "output_type": "execute_result"
    },
    {
     "data": {
      "text/html": [
       "<span style=\"white-space:pre; font-family: monospace\"> \n",
       "6\n",
       " \n",
       "</span>"
      ]
     },
     "execution_count": 18,
     "metadata": {},
     "output_type": "execute_result"
    }
   ],
   "source": [
    "(⊂2 3)⊃3 3⍴⎕A\n",
    "2 3 1⊃(1 2 3)(4 5 (6 7 8))"
   ]
  },
  {
   "cell_type": "markdown",
   "id": "9cfd7633",
   "metadata": {},
   "source": [
    "We can demonstrate this further. Here is a 2-by-2 matrix of two-element vectors:"
   ]
  },
  {
   "cell_type": "code",
   "execution_count": 19,
   "id": "fa970533",
   "metadata": {},
   "outputs": [
    {
     "data": {
      "text/html": [
       "<span style=\"white-space:pre; font-family: monospace\">┌→────────────┐\n",
       "↓ ┌→──┐ ┌→──┐ │\n",
       "│ │1 2│ │3 4│ │\n",
       "│ └~──┘ └~──┘ │\n",
       "│ ┌→──┐ ┌→──┐ │\n",
       "│ │5 6│ │7 8│ │\n",
       "│ └~──┘ └~──┘ │\n",
       "└∊────────────┘\n",
       "</span>"
      ]
     },
     "execution_count": 19,
     "metadata": {},
     "output_type": "execute_result"
    },
    {
     "data": {
      "text/html": [
       "<span style=\"white-space:pre; font-family: monospace\"> \n",
       "4\n",
       " \n",
       "</span>"
      ]
     },
     "execution_count": 19,
     "metadata": {},
     "output_type": "execute_result"
    }
   ],
   "source": [
    "2 2⍴(1 2)(3 4)(5 6)(7 8)\n",
    "(1 2) 2⊃2 2⍴(1 2)(3 4)(5 6)(7 8)"
   ]
  },
  {
   "cell_type": "markdown",
   "id": "c5133aeb",
   "metadata": {},
   "source": [
    "In the last statement, the first index is 1 2, which picks the element (3 4), and the second index is 2, which picks the 4.\n",
    "\n",
    "## Nest `⊆`\n",
    "\n",
    "Monadic `⊆` is called [nest](http://help.dyalog.com/latest/index.htm#Language/Primitive%20Functions/Nest.htm) because it guarantees you that the result is nested (non-simple). `(1 2)(3 4 5)` is already nested, and `⊆` won't do anything: "
   ]
  },
  {
   "cell_type": "code",
   "execution_count": 20,
   "id": "5ffa9864",
   "metadata": {},
   "outputs": [
    {
     "data": {
      "text/html": [
       "<span style=\"white-space:pre; font-family: monospace\">┌→──────────────┐\n",
       "│ ┌→──┐ ┌→────┐ │\n",
       "│ │1 2│ │3 4 5│ │\n",
       "│ └~──┘ └~────┘ │\n",
       "└∊──────────────┘\n",
       "</span>"
      ]
     },
     "execution_count": 20,
     "metadata": {},
     "output_type": "execute_result"
    },
    {
     "data": {
      "text/html": [
       "<span style=\"white-space:pre; font-family: monospace\">┌→──────────────┐\n",
       "│ ┌→──┐ ┌→────┐ │\n",
       "│ │1 2│ │3 4 5│ │\n",
       "│ └~──┘ └~────┘ │\n",
       "└∊──────────────┘\n",
       "</span>"
      ]
     },
     "execution_count": 20,
     "metadata": {},
     "output_type": "execute_result"
    }
   ],
   "source": [
    "(1 2)(3 4 5)\n",
    "⊆(1 2)(3 4 5) "
   ]
  },
  {
   "cell_type": "markdown",
   "id": "2149b695",
   "metadata": {},
   "source": [
    "`1 2 3` is not nested, so `⊆` will nest it:"
   ]
  },
  {
   "cell_type": "code",
   "execution_count": 21,
   "id": "ff19b7e4",
   "metadata": {},
   "outputs": [
    {
     "data": {
      "text/html": [
       "<span style=\"white-space:pre; font-family: monospace\">┌→────┐\n",
       "│1 2 3│\n",
       "└~────┘\n",
       "</span>"
      ]
     },
     "execution_count": 21,
     "metadata": {},
     "output_type": "execute_result"
    },
    {
     "data": {
      "text/html": [
       "<span style=\"white-space:pre; font-family: monospace\">┌─────────┐\n",
       "│ ┌→────┐ │\n",
       "│ │1 2 3│ │\n",
       "│ └~────┘ │\n",
       "└∊────────┘\n",
       "</span>"
      ]
     },
     "execution_count": 21,
     "metadata": {},
     "output_type": "execute_result"
    }
   ],
   "source": [
    "1 2 3\n",
    "⊆1 2 3"
   ]
  },
  {
   "cell_type": "markdown",
   "id": "ea62a759",
   "metadata": {},
   "source": [
    "Works on higher rank too, of course:"
   ]
  },
  {
   "cell_type": "code",
   "execution_count": 22,
   "id": "5c3d3cb4",
   "metadata": {},
   "outputs": [
    {
     "data": {
      "text/html": [
       "<span style=\"white-space:pre; font-family: monospace\">┌→──────────────────┐\n",
       "↓ ┌→──┐ ┌→──┐ ┌→──┐ │\n",
       "│ │abc│ │abc│ │abc│ │\n",
       "│ └───┘ └───┘ └───┘ │\n",
       "│ ┌→──┐ ┌→──┐ ┌→──┐ │\n",
       "│ │abc│ │abc│ │abc│ │\n",
       "│ └───┘ └───┘ └───┘ │\n",
       "└∊──────────────────┘\n",
       "</span>"
      ]
     },
     "execution_count": 22,
     "metadata": {},
     "output_type": "execute_result"
    },
    {
     "data": {
      "text/html": [
       "<span style=\"white-space:pre; font-family: monospace\">┌→──────────────────┐\n",
       "↓ ┌→──┐ ┌→──┐ ┌→──┐ │\n",
       "│ │abc│ │abc│ │abc│ │\n",
       "│ └───┘ └───┘ └───┘ │\n",
       "│ ┌→──┐ ┌→──┐ ┌→──┐ │\n",
       "│ │abc│ │abc│ │abc│ │\n",
       "│ └───┘ └───┘ └───┘ │\n",
       "└∊──────────────────┘\n",
       "</span>"
      ]
     },
     "execution_count": 22,
     "metadata": {},
     "output_type": "execute_result"
    }
   ],
   "source": [
    "2 3⍴⊂'abc'\n",
    "⊆2 3⍴⊂'abc' ⍝ already nested, so no-op "
   ]
  },
  {
   "cell_type": "code",
   "execution_count": 23,
   "id": "0471f4d9",
   "metadata": {},
   "outputs": [
    {
     "data": {
      "text/html": [
       "<span style=\"white-space:pre; font-family: monospace\">┌→──┐\n",
       "↓abc│\n",
       "│abc│\n",
       "└───┘\n",
       "</span>"
      ]
     },
     "execution_count": 23,
     "metadata": {},
     "output_type": "execute_result"
    },
    {
     "data": {
      "text/html": [
       "<span style=\"white-space:pre; font-family: monospace\">┌───────┐\n",
       "│ ┌→──┐ │\n",
       "│ ↓abc│ │\n",
       "│ │abc│ │\n",
       "│ └───┘ │\n",
       "└∊──────┘\n",
       "</span>"
      ]
     },
     "execution_count": 23,
     "metadata": {},
     "output_type": "execute_result"
    }
   ],
   "source": [
    "2 3⍴'abc'   ⍝ not nested\n",
    "⊆2 3⍴'abc'  ⍝ nested"
   ]
  },
  {
   "cell_type": "markdown",
   "id": "1097668f",
   "metadata": {},
   "source": [
    "## Partition `⊆`\n",
    "\n",
    "Dyadic `⊆` is called [partition](http://help.dyalog.com/latest/index.htm#Language/Primitive%20Functions/Partition.htm) (`⊂` and `⊆` originate with different APL dialects, but Dyalog APL features both). To distinguish between them, we call `⊂` _partitioned enclose_ and `⊆` just _partition_, but it doesn't say much.\n",
    "\n",
    "Dyadic `⊆` works similarly to dyadic `⊂`, but with different rules for the left argument. The left argument is non-negative integer instead of Boolean, and new partitions begin whenever an element is higher than its neighbour on the left. Also, elements indicated by 0s are dropped completely: "
   ]
  },
  {
   "cell_type": "code",
   "execution_count": 24,
   "id": "94623b34",
   "metadata": {},
   "outputs": [
    {
     "data": {
      "text/html": [
       "<span style=\"white-space:pre; font-family: monospace\">┌→────────────────────┐\n",
       "│ ┌→┐ ┌→─┐ ┌→──┐ ┌→─┐ │\n",
       "│ │H│ │lo│ │ Wo│ │rl│ │\n",
       "│ └─┘ └──┘ └───┘ └──┘ │\n",
       "└∊────────────────────┘\n",
       "</span>"
      ]
     },
     "execution_count": 24,
     "metadata": {},
     "output_type": "execute_result"
    }
   ],
   "source": [
    "1 0 0 1 1 3 2 2 5 5 0⊆'Hello World'"
   ]
  },
  {
   "cell_type": "markdown",
   "id": "c329f328",
   "metadata": {},
   "source": [
    "`1⊆array` is the same as `,⊂array` but uses a single dyadic function instead of two monadic ones, i.e. great for trains.\n",
    "\n",
    "## Materialise `⌷`\n",
    "\n",
    "Monadic `⌷` is [materialise](http://help.dyalog.com/latest/index.htm#Language/Primitive%20Functions/Materialise.htm). It is almost the same as monadic `⊢` (i.e. [identity](http://help.dyalog.com/latest/index.htm#Language/Primitive%20Functions/Right.htm)). However, it will materialise the default property of a class. For collections, this means the _Item_ property, so in effect it turns collections into vectors of items. "
   ]
  },
  {
   "cell_type": "code",
   "execution_count": 25,
   "id": "a41467e4",
   "metadata": {},
   "outputs": [],
   "source": [
    "]dinput\n",
    ":Class cl\n",
    "    :Property Default thing\n",
    "    :Access Public Shared\n",
    "        ∇ r←get\n",
    "          r←3 1 4 1 4\n",
    "        ∇\n",
    "    :EndProperty\n",
    ":EndClass"
   ]
  },
  {
   "cell_type": "code",
   "execution_count": 26,
   "id": "9df354d3",
   "metadata": {},
   "outputs": [
    {
     "data": {
      "text/html": [
       "<span style=\"white-space:pre; font-family: monospace\">┌→────────┐\n",
       "│3 1 4 1 4│\n",
       "└~────────┘\n",
       "</span>"
      ]
     },
     "execution_count": 26,
     "metadata": {},
     "output_type": "execute_result"
    },
    {
     "data": {
      "text/html": [
       "<span style=\"white-space:pre; font-family: monospace\">    \n",
       "#.cl\n",
       "    \n",
       "</span>"
      ]
     },
     "execution_count": 26,
     "metadata": {},
     "output_type": "execute_result"
    },
    {
     "data": {
      "text/html": [
       "<span style=\"white-space:pre; font-family: monospace\">┌→────────┐\n",
       "│3 1 4 1 4│\n",
       "└~────────┘\n",
       "</span>"
      ]
     },
     "execution_count": 26,
     "metadata": {},
     "output_type": "execute_result"
    }
   ],
   "source": [
    "cl.thing\n",
    "⊢cl\n",
    "⌷cl"
   ]
  },
  {
   "cell_type": "markdown",
   "id": "ae4997e5",
   "metadata": {},
   "source": [
    "## Index `⌷`\n",
    "\n",
    "Dyadic `⌷` is [index](http://help.dyalog.com/latest/index.htm#Language/Primitive%20Functions/Index.htm). It is similar to [pick](http://help.dyalog.com/latest/index.htm#Language/Primitive%20Functions/Pick.htm), dyadic `⊃`, but works its way into the rank instead of the depth. On a 3D array, the first element selects layer, the second row, the third column: "
   ]
  },
  {
   "cell_type": "code",
   "execution_count": 27,
   "id": "cdce72a4",
   "metadata": {},
   "outputs": [
    {
     "data": {
      "text/html": [
       "<span style=\"white-space:pre; font-family: monospace\">┌┌→───┐\n",
       "↓↓ABCD│\n",
       "││EFGH│\n",
       "││IJKL│\n",
       "││    │\n",
       "││MNOP│\n",
       "││QRST│\n",
       "││UVWX│\n",
       "└└────┘\n",
       "</span>"
      ]
     },
     "execution_count": 27,
     "metadata": {},
     "output_type": "execute_result"
    },
    {
     "data": {
      "text/html": [
       "<span style=\"white-space:pre; font-family: monospace\">┌→───┐\n",
       "↓MNOP│\n",
       "│QRST│\n",
       "│UVWX│\n",
       "└────┘\n",
       "</span>"
      ]
     },
     "execution_count": 27,
     "metadata": {},
     "output_type": "execute_result"
    },
    {
     "data": {
      "text/html": [
       "<span style=\"white-space:pre; font-family: monospace\">┌→───┐\n",
       "│MNOP│\n",
       "└────┘\n",
       "</span>"
      ]
     },
     "execution_count": 27,
     "metadata": {},
     "output_type": "execute_result"
    },
    {
     "data": {
      "text/html": [
       "<span style=\"white-space:pre; font-family: monospace\"> \n",
       "O\n",
       "-\n",
       "</span>"
      ]
     },
     "execution_count": 27,
     "metadata": {},
     "output_type": "execute_result"
    }
   ],
   "source": [
    "2 3 4⍴⎕A\n",
    "2⌷2 3 4⍴⎕A\n",
    "2 1⌷2 3 4⍴⎕A\n",
    "2 1 3⌷2 3 4⍴⎕A"
   ]
  },
  {
   "cell_type": "markdown",
   "id": "abc06a2e",
   "metadata": {},
   "source": [
    "Each element of the left argument may be may be any simple array:"
   ]
  },
  {
   "cell_type": "code",
   "execution_count": 28,
   "id": "6ea3b9f4",
   "metadata": {},
   "outputs": [
    {
     "data": {
      "text/html": [
       "<span style=\"white-space:pre; font-family: monospace\">┌┌→───┐\n",
       "↓↓ABCD│\n",
       "││EFGH│\n",
       "││IJKL│\n",
       "││    │\n",
       "││ABCD│\n",
       "││EFGH│\n",
       "││IJKL│\n",
       "└└────┘\n",
       "</span>"
      ]
     },
     "execution_count": 28,
     "metadata": {},
     "output_type": "execute_result"
    },
    {
     "data": {
      "text/html": [
       "<span style=\"white-space:pre; font-family: monospace\">┌→───┐\n",
       "↓MNOP│\n",
       "│UVWX│\n",
       "└────┘\n",
       "</span>"
      ]
     },
     "execution_count": 28,
     "metadata": {},
     "output_type": "execute_result"
    },
    {
     "data": {
      "text/html": [
       "<span style=\"white-space:pre; font-family: monospace\">┌→─┐\n",
       "│CO│\n",
       "└──┘\n",
       "</span>"
      ]
     },
     "execution_count": 28,
     "metadata": {},
     "output_type": "execute_result"
    },
    {
     "data": {
      "text/html": [
       "<span style=\"white-space:pre; font-family: monospace\">┌┌→───┐\n",
       "↓↓EFGH│\n",
       "││IJKL│\n",
       "││    │\n",
       "││QRST│\n",
       "││UVWX│\n",
       "└└────┘\n",
       "</span>"
      ]
     },
     "execution_count": 28,
     "metadata": {},
     "output_type": "execute_result"
    }
   ],
   "source": [
    "(⊂1 1)⌷2 3 4⍴⎕A\n",
    "2 (1 3)⌷2 3 4⍴⎕A ⍝ first and third row of second layer \n",
    "(1 2)1 3⌷2 3 4⍴⎕A ⍝ third char of first row of layers 1 and 2 \n",
    "(1 2)(2 3)⌷2 3 4⍴⎕A ⍝ rows 2 and 3 of each of layers 1 and 2 "
   ]
  },
  {
   "cell_type": "markdown",
   "id": "51755f00",
   "metadata": {},
   "source": [
    "## Grade up/down `⍋⍒`\n",
    "\n",
    "Next up is `⍋`, called [grade up](http://help.dyalog.com/latest/index.htm#Language/Primitive%20Functions/Grade%20Up%20Monadic.htm). Monadic `⍋` takes a simple (non-nested) array and returns the indices of the major cells reordered so that they would order the array.\n",
    "\n",
    "Easiest to understand with an example: "
   ]
  },
  {
   "cell_type": "code",
   "execution_count": 30,
   "id": "ca600d29",
   "metadata": {},
   "outputs": [
    {
     "data": {
      "text/html": [
       "<span style=\"white-space:pre; font-family: monospace\">┌→────────┐\n",
       "│2 4 1 3 5│\n",
       "└~────────┘\n",
       "</span>"
      ]
     },
     "execution_count": 30,
     "metadata": {},
     "output_type": "execute_result"
    }
   ],
   "source": [
    "⍋3 1 4 1 5"
   ]
  },
  {
   "cell_type": "markdown",
   "id": "24e0afef",
   "metadata": {},
   "source": [
    "This means that the second element (1) is the smallest, then the fourth (1), then the first (3), etc. So, we can use this to sort the array: "
   ]
  },
  {
   "cell_type": "code",
   "execution_count": 32,
   "id": "61066bd8",
   "metadata": {},
   "outputs": [
    {
     "data": {
      "text/html": [
       "<span style=\"white-space:pre; font-family: monospace\">┌→────────┐\n",
       "│1 1 3 4 5│\n",
       "└~────────┘\n",
       "</span>"
      ]
     },
     "execution_count": 32,
     "metadata": {},
     "output_type": "execute_result"
    }
   ],
   "source": [
    "3 1 4 1 5[⍋3 1 4 1 5]"
   ]
  },
  {
   "cell_type": "markdown",
   "id": "00706246",
   "metadata": {},
   "source": [
    "It works on high-rank arrays too: "
   ]
  },
  {
   "cell_type": "code",
   "execution_count": 33,
   "id": "d25d041e",
   "metadata": {},
   "outputs": [
    {
     "data": {
      "text/html": [
       "<span style=\"white-space:pre; font-family: monospace\">┌→──┐\n",
       "↓2 7│\n",
       "│1 8│\n",
       "│2 8│\n",
       "└~──┘\n",
       "</span>"
      ]
     },
     "execution_count": 33,
     "metadata": {},
     "output_type": "execute_result"
    },
    {
     "data": {
      "text/html": [
       "<span style=\"white-space:pre; font-family: monospace\">┌→────┐\n",
       "│2 1 3│\n",
       "└~────┘\n",
       "</span>"
      ]
     },
     "execution_count": 33,
     "metadata": {},
     "output_type": "execute_result"
    }
   ],
   "source": [
    "3 2⍴2 7 1 8 2 8\n",
    "⍋3 2⍴2 7 1 8 2 8 "
   ]
  },
  {
   "cell_type": "markdown",
   "id": "011c845d",
   "metadata": {},
   "source": [
    "So the first is row 2 `(1 8)` then row 1 `(2 7)` then row 3 `(2 8)`. It works on characters too, where it grades in Unicode point order: "
   ]
  },
  {
   "cell_type": "code",
   "execution_count": 34,
   "id": "53725167",
   "metadata": {},
   "outputs": [
    {
     "data": {
      "text/html": [
       "<span style=\"white-space:pre; font-family: monospace\">┌→─┐\n",
       "↓He│\n",
       "│ll│\n",
       "│oW│\n",
       "│or│\n",
       "│ld│\n",
       "└──┘\n",
       "</span>"
      ]
     },
     "execution_count": 34,
     "metadata": {},
     "output_type": "execute_result"
    },
    {
     "data": {
      "text/html": [
       "<span style=\"white-space:pre; font-family: monospace\">┌→────────┐\n",
       "│1 5 2 3 4│\n",
       "└~────────┘\n",
       "</span>"
      ]
     },
     "execution_count": 34,
     "metadata": {},
     "output_type": "execute_result"
    },
    {
     "data": {
      "text/html": [
       "<span style=\"white-space:pre; font-family: monospace\">┌→─┐\n",
       "↓He│\n",
       "│ld│\n",
       "│ll│\n",
       "│oW│\n",
       "│or│\n",
       "└──┘\n",
       "</span>"
      ]
     },
     "execution_count": 34,
     "metadata": {},
     "output_type": "execute_result"
    }
   ],
   "source": [
    "5 2⍴'HelloWorld'\n",
    "⍋5 2⍴'HelloWorld'\n",
    "(5 2⍴'HelloWorld')[⍋5 2⍴'HelloWorld';] "
   ]
  },
  {
   "cell_type": "code",
   "execution_count": 35,
   "id": "34700be5",
   "metadata": {},
   "outputs": [
    {
     "data": {
      "text/html": [
       "<span style=\"white-space:pre; font-family: monospace\">┌┌→─┐\n",
       "↓↓He│\n",
       "││ll│\n",
       "││  │\n",
       "││o │\n",
       "││Wo│\n",
       "││  │\n",
       "││rl│\n",
       "││d │\n",
       "││  │\n",
       "││PP│\n",
       "││CG│\n",
       "└└──┘\n",
       "</span>"
      ]
     },
     "execution_count": 35,
     "metadata": {},
     "output_type": "execute_result"
    },
    {
     "data": {
      "text/html": [
       "<span style=\"white-space:pre; font-family: monospace\">┌→──────┐\n",
       "│1 4 2 3│\n",
       "└~──────┘\n",
       "</span>"
      ]
     },
     "execution_count": 35,
     "metadata": {},
     "output_type": "execute_result"
    }
   ],
   "source": [
    "4 2 2⍴'Hello World PPCG'   \n",
    "⍋4 2 2⍴'Hello World PPCG'  ⍝ layer grade up"
   ]
  },
  {
   "cell_type": "markdown",
   "id": "e5df1070",
   "metadata": {},
   "source": [
    "Layer 1, layer 4, layer 2, layer 3:"
   ]
  },
  {
   "cell_type": "code",
   "execution_count": 37,
   "id": "7cc3e46f",
   "metadata": {},
   "outputs": [
    {
     "data": {
      "text/html": [
       "<span style=\"white-space:pre; font-family: monospace\">┌┌→─┐\n",
       "↓↓He│\n",
       "││ll│\n",
       "││  │\n",
       "││PP│\n",
       "││CG│\n",
       "││  │\n",
       "││o │\n",
       "││Wo│\n",
       "││  │\n",
       "││rl│\n",
       "││d │\n",
       "└└──┘\n",
       "</span>"
      ]
     },
     "execution_count": 37,
     "metadata": {},
     "output_type": "execute_result"
    }
   ],
   "source": [
    "{⍵[⍋⍵;;]}4 2 2⍴'Hello World PPCG'"
   ]
  },
  {
   "cell_type": "markdown",
   "id": "4e0134f2",
   "metadata": {},
   "source": [
    "`⍋⍋` is the cardinal numbers:"
   ]
  },
  {
   "cell_type": "code",
   "execution_count": 38,
   "id": "59016464",
   "metadata": {},
   "outputs": [
    {
     "data": {
      "text/html": [
       "<span style=\"white-space:pre; font-family: monospace\">┌→──────┐\n",
       "│3 4 1 2│\n",
       "└~──────┘\n",
       "</span>"
      ]
     },
     "execution_count": 38,
     "metadata": {},
     "output_type": "execute_result"
    },
    {
     "data": {
      "text/html": [
       "<span style=\"white-space:pre; font-family: monospace\">┌→──────┐\n",
       "│3 4 1 2│\n",
       "└~──────┘\n",
       "</span>"
      ]
     },
     "execution_count": 38,
     "metadata": {},
     "output_type": "execute_result"
    }
   ],
   "source": [
    "⍋'PPCG' \n",
    "⍋⍋'PPCG' "
   ]
  },
  {
   "cell_type": "markdown",
   "id": "ed9ac362",
   "metadata": {},
   "source": [
    "So P is the third, P is the fourth, C is the first, and G is the second. Applying `⍋` to a permutation inverts it (swaps between cardinal and grade). Another way to think about it is that `⍋` is the indices of cells in the order that would sort them. `⍋⍋` is the position each will take when sorted. If you think about it hard, you'll see why ⍋ swaps back and forth between these two. \n",
    "\n",
    "Here's an example where the grade and the cardinals differ:"
   ]
  },
  {
   "cell_type": "code",
   "execution_count": 39,
   "id": "78b74ff0",
   "metadata": {},
   "outputs": [
    {
     "data": {
      "text/html": [
       "<span style=\"white-space:pre; font-family: monospace\">┌→──────────┐\n",
       "│2 4 6 3 5 1│\n",
       "└~──────────┘\n",
       "</span>"
      ]
     },
     "execution_count": 39,
     "metadata": {},
     "output_type": "execute_result"
    },
    {
     "data": {
      "text/html": [
       "<span style=\"white-space:pre; font-family: monospace\">┌→──────────┐\n",
       "│6 1 4 2 5 3│\n",
       "└~──────────┘\n",
       "</span>"
      ]
     },
     "execution_count": 39,
     "metadata": {},
     "output_type": "execute_result"
    },
    {
     "data": {
      "text/html": [
       "<span style=\"white-space:pre; font-family: monospace\">┌→──────────┐\n",
       "│2 4 6 3 5 1│\n",
       "└~──────────┘\n",
       "</span>"
      ]
     },
     "execution_count": 39,
     "metadata": {},
     "output_type": "execute_result"
    }
   ],
   "source": [
    "⍋'random'\n",
    "⍋⍋'random' \n",
    "⍋⍋⍋'random'  ⍝ grading the cardinals takes us back to grade"
   ]
  },
  {
   "cell_type": "markdown",
   "id": "4185e08e",
   "metadata": {},
   "source": [
    "`⍋` once is what order the elements would be in when sorted and `⍋` twice is the indices that each element would go to.\n",
    "\n",
    "Dyadic `⍋` is for character arrays only, and it grades as if the left argument was the alphabet: "
   ]
  },
  {
   "cell_type": "code",
   "execution_count": 40,
   "id": "6f8ea946",
   "metadata": {},
   "outputs": [
    {
     "data": {
      "text/html": [
       "<span style=\"white-space:pre; font-family: monospace\">┌→─────────┐\n",
       "│eoodhlllrw│\n",
       "└──────────┘\n",
       "</span>"
      ]
     },
     "execution_count": 40,
     "metadata": {},
     "output_type": "execute_result"
    }
   ],
   "source": [
    "{⍵['aeioubcdfghjklmnpqrstvwxyz'⍋⍵]}'helloworld'"
   ]
  },
  {
   "cell_type": "markdown",
   "id": "d73425c8",
   "metadata": {},
   "source": [
    "If characters are missing from the alphabet, they will be considered after the alphabet, and equivalent:"
   ]
  },
  {
   "cell_type": "code",
   "execution_count": 41,
   "id": "52c4eb71",
   "metadata": {},
   "outputs": [
    {
     "data": {
      "text/html": [
       "<span style=\"white-space:pre; font-family: monospace\">┌→──────┐\n",
       "│2 1 3 4│\n",
       "└~──────┘\n",
       "</span>"
      ]
     },
     "execution_count": 41,
     "metadata": {},
     "output_type": "execute_result"
    }
   ],
   "source": [
    "'abcdefgh'⍋'hawl'"
   ]
  },
  {
   "cell_type": "markdown",
   "id": "38848e90",
   "metadata": {},
   "source": [
    "Dyadic `⍋` can also use multiple levels of sorting: "
   ]
  },
  {
   "cell_type": "code",
   "execution_count": 42,
   "id": "1d4b70fc",
   "metadata": {},
   "outputs": [
    {
     "data": {
      "text/html": [
       "<span style=\"white-space:pre; font-family: monospace\">┌→─┐\n",
       "↓ab│\n",
       "│ec│\n",
       "│id│\n",
       "│of│\n",
       "│ug│\n",
       "│ h│\n",
       "│ j│\n",
       "│ k│\n",
       "│ l│\n",
       "│ m│\n",
       "│ n│\n",
       "│ p│\n",
       "│ q│\n",
       "│ r│\n",
       "│ s│\n",
       "│ t│\n",
       "│ v│\n",
       "│ w│\n",
       "│ x│\n",
       "│ y│\n",
       "│ z│\n",
       "└──┘\n",
       "</span>"
      ]
     },
     "execution_count": 42,
     "metadata": {},
     "output_type": "execute_result"
    }
   ],
   "source": [
    "⍉↑'aeiou' 'bcdfghjklmnpqrstvwxyz'"
   ]
  },
  {
   "cell_type": "markdown",
   "id": "a718b0db",
   "metadata": {},
   "source": [
    "This 2D \"alphabet\" means that all vowels should come before all consonants, and only if otherwise the same, the vertical order will be considered. "
   ]
  },
  {
   "cell_type": "code",
   "execution_count": 43,
   "id": "1bd8a54e",
   "metadata": {},
   "outputs": [
    {
     "data": {
      "text/html": [
       "<span style=\"white-space:pre; font-family: monospace\">┌→─────────┐\n",
       "│eoodhlllrw│\n",
       "└──────────┘\n",
       "</span>"
      ]
     },
     "execution_count": 43,
     "metadata": {},
     "output_type": "execute_result"
    }
   ],
   "source": [
    "{⍵[(⍉↑'aeiou' 'bcdfghjklmnpqrstvwxyz')⍋⍵]}'helloworld'"
   ]
  },
  {
   "cell_type": "markdown",
   "id": "0a4bb5c3",
   "metadata": {},
   "source": [
    "This sorted all vowels before all consonants, and only then did it sort the vowels and the consonants. You can have up to 15 levels of sorting using this. If a letter occurs more than once, then its first occurrence rules. This is useful to fill gaps in (e.g.) columns of unequal height.\n",
    "\n",
    "There is also `⍒`, which is [grade down](http://help.dyalog.com/latest/index.htm#Language/Primitive%20Functions/Grade%20Down%20Monadic.htm), which follows the pattern of `⍋`, but sorts the other way."
   ]
  },
  {
   "cell_type": "code",
   "execution_count": null,
   "id": "640c7a82",
   "metadata": {},
   "outputs": [],
   "source": []
  }
 ],
 "metadata": {
  "kernelspec": {
   "display_name": "Dyalog APL",
   "language": "apl",
   "name": "dyalog-kernel"
  },
  "language_info": {
   "file_extension": ".apl",
   "mimetype": "text/apl",
   "name": "APL"
  }
 },
 "nbformat": 4,
 "nbformat_minor": 5
}
