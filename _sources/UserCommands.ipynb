{
 "cells": [
  {
   "cell_type": "markdown",
   "id": "416c00f0",
   "metadata": {},
   "source": [
    "# User commands\n",
    "\n",
    "We've used the user command `]RunTime` to compare the speed of two otherwise equivalent expressions elsewhere.\n",
    "You may also have encountered [system commands](http://help.dyalog.com/latest/index.htm#Language/System%20Commands/Introduction.htm) like [)save](http://help.dyalog.com/latest/index.htm#Language/System%20Commands/save.htm), [)clear](http://help.dyalog.com/latest/index.htm#Language/System%20Commands/clear.htm) and [)off](http://help.dyalog.com/latest/index.htm#Language/System%20Commands/off.htm). The system commands are an integral part of the interpreter (and have been so for a very long time). That is, for Dyalog APL, they are written in C.\n",
    "\n",
    "System commands are not APL functions, but rather a way to directly interact with the system. Thus, they do not follow APL syntax. Instead, they act more like commands on a command line. That's why they're called commands.\n",
    "Sometimes, this non-syntactic way is really useful tor day-to-day stuff, and you'd want that for your APL code as well. This is where _user commands_ come in. They have exactly the same syntax model as system commands, they just begin with a `]` instead of a `)`.\n",
    "\n",
    "The only thing built into the interpreter is that whenever it sees a line in the session beginning with ] it takes the rest of that line and calls `⎕SE.UCMD` with the line as a character vector argument. Dyalog APL comes pre-installed with a \"user command processor\", i.e. a function `⎕SE.UCMD` which takes care of the rest. The default user command system is tightly integrated with `SALT`, but you could write your own drop-in, should you with to do so. Dyalog APL also comes loaded with more than 100 pre-defined user commands, some are simple and complex. All are written in APL, and you can change them as you see fit. "
   ]
  },
  {
   "cell_type": "code",
   "execution_count": 1,
   "id": "45e9b5df",
   "metadata": {},
   "outputs": [
    {
     "data": {
      "text/html": [
       "<span style=\"white-space:pre; font-family: monospace\">───────────────────────────────────────────────────────────────────────────────                                                                                                                                                                                                                                                         \n",
       "                                                                                                                                                                                                                                                                                                                                        \n",
       "140 commands:                                                                                                                                                                                                                                                                                                                           \n",
       "                                                                                                                                                                                                                                                                                                                                        \n",
       " ARRAY         Compare  Edit                                                                                                                                                                                                                                                                                                            \n",
       " CALC          Factors  FromHex  PivotTable  ToHex                                                                                                                                                                                                                                                                                      \n",
       " CCM           Cluster  Contacts  Contracts  Defaults  Export  Find  List  Lites  Load  Nodecounts  Nodespecs  Plan  Plans  Provisioned  Region  Regions  Regload  Regprov  Splunk  User                                                                                                                                                \n",
       " DEVOPS        DBuild  DTest                                                                                                                                                                                                                                                                                                            \n",
       " EXPERIMENTAL  Get                                                                                                                                                                                                                                                                                                                      \n",
       " FILE          CD  Collect  Compare  Edit  Find  Open  Replace  Split  ToLarge  ToQuadTS  Touch                                                                                                                                                                                                                                         \n",
       " FN            Align  Calls  Compare  Defs  DInput  Latest  ReorderLocals                                                                                                                                                                                                                                                               \n",
       " LINK          Add  Break  Create  Export  Expunge  GetFileName  GetItemName  Import  Refresh  Resync  Status                                                                                                                                                                                                                           \n",
       " MYCMDS        Quote                                                                                                                                                                                                                                                                                                                    \n",
       " NS            ScriptUpdate  Summary  Xref                                                                                                                                                                                                                                                                                              \n",
       " OUTPUT        Box  Boxing  Disp  Display  Find  Format  HTML  Layout  Plot  Repr  Rows  View                                                                                                                                                                                                                                           \n",
       " PERFORMANCE   Profile  RunTime  SpaceNeeded                                                                                                                                                                                                                                                                                            \n",
       " SALT          Boot  Clean  Compare  List  Load  Refresh  RemoveVersions  Save  Set  Settings  Snap                                                                                                                                                                                                                                     \n",
       " TATIN         CheckForLaterVersion  DeletePackage  Documentation  GetDeletePolicy  Init  InstallPackage  ListPackages  ListRegistries  ListTags  ListVersions  LoadDependencies  LoadPackage  LoadTatin  Pack  PackageConfig  PackageDependencies  Ping  PublishPackage  ReinstallDependencies  UninstallPackage  UserSettings  Version\n",
       " TOOLS         ADoc  APLCart  Calendar  Config  Demo  Help  Version                                                                                                                                                                                                                                                                     \n",
       " TRANSFER      In  Out                                                                                                                                                                                                                                                                                                                  \n",
       " UCMD          UDebug  ULoad  UMonitor  UNew  UReset  USetup  UVersion                                                                                                                                                                                                                                                                  \n",
       " WS            Check  Compare  Document  FindRefs  FnsLike  Locate  Map  Names  NamesLike  Nms  ObsLike  Peek  SizeOf  VarsLike                                                                                                                                                                                                         \n",
       "                                                                                                                                                                                                                                                                                                                                        \n",
       "]            ⍝ for general user command help                                                                                                                                                                                                                                                                                            \n",
       "] -??        ⍝ for brief info on each command                                                                                                                                                                                                                                                                                           \n",
       "]grp -?      ⍝ for info on the \"GRP\" group                                                                                                                                                                                                                                                                                              \n",
       "]grp.cmd -?  ⍝ for info on the \"Cmd\" command of the \"GRP\" group                                                                                                                                                                                                                                                                         \n",
       "</span>"
      ]
     },
     "execution_count": 1,
     "metadata": {},
     "output_type": "execute_result"
    }
   ],
   "source": [
    "]?"
   ]
  },
  {
   "cell_type": "markdown",
   "id": "6187cce1",
   "metadata": {},
   "source": [
    "Let's have a look at some of them. \n",
    "\n",
    "## ]CD\n",
    "\n",
    "There are simple things like `]cd`: "
   ]
  },
  {
   "cell_type": "code",
   "execution_count": 12,
   "id": "cdba7f92",
   "metadata": {},
   "outputs": [
    {
     "data": {
      "text/html": [
       "<span style=\"white-space:pre; font-family: monospace\">/Users/stefan/work/notebooks/cultivations/contents\n",
       "</span>"
      ]
     },
     "execution_count": 12,
     "metadata": {},
     "output_type": "execute_result"
    }
   ],
   "source": [
    "]cd"
   ]
  },
  {
   "cell_type": "markdown",
   "id": "31580038",
   "metadata": {},
   "source": [
    "## ]DInput\n",
    "\n",
    "One really cool command is `]dinput`. If you've ever wanted to enter or paste a multi-line statement into the session, you'll like this one.\n",
    "\n",
    "What is a multi-line statement? Remember that you don't have to assign dfns before you use them; you can insert them inline. And dfns may have multiple lines. Effectively, you then have a single multi-line statement.\n",
    "Now, as soon as you press Enter in the session, you code will be executed, and if it has any un-closed braces, e.g. `2+{a←⍳10` it will fail. However, if you enter `]dinput` you will get a new prompt indicated by a dot `·` and then you can begin entering (or pasting) multi-line statements. `]dinput` will keep track of your brace-nesting level and indicate it with more dots. \n",
    "\n",
    "You can also just type `]dinput f←` and then paste a multi-line dfn there, beginning on that line. That'll define it in the workspace. \n",
    "\n",
    "## ]Calls\n",
    "\n",
    "There are also various code analysis tools, like `]calls`. It will produce a calling tree: "
   ]
  },
  {
   "cell_type": "code",
   "execution_count": 13,
   "id": "1b968fd2",
   "metadata": {},
   "outputs": [
    {
     "data": {
      "text/html": [
       "<span style=\"white-space:pre; font-family: monospace\">Level 1:  →getEnvir\n",
       "  F:rlb               F:splitOn           F:splitOn1st        F:GetUnicodeFile    F:SALTsetFile       F:UnixFileExists\n",
       "\n",
       "Level 2: getEnvir→UnixFileExists\n",
       "\n",
       "Level 2: getEnvir→SALTsetFile\n",
       "\n",
       "Level 2: getEnvir→GetUnicodeFile\n",
       "⍝ Read a Unicode (UTF-8 or even UCS-2) file                                      \n",
       "⍝ This version allows excluding specific 1-byte characters before the translation\n",
       "⍝ This prevents TRANSLATION errors in classic interpreters                       \n",
       "  F:condEncl     F:numReplace   F:Special      F:Uxxxx\n",
       "\n",
       "Level 3: GetUnicodeFile→condEncl\n",
       "\n",
       "Level 3: GetUnicodeFile→Special\n",
       "\n",
       "Level 3: GetUnicodeFile→Uxxxx\n",
       "\n",
       "Level 3: GetUnicodeFile→numReplace\n",
       "⍝ fromto is the list of lists of numbers to replace\n",
       "  F:num\n",
       "\n",
       "Level 4: numReplace→num\n",
       "  F:isChar\n",
       "\n",
       "Level 5: num→isChar\n",
       "\n",
       "Level 2: getEnvir→splitOn1st\n",
       "⍝ Split on 1st occurrence of any chars in str\n",
       "\n",
       "Level 2: getEnvir→splitOn\n",
       "\n",
       "Level 2: getEnvir→rlb\n",
       "</span>"
      ]
     },
     "execution_count": 13,
     "metadata": {},
     "output_type": "execute_result"
    }
   ],
   "source": [
    "]calls  getEnvir  ⎕se.SALTUtils"
   ]
  },
  {
   "cell_type": "markdown",
   "id": "c92d71cb",
   "metadata": {},
   "source": [
    "This says that the `getEnvir` function in `⎕SE.SALTUtils` calls these six functions, which in turn call the other listed functions, each at its level. This is really useful if you're trying to extract some utility function and need to know its dependencies.\n",
    "\n",
    "## ]Settings\n",
    "\n",
    "A workspace stores information about each function; who was it last modified by, and when. This information can also be saved in script files with `]save` if you turn on \"atinfo tracking\". You can turn turn that on with `]settings track atinfo`. Then you can list which functions were recently modified: `]Latest 20180501 -by=Fred`\n",
    "\n",
    "`track` isn't the only setting: "
   ]
  },
  {
   "cell_type": "code",
   "execution_count": 14,
   "id": "f1aac267",
   "metadata": {},
   "outputs": [
    {
     "data": {
      "text/html": [
       "<span style=\"white-space:pre; font-family: monospace\"> compare        APL                                                                                                                                                                                                       \n",
       " cmddir         /opt/anaconda3/envs/py39/lib/python3.9/dyalog_kernel/:/Users/stefan/MyUCMDs:/Applications/Dyalog-18.2.app/Contents/Resources/Dyalog/SALT/spice                                                            \n",
       " debug          0                                                                                                                                                                                                         \n",
       " editor         notepad                                                                                                                                                                                                   \n",
       " edprompt       1                                                                                                                                                                                                         \n",
       " fndels         0                                                                                                                                                                                                         \n",
       " mapprimitives  1                                                                                                                                                                                                         \n",
       " newcmd         auto                                                                                                                                                                                                      \n",
       " track                                                                                                                                                                                                                    \n",
       " varfmt         xml                                                                                                                                                                                                       \n",
       " workdir        .:/Applications/Dyalog-18.2.app/Contents/Resources/Dyalog/Library/Core:/Applications/Dyalog-18.2.app/Contents/Resources/Dyalog/Library/Conga:/Applications/Dyalog-18.2.app/Contents/Resources/Dyalog/SALT \n",
       "</span>"
      ]
     },
     "execution_count": 14,
     "metadata": {},
     "output_type": "execute_result"
    }
   ],
   "source": [
    "]settings"
   ]
  },
  {
   "cell_type": "markdown",
   "id": "906dad08",
   "metadata": {},
   "source": [
    "These are basically like OS environment variables, but used just by `SALT`. For example, `edprompt` determines if the editor should ask you before writing changes to scripted items back to their source file. `varfmt` determines how `]save` should save variables; as XML or as APL statements that produce the value. `cmddir` tells `SALT` where to look for user commands. \n",
    "\n",
    "As you can gather, you can just drop your own or downloaded user commands into the mentioned `/MyUCMDs` dir and you're in business. Watch the [webinar](https://dyalog.tv/Webinar/?v=LWJzRGrOC3k) about how to write your own user commands!\n",
    "\n",
    "## ]ReorderLocals\n",
    "\n",
    "If you've ever written anything moderately complex as a tradfn, you may have been annoyed that, as you edit along, your list of local variables on the header line is not neatly ordered. `]reorderlocals` allows you to sort the header row of all (or some of) the functions currently in the workspace: `]reorderlocals MyFn` or `]reorderlocals F*` or just `]reorderlocals`.\n",
    "\n",
    "## ]CopyReg\n",
    "\n",
    "If you're on Windows, you have a few goodies especially for you. When the time comes to upgrade your Dyalog between major versions, but you've spent a whole year customising the current version to your liking. There is a user command that allowed you to easily migrate your settings between versions:\n",
    "\n",
    "```apl\n",
    "]CopyReg 17u64 -to=18u64\n",
    "```\n",
    "\n",
    "does the job (you may need admin privileges, though).\n",
    "\n",
    "## The command processor\n",
    "\n",
    "At this point, we should mention that all these user commands have a whole host of options which you can specify with various arguments or modifiers. It would be too much to go into details about it all, but you can always get documentation about any user command with `]cmdname -?`: "
   ]
  },
  {
   "cell_type": "code",
   "execution_count": 16,
   "id": "25509bdb",
   "metadata": {},
   "outputs": [
    {
     "data": {
      "text/html": [
       "<span style=\"white-space:pre; font-family: monospace\">───────────────────────────────────────────────────────────────────────────────\n",
       "                                                                               \n",
       "]FN.Calls                                                                      \n",
       "                                                                               \n",
       "Produce the calling tree of a function in a class/namespace/scriptfile         \n",
       "    ]Calls &lt;function&gt; [&lt;namespace&gt;]                                            \n",
       "                                                                               \n",
       "]Calls -?? ⍝ for more information and examples                                 \n",
       "                                                                               \n",
       "</span>"
      ]
     },
     "execution_count": 16,
     "metadata": {},
     "output_type": "execute_result"
    }
   ],
   "source": [
    "]calls -?"
   ]
  },
  {
   "cell_type": "markdown",
   "id": "b4398cc7",
   "metadata": {},
   "source": [
    "Now that we are talking about the special syntax of user commands, the command processor has another few tricks up its sleeve. \n",
    "\n",
    "If for some reason you want to capture the result of a user command, you can do so with `]varname←cmdname`. If you want to silence a user command, you can do that with `]←cmdname`.\n",
    "\n",
    "Remember that we said everything after the `]` is passed as argument to `⎕SE.UCMD`? That means that you can even call user command under program control: `⎕SE.UCMD 'cmdname'`. Anything else you'd write on the line just goes inside that character vector. \n",
    "\n",
    "## ]Summary\n",
    "\n",
    "There are also commands that let you get an overview of things: "
   ]
  },
  {
   "cell_type": "code",
   "execution_count": 17,
   "id": "a8cf2dd8",
   "metadata": {},
   "outputs": [
    {
     "data": {
      "text/html": [
       "<span style=\"white-space:pre; font-family: monospace\"> Name        Scope   Size  Syntax \n",
       " Parse       P      17128   r1f   \n",
       " Propagate           2744   r2f   \n",
       " Quotes              2256   r1f   \n",
       " Switch              2616   r2f   \n",
       " deQuote             1512   r1f   \n",
       " fixCase              120   r2f   \n",
       " if                    48   r2f   \n",
       " init        PC     14040   n1f   \n",
       " splitParms          3400   r1f   \n",
       " sqz                10872   r2f   \n",
       " upperCase          10960   r2f   \n",
       " xCut               10648   r2f   \n",
       "</span>"
      ]
     },
     "execution_count": 17,
     "metadata": {},
     "output_type": "execute_result"
    }
   ],
   "source": [
    "]summary ⎕se.Parser"
   ]
  },
  {
   "cell_type": "markdown",
   "id": "6c2def2a",
   "metadata": {},
   "source": [
    "This analyses the `⎕SE.Parser` class and tells you a little bit about each function. `P` means public, `C` constructor, and the syntax is whether they have a result, number of arguments, and type (function/monadic operator/dyadic operator).\n",
    "\n",
    "## ]XRef\n",
    "\n",
    "`]xref` will produce a cross reference of all items in a namespace, which ones call or reference which, how they do so (global/local) and what type they all are.\n",
    "\n",
    "## ]Box\n",
    "\n",
    "You may already know about `]box`. It is, for example, responsible for that nice boxed output you can see on TryAPL. You can turn that on and off, and decide exactly how you want it to display things with the user command. For now, let's just see what the current settings are in this notebook:"
   ]
  },
  {
   "cell_type": "code",
   "execution_count": 18,
   "id": "bb976b11",
   "metadata": {},
   "outputs": [
    {
     "data": {
      "text/html": [
       "<span style=\"white-space:pre; font-family: monospace\">]Box ON -style=min -view=min -trains=tree -fns=on\n",
       "</span>"
      ]
     },
     "execution_count": 18,
     "metadata": {},
     "output_type": "execute_result"
    }
   ],
   "source": [
    "]box ?"
   ]
  },
  {
   "cell_type": "markdown",
   "id": "095c49ac",
   "metadata": {},
   "source": [
    "## ]Rows\n",
    "\n",
    "There is a lesser known, but very useful, companion to `]box` called `]rows`. Probably, by now, you've entered a statement that caused way too much output, so your session would just scroll and scroll. Right? Well, the `]rows` user command can protect you against that but limiting output to the current height and width of your window.  "
   ]
  },
  {
   "cell_type": "code",
   "execution_count": 19,
   "id": "0c5e92de",
   "metadata": {},
   "outputs": [
    {
     "data": {
      "text/html": [
       "<span style=\"white-space:pre; font-family: monospace\">]Rows OFF -style=long -fold=off -fns=off -dots=·\n",
       "</span>"
      ]
     },
     "execution_count": 19,
     "metadata": {},
     "output_type": "execute_result"
    }
   ],
   "source": [
    "]rows ?"
   ]
  },
  {
   "cell_type": "markdown",
   "id": "1ee8eb46",
   "metadata": {},
   "source": [
    "So if you do `]rows on -fold=3` it will cut any output four lines before the bottom of your screen, insert a row of dots (or whichever character you choose, e.g. `]rows on -fold=3 -dots=~`) and then display the last three lines of the output. It will then also (by default) not wrap lines that are too long, but rather will cause them to continue beyond the right edge of the screen (scroll horizontally to see it). Again, see `]box -?` and `]rows -?` for the full details.\n",
    "\n",
    "## ]Disp, ]Display\n",
    "\n",
    "If you prefer boxing off during normal work, but want to display some results boxed here and there, you can use `]disp` and `]display` for that. `]disp` is much like `]box -style=mid` and `]display` is like `]box -style=max`.\n",
    "As you saw above, the notebook uses `-style=min`, but that doesn't always give you enough information: "
   ]
  },
  {
   "cell_type": "code",
   "execution_count": 20,
   "id": "251a2ed1",
   "metadata": {},
   "outputs": [
    {
     "data": {
      "text/html": [
       "<span style=\"white-space:pre; font-family: monospace\">┌─┬─────┬─────┐\n",
       "│ │1 2 3│     │\n",
       "├─┼─────┼─────┤\n",
       "│a│     │1 2 3│\n",
       "└─┴─────┴─────┘\n",
       "</span>"
      ]
     },
     "execution_count": 20,
     "metadata": {},
     "output_type": "execute_result"
    }
   ],
   "source": [
    "2 3⍴'' (⍳3) (0 0⍴0) 'a'"
   ]
  },
  {
   "cell_type": "markdown",
   "id": "218098b1",
   "metadata": {},
   "source": [
    "OK, we've go three empty (or are they filled with spaces?) elements. But what are they _really_?"
   ]
  },
  {
   "cell_type": "code",
   "execution_count": 21,
   "id": "8c3376d7",
   "metadata": {},
   "outputs": [
    {
     "data": {
      "text/html": [
       "<span style=\"white-space:pre; font-family: monospace\">┌→────────────────────┐\n",
       "↓ ┌⊖┐ ┌→────┐ ┌⊖┐     │\n",
       "│ │ │ │1 2 3│ ⌽0│     │\n",
       "│ └─┘ └~────┘ └~┘     │\n",
       "│     ┌⊖┐     ┌→────┐ │\n",
       "│ a   │ │     │1 2 3│ │\n",
       "│ -   └─┘     └~────┘ │\n",
       "└∊────────────────────┘\n",
       "</span>"
      ]
     },
     "execution_count": 21,
     "metadata": {},
     "output_type": "execute_result"
    }
   ],
   "source": [
    "]display 2 3⍴'' (⍳3) (0 0⍴0) 'a'"
   ]
  },
  {
   "cell_type": "markdown",
   "id": "7858ea24",
   "metadata": {},
   "source": [
    "Now we can see what exactly each thing is; we've got two empty character vectors and one 0-by-0 numeric matrix. We can also see that the `a` is a scalar, and the `1 2 3`s are vectors (not e.g. one-row matrices)."
   ]
  },
  {
   "cell_type": "markdown",
   "id": "46f923f6",
   "metadata": {},
   "source": [
    "## ADoc\n",
    "\n",
    "If you comment your code using markdown, you can use `]adoc` to automatically generate some documentation of it. `]adoc MyClass` will open your browser with a nicely formatted html document that has comments and syntax information gleaned from your code. \n",
    "\n",
    "## ]Calendar\n",
    "\n",
    "For a quick calendar, do: "
   ]
  },
  {
   "cell_type": "code",
   "execution_count": 22,
   "id": "5f546975",
   "metadata": {},
   "outputs": [
    {
     "data": {
      "text/html": [
       "<span style=\"white-space:pre; font-family: monospace\">      May 2022      \n",
       "Su Mo Tu We Th Fr Sa\n",
       " 1  2  3  4  5  6  7\n",
       " 8  9 10 11 12 13 14\n",
       "15 16 17 18 19 20 21\n",
       "22 23 24 25 26 27 28\n",
       "29 30 31            \n",
       "</span>"
      ]
     },
     "execution_count": 22,
     "metadata": {},
     "output_type": "execute_result"
    }
   ],
   "source": [
    "]Calendar"
   ]
  },
  {
   "cell_type": "markdown",
   "id": "1b830dbd",
   "metadata": {},
   "source": [
    "You can also specify a year or a month and a year, for example:"
   ]
  },
  {
   "cell_type": "code",
   "execution_count": 24,
   "id": "6eaacfa6",
   "metadata": {},
   "outputs": [
    {
     "data": {
      "text/html": [
       "<span style=\"white-space:pre; font-family: monospace\">    January 1969    \n",
       "Su Mo Tu We Th Fr Sa\n",
       "          1  2  3  4\n",
       " 5  6  7  8  9 10 11\n",
       "12 13 14 15 16 17 18\n",
       "19 20 21 22 23 24 25\n",
       "26 27 28 29 30 31   \n",
       "</span>"
      ]
     },
     "execution_count": 24,
     "metadata": {},
     "output_type": "execute_result"
    }
   ],
   "source": [
    "]Calendar January 1969"
   ]
  },
  {
   "cell_type": "markdown",
   "id": "968525fc",
   "metadata": {},
   "source": [
    "## ]Chart (Windows only)\n",
    "\n",
    "If you are on Windows, you'll have a handful more user commands than if not. Perhaps the coolest of them is the Chart Wizard. It has a button in the IDE:\n",
    "\n",
    "![Win IDE chart](IMG/winchart.png)\n",
    "\n",
    "But it is also available as a user command. Try e.g. `]chart (⍳50)×↓|1○(500÷⍨⍳50)∘.×⍳50`. If you're not on Windows, you can still generate charts using [SharpPlot](https://www.sharpplot.com/) (for which `]chart` is just a GUI). Here's some [example code](https://forums.dyalog.com/viewtopic.php?t=1338) for that. \n",
    "\n",
    "## ]Version\n",
    "\n",
    "If you ever run into trouble with your APL system, you may want to know the version numbers of various parts and dependencies of your APL system: "
   ]
  },
  {
   "cell_type": "code",
   "execution_count": 25,
   "id": "935c260a",
   "metadata": {},
   "outputs": [
    {
     "data": {
      "text/html": [
       "<span style=\"white-space:pre; font-family: monospace\">* Assuming \"TOOLS.Version\"; to see a list of all valid user commands that start with \"version\", type \n",
       "      ]version* -?\n",
       "\n",
       " Dyalog  18.2.45505 64-bit Unicode, BuildID 50b14a3f                                                                            \n",
       "         /Applications/Dyalog-18.2.app/Contents/Resources/Dyalog/lib/htmlrenderer.dylib: 2022-04-07 00:35:16                    \n",
       " OS      Darwin 21.4.0 Darwin Kernel Version 21.4.0: Fri Mar 18 00:45:05 PDT 2022; root:xnu-8020.101.4~15/RELEASE_X86_64 x86_64 \n",
       " CPUs    4                                                                                                                      \n",
       " Link    3.0.19                                                                                                                 \n",
       " SALT    2.9                                                                                                                    \n",
       " UCMD    2.51                                                                                                                   \n",
       " .NET    .NET Core 3.1.12                                                                                                       \n",
       "         Dyalog.Net.Bridge, Version=1.0.0.0, Culture=neutral, PublicKeyToken=null                                               \n",
       " WS      18.2                                                                                                                   \n",
       " Conga   Version: 3.4.1612                                                                                                      \n",
       "         loaded from: /Applications/Dyalog-18.2.app/Contents/Resources/Dyalog/lib/conga34_64.dylib                              \n",
       "         Copyright 2002-2022 Dyalog Ltd. GnuTLS 3.6.15                                                                          \n",
       "         Copyright (c) 2000-2021 Free Software Foundation, Inc.  Copyright 2002-2022 Dyalog Ltd.                                \n",
       " SQAPL   (unavailable)                                                                                                          \n",
       "</span>"
      ]
     },
     "execution_count": 25,
     "metadata": {},
     "output_type": "execute_result"
    }
   ],
   "source": [
    "]version -extended"
   ]
  },
  {
   "cell_type": "markdown",
   "id": "363201ce",
   "metadata": {},
   "source": [
    "## ]UVersion\n",
    "\n",
    "If you're having trouble with a user command, you can get the version number of it with:"
   ]
  },
  {
   "cell_type": "code",
   "execution_count": 26,
   "id": "c36a9309",
   "metadata": {},
   "outputs": [
    {
     "data": {
      "text/html": [
       "<span style=\"white-space:pre; font-family: monospace\">framework:  2.51                                                                             \n",
       "command:    ]TOOLS.Calendar                                                                  \n",
       "source:     /Applications/Dyalog-18.2.app/Contents/Resources/Dyalog/SALT/spice/jsutils.dyalog\n",
       "version:    1.18                                                                             \n",
       "revision:   1574                                                                             \n",
       "commit:     2019 01 29 Adam: Help                                                            \n",
       "                                                                                             \n",
       "</span>"
      ]
     },
     "execution_count": 26,
     "metadata": {},
     "output_type": "execute_result"
    }
   ],
   "source": [
    "]uversion calendar"
   ]
  },
  {
   "cell_type": "markdown",
   "id": "868e559c",
   "metadata": {},
   "source": [
    "## ]Compare\n",
    "\n",
    "There is actually a whole family user commands, all called `Compare`. They are in the groups `SALT`, `WS`, `ARRAY`, `FN`, and `FILE`. You can use them to compare two similar items, just may have done file diffs, but here you can do them on various things related to APL. For example, `]WS.Compare path1/ws1 path2/ws2` compares two workspaces, and `]NS.Compare #.ns1 #.ns2` compares two namespaces. Of course, if your items are stored in script files, you could use your favourite diff tool, but it probably doesn't have any understanding of the APL code involved.\n",
    "\n",
    "## ]Document\n",
    "If you want a \"hardcopy\" of your workspace or part of it, you can use `]document` to list all items, describe what they are, and show how they look if typed into the session.\n",
    "\n",
    "## ]FindRefs\n",
    "If you work with a lot of objects, especially if they point to each other, you may find `]findrefs` useful. It will follow all pointers (refs) and report everything. For example, "
   ]
  },
  {
   "cell_type": "code",
   "execution_count": 29,
   "id": "7c2b10d1",
   "metadata": {},
   "outputs": [
    {
     "data": {
      "text/html": [
       "<span style=\"white-space:pre; font-family: monospace\"> #: followed 6 pointers to reach a total of 2 \"refs\" \n",
       "                                                     \n",
       "  Name                                               \n",
       "  #                                                  \n",
       "  #.B+4 more                                         \n",
       "                                                     \n",
       "</span>"
      ]
     },
     "execution_count": 29,
     "metadata": {},
     "output_type": "execute_result"
    }
   ],
   "source": [
    "A ← ⎕NS '' ⋄ B←C←D←A                                                     \n",
    "V ← 0 C 2 99\n",
    "      \n",
    "]findrefs"
   ]
  },
  {
   "cell_type": "markdown",
   "id": "72ba2f3a",
   "metadata": {},
   "source": [
    "## ]FnsLike ]ObsLike\n",
    "\n",
    "You may have used `)fns` and `)obs` to list functions and objects in the workspace. However, they are quite limited in functionality. Instead, you can use the `]fnslike` and `]obslike` user commands which allow you to use globbing or regex to filter the results: Try it online!\n",
    "\n",
    "\n",
    "There's also the ]locate user command which allows you to search for text anywhere in the workspace (Try it online!) including, among many other features, the ability to search APL-syntactically. As always for user commands; explore the possibilities with ]?locate. "
   ]
  },
  {
   "cell_type": "code",
   "execution_count": 30,
   "id": "3d6e3d25",
   "metadata": {},
   "outputs": [
    {
     "data": {
      "text/html": [
       "<span style=\"white-space:pre; font-family: monospace\">/Applications/Dyalog-18.2.app/Contents/Resources/Dyalog/ws/salt.dws saved Thu Apr  7 00:21:30 2022\n",
       "This workspace is used to make SALT react on or ignore Editor events.\n",
       "\n",
       "Automatic updating of source files for SALTed items requires reacting on Editor events\n",
       "\n",
       "To make SALT react to Editor events, enter\n",
       "   enableSALT\n",
       "\n",
       "To make it ignore them, enter\n",
       "   disableSALT\n",
       "This does not disable User Commands or other SALT functionality\n",
       "\n",
       "\n",
       "</span>"
      ]
     },
     "execution_count": 30,
     "metadata": {},
     "output_type": "execute_result"
    },
    {
     "data": {
      "text/html": [
       "<span style=\"white-space:pre; font-family: monospace\">GetUnicodeFile  PutUTF8File  SALTsetFile  regGetHandle  rlb\n",
       "</span>"
      ]
     },
     "execution_count": 30,
     "metadata": {},
     "output_type": "execute_result"
    },
    {
     "data": {
      "text/html": [
       "<span style=\"white-space:pre; font-family: monospace\">PutUTF8File\n",
       "</span>"
      ]
     },
     "execution_count": 30,
     "metadata": {},
     "output_type": "execute_result"
    }
   ],
   "source": [
    ")load salt\n",
    "]fnslike *l?\n",
    "]fnslike \\d -regex"
   ]
  },
  {
   "cell_type": "markdown",
   "id": "10c8ccae",
   "metadata": {},
   "source": [
    "## ]Map\n",
    "\n",
    "A really cool user command is `]map` which draws a tree view of your workspace or (if given an argument) a specific namespace: "
   ]
  },
  {
   "cell_type": "code",
   "execution_count": 31,
   "id": "611489c2",
   "metadata": {},
   "outputs": [
    {
     "data": {
      "text/html": [
       "<span style=\"white-space:pre; font-family: monospace\">⎕SE.Dyalog\n",
       "·   ∇ Serial\n",
       "·   Array\n",
       "·   ·   ~ DEBUG sysVars\n",
       "·   ·   ∇ Deserialise DeserialiseQA L QA RoundtripQA Serialise SerialiseQA ∆NS ∆NSinverse\n",
       "·   ·   ∘ Ed Inline Is\n",
       "·   ·   serialise\n",
       "·   ·   ·   ~ cc cr cs di ec nl oc or os qu sp\n",
       "·   ·   ·   ∇ Any0 Basic Char Clean Empty Esc HiRank Join Lead0 Mat Nested Ns Null Num Ptr Repr Scal Ser Simple String Table Tacit Unempty Vec Vec1\n",
       "·   ·   ·   ∘ _Paren_ _Sub_\n",
       "·   Callbacks\n",
       "·   ·   ~ loaded\n",
       "·   ·   ∇ BootSALT FontChange LoadFonts NJoin SECreate SetBoxButton WSLoaded startup\n",
       "·   Hooks\n",
       "·   ·   ∇ Deregister Handle Init Norm Num Register Registered\n",
       "·   Out\n",
       "·   ·   ~ DEBUG OUTSpace allSettings cmds\n",
       "·   ·   ∇ Dft Filter Init Rows SD SetCallback flipBox pfnops timestamp\n",
       "·   ·   ∘ Box\n",
       "·   ·   B\n",
       "·   ·   ·   ~ fns state style trains view\n",
       "·   ·   F\n",
       "·   ·   ·   ~ includequadoutput state stop timestamp\n",
       "·   ·   L\n",
       "·   ·   ·   ~ pfkey state\n",
       "·   ·   R\n",
       "·   ·   ·   ~ dots fns fold state style\n",
       "·   SALT\n",
       "·   ·   ~ List\n",
       "·   SEEd → ⎕SE.[SessionEditor]\n",
       "·   Utils\n",
       "·   ·   ~ APLcartTableCache APLcartTableTime lc uc\n",
       "·   ·   ∇ APLcart APLcartTable CD CDshy Config ExpandConfig Version View condRavel cut disp display dmb drvSrc dtb expr externs formatPar formatText fromXML fromto layoutPar layoutText lcase nkds psmum relativeTies repObj repObjQA reshapeText setupKeys showCol showRow toMatrix toVector toXML trimEnds txtreplace ucase where ∆FMT1\n",
       "·   ·   ∘ currying nabs\n",
       "·   ·   SALT_Data → ⎕SE.[Namespace]\n",
       "·   ·   qa\n",
       "·   ·   ·   ∇ ExpandConfig\n",
       "</span>"
      ]
     },
     "execution_count": 31,
     "metadata": {},
     "output_type": "execute_result"
    }
   ],
   "source": [
    "]Map ⎕SE.Dyalog"
   ]
  },
  {
   "cell_type": "markdown",
   "id": "2f4b4783",
   "metadata": {},
   "source": [
    "The tree structure itself are the nested namespaces, while the lists of names are ordered by type; `~` are variables, `∇` are functions, `∘` are operators. It also displays ref-names and where they point.\n",
    "\n",
    "## ]Peek\n",
    "\n",
    "But perhaps the most powerful user command of them all is `]peek`. It allows you to \"peek\" into a different workspace, execute an expression there, then come back with the result, all without polluting or modifying neither the current workspace, nor the workspace that was peeked into: "
   ]
  },
  {
   "cell_type": "code",
   "execution_count": 32,
   "id": "f95774ca",
   "metadata": {},
   "outputs": [
    {
     "data": {
      "text/html": [
       "<span style=\"white-space:pre; font-family: monospace\">┌─────────┬─────────┐\n",
       "│⍟ · · · ·│· ⍟ · · ·│\n",
       "│· · ⍟ · ·│· · · · ⍟│\n",
       "│· · · · ⍟│· · ⍟ · ·│\n",
       "│· ⍟ · · ·│⍟ · · · ·│\n",
       "│· · · ⍟ ·│· · · ⍟ ·│\n",
       "└─────────┴─────────┘\n",
       "</span>"
      ]
     },
     "execution_count": 32,
     "metadata": {},
     "output_type": "execute_result"
    }
   ],
   "source": [
    "]peek dfns queens 5"
   ]
  },
  {
   "cell_type": "markdown",
   "id": "2852b49c",
   "metadata": {},
   "source": [
    "How to place five queens on a 5-by-5 chess board without them being able to capture each other, all without even loading any utilities! How about that? :-) \n",
    "\n",
    "There are, of course, many, many more user commands, and new versions of Dyalog usually adds more."
   ]
  },
  {
   "cell_type": "code",
   "execution_count": null,
   "id": "7e51b4d1",
   "metadata": {},
   "outputs": [],
   "source": []
  }
 ],
 "metadata": {
  "kernelspec": {
   "display_name": "Dyalog APL",
   "language": "apl",
   "name": "dyalog-kernel"
  },
  "language_info": {
   "file_extension": ".apl",
   "mimetype": "text/apl",
   "name": "APL"
  }
 },
 "nbformat": 4,
 "nbformat_minor": 5
}
