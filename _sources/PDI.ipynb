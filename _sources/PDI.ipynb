{
 "cells": [
  {
   "cell_type": "markdown",
   "id": "1f13f2fa",
   "metadata": {},
   "source": [
    "# Lookup without replacement\n",
    "\n",
    "\"Lookup without replacement\" is a very old (and famous) programming problem in the APL world. You can see a thorough investigation of this in [video](https://dyalog.tv/Webinar/?v=6SAsgEvUmkU) form, too.\n",
    "\n",
    "Consider two vectors,"
   ]
  },
  {
   "cell_type": "code",
   "execution_count": 1,
   "id": "2c635d24",
   "metadata": {},
   "outputs": [
    {
     "data": {
      "text/html": [
       "<span style=\"white-space:pre; font-family: monospace\">\n",
       "Rebuilding user command cache... done\n",
       "</span>"
      ]
     },
     "execution_count": 1,
     "metadata": {},
     "output_type": "execute_result"
    },
    {
     "data": {
      "text/html": [
       "<span style=\"white-space:pre; font-family: monospace\">abacba\n",
       "</span>"
      ]
     },
     "execution_count": 1,
     "metadata": {},
     "output_type": "execute_result"
    },
    {
     "data": {
      "text/html": [
       "<span style=\"white-space:pre; font-family: monospace\">baabaac\n",
       "</span>"
      ]
     },
     "execution_count": 1,
     "metadata": {},
     "output_type": "execute_result"
    }
   ],
   "source": [
    "L←⎕←'abacba'\n",
    "R←⎕←'baabaac'"
   ]
  },
  {
   "cell_type": "markdown",
   "id": "3bc3a243",
   "metadata": {},
   "source": [
    "Dyadic iota `⍳` lets us find the first index of occurrence of the elements in `R` in `L`:"
   ]
  },
  {
   "cell_type": "code",
   "execution_count": 2,
   "id": "b50ecd71",
   "metadata": {},
   "outputs": [
    {
     "data": {
      "text/html": [
       "<span style=\"white-space:pre; font-family: monospace\">2 1 1 2 1 1 4\n",
       "</span>"
      ]
     },
     "execution_count": 2,
     "metadata": {},
     "output_type": "execute_result"
    }
   ],
   "source": [
    "L⍳R"
   ]
  },
  {
   "cell_type": "markdown",
   "id": "73b0126e",
   "metadata": {},
   "source": [
    "However, what if we wanted the first `b` in `R` to \"consume\" the first `b` in `L` so that the second `b` in `R` would have to contend with the index of the _second_ `b` in `L`? That is, we want some function which gives `2 1 3 5 6 7 4`. You could call it \"iota without replacement\". \n",
    "\n",
    "\n",
    "Let's begin by labeling the elements so we can see what goes where: "
   ]
  },
  {
   "cell_type": "code",
   "execution_count": 3,
   "id": "bdb417ed",
   "metadata": {},
   "outputs": [
    {
     "data": {
      "text/html": [
       "<span style=\"white-space:pre; font-family: monospace\">2 1 3 5 6 7 4\n",
       "</span>"
      ]
     },
     "execution_count": 3,
     "metadata": {},
     "output_type": "execute_result"
    }
   ],
   "source": [
    "'a1' 'b1' 'a2' 'c1' 'b2' 'a3' ⍳ 'b1' 'a1' 'a2' 'b2' 'a3' 'a4' 'c1'"
   ]
  },
  {
   "cell_type": "markdown",
   "id": "7ba82267",
   "metadata": {},
   "source": [
    "As we numbered the `a`s (which otherwise all match each other) and the `b`s, the right pairs get matched up.\n",
    "If you recall the chapter about `⍋`, you may also recall what `⍋⍋` does. While `⍋` gives use the indices that will sort, `⍋⍋` gives us the positions that each element will occupy in the sorted result. "
   ]
  },
  {
   "cell_type": "code",
   "execution_count": 4,
   "id": "3977b96e",
   "metadata": {},
   "outputs": [
    {
     "data": {
      "text/html": [
       "<span style=\"white-space:pre; font-family: monospace\">a b a c b a\n",
       "1 2 1 4 2 1\n",
       "1 4 2 6 5 3\n",
       "</span>"
      ]
     },
     "execution_count": 4,
     "metadata": {},
     "output_type": "execute_result"
    }
   ],
   "source": [
    "↑L(L⍳L)(⍋⍋L⍳L)⊣L"
   ]
  },
  {
   "cell_type": "markdown",
   "id": "648e7266",
   "metadata": {},
   "source": [
    "The first line is the data and the second is the indices of the first occurrences (in other words, all identical items will get the same index). The third line is the position that each will occupy when sorted. That means that identical elements get consecutive positions.\n",
    "\n",
    "For example, you can see that the first `b` gets 4 (because there are 3 `a`s) and the second gets 5. This almost solves the problem.\n",
    "\n",
    "However, there are a couple of issues:\n",
    "\n",
    "1. The two arrays must have the same set of elements.\n",
    "2. The two arrays must have equally many of each unique element\n",
    "3. The unique elements must initially occur in the same order\n",
    "\n",
    "Why these conditions?\n",
    "\n",
    "1. is because otherwise the purely numeric \"labels\" will match the wrong things.\n",
    "2. is because otherwise one element's \"label\" will be paired up with the label of a different value element of the other array.\n",
    "3. is because otherwise identical \"labels\" numbers refer to two entirely different things, and so the matching won't give a meaningful result.\n",
    "\n",
    "But if these conditions are met, we get the right result: "
   ]
  },
  {
   "cell_type": "code",
   "execution_count": 40,
   "id": "ba0542eb",
   "metadata": {},
   "outputs": [
    {
     "data": {
      "text/html": [
       "<span style=\"white-space:pre; font-family: monospace\">1 3 6 2 4 5\n",
       "</span>"
      ]
     },
     "execution_count": 40,
     "metadata": {},
     "output_type": "execute_result"
    }
   ],
   "source": [
    "L←'abacba'\n",
    "R←'aaabcb'\n",
    "(⍋⍋L⍳L)⍳⍋⍋R⍳R"
   ]
  },
  {
   "cell_type": "markdown",
   "id": "ca5f8f3b",
   "metadata": {},
   "source": [
    "The first `a` in `R` gets paired with the element in position 1 of `L`, and the second `a` in `R` goes with the element in position 3, and the third goes with the last element of `L`.\n",
    "\n",
    "Let's have a stab at how we can ensure that all conditions are eliminated, and then we'll have our solution.\n",
    "Since we're going to look up elements of `R` in `L` anyway, we can use indices into `L` (that is `L⍳R`) instead of the lookup of `R` into itself (`R⍳R`) This ensures that elements of `R` are labelled with \"`L`'s labelling system\". "
   ]
  },
  {
   "cell_type": "code",
   "execution_count": 39,
   "id": "f6b5ac68",
   "metadata": {},
   "outputs": [
    {
     "data": {
      "text/html": [
       "<span style=\"white-space:pre; font-family: monospace\">a b a c b a\n",
       "1 2 1 4 2 1\n",
       "1 4 2 6 5 3\n",
       "</span>"
      ]
     },
     "execution_count": 39,
     "metadata": {},
     "output_type": "execute_result"
    },
    {
     "data": {
      "text/html": [
       "<span style=\"white-space:pre; font-family: monospace\">b c a b a a\n",
       "2 4 1 2 1 1\n",
       "4 6 1 5 2 3\n",
       "</span>"
      ]
     },
     "execution_count": 39,
     "metadata": {},
     "output_type": "execute_result"
    }
   ],
   "source": [
    "L←'abacba'\n",
    "R←'bcabaa'\n",
    "↑L(L⍳L)(⍋⍋L⍳L)\n",
    "↑R(L⍳R)(⍋⍋L⍳R)"
   ]
  },
  {
   "cell_type": "markdown",
   "id": "d02f5e3f",
   "metadata": {},
   "source": [
    "The first line (of each group) is the data, the second line is the first-positions of that data in `L`. The third is the progressive labeling of that. Now you can see that the first `a` is labeled 1 for both `L` and `R` and the first `b` is labeled 4 for both `L` and `R`."
   ]
  },
  {
   "cell_type": "code",
   "execution_count": 15,
   "id": "a07274c8",
   "metadata": {},
   "outputs": [
    {
     "data": {
      "text/html": [
       "<span style=\"white-space:pre; font-family: monospace\">2 4 1 5 3 6\n",
       "</span>"
      ]
     },
     "execution_count": 15,
     "metadata": {},
     "output_type": "execute_result"
    }
   ],
   "source": [
    "(⍋⍋L⍳L)⍳(⍋⍋L⍳R)"
   ]
  },
  {
   "cell_type": "markdown",
   "id": "3d1266f8",
   "metadata": {},
   "source": [
    "We now have that the first `b` of `R` takes out element 2 of `L`, and the `c` takes out element 4 of `L` and so on.\n",
    "But this still requires both sides to have the same set of elements and equally many of each element. How can we ensure that there are equally many of each unique element on each side? Well, if you think about it, `L,R` and `R,L` must necessarily have the same set in equal proportions. But this also gives us way more elements than we need. We'll take care of that later. "
   ]
  },
  {
   "cell_type": "code",
   "execution_count": 16,
   "id": "bc59f035",
   "metadata": {},
   "outputs": [
    {
     "data": {
      "text/html": [
       "<span style=\"white-space:pre; font-family: monospace\">2 4 1 5 3 6 9 7 11 8 10 12\n",
       "</span>"
      ]
     },
     "execution_count": 16,
     "metadata": {},
     "output_type": "execute_result"
    }
   ],
   "source": [
    "(⍋⍋L⍳L,R)⍳(⍋⍋L⍳R,L)"
   ]
  },
  {
   "cell_type": "markdown",
   "id": "54dc64f3",
   "metadata": {},
   "source": [
    "Note that this sequence begins with what we want, and now we have equal proportions, so we've eliminated issue 2. We just need to reshape (or take) to chop the unneeded elements: "
   ]
  },
  {
   "cell_type": "code",
   "execution_count": 17,
   "id": "645a4a21",
   "metadata": {},
   "outputs": [
    {
     "data": {
      "text/html": [
       "<span style=\"white-space:pre; font-family: monospace\">2 4 1 5 3 6\n",
       "</span>"
      ]
     },
     "execution_count": 17,
     "metadata": {},
     "output_type": "execute_result"
    }
   ],
   "source": [
    "((⍴L)⍴⍋⍋L⍳L,R)⍳((⍴R)⍴⍋⍋L⍳R,L)"
   ]
  },
  {
   "cell_type": "markdown",
   "id": "2227bdb4",
   "metadata": {},
   "source": [
    "Now it works even though we have a `d` in `R` which doesn't occur in `L`. In accordance with the rules of `⍳`, not-found elements get the index 1+the last index of the left argument. Since we chopped the left list of labels to the length of `L`, that's what we get. "
   ]
  },
  {
   "cell_type": "code",
   "execution_count": 21,
   "id": "da23ab89",
   "metadata": {},
   "outputs": [
    {
     "data": {
      "text/html": [
       "<span style=\"white-space:pre; font-family: monospace\">2 4 7 1 5 3 6 7 7 7\n",
       "</span>"
      ]
     },
     "execution_count": 21,
     "metadata": {},
     "output_type": "execute_result"
    }
   ],
   "source": [
    "L←'abacba'\n",
    "R←'bcdabaaaaa'\n",
    "((⍴L)⍴⍋⍋L⍳L,R)⍳((⍴R)⍴⍋⍋L⍳R,L)"
   ]
  },
  {
   "cell_type": "markdown",
   "id": "ea04cea0",
   "metadata": {},
   "source": [
    "And so, we've taken care of issue 1 (different sets of elements).  This algorithm can also be adapted to use with any-rank arrays by using `≢` instead of monadic `⍴` and `↑` instead of dyadic `⍴` and `⍪` instead of `,`. Let's have a look back at what we did. Consider: "
   ]
  },
  {
   "cell_type": "code",
   "execution_count": 22,
   "id": "ab799290",
   "metadata": {},
   "outputs": [
    {
     "data": {
      "text/html": [
       "<span style=\"white-space:pre; font-family: monospace\">abacba \n",
       "baabaac\n",
       "</span>"
      ]
     },
     "execution_count": 22,
     "metadata": {},
     "output_type": "execute_result"
    }
   ],
   "source": [
    "↑(L R)←'abacba' 'baabaac'"
   ]
  },
  {
   "cell_type": "markdown",
   "id": "25c348d4",
   "metadata": {},
   "source": [
    "We then labeled the elements: "
   ]
  },
  {
   "cell_type": "code",
   "execution_count": 24,
   "id": "88aff42a",
   "metadata": {},
   "outputs": [
    {
     "data": {
      "text/html": [
       "<span style=\"white-space:pre; font-family: monospace\">┌──┬──┬──┬───┬──┬──┬───┐\n",
       "│a1│b8│a2│c12│b9│a3│   │\n",
       "├──┼──┼──┼───┼──┼──┼───┤\n",
       "│b8│a1│a2│b9 │a3│a4│c12│\n",
       "└──┴──┴──┴───┴──┴──┴───┘\n",
       "</span>"
      ]
     },
     "execution_count": 24,
     "metadata": {},
     "output_type": "execute_result"
    }
   ],
   "source": [
    "↑('a1' 'b8' 'a2' 'c12' 'b9' 'a3')('b8' 'a1' 'a2' 'b9' 'a3' 'a4' 'c12')"
   ]
  },
  {
   "cell_type": "markdown",
   "id": "64273d7c",
   "metadata": {},
   "source": [
    "And looked those labels up: "
   ]
  },
  {
   "cell_type": "code",
   "execution_count": 25,
   "id": "6d0c4fd0",
   "metadata": {},
   "outputs": [
    {
     "data": {
      "text/html": [
       "<span style=\"white-space:pre; font-family: monospace\">2 1 3 5 6 7 4\n",
       "</span>"
      ]
     },
     "execution_count": 25,
     "metadata": {},
     "output_type": "execute_result"
    }
   ],
   "source": [
    "('a1' 'b8' 'a2' 'c12' 'b9' 'a3') ⍳ ('b8' 'a1' 'a2' 'b9' 'a3' 'a4' 'c12')"
   ]
  },
  {
   "cell_type": "markdown",
   "id": "c35499ee",
   "metadata": {},
   "source": [
    "But actually, we don't need the original values (the letters); the numeric labels are enough: "
   ]
  },
  {
   "cell_type": "code",
   "execution_count": 26,
   "id": "11756fed",
   "metadata": {},
   "outputs": [
    {
     "data": {
      "text/html": [
       "<span style=\"white-space:pre; font-family: monospace\">2 1 3 5 6 7 4\n",
       "</span>"
      ]
     },
     "execution_count": 26,
     "metadata": {},
     "output_type": "execute_result"
    }
   ],
   "source": [
    "(1 8 2 12 9 3) ⍳ (8 1 2 9 3 4 12)"
   ]
  },
  {
   "cell_type": "markdown",
   "id": "1dc063ec",
   "metadata": {},
   "source": [
    "And how did we get those labels? "
   ]
  },
  {
   "cell_type": "code",
   "execution_count": 27,
   "id": "394c3eca",
   "metadata": {},
   "outputs": [
    {
     "data": {
      "text/html": [
       "<span style=\"white-space:pre; font-family: monospace\">abacba \n",
       "baabaac\n",
       "</span>"
      ]
     },
     "execution_count": 27,
     "metadata": {},
     "output_type": "execute_result"
    },
    {
     "data": {
      "text/html": [
       "<span style=\"white-space:pre; font-family: monospace\">1 8 2 12 9 3\n",
       "</span>"
      ]
     },
     "execution_count": 27,
     "metadata": {},
     "output_type": "execute_result"
    },
    {
     "data": {
      "text/html": [
       "<span style=\"white-space:pre; font-family: monospace\">8 1 2 9 3 4 12\n",
       "</span>"
      ]
     },
     "execution_count": 27,
     "metadata": {},
     "output_type": "execute_result"
    }
   ],
   "source": [
    "↑(L R)←'abacba' 'baabaac'\n",
    "(⍴L)⍴⍋⍋L⍳L,R\n",
    "(⍴R)⍴⍋⍋L⍳R,L"
   ]
  },
  {
   "cell_type": "markdown",
   "id": "e492a810",
   "metadata": {},
   "source": [
    "So now we can define our function: "
   ]
  },
  {
   "cell_type": "code",
   "execution_count": 28,
   "id": "a2683c51",
   "metadata": {},
   "outputs": [],
   "source": [
    "pdi ← {((⍴⍺)⍴⍋⍋⍺⍳⍺,⍵)⍳(⍴⍵)⍴⍋⍋⍺⍳⍵,⍺} ⍝ Progressive Dyadic Iota"
   ]
  },
  {
   "cell_type": "code",
   "execution_count": 29,
   "id": "c5a470a5",
   "metadata": {},
   "outputs": [
    {
     "data": {
      "text/html": [
       "<span style=\"white-space:pre; font-family: monospace\">2 4 1 5 3 6\n",
       "</span>"
      ]
     },
     "execution_count": 29,
     "metadata": {},
     "output_type": "execute_result"
    }
   ],
   "source": [
    "'abacba' pdi 'bcabaa'"
   ]
  },
  {
   "cell_type": "markdown",
   "id": "d646128b",
   "metadata": {},
   "source": [
    "Here's an example. We want to fill a plane with multiple classes, using first-come, first-serve. We may want to ask: for each customer, will they fit on the plane? Say we have a plane like '11bbbpeepee', where 1 is first class, b is business, p is economy plus (extra legroom at emergency exits), and e is regular economy. We now have a bunch of customers coming to buy seats: '1bbbpppeeeee'. That's one 1st class customer, three business people, three want more legroom, and a load of regular people. "
   ]
  },
  {
   "cell_type": "code",
   "execution_count": 31,
   "id": "c8b5f9a1",
   "metadata": {},
   "outputs": [
    {
     "data": {
      "text/html": [
       "<span style=\"white-space:pre; font-family: monospace\">1 3 4 5 6 9 12 7 8 10 11 12\n",
       "</span>"
      ]
     },
     "execution_count": 31,
     "metadata": {},
     "output_type": "execute_result"
    }
   ],
   "source": [
    "'11bbbpeepee' pdi '1bbbpppeeeee'"
   ]
  },
  {
   "cell_type": "markdown",
   "id": "c4469568",
   "metadata": {},
   "source": [
    "Being that the plane only has 11 seats, we can see that one plus and one economy will not fit (indicated by the 12s), but we just want a Boolean, not the actual seating. Progressive dyadic iota (or iota without replacement) asks \"For each element, where would it go in the remaining elements?\" Now we need to ask \"For each element, does it fit in (i.e. is it in) the remaining elements?\". \n",
    "\n",
    "\"is it in\" is APL's `∊`. Just note that the arguments of `∊` and `⍳` are \"reversed\" in that the array we look up in is on the left for `⍳` and on the right for `∊`, so we just swap the parts of our function and substitute `∊` for the middle `⍳`: "
   ]
  },
  {
   "cell_type": "code",
   "execution_count": 33,
   "id": "c4726bf7",
   "metadata": {},
   "outputs": [],
   "source": [
    "pde ← {((⍴⍵)⍴⍋⍋⍺⍳⍵,⍺)∊((⍴⍺)⍴⍋⍋⍺⍳⍺,⍵)} ⍝ Progressive Dyadic Epsilon"
   ]
  },
  {
   "cell_type": "code",
   "execution_count": 34,
   "id": "40d9047d",
   "metadata": {},
   "outputs": [
    {
     "data": {
      "text/html": [
       "<span style=\"white-space:pre; font-family: monospace\">1 1 1 1 1 1 0 1 1 1 1 0\n",
       "</span>"
      ]
     },
     "execution_count": 34,
     "metadata": {},
     "output_type": "execute_result"
    }
   ],
   "source": [
    "'11bbbpeepee' pde '1bbbpppeeeee'"
   ]
  },
  {
   "cell_type": "markdown",
   "id": "f5931130",
   "metadata": {},
   "source": [
    "Alternatively, we could just call the function with swapped arguments:"
   ]
  },
  {
   "cell_type": "code",
   "execution_count": 35,
   "id": "eddc7e88",
   "metadata": {},
   "outputs": [
    {
     "data": {
      "text/html": [
       "<span style=\"white-space:pre; font-family: monospace\">1 1 1 1 1 1 0 1 1 1 1 0\n",
       "</span>"
      ]
     },
     "execution_count": 35,
     "metadata": {},
     "output_type": "execute_result"
    }
   ],
   "source": [
    "'1bbbpppeeeee' {((⍴⍺)⍴⍋⍋⍺⍳⍺,⍵)∊(⍴⍵)⍴⍋⍋⍺⍳⍵,⍺} '11bbbpeepee'"
   ]
  },
  {
   "cell_type": "markdown",
   "id": "4b636eb5",
   "metadata": {},
   "source": [
    "This function is \"membership without replacement\", or \"progressive dyadic epsilon\". Did you notice the pattern? We are taking two functions and modifying them in a consistent manner. This calls for an operator!"
   ]
  },
  {
   "cell_type": "code",
   "execution_count": 36,
   "id": "750fd071",
   "metadata": {},
   "outputs": [],
   "source": [
    "WithoutReplacement←{((⍴⍺)⍴⍋⍋⍺⍳⍺,⍵)⍺⍺(⍴⍵)⍴⍋⍋⍺⍳⍵,⍺}"
   ]
  },
  {
   "cell_type": "code",
   "execution_count": 38,
   "id": "7a6f6fcf",
   "metadata": {},
   "outputs": [
    {
     "data": {
      "text/html": [
       "<span style=\"white-space:pre; font-family: monospace\">11bbbpeepee \n",
       "1bbbpppeeeee\n",
       "</span>"
      ]
     },
     "execution_count": 38,
     "metadata": {},
     "output_type": "execute_result"
    },
    {
     "data": {
      "text/html": [
       "<span style=\"white-space:pre; font-family: monospace\">1 3 4 5 6 9 12 7 8 10 11 12\n",
       "</span>"
      ]
     },
     "execution_count": 38,
     "metadata": {},
     "output_type": "execute_result"
    },
    {
     "data": {
      "text/html": [
       "<span style=\"white-space:pre; font-family: monospace\">1 0 1 1 1 1 1 1 1 1 1\n",
       "</span>"
      ]
     },
     "execution_count": 38,
     "metadata": {},
     "output_type": "execute_result"
    }
   ],
   "source": [
    "↑ (p c)←'11bbbpeepee' '1bbbpppeeeee'\n",
    "p ⍳WithoutReplacement c\n",
    "p ∊WithoutReplacement c"
   ]
  },
  {
   "cell_type": "markdown",
   "id": "961c42cc",
   "metadata": {},
   "source": [
    "Notice how the APL code reads much like normal English. "
   ]
  },
  {
   "cell_type": "code",
   "execution_count": null,
   "id": "b08b0286",
   "metadata": {},
   "outputs": [],
   "source": []
  }
 ],
 "metadata": {
  "kernelspec": {
   "display_name": "Dyalog APL",
   "language": "apl",
   "name": "dyalog-kernel"
  },
  "language_info": {
   "file_extension": ".apl",
   "mimetype": "text/apl",
   "name": "APL"
  }
 },
 "nbformat": 4,
 "nbformat_minor": 5
}
