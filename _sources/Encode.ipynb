{
 "cells": [
  {
   "cell_type": "markdown",
   "id": "d12d443b",
   "metadata": {},
   "source": [
    "# Encode in depth `⊤`\n",
    "\n",
    "`⊤` is known as \"Encode\" or \"Represent\". It takes a number (or multiple numbers, in the same way as with `⊥`) as right argument and generates a representation in the (mixed) number base(s) given in the left argument. As a memory aid, we can call it N-code (\"encode\") to remember that it is typed with APL+n (while `⊥` is clearly a \"base\", and indeed evaluates numbers in custom bases, B for base; type it with APL+b). \n",
    "\n",
    "As we saw previously, `⊥` is quite simple. In a way, it is a fancier `+.×`: it just gives the given \"digits\" weights, and sums the result. The weights being determined from the reverse cumulative product of the left argument (and there's some transposing going on too). `⊤` is much more complex, computationally speaking, but not really conceptually, where it is basically the inverse operation. One way to explain it is to show how `⊤` constructs its result. As a simple example, let's take: "
   ]
  },
  {
   "cell_type": "code",
   "execution_count": 2,
   "id": "98656a76",
   "metadata": {},
   "outputs": [
    {
     "data": {
      "text/html": [
       "<span style=\"white-space:pre; font-family: monospace\">1 1 13 45\n",
       "</span>"
      ]
     },
     "execution_count": 2,
     "metadata": {},
     "output_type": "execute_result"
    }
   ],
   "source": [
    "0 7 24 60⊤12345"
   ]
  },
  {
   "cell_type": "markdown",
   "id": "077db223",
   "metadata": {},
   "source": [
    "The `0 7 24 60` here represents a number system with 60 of the basic units in the next larger unit, 24 of those larger units in the next larger, etc. It could, for example, be 60 minutes in an hour, 24 hours in a day, and 7 days in a week. The 0 means that there are no larger units, and we'll keep stacking large value multiple in that position no matter how big the \"pile\" gets. Compare this to making cash change: there's nothing larger than a $\\$$500 unit, so even if we have to pay a million, we'll have to use lots of $\\$$500s.\n",
    "\n",
    "What are our weights? "
   ]
  },
  {
   "cell_type": "code",
   "execution_count": 3,
   "id": "bc1fb893",
   "metadata": {},
   "outputs": [
    {
     "data": {
      "text/html": [
       "<span style=\"white-space:pre; font-family: monospace\">10080 1440 60 1\n",
       "</span>"
      ]
     },
     "execution_count": 3,
     "metadata": {},
     "output_type": "execute_result"
    }
   ],
   "source": [
    "⌽×\\⌽1,⍨1↓0 7 24 60"
   ]
  },
  {
   "cell_type": "markdown",
   "id": "9aa62b89",
   "metadata": {},
   "source": [
    " That is, there's 1 minute in a minute, 60 minutes in an hour, 1440 minutes in a day, and 10080 minutes in a week.\n",
    "We can check the result that `⊤` gave us by using these weights:"
   ]
  },
  {
   "cell_type": "code",
   "execution_count": 4,
   "id": "1d2ba2d0",
   "metadata": {},
   "outputs": [
    {
     "data": {
      "text/html": [
       "<span style=\"white-space:pre; font-family: monospace\">12345\n",
       "</span>"
      ]
     },
     "execution_count": 4,
     "metadata": {},
     "output_type": "execute_result"
    }
   ],
   "source": [
    "1 1 13 45+.×⌽×\\⌽1,⍨1↓0 7 24 60"
   ]
  },
  {
   "cell_type": "markdown",
   "id": "7b3f6881",
   "metadata": {},
   "source": [
    "Yup, that worked.\n",
    "\n",
    "How did `⊤` get the result then? Let's do it step-by-step, building our result from the right. The first unit rolls over at 60, so we can find how many of the smallest units (here, minutes) we need in order to get the exact total value by applying division remainder:"
   ]
  },
  {
   "cell_type": "code",
   "execution_count": 5,
   "id": "aaaa8cdf",
   "metadata": {},
   "outputs": [
    {
     "data": {
      "text/html": [
       "<span style=\"white-space:pre; font-family: monospace\">45\n",
       "</span>"
      ]
     },
     "execution_count": 5,
     "metadata": {},
     "output_type": "execute_result"
    }
   ],
   "source": [
    "60|12345"
   ]
  },
  {
   "cell_type": "markdown",
   "id": "203aebce",
   "metadata": {},
   "source": [
    "There's our right-most \"digit\". Let's put that aside in our result. How many minutes are left?"
   ]
  },
  {
   "cell_type": "code",
   "execution_count": 6,
   "id": "b2d2af3f",
   "metadata": {},
   "outputs": [
    {
     "data": {
      "text/html": [
       "<span style=\"white-space:pre; font-family: monospace\">12300\n",
       "</span>"
      ]
     },
     "execution_count": 6,
     "metadata": {},
     "output_type": "execute_result"
    }
   ],
   "source": [
    "12345-45"
   ]
  },
  {
   "cell_type": "markdown",
   "id": "62b6ee9f",
   "metadata": {},
   "source": [
    "The next unit (the hours) consist roll over at 24 hours of 60 minutes each. Any multiple of 24 hours will be days instead. We only want the remainder of 24-hour-periods, that is, `24×60` minutes, to be counted in hours:"
   ]
  },
  {
   "cell_type": "code",
   "execution_count": 7,
   "id": "2dbef2b1",
   "metadata": {},
   "outputs": [
    {
     "data": {
      "text/html": [
       "<span style=\"white-space:pre; font-family: monospace\">780\n",
       "</span>"
      ]
     },
     "execution_count": 7,
     "metadata": {},
     "output_type": "execute_result"
    }
   ],
   "source": [
    "(24×60)|12300"
   ]
  },
  {
   "cell_type": "markdown",
   "id": "aefe543b",
   "metadata": {},
   "source": [
    "This is how many _minutes_ we want counted as hours. How many hours is that, though?"
   ]
  },
  {
   "cell_type": "code",
   "execution_count": 8,
   "id": "3b1bdcf3",
   "metadata": {},
   "outputs": [
    {
     "data": {
      "text/html": [
       "<span style=\"white-space:pre; font-family: monospace\">13\n",
       "</span>"
      ]
     },
     "execution_count": 8,
     "metadata": {},
     "output_type": "execute_result"
    }
   ],
   "source": [
    "60÷⍨(24×60)|12300"
   ]
  },
  {
   "cell_type": "markdown",
   "id": "9b7fe404",
   "metadata": {},
   "source": [
    "There's the second-from-right element of our result. Let's prepend it to get a preliminary result of `13 45`.\n",
    "We've used 780 minutes this time around. How much do we have left (which will be counted in days and maybe weeks)? "
   ]
  },
  {
   "cell_type": "code",
   "execution_count": 9,
   "id": "99c10d04",
   "metadata": {},
   "outputs": [
    {
     "data": {
      "text/html": [
       "<span style=\"white-space:pre; font-family: monospace\">11520\n",
       "</span>"
      ]
     },
     "execution_count": 9,
     "metadata": {},
     "output_type": "execute_result"
    }
   ],
   "source": [
    "12300-780"
   ]
  },
  {
   "cell_type": "markdown",
   "id": "01260914",
   "metadata": {},
   "source": [
    "Next up are days, which we'll use to fill until we have a value that can be counted in whole weeks. A week, of course, being how many minutes?"
   ]
  },
  {
   "cell_type": "code",
   "execution_count": 10,
   "id": "80a2f9b6",
   "metadata": {},
   "outputs": [
    {
     "data": {
      "text/html": [
       "<span style=\"white-space:pre; font-family: monospace\">10080\n",
       "</span>"
      ]
     },
     "execution_count": 10,
     "metadata": {},
     "output_type": "execute_result"
    }
   ],
   "source": [
    "7×24×60"
   ]
  },
  {
   "cell_type": "markdown",
   "id": "85abcdaa",
   "metadata": {},
   "source": [
    "So we need the division remainder when divided by that."
   ]
  },
  {
   "cell_type": "code",
   "execution_count": 11,
   "id": "d1a685a9",
   "metadata": {},
   "outputs": [
    {
     "data": {
      "text/html": [
       "<span style=\"white-space:pre; font-family: monospace\">1440\n",
       "</span>"
      ]
     },
     "execution_count": 11,
     "metadata": {},
     "output_type": "execute_result"
    }
   ],
   "source": [
    "(7×24×60)|11520"
   ]
  },
  {
   "cell_type": "markdown",
   "id": "fc8777f1",
   "metadata": {},
   "source": [
    "That's how many days (stated in minutes) we have. How many actual days does that add up to? "
   ]
  },
  {
   "cell_type": "code",
   "execution_count": 12,
   "id": "0e60a752",
   "metadata": {},
   "outputs": [
    {
     "data": {
      "text/html": [
       "<span style=\"white-space:pre; font-family: monospace\">1\n",
       "</span>"
      ]
     },
     "execution_count": 12,
     "metadata": {},
     "output_type": "execute_result"
    }
   ],
   "source": [
    "(24×60)÷⍨(7×24×60)|11520"
   ]
  },
  {
   "cell_type": "markdown",
   "id": "47ce9ba5",
   "metadata": {},
   "source": [
    "That's the next value in our result, giving us `1 13 45`. How much is left now?"
   ]
  },
  {
   "cell_type": "code",
   "execution_count": 13,
   "id": "d9aeeee4",
   "metadata": {},
   "outputs": [
    {
     "data": {
      "text/html": [
       "<span style=\"white-space:pre; font-family: monospace\">10080\n",
       "</span>"
      ]
     },
     "execution_count": 13,
     "metadata": {},
     "output_type": "execute_result"
    }
   ],
   "source": [
    "11520-1440"
   ]
  },
  {
   "cell_type": "markdown",
   "id": "5e37b545",
   "metadata": {},
   "source": [
    "Which you might recognise as a single week (expressed in minutes), giving us another 1 in our result: `1 1 13 45`.\n",
    "\n",
    "Now for the classic question. Why doesn't this work for making change? "
   ]
  },
  {
   "cell_type": "code",
   "execution_count": 14,
   "id": "f5163d50",
   "metadata": {},
   "outputs": [
    {
     "data": {
      "text/html": [
       "<span style=\"white-space:pre; font-family: monospace\">1 1.5 0 2\n",
       "</span>"
      ]
     },
     "execution_count": 14,
     "metadata": {},
     "output_type": "execute_result"
    }
   ],
   "source": [
    "4 2.5 2 5⊤42 ⍝ 4 quarters in a dollar, 2.5 dimes in a quarter, 2 nickels in a dime, 5 pence in a nickel"
   ]
  },
  {
   "cell_type": "markdown",
   "id": "ee9d9c57",
   "metadata": {},
   "source": [
    "I can't pay 42 pence as 1 quarter, 1.5 dimes, and 2 pennies! Sure, mathematically, it'd work, but I'm not sure the US mint will be too excited if I start chopping dimes in half. \n",
    "\n",
    "So what happened here? Let's walk through the process again. We start by finding what the remainder is, which we'll have to pay in pennies:"
   ]
  },
  {
   "cell_type": "code",
   "execution_count": 15,
   "id": "fbae6527",
   "metadata": {},
   "outputs": [
    {
     "data": {
      "text/html": [
       "<span style=\"white-space:pre; font-family: monospace\">2\n",
       "</span>"
      ]
     },
     "execution_count": 15,
     "metadata": {},
     "output_type": "execute_result"
    }
   ],
   "source": [
    "5|42"
   ]
  },
  {
   "cell_type": "markdown",
   "id": "3cf8721d",
   "metadata": {},
   "source": [
    "That leaves 40 pence. Since 2 nickels go into a dime, we do a mod-10 to find how many nickels we need:"
   ]
  },
  {
   "cell_type": "code",
   "execution_count": 16,
   "id": "63781f6e",
   "metadata": {},
   "outputs": [
    {
     "data": {
      "text/html": [
       "<span style=\"white-space:pre; font-family: monospace\">0\n",
       "</span>"
      ]
     },
     "execution_count": 16,
     "metadata": {},
     "output_type": "execute_result"
    }
   ],
   "source": [
    "(2×5)|40"
   ]
  },
  {
   "cell_type": "markdown",
   "id": "a5bf54b1",
   "metadata": {},
   "source": [
    "None, of course. So we still have 40p or ¢40 if you want. Continuing on, how many dimes? The dimes roll over at 2.5:"
   ]
  },
  {
   "cell_type": "code",
   "execution_count": 17,
   "id": "8ec322a6",
   "metadata": {},
   "outputs": [
    {
     "data": {
      "text/html": [
       "<span style=\"white-space:pre; font-family: monospace\">15\n",
       "</span>"
      ]
     },
     "execution_count": 17,
     "metadata": {},
     "output_type": "execute_result"
    }
   ],
   "source": [
    "(2.5×2×5)|40"
   ]
  },
  {
   "cell_type": "markdown",
   "id": "332dcc32",
   "metadata": {},
   "source": [
    "So only 15 pence will need to be paid in dimes. Herein lies our problem. That's of course 1.5 dimes. Hence our result. Left over is `40-15`, that is, 25 pence, enough for a single quarter. Actually, proper change-making with arbitrarily valued coins is a weakly NP-hard problem. Look at the total amount as a knapsack you need to fill. You only have items of fixed volume to put in there. There's no obvious way to see exactly how to fill the bag fully. However, mints are careful to only issue pieces in such a way that a greedy algorithm works. \n",
    "\n",
    "`⊤` gives you the possibility of running a custom counter or odometer which rolls over eventually. Think of the case `24 60 60⊤`. If it didn't \"chop\" (mod, really), there'd be no way to know what the next digit value would be.\n",
    "So what `2⊤13` means is a base-2 odometer with a single digit display, rolling over whenever the value exceeds 1.\n",
    "Now, you could complain that this equates 2 and ,2. You'd be right. There probably never any reason to use a scalar as left argument for `⊤`. If you want mod, use `|`.\n",
    "\n",
    "The only difference between `⊤` and `|` for scalar left arguments, is comparison tolerance (`⎕CT`), which `|` cares about, but ⊤ ignores. But if you want `⎕CT←0`, you should set it explicitly rather than obscuring your code with `⊤` and a scalar left argument. \n",
    "\n",
    "Let's look at some neat tricks with `⊤`. You can use 0 1⊤ to split a number into its integer part and fractional part: "
   ]
  },
  {
   "cell_type": "code",
   "execution_count": 18,
   "id": "6a81d78d",
   "metadata": {},
   "outputs": [
    {
     "data": {
      "text/html": [
       "<span style=\"white-space:pre; font-family: monospace\">3 0.14\n",
       "</span>"
      ]
     },
     "execution_count": 18,
     "metadata": {},
     "output_type": "execute_result"
    },
    {
     "data": {
      "text/html": [
       "<span style=\"white-space:pre; font-family: monospace\">3    2   100\n",
       "0.14 0.7   0.23\n",
       "</span>"
      ]
     },
     "execution_count": 18,
     "metadata": {},
     "output_type": "execute_result"
    }
   ],
   "source": [
    "0 1⊤3.14\n",
    "0 1⊤3.14 2.7 100.23"
   ]
  },
  {
   "cell_type": "markdown",
   "id": "bfea7501",
   "metadata": {},
   "source": [
    "You can use `⊤` to split \"packed integers\": "
   ]
  },
  {
   "cell_type": "code",
   "execution_count": 19,
   "id": "5a24d0ae",
   "metadata": {},
   "outputs": [
    {
     "data": {
      "text/html": [
       "<span style=\"white-space:pre; font-family: monospace\">2020 3 26\n",
       "</span>"
      ]
     },
     "execution_count": 19,
     "metadata": {},
     "output_type": "execute_result"
    }
   ],
   "source": [
    "0 100 100⊤20200326"
   ]
  },
  {
   "cell_type": "markdown",
   "id": "d91cba86",
   "metadata": {},
   "source": [
    "A golfing trick is getting `0 0⍴0` (an empty numeric matrix):"
   ]
  },
  {
   "cell_type": "code",
   "execution_count": 20,
   "id": "1479708f",
   "metadata": {},
   "outputs": [
    {
     "data": {
      "text/html": [
       "<span style=\"white-space:pre; font-family: monospace\">1\n",
       "</span>"
      ]
     },
     "execution_count": 20,
     "metadata": {},
     "output_type": "execute_result"
    }
   ],
   "source": [
    "(0 0⍴0) ≡ ⍬⊤⍬"
   ]
  },
  {
   "cell_type": "markdown",
   "id": "4f5c6450",
   "metadata": {},
   "source": [
    "If fact, you can \"silence\" anything by making the leading axis have length `0` using `⍬⊤`:"
   ]
  },
  {
   "cell_type": "code",
   "execution_count": 21,
   "id": "0f9799db",
   "metadata": {},
   "outputs": [],
   "source": [
    "⍬⊤2 3⍴⎕A"
   ]
  },
  {
   "cell_type": "markdown",
   "id": "ea629572",
   "metadata": {},
   "source": [
    "If you have a multi-dimensional array, but want the Nth element without having to ravel the array, how do you find the multi-dimensional index of the sought element? Consider"
   ]
  },
  {
   "cell_type": "code",
   "execution_count": 22,
   "id": "c50f9e3d",
   "metadata": {},
   "outputs": [
    {
     "data": {
      "text/html": [
       "<span style=\"white-space:pre; font-family: monospace\">ABCDE\n",
       "FGHIJ\n",
       "KLMNO\n",
       "PQRST\n",
       "</span>"
      ]
     },
     "execution_count": 22,
     "metadata": {},
     "output_type": "execute_result"
    }
   ],
   "source": [
    "4 5⍴⎕A"
   ]
  },
  {
   "cell_type": "markdown",
   "id": "1a410e61",
   "metadata": {},
   "source": [
    "Using 0-based indexing, this is very simple: "
   ]
  },
  {
   "cell_type": "code",
   "execution_count": 23,
   "id": "f152f01e",
   "metadata": {},
   "outputs": [
    {
     "data": {
      "text/html": [
       "<span style=\"white-space:pre; font-family: monospace\">2 3\n",
       "</span>"
      ]
     },
     "execution_count": 23,
     "metadata": {},
     "output_type": "execute_result"
    },
    {
     "data": {
      "text/html": [
       "<span style=\"white-space:pre; font-family: monospace\">N\n",
       "</span>"
      ]
     },
     "execution_count": 23,
     "metadata": {},
     "output_type": "execute_result"
    },
    {
     "data": {
      "text/html": [
       "<span style=\"white-space:pre; font-family: monospace\">N\n",
       "</span>"
      ]
     },
     "execution_count": 23,
     "metadata": {},
     "output_type": "execute_result"
    }
   ],
   "source": [
    "⎕IO←0\n",
    "4 5⊤13\n",
    "(4 5⊤13)⌷4 5⍴⎕A\n",
    "13⊃,4 5⍴⎕A"
   ]
  },
  {
   "cell_type": "markdown",
   "id": "c2859eb2",
   "metadata": {},
   "source": [
    "We need `⎕IO←0` because of how `⊤` works. It does a mod (`|`) all the time. When we \"roll over\" from one row to the next, we end up in position 0. "
   ]
  },
  {
   "cell_type": "code",
   "execution_count": null,
   "id": "d434ad3f",
   "metadata": {},
   "outputs": [],
   "source": []
  }
 ],
 "metadata": {
  "kernelspec": {
   "display_name": "Dyalog APL",
   "language": "apl",
   "name": "dyalog-kernel"
  },
  "language_info": {
   "file_extension": ".apl",
   "mimetype": "text/apl",
   "name": "APL"
  }
 },
 "nbformat": 4,
 "nbformat_minor": 5
}
