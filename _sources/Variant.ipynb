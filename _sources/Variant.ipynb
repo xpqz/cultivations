{
 "cells": [
  {
   "cell_type": "markdown",
   "id": "5611d22d",
   "metadata": {},
   "source": [
    "# Variant in depth `⍠`\n",
    "\n",
    "[Variant](http://help.dyalog.com/latest/index.htm#Language/Primitive%20Operators/Variant.htm), `⍠`, is a dyadic operator, but it is quite unlike all other operators in APL. Syntactically, it is normal though. It always takes a function (monadic or dyadic) on its left, and always takes an array on its right. Although it is usually called Variant, you can also call it _Option_. In fact, it has a system operator synonym, `⎕OPT`. \n",
    "\n",
    "Variant is special in that it sets options in an invisible set of options. You can't access this set directly, only observe modified behaviour in the operand function, because the operand function will check this set to know what to do.\n",
    "\n",
    "This also means that, uniquely, the operand function will \"know\" that it is being called as an operand of `⍠`. Usually, functions can't really detect (easily) who called them. The left operand (the function) must be one of a fixed set of system functions (or functions derived from system operators).\n",
    "\n",
    "The right operand must be one of:\n",
    "* a scalar (this one is known as the principal option)\n",
    "* a 2-element key-value pair\n",
    "* a vector of 2-element key-value pairs.\n",
    "\n",
    "The scalar operand is only allowed if a default key exists, in which case it is equivalent to 'DefaultKey' value. Let's take an example. You might know about the system function to convert to and from JSON: "
   ]
  },
  {
   "cell_type": "code",
   "execution_count": 2,
   "id": "fbcea6d3",
   "metadata": {},
   "outputs": [
    {
     "data": {
      "text/html": [
       "<span style=\"white-space:pre; font-family: monospace\">[1,2,3]\n",
       "</span>"
      ]
     },
     "execution_count": 2,
     "metadata": {},
     "output_type": "execute_result"
    }
   ],
   "source": [
    "⎕JSON⍳3"
   ]
  },
  {
   "cell_type": "markdown",
   "id": "1b3c7eff",
   "metadata": {},
   "source": [
    "We can use `⍠` with the key `'Compact'` to change the white-space behaviour of `⎕JSON`. In essence, `⍠` sets the `Compact` setting to the corresponding value (0 or 1 in this case): "
   ]
  },
  {
   "cell_type": "code",
   "execution_count": 3,
   "id": "683ee03a",
   "metadata": {},
   "outputs": [
    {
     "data": {
      "text/html": [
       "<span style=\"white-space:pre; font-family: monospace\">[\n",
       "  1,\n",
       "  2,\n",
       "  3\n",
       "]\n",
       "</span>"
      ]
     },
     "execution_count": 3,
     "metadata": {},
     "output_type": "execute_result"
    }
   ],
   "source": [
    "⎕JSON⍠'Compact' 0 ⍳3"
   ]
  },
  {
   "cell_type": "markdown",
   "id": "fdbdc3cb",
   "metadata": {},
   "source": [
    "There are other options too. Typically, `⎕JSON` will convert a JavaScript `null` to an APL enclosed string `⊂'null'`: "
   ]
  },
  {
   "cell_type": "code",
   "execution_count": 4,
   "id": "97401d45",
   "metadata": {},
   "outputs": [
    {
     "data": {
      "text/html": [
       "<span style=\"white-space:pre; font-family: monospace\">1\n",
       "</span>"
      ]
     },
     "execution_count": 4,
     "metadata": {},
     "output_type": "execute_result"
    }
   ],
   "source": [
    "(⊂'null') ≡ ⎕JSON'null'"
   ]
  },
  {
   "cell_type": "markdown",
   "id": "09ab5f81",
   "metadata": {},
   "source": [
    "However, if you instead want it to convert it to an object-type null, `⎕NULL` you can tell it so: "
   ]
  },
  {
   "cell_type": "code",
   "execution_count": 5,
   "id": "04e94154",
   "metadata": {},
   "outputs": [
    {
     "data": {
      "text/html": [
       "<span style=\"white-space:pre; font-family: monospace\">1\n",
       "</span>"
      ]
     },
     "execution_count": 5,
     "metadata": {},
     "output_type": "execute_result"
    }
   ],
   "source": [
    "⎕NULL ≡ ⎕JSON⍠'Null' ⎕NULL ⊢ 'null'"
   ]
  },
  {
   "cell_type": "markdown",
   "id": "59263a74",
   "metadata": {},
   "source": [
    "Notice the `⊢`. Whenever a dyadic operator has an array right operand, it will strand together with any literal right argument. There must be a function (or parentheses, or naming) to split them apart.\n",
    "\n",
    "Another option for `⎕JSON` is to convert JSON into an APL matrix that describes the JSON, rather than attempting to actually convert to an equivalent APL structure:"
   ]
  },
  {
   "cell_type": "code",
   "execution_count": 6,
   "id": "ec252180",
   "metadata": {},
   "outputs": [
    {
     "data": {
      "text/html": [
       "<span style=\"white-space:pre; font-family: monospace\">┌─┬┬──────┬─┐\n",
       "│0││      │2│\n",
       "├─┼┼──────┼─┤\n",
       "│1││1     │3│\n",
       "├─┼┼──────┼─┤\n",
       "│1││┌────┐│5│\n",
       "│ │││null││ │\n",
       "│ ││└────┘│ │\n",
       "├─┼┼──────┼─┤\n",
       "│1││hello │4│\n",
       "└─┴┴──────┴─┘\n",
       "</span>"
      ]
     },
     "execution_count": 6,
     "metadata": {},
     "output_type": "execute_result"
    }
   ],
   "source": [
    "⎕JSON⍠'Format' 'M' ⊢ '[1,null,\"hello\"]'"
   ]
  },
  {
   "cell_type": "markdown",
   "id": "9de00bbb",
   "metadata": {},
   "source": [
    "The exact details of this *M*atrix Format isn't important here, though. You can check out the [docs](https://help.dyalog.com/latest/index.htm#Language/System%20Functions/json.htm). Now that we know about a couple of options, we can look at how to specify multiple options. We can create a \"dictionary\" of key-value pairs: "
   ]
  },
  {
   "cell_type": "code",
   "execution_count": 7,
   "id": "448cbb11",
   "metadata": {},
   "outputs": [
    {
     "data": {
      "text/html": [
       "<span style=\"white-space:pre; font-family: monospace\">┌─┬┬────────┬─┐\n",
       "│0││        │2│\n",
       "├─┼┼────────┼─┤\n",
       "│1││1       │3│\n",
       "├─┼┼────────┼─┤\n",
       "│1││ [Null] │5│\n",
       "├─┼┼────────┼─┤\n",
       "│1││hello   │4│\n",
       "└─┴┴────────┴─┘\n",
       "</span>"
      ]
     },
     "execution_count": 7,
     "metadata": {},
     "output_type": "execute_result"
    }
   ],
   "source": [
    "⎕JSON⍠('Format' 'M')('Null' ⎕NULL) ⊢ '[1,null,\"hello\"]'"
   ]
  },
  {
   "cell_type": "markdown",
   "id": "c5be9f71",
   "metadata": {},
   "source": [
    "Notice how we both got a matrix, and the `null` became `[Null]` (the text representation of `⎕NULL`) rather than an enclosed `'null'`. We can also use `⍠` twice: "
   ]
  },
  {
   "cell_type": "code",
   "execution_count": 8,
   "id": "0cd5c773",
   "metadata": {},
   "outputs": [
    {
     "data": {
      "text/html": [
       "<span style=\"white-space:pre; font-family: monospace\">┌─┬┬────────┬─┐\n",
       "│0││        │2│\n",
       "├─┼┼────────┼─┤\n",
       "│1││1       │3│\n",
       "├─┼┼────────┼─┤\n",
       "│1││ [Null] │5│\n",
       "├─┼┼────────┼─┤\n",
       "│1││hello   │4│\n",
       "└─┴┴────────┴─┘\n",
       "</span>"
      ]
     },
     "execution_count": 8,
     "metadata": {},
     "output_type": "execute_result"
    }
   ],
   "source": [
    "⎕JSON⍠'Format' 'M'⍠'Null' ⎕NULL ⊢ '[1,null,\"hello\"]'"
   ]
  },
  {
   "cell_type": "markdown",
   "id": "e6399c91",
   "metadata": {},
   "source": [
    "If we check the docs for `⎕JSON`, we'll see that `'Format'` is the principal option, which means we can specify it as a scalar: "
   ]
  },
  {
   "cell_type": "code",
   "execution_count": 9,
   "id": "d6d20de1",
   "metadata": {},
   "outputs": [
    {
     "data": {
      "text/html": [
       "<span style=\"white-space:pre; font-family: monospace\">┌─┬┬────────┬─┐\n",
       "│0││        │2│\n",
       "├─┼┼────────┼─┤\n",
       "│1││1       │3│\n",
       "├─┼┼────────┼─┤\n",
       "│1││ [Null] │5│\n",
       "├─┼┼────────┼─┤\n",
       "│1││hello   │4│\n",
       "└─┴┴────────┴─┘\n",
       "</span>"
      ]
     },
     "execution_count": 9,
     "metadata": {},
     "output_type": "execute_result"
    }
   ],
   "source": [
    "⎕JSON⍠'M'⍠'Null' ⎕NULL ⊢ '[1,null,\"hello\"]'"
   ]
  },
  {
   "cell_type": "markdown",
   "id": "b6da1980",
   "metadata": {},
   "source": [
    "What happens if we set the same option twice with different values? The rightmost one takes precedence. There are two ways you can think of it, both leading to that same conclusion:\n",
    "\n",
    "1. `⍠` (like any operator) modifies its operand function. For simplicity, lets say we have two monadic operators applied acting on a function, `f op1 op2`, `op2` gets to modify the derived function `f op1`. That is, the rightmost has the final say.\n",
    "1. When we evaluate, we first have to process the inner derived function's operator (as in the previous point), which sets the hidden option. Then we proceed to the outer operator, which in turn overwrites the state. Only then is the function allowed to run, picking up the setting set by the rightmost (outer) operator. \n",
    "\n",
    "Variant is also used with `⎕R` and its sibling `⎕S`. If you're not familiar with `⎕R`: Briefly, it is a dyadic operator, Replacing occurrences of its left operand with its right operand, in the right argument: "
   ]
  },
  {
   "cell_type": "code",
   "execution_count": 10,
   "id": "6fc6aafc",
   "metadata": {},
   "outputs": [
    {
     "data": {
      "text/html": [
       "<span style=\"white-space:pre; font-family: monospace\">miSSiSSippi\n",
       "</span>"
      ]
     },
     "execution_count": 10,
     "metadata": {},
     "output_type": "execute_result"
    }
   ],
   "source": [
    "'s'⎕R'S' ⊢ 'mississippi'"
   ]
  },
  {
   "cell_type": "markdown",
   "id": "b44cf794",
   "metadata": {},
   "source": [
    "This replaces all lowercase s with uppercase S. Let's say we only want to replace the first 2. We can set the Match Limit to 2. The option key to use for this is `'ML'`."
   ]
  },
  {
   "cell_type": "code",
   "execution_count": 13,
   "id": "bb2c6573",
   "metadata": {},
   "outputs": [
    {
     "data": {
      "text/html": [
       "<span style=\"white-space:pre; font-family: monospace\">miSSissippi\n",
       "</span>"
      ]
     },
     "execution_count": 13,
     "metadata": {},
     "output_type": "execute_result"
    }
   ],
   "source": [
    "'s'⎕R'S'⍠'ML'2 ⊢ 'mississippi' "
   ]
  },
  {
   "cell_type": "markdown",
   "id": "597efe37",
   "metadata": {},
   "source": [
    "`⎕R` is an operator. It takes two operands, in our case 's' and 'S', and derives a new function. It is this derived function that `⍠` needs to act upon by taking it as its left operand. So the order is `FunctionToBeModified ⍠ options ⊢ argument`. Alternatively, we can parenthesise: `(FunctionToBeModified ⍠ options) argument`. "
   ]
  },
  {
   "cell_type": "code",
   "execution_count": 14,
   "id": "88a9d62b",
   "metadata": {},
   "outputs": [
    {
     "data": {
      "text/html": [
       "<span style=\"white-space:pre; font-family: monospace\">miSSissippi\n",
       "</span>"
      ]
     },
     "execution_count": 14,
     "metadata": {},
     "output_type": "execute_result"
    }
   ],
   "source": [
    "('s'⎕R'S'⍠'ML'2) 'mississippi' "
   ]
  },
  {
   "cell_type": "markdown",
   "id": "1d31e763",
   "metadata": {},
   "source": [
    "Naming a derived monadic operator: "
   ]
  },
  {
   "cell_type": "code",
   "execution_count": 16,
   "id": "709859f5",
   "metadata": {},
   "outputs": [
    {
     "data": {
      "text/html": [
       "<span style=\"white-space:pre; font-family: monospace\">miSSiSSippi\n",
       "</span>"
      ]
     },
     "execution_count": 16,
     "metadata": {},
     "output_type": "execute_result"
    }
   ],
   "source": [
    "ReplaceWithS←⎕R'S'\n",
    "'s'ReplaceWithS 'mississippi'"
   ]
  },
  {
   "cell_type": "markdown",
   "id": "872d6f9f",
   "metadata": {},
   "source": [
    "This also means we can name the combination of `⍠` with one or more options. "
   ]
  },
  {
   "cell_type": "code",
   "execution_count": 17,
   "id": "8845f8bd",
   "metadata": {},
   "outputs": [
    {
     "data": {
      "text/html": [
       "<span style=\"white-space:pre; font-family: monospace\">miSSissippi\n",
       "</span>"
      ]
     },
     "execution_count": 17,
     "metadata": {},
     "output_type": "execute_result"
    }
   ],
   "source": [
    "OnlyTwo←⍠'ML'2\n",
    "'s'⎕R'S'OnlyTwo 'mississippi'"
   ]
  },
  {
   "cell_type": "markdown",
   "id": "dcb806a1",
   "metadata": {},
   "source": [
    "We can even do both: "
   ]
  },
  {
   "cell_type": "code",
   "execution_count": 18,
   "id": "e270cc7c",
   "metadata": {},
   "outputs": [
    {
     "data": {
      "text/html": [
       "<span style=\"white-space:pre; font-family: monospace\">miSSissippi\n",
       "</span>"
      ]
     },
     "execution_count": 18,
     "metadata": {},
     "output_type": "execute_result"
    }
   ],
   "source": [
    "ReplaceWithS←⎕R'S'\n",
    "OnlyTwo←⍠'ML'2\n",
    "'s'ReplaceWithS OnlyTwo 'mississippi'"
   ]
  },
  {
   "cell_type": "markdown",
   "id": "64b2132e",
   "metadata": {},
   "source": [
    "A really common thing with regexes is wanting case insensitivity. That is `'IC'1` (Ignore Case), but it is also the principal option: "
   ]
  },
  {
   "cell_type": "code",
   "execution_count": 19,
   "id": "3f43005f",
   "metadata": {},
   "outputs": [
    {
     "data": {
      "text/html": [
       "<span style=\"white-space:pre; font-family: monospace\">MI__i__ippi\n",
       "</span>"
      ]
     },
     "execution_count": 19,
     "metadata": {},
     "output_type": "execute_result"
    }
   ],
   "source": [
    "'ss'⎕R'__'⍠1⊢'MISSissippi'"
   ]
  },
  {
   "cell_type": "markdown",
   "id": "d4e49537",
   "metadata": {},
   "source": [
    "But it only works if that is the only setting you're changing. Though, you can always use `⍠` twice:"
   ]
  },
  {
   "cell_type": "code",
   "execution_count": 20,
   "id": "ab693fa9",
   "metadata": {},
   "outputs": [
    {
     "data": {
      "text/html": [
       "<span style=\"white-space:pre; font-family: monospace\">MI__i_sippi\n",
       "</span>"
      ]
     },
     "execution_count": 20,
     "metadata": {},
     "output_type": "execute_result"
    }
   ],
   "source": [
    "'s'⎕R'_'⍠'ML'3⍠1⊢'MISSissippi'"
   ]
  },
  {
   "cell_type": "markdown",
   "id": "2573342e",
   "metadata": {},
   "source": [
    "Here is another example where we use `⍠` on `⎕R` to do something entirely unrelated to regular expressions. Sometimes, your input can be of various forms and you need to normalise it. Say you get some text, but it could be a character scalar, a character vector, a vector of character vectors, an enclosed character vector, or even a character vector with literal newlines. So we want to normalise all of these to become a vector of character vectors. "
   ]
  },
  {
   "cell_type": "code",
   "execution_count": 21,
   "id": "de058e7f",
   "metadata": {},
   "outputs": [
    {
     "data": {
      "text/html": [
       "<span style=\"white-space:pre; font-family: monospace\">┌─┐\n",
       "│a│\n",
       "└─┘\n",
       "</span>"
      ]
     },
     "execution_count": 21,
     "metadata": {},
     "output_type": "execute_result"
    },
    {
     "data": {
      "text/html": [
       "<span style=\"white-space:pre; font-family: monospace\">┌───┐\n",
       "│abc│\n",
       "└───┘\n",
       "</span>"
      ]
     },
     "execution_count": 21,
     "metadata": {},
     "output_type": "execute_result"
    },
    {
     "data": {
      "text/html": [
       "<span style=\"white-space:pre; font-family: monospace\">┌───┬───┐\n",
       "│abc│def│\n",
       "└───┴───┘\n",
       "</span>"
      ]
     },
     "execution_count": 21,
     "metadata": {},
     "output_type": "execute_result"
    },
    {
     "data": {
      "text/html": [
       "<span style=\"white-space:pre; font-family: monospace\">┌───┐\n",
       "│abc│\n",
       "└───┘\n",
       "</span>"
      ]
     },
     "execution_count": 21,
     "metadata": {},
     "output_type": "execute_result"
    },
    {
     "data": {
      "text/html": [
       "<span style=\"white-space:pre; font-family: monospace\">┌───┬───┐\n",
       "│abc│def│\n",
       "└───┴───┘\n",
       "</span>"
      ]
     },
     "execution_count": 21,
     "metadata": {},
     "output_type": "execute_result"
    }
   ],
   "source": [
    "VecOfVecs←''⎕R''⍠'ResultText' 'Nested'\n",
    "VecOfVecs 'a'\n",
    "VecOfVecs 'abc'\n",
    "VecOfVecs 'abc' 'def'\n",
    "VecOfVecs ⊂'abc'\n",
    "VecOfVecs 'abc',(⎕UCS 10),'def'"
   ]
  },
  {
   "cell_type": "markdown",
   "id": "cba0f0c5",
   "metadata": {},
   "source": [
    "Note that Dyalog often adds additional options to existing system functions based on customer demand. Case in point, in version 18.0, options were added to `⎕JSON` to automatically split high-rank arrays so they can be represented as JSON, and an option to process and generate JSON5. And for `⎕R`/`⎕S`, options to turn regexes off so you can do literal replacements without worrying about having to escape characters that have special meaning in PCRE. \n",
    "\n",
    "One more usage of `⍠` that isn't really related to this, and we can't demonstate it easily here, either. When using external .NET methods, APL will coerce its arrays into an appropriate type for the called method. However, .NET methods can be overloaded (different code depending on the type of the argument), and then APL can't know which one you want. You can use `⍠` with the method and the option `'OverloadTypes'` to choose. The value has to be a .NET data type, e.g. `Double` or `Int32`. This option is the principal option too, so the calling can be done simply with `MyDotNetMethod⍠Double ⊢ argument`. If the method takes multiple arguments, you can specify a vector of types: `MyDotNetMethod⍠(⊂Double Int32) ⊢ argument`\n",
    "\n",
    "Notice two things:\n",
    "\n",
    "1. The types are not quoted names, they are scalar references to the .NET types.\n",
    "1. When specifying a vector of types, it must be enclosed, as the principal option must be a scalar."
   ]
  },
  {
   "cell_type": "code",
   "execution_count": null,
   "id": "c7f83d0f",
   "metadata": {},
   "outputs": [],
   "source": []
  }
 ],
 "metadata": {
  "kernelspec": {
   "display_name": "Dyalog APL",
   "language": "apl",
   "name": "dyalog-kernel"
  },
  "language_info": {
   "file_extension": ".apl",
   "mimetype": "text/apl",
   "name": "APL"
  }
 },
 "nbformat": 4,
 "nbformat_minor": 5
}
