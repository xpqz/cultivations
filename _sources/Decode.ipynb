{
 "cells": [
  {
   "cell_type": "markdown",
   "id": "222efc1c",
   "metadata": {},
   "source": [
    "# Decode in depth `⊥`\n",
    "\n",
    "Let's begin with a basic understand of what a number system really means. When we write `123`, what we really mean is"
   ]
  },
  {
   "cell_type": "code",
   "execution_count": 1,
   "id": "a751f738",
   "metadata": {},
   "outputs": [
    {
     "data": {
      "text/html": [
       "<span style=\"white-space:pre; font-family: monospace\">123\n",
       "</span>"
      ]
     },
     "execution_count": 1,
     "metadata": {},
     "output_type": "execute_result"
    }
   ],
   "source": [
    "+/1 2 3×100 10 1"
   ]
  },
  {
   "cell_type": "markdown",
   "id": "c5505e57",
   "metadata": {},
   "source": [
    "But why `100 10 1`?  You might say that's `10*2 1 0`, but another way to look at it is `⌽×\\1,2⍴10`. The `1` here is the \"seed\" or initial value for our running product. Now we can see a way to generalise this. Instead of `2⍴10` we could choose two different numbers, say 60 and 24. This gives us `⌽×\\1 60 24` or `1440 60 1`. This would be a days-hours-minutes system, 1 day being 1440 minutes. So, if we have 1 day, 2 hours, 3 minutes, how many minutes do we have? "
   ]
  },
  {
   "cell_type": "code",
   "execution_count": 2,
   "id": "3454aeed",
   "metadata": {},
   "outputs": [
    {
     "data": {
      "text/html": [
       "<span style=\"white-space:pre; font-family: monospace\">1563\n",
       "</span>"
      ]
     },
     "execution_count": 2,
     "metadata": {},
     "output_type": "execute_result"
    }
   ],
   "source": [
    "+/1 2 3×1440 60 1"
   ]
  },
  {
   "cell_type": "markdown",
   "id": "eca1c23d",
   "metadata": {},
   "source": [
    "This brings us to what `⊥` does. It takes a mixed-radix spec as left argument, and evaluates how many of the smallest unit a given \"number\" (expressed as a vector of \"digits\") corresponds to. "
   ]
  },
  {
   "cell_type": "code",
   "execution_count": 3,
   "id": "50a0a86f",
   "metadata": {},
   "outputs": [
    {
     "data": {
      "text/html": [
       "<span style=\"white-space:pre; font-family: monospace\">1563\n",
       "</span>"
      ]
     },
     "execution_count": 3,
     "metadata": {},
     "output_type": "execute_result"
    }
   ],
   "source": [
    "0 24 60⊥1 2 3"
   ]
  },
  {
   "cell_type": "markdown",
   "id": "c067c1e5",
   "metadata": {},
   "source": [
    "Note the difference in the spec between the `+/×` method and the `⊥` method. We don't have to specify the unit (which'll always be 1 anyway) on the little end, but instead, we pad with a 0 on the big end. The 0 is ignored, and could actually be any value. The only reason it's needed at all is to match the length of the right argument. \n",
    "\n",
    "Now, APL, of course, allows using a scalar and will distribute it to all positions. This allows things like:"
   ]
  },
  {
   "cell_type": "code",
   "execution_count": 4,
   "id": "581fcfb8",
   "metadata": {},
   "outputs": [
    {
     "data": {
      "text/html": [
       "<span style=\"white-space:pre; font-family: monospace\">123\n",
       "</span>"
      ]
     },
     "execution_count": 4,
     "metadata": {},
     "output_type": "execute_result"
    },
    {
     "data": {
      "text/html": [
       "<span style=\"white-space:pre; font-family: monospace\">5\n",
       "</span>"
      ]
     },
     "execution_count": 4,
     "metadata": {},
     "output_type": "execute_result"
    }
   ],
   "source": [
    "10⊥1 2 3  ⍝ base ten\n",
    "2⊥1 0 1   ⍝ binary"
   ]
  },
  {
   "cell_type": "markdown",
   "id": "73988a41",
   "metadata": {},
   "source": [
    "So `⊥` is really a kind of fanciful cover for `+/×` or actually `+.×`, the latter explaining why `⊥` takes a transposed argument. "
   ]
  },
  {
   "cell_type": "code",
   "execution_count": 5,
   "id": "c4cd85c8",
   "metadata": {},
   "outputs": [
    {
     "data": {
      "text/html": [
       "<span style=\"white-space:pre; font-family: monospace\">123 321\n",
       "</span>"
      ]
     },
     "execution_count": 5,
     "metadata": {},
     "output_type": "execute_result"
    },
    {
     "data": {
      "text/html": [
       "<span style=\"white-space:pre; font-family: monospace\">123 321\n",
       "</span>"
      ]
     },
     "execution_count": 5,
     "metadata": {},
     "output_type": "execute_result"
    }
   ],
   "source": [
    "10 10 10 ⊥ ⍉2 3⍴1 2 3  3 2 1\n",
    "100 10 1+.×⍉2 3⍴1 2 3  3 2 1"
   ]
  },
  {
   "cell_type": "markdown",
   "id": "d558a3bf",
   "metadata": {},
   "source": [
    "We can model `⊥` as: "
   ]
  },
  {
   "cell_type": "code",
   "execution_count": 6,
   "id": "f60b6fa6",
   "metadata": {},
   "outputs": [
    {
     "data": {
      "text/html": [
       "<span style=\"white-space:pre; font-family: monospace\">123 321\n",
       "</span>"
      ]
     },
     "execution_count": 6,
     "metadata": {},
     "output_type": "execute_result"
    },
    {
     "data": {
      "text/html": [
       "<span style=\"white-space:pre; font-family: monospace\">1563\n",
       "</span>"
      ]
     },
     "execution_count": 6,
     "metadata": {},
     "output_type": "execute_result"
    }
   ],
   "source": [
    "1 10 10 {(⌽×\\⍺)+.×⍵} ⍉2 3⍴1 2 3  3 2 1\n",
    "1 60 24 {(⌽×\\⍺)+.×⍵} 1 2 3"
   ]
  },
  {
   "cell_type": "markdown",
   "id": "e4bff100",
   "metadata": {},
   "source": [
    "Because `⊥` has a specific definition rather than being some specialised type-dependent utility, it can be used for some unusual tricks that have little apparent connection to base-conversion. One that has achieved some fame is `⊥⍨` on a Boolean vector. Let's analyse what it does.\n",
    "\n",
    "Let's say we have the vector `1 0 1 1 1`. `⍨` will cause the vector to be used both a base specification and as the count for each \"type\" place (\"hundreds\", \"tens\", ones). So we have `1 0 1 1 1⊥1 0 1 1 1`. Remember, this really means:"
   ]
  },
  {
   "cell_type": "code",
   "execution_count": 13,
   "id": "0d0e1156",
   "metadata": {},
   "outputs": [
    {
     "data": {
      "text/html": [
       "<span style=\"white-space:pre; font-family: monospace\">3\n",
       "</span>"
      ]
     },
     "execution_count": 13,
     "metadata": {},
     "output_type": "execute_result"
    },
    {
     "data": {
      "text/html": [
       "<span style=\"white-space:pre; font-family: monospace\">3\n",
       "</span>"
      ]
     },
     "execution_count": 13,
     "metadata": {},
     "output_type": "execute_result"
    }
   ],
   "source": [
    "+/(⌽×\\⌽1↓1 0 1 1 1,1)×1 0 1 1 1\n",
    "⊥⍨1 0 1 1 1"
   ]
  },
  {
   "cell_type": "markdown",
   "id": "7ada73d6",
   "metadata": {},
   "source": [
    "That's why `⊥⍨` is \"count trailing 1s\". Conceptually, we add 1s from the right (though each is multiplied by increasing powers of 1 — all `1*n` being always 1 of course), until a 0 causes everything after that to become 0 (`n×0` being always 0 of course). Finally, we sum.\n",
    "\n",
    "Another trick, often used in tacit APL, is `1⊥something`. Let's analyse that one. The first thing we can recognise here is that the 1 will be expanded to match the length of the right argument, so say `1⊥3 1 4` really means `1 1 1⊥3 1 4`. This is simply `+/(×\\⌽1 1 1)×3 1 4`."
   ]
  },
  {
   "cell_type": "code",
   "execution_count": 14,
   "id": "4aff60c9",
   "metadata": {},
   "outputs": [
    {
     "data": {
      "text/html": [
       "<span style=\"white-space:pre; font-family: monospace\">8\n",
       "</span>"
      ]
     },
     "execution_count": 14,
     "metadata": {},
     "output_type": "execute_result"
    },
    {
     "data": {
      "text/html": [
       "<span style=\"white-space:pre; font-family: monospace\">8\n",
       "</span>"
      ]
     },
     "execution_count": 14,
     "metadata": {},
     "output_type": "execute_result"
    }
   ],
   "source": [
    "+/(×\\⌽1 1 1)×3 1 4\n",
    "1⊥3 1 4"
   ]
  },
  {
   "cell_type": "markdown",
   "id": "fbc32c08",
   "metadata": {},
   "source": [
    "`×\\` applied to a vector of 1s, is still \"1\". That's the multiplicative identity, which means that `1⊥` is equivalent to `+/`. But remember the transposing when dealing with multi-dimensional arguments, and you'll soon realise that it is actually `+⌿`. Let's look at that. Notice that the two numbers 271 and 314 are represented in base 10 as:  "
   ]
  },
  {
   "cell_type": "code",
   "execution_count": 15,
   "id": "ae412c5e",
   "metadata": {},
   "outputs": [
    {
     "data": {
      "text/html": [
       "<span style=\"white-space:pre; font-family: monospace\">2 3\n",
       "7 1\n",
       "1 4\n",
       "</span>"
      ]
     },
     "execution_count": 15,
     "metadata": {},
     "output_type": "execute_result"
    }
   ],
   "source": [
    "⍉2 3⍴2 7 1  3 1 4"
   ]
  },
  {
   "cell_type": "markdown",
   "id": "23f47222",
   "metadata": {},
   "source": [
    "Why? Because then we can do: "
   ]
  },
  {
   "cell_type": "code",
   "execution_count": 16,
   "id": "83f0f201",
   "metadata": {},
   "outputs": [
    {
     "data": {
      "text/html": [
       "<span style=\"white-space:pre; font-family: monospace\">271 314\n",
       "</span>"
      ]
     },
     "execution_count": 16,
     "metadata": {},
     "output_type": "execute_result"
    }
   ],
   "source": [
    "100 10 1+.×⍉2 3⍴2 7 1  3 1 4"
   ]
  },
  {
   "cell_type": "markdown",
   "id": "5eb68d85",
   "metadata": {},
   "source": [
    "which is the same thing as:"
   ]
  },
  {
   "cell_type": "code",
   "execution_count": 17,
   "id": "129b6cd3",
   "metadata": {},
   "outputs": [
    {
     "data": {
      "text/html": [
       "<span style=\"white-space:pre; font-family: monospace\">271 314\n",
       "</span>"
      ]
     },
     "execution_count": 17,
     "metadata": {},
     "output_type": "execute_result"
    }
   ],
   "source": [
    "+⌿100 10 1×⍤0 1⍉2 3⍴2 7 1  3 1 4"
   ]
  },
  {
   "cell_type": "markdown",
   "id": "9ec5fbbe",
   "metadata": {},
   "source": [
    "Or, in other words, we multiply each row by its place weight (big endian) and then sum vertically. Then, if the weight is a constant 1, we have a simple vertical summation, or `+⌿`. \n",
    "\n",
    "Another trick, also sometimes used in tacit APL is `0⊥something`. Let's analyse that one. First, the left argument is extended to match the shape of the right argument: `0⊥314` is the same as `0 0 0⊥3 1 4`. Again, recall that this is the same as"
   ]
  },
  {
   "cell_type": "code",
   "execution_count": 20,
   "id": "1bf98d23",
   "metadata": {},
   "outputs": [
    {
     "data": {
      "text/html": [
       "<span style=\"white-space:pre; font-family: monospace\">0 0 4\n",
       "</span>"
      ]
     },
     "execution_count": 20,
     "metadata": {},
     "output_type": "execute_result"
    }
   ],
   "source": [
    "(⌽×\\1,⌽1↓0 0 0)×3 1 4"
   ]
  },
  {
   "cell_type": "markdown",
   "id": "9ac2ff3a",
   "metadata": {},
   "source": [
    "Summing that gives us 4; the last element of the vector:"
   ]
  },
  {
   "cell_type": "code",
   "execution_count": 24,
   "id": "20aef562",
   "metadata": {},
   "outputs": [
    {
     "data": {
      "text/html": [
       "<span style=\"white-space:pre; font-family: monospace\">4\n",
       "</span>"
      ]
     },
     "execution_count": 24,
     "metadata": {},
     "output_type": "execute_result"
    },
    {
     "data": {
      "text/html": [
       "<span style=\"white-space:pre; font-family: monospace\">4\n",
       "</span>"
      ]
     },
     "execution_count": 24,
     "metadata": {},
     "output_type": "execute_result"
    }
   ],
   "source": [
    "+/(⌽×\\1,⌽1↓0 0 0)×3 1 4\n",
    "0⊥3 1 4"
   ]
  },
  {
   "cell_type": "markdown",
   "id": "fb27c659",
   "metadata": {},
   "source": [
    "What happens if we apply this to a higher-rank array? If we examine the rank, we can see it returns the last major cell of its argument:"
   ]
  },
  {
   "cell_type": "code",
   "execution_count": 27,
   "id": "a0d74703",
   "metadata": {},
   "outputs": [
    {
     "data": {
      "text/html": [
       "<span style=\"white-space:pre; font-family: monospace\">6 2 4\n",
       "9 1 7\n",
       "8 3 5\n",
       "</span>"
      ]
     },
     "execution_count": 27,
     "metadata": {},
     "output_type": "execute_result"
    },
    {
     "data": {
      "text/html": [
       "<span style=\"white-space:pre; font-family: monospace\">8 3 5\n",
       "</span>"
      ]
     },
     "execution_count": 27,
     "metadata": {},
     "output_type": "execute_result"
    },
    {
     "data": {
      "text/html": [
       "<span style=\"white-space:pre; font-family: monospace\">3\n",
       "</span>"
      ]
     },
     "execution_count": 27,
     "metadata": {},
     "output_type": "execute_result"
    }
   ],
   "source": [
    "⊢m←3 3⍴9?9\n",
    "⊢c←0⊥m\n",
    "⊃⍴c"
   ]
  },
  {
   "cell_type": "markdown",
   "id": "52f96b10",
   "metadata": {},
   "source": [
    "Since we're returning the last major cell unmodified, it is the same as `⊢⌿`. "
   ]
  },
  {
   "cell_type": "code",
   "execution_count": null,
   "id": "6a8a26ef",
   "metadata": {},
   "outputs": [],
   "source": []
  }
 ],
 "metadata": {
  "kernelspec": {
   "display_name": "Dyalog APL",
   "language": "apl",
   "name": "dyalog-kernel"
  },
  "language_info": {
   "file_extension": ".apl",
   "mimetype": "text/apl",
   "name": "APL"
  }
 },
 "nbformat": 4,
 "nbformat_minor": 5
}
