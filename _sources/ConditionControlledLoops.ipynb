{
 "cells": [
  {
   "cell_type": "markdown",
   "id": "a8926671",
   "metadata": {},
   "source": [
    "# Condition controlled loops\n",
    "\n",
    "How do you write APL code for \"do-while\" type problems? Well, modern APL _does_ actually have `:While-:EndWhile` and `:Repeat-:Until` constructs. But we have other options: like the `⍣` operator, and recursion, which isn't bad in APL, as you can use the optimised tail-recursion. \n",
    "\n",
    "## Power `⍣`\n",
    "\n",
    "About `⍣`, it is important to note that it always applies its left operand at least once. Let's take a very simple (pun intended) example. Let's say we have an array like `⊂⊂⊂⊂2 2⍴'ok'`. We want to disclose it until it is simple. If we do `⊃⍣≡` we'll end up with 'o'.\n",
    "\n",
    "Another common pitfall is to use `⍵` in the right operand (the one that answers \"are we done?\") instead of `⍺`. "
   ]
  },
  {
   "cell_type": "code",
   "execution_count": 2,
   "id": "7e1b8328",
   "metadata": {},
   "outputs": [
    {
     "data": {
      "text/html": [
       "<span style=\"white-space:pre; font-family: monospace\">ok\n",
       "ok\n",
       "</span>"
      ]
     },
     "execution_count": 2,
     "metadata": {},
     "output_type": "execute_result"
    }
   ],
   "source": [
    "⊃⍣{1≥|≡⍺} ⊂⊂⊂⊂2 2⍴'ok'"
   ]
  },
  {
   "cell_type": "markdown",
   "id": "9ce7a96a",
   "metadata": {},
   "source": [
    "The problem is that our input might have 0 levels of nesting; then we fail: "
   ]
  },
  {
   "cell_type": "code",
   "execution_count": 3,
   "id": "c8c77876",
   "metadata": {},
   "outputs": [
    {
     "data": {
      "text/html": [
       "<span style=\"white-space:pre; font-family: monospace\">o\n",
       "</span>"
      ]
     },
     "execution_count": 3,
     "metadata": {},
     "output_type": "execute_result"
    }
   ],
   "source": [
    "⊃⍣{1≥|≡⍺} 2 2⍴'ok'"
   ]
  },
  {
   "cell_type": "markdown",
   "id": "2cb57f1c",
   "metadata": {},
   "source": [
    "This is because `⊃` is being applied once before we even ask if we're done. If instead we move the test inside the left operand we get:"
   ]
  },
  {
   "cell_type": "code",
   "execution_count": 4,
   "id": "afd4ef47",
   "metadata": {},
   "outputs": [
    {
     "data": {
      "text/html": [
       "<span style=\"white-space:pre; font-family: monospace\">ok\n",
       "ok\n",
       "</span>"
      ]
     },
     "execution_count": 4,
     "metadata": {},
     "output_type": "execute_result"
    }
   ],
   "source": [
    "{1≥|≡⍵:⍵ ⋄ ⊃⍵}⍣≡ 2 2⍴'ok'"
   ]
  },
  {
   "cell_type": "markdown",
   "id": "22bafd01",
   "metadata": {},
   "source": [
    "The left operand will become a no-op when we're done. In fact, we can even use the power operator instead of the guard! "
   ]
  },
  {
   "cell_type": "code",
   "execution_count": 5,
   "id": "035f6e46",
   "metadata": {},
   "outputs": [
    {
     "data": {
      "text/html": [
       "<span style=\"white-space:pre; font-family: monospace\">ok\n",
       "ok\n",
       "</span>"
      ]
     },
     "execution_count": 5,
     "metadata": {},
     "output_type": "execute_result"
    },
    {
     "data": {
      "text/html": [
       "<span style=\"white-space:pre; font-family: monospace\">ok\n",
       "ok\n",
       "</span>"
      ]
     },
     "execution_count": 5,
     "metadata": {},
     "output_type": "execute_result"
    }
   ],
   "source": [
    "{⊃⍣(1<|≡⍵)⊢⍵}⍣≡⊂⊂⊂⊂2 2⍴'ok'\n",
    "{⊃⍣(1<|≡⍵)⊢⍵}⍣≡ 2 2⍴'ok'"
   ]
  },
  {
   "cell_type": "markdown",
   "id": "41991c02",
   "metadata": {},
   "source": [
    "Of course, you don't have to write everything inline. You could use a separate function for the main processing. In your left operand, you can of course place your done-condition at the top or at the bottom, or anywhere else. But let's say instead that we don't want the condition to be based on the data processed. Rather, we want to periodically read an outside value to decide whether to continue or not. \n",
    "\n",
    "You can try this in your local APL: \n",
    "\n",
    "    done←0 ⋄ {⎕←⍵⊣⎕dl 5}⍣{done}&'work'\n",
    "\n",
    "It will run in the background, printing \"work\" every 5 seconds. Of course, it didn't need to be a single value in `{done}`. It could be an entire function that figures out if we're done based on a bunch of stuff. \n",
    "\n",
    "## Recursion `∇`\n",
    "\n",
    "Recursion can be done simply by calling the function name. Dfns can also call themselves using `∇`. The benefit of `∇` is that you can rename the function or leave it anonymous. We should also mention `∇∇`. If you are writing your operators, you might want the operator's code to \"use\" itself. You do that with `∇∇`. Inside such a dop, you can also use `∇` as a shortcut for `⍺⍺∇∇` or `⍺⍺∇∇⍵⍵` depending on operator valence. \n",
    "\n",
    "Other than this, it is actually much the same as with `⍣`: Establish the stop condition with a guard (or a control structure in a tradfn), and do the work otherwise. \n",
    "\n",
    "The important thing is that APL detects when the final result will be used unmodified as the result of the previous iteration. Let's say we wanted the beginning number of the 7-long sequence: `{16=+/'2'=⍕⍵:⍵⋄⊃∇1+⍵}⍳7`. Now APL has to keep track of where came from so we can apply that final `⊃`. Can we detect a tail call? Yes. You can try this: \n",
    "\n",
    "    {⎕←≢⎕SI ⋄ 16=+/'2'=⍕⍵:⍵ ⋄ ∇ 1+⍵}2000+⍳7\n",
    "    \n",
    "It starts searching at 2000 to prevent output flooding. `⎕SI` is the State Indicator, or stack. Every time around the loop, we count the frames on the stack and print that. It'll print 1 every time, because the stack \"forgets\" about the previous call every time.\n",
    "\n",
    "However, if you try it with the `⊃`, then: \n",
    "\n",
    "    {⎕←≢⎕SI ⋄ 16=+/'2'=⍕⍵:⍵ ⋄ ⊃ ∇ 1+⍵}2000+⍳7 \n",
    "    \n",
    "you should be able to observe the stack frames increasing. \n",
    "\n",
    "Let's try implementing `Fib n` (which returns the n first Fibonacci numbers) using `⍣` and recursion. We can factor out the fundamental Fibonacci operation, which sums the last two elements of a vector, and tacks on the result:"
   ]
  },
  {
   "cell_type": "code",
   "execution_count": 6,
   "id": "a670f555",
   "metadata": {},
   "outputs": [],
   "source": [
    "∆←{⍵,+/¯2↑⍵}  ⍝ Fundamental Fibonacci function "
   ]
  },
  {
   "cell_type": "markdown",
   "id": "0e21ddeb",
   "metadata": {},
   "source": [
    "Using this, we can write a neatly tail-recursive Fibonacci function -- note that all processing is to the right of the `∇`:"
   ]
  },
  {
   "cell_type": "code",
   "execution_count": 10,
   "id": "ef539bac",
   "metadata": {},
   "outputs": [
    {
     "data": {
      "text/html": [
       "<span style=\"white-space:pre; font-family: monospace\">1 1 2 3 5 8 13 21 34 55\n",
       "</span>"
      ]
     },
     "execution_count": 10,
     "metadata": {},
     "output_type": "execute_result"
    }
   ],
   "source": [
    "{⍺≤≢⍵:⍺↑⍵ ⋄ ⍺∇∆⍵}∘1⊢ 10 ⍝ Tail-recursive"
   ]
  },
  {
   "cell_type": "markdown",
   "id": "6c603ebf",
   "metadata": {},
   "source": [
    "And here's a clever application of the power operator:"
   ]
  },
  {
   "cell_type": "code",
   "execution_count": 11,
   "id": "e0a4b7b6",
   "metadata": {},
   "outputs": [
    {
     "data": {
      "text/html": [
       "<span style=\"white-space:pre; font-family: monospace\">1 1 2 3 5 8 13 21 34 55\n",
       "</span>"
      ]
     },
     "execution_count": 11,
     "metadata": {},
     "output_type": "execute_result"
    }
   ],
   "source": [
    "{⍵↑∆⍣⍵⊢1 1} 10 ⍝ append 1 1, n times"
   ]
  },
  {
   "cell_type": "code",
   "execution_count": null,
   "id": "e4e94b4b",
   "metadata": {},
   "outputs": [],
   "source": []
  }
 ],
 "metadata": {
  "kernelspec": {
   "display_name": "Dyalog APL",
   "language": "apl",
   "name": "dyalog-kernel"
  },
  "language_info": {
   "file_extension": ".apl",
   "mimetype": "text/apl",
   "name": "APL"
  }
 },
 "nbformat": 4,
 "nbformat_minor": 5
}
