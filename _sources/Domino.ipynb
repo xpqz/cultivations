{
 "cells": [
  {
   "cell_type": "markdown",
   "id": "716e3c4a",
   "metadata": {},
   "source": [
    "# Domino in depth `⌹`\n",
    "\n",
    "Matrix inversion, `⌹`, is often called _domino_ due to its symbol which isn't really a domino (`🁫`) at all, but rather a division sign in a quad, the latter representing division/inversion (`÷`). You're of course familiar with the `÷` primitive. Perhaps you also know that matrix multiplication is `+.×` but that we don't have a corresponding operator for matrix division. You _can_ actually use `+.×⍣¯1` for matrix division, but since `⍣` wasn't always around (and certainly not `⍣¯1`) and for notational ease, `⌹` provides this functionality too. Matrix inversion, what is that? Well, for a square matrix $A$, its inverse $A^{-1}$ is a matrix such that when the two are multiplied together, the result is the identity matrix:\n",
    "\n",
    "$$\n",
    "AA^{-1} = A^{-1}A = I\n",
    "$$\n",
    "\n",
    "Let's keep two easy-to-remember matrices at hand: "
   ]
  },
  {
   "cell_type": "code",
   "execution_count": 1,
   "id": "46e5001c",
   "metadata": {},
   "outputs": [
    {
     "data": {
      "text/html": [
       "<span style=\"white-space:pre; font-family: monospace\">2 7\n",
       "1 8\n",
       "</span>"
      ]
     },
     "execution_count": 1,
     "metadata": {},
     "output_type": "execute_result"
    },
    {
     "data": {
      "text/html": [
       "<span style=\"white-space:pre; font-family: monospace\">3 1\n",
       "4 1\n",
       "</span>"
      ]
     },
     "execution_count": 1,
     "metadata": {},
     "output_type": "execute_result"
    }
   ],
   "source": [
    "⎕←E←2 2⍴2 7 1 8\n",
    "⎕←P←2 2⍴3 1 4 1"
   ]
  },
  {
   "cell_type": "markdown",
   "id": "9c515dd1",
   "metadata": {},
   "source": [
    "If we invert `P` we get:"
   ]
  },
  {
   "cell_type": "code",
   "execution_count": 2,
   "id": "90467f03",
   "metadata": {},
   "outputs": [
    {
     "data": {
      "text/html": [
       "<span style=\"white-space:pre; font-family: monospace\">¯1  1\n",
       " 4 ¯3\n",
       "</span>"
      ]
     },
     "execution_count": 2,
     "metadata": {},
     "output_type": "execute_result"
    }
   ],
   "source": [
    "⌹P"
   ]
  },
  {
   "cell_type": "markdown",
   "id": "454640ab",
   "metadata": {},
   "source": [
    "And indeed: "
   ]
  },
  {
   "cell_type": "code",
   "execution_count": 3,
   "id": "c5c2a1b4",
   "metadata": {},
   "outputs": [
    {
     "data": {
      "text/html": [
       "<span style=\"white-space:pre; font-family: monospace\">1 0\n",
       "0 1\n",
       "</span>"
      ]
     },
     "execution_count": 3,
     "metadata": {},
     "output_type": "execute_result"
    }
   ],
   "source": [
    "P+.×⌹P"
   ]
  },
  {
   "cell_type": "markdown",
   "id": "dee0d026",
   "metadata": {},
   "source": [
    "In mathematics, matrix division as a notation isn't usually used. Instead, mathematicians use multiplication by an inverse. However, the analogy with `×` and `÷` _is_ pretty obvious, so APL defines `A⌹B` as `(⌹B)+.×A` just like `a÷b` is `(÷b)×a` (remember though that matrix multiplication isn't commutative!):"
   ]
  },
  {
   "cell_type": "code",
   "execution_count": 4,
   "id": "306320ef",
   "metadata": {},
   "outputs": [
    {
     "data": {
      "text/html": [
       "<span style=\"white-space:pre; font-family: monospace\">¯1 1\n",
       " 5 4\n",
       "</span>"
      ]
     },
     "execution_count": 4,
     "metadata": {},
     "output_type": "execute_result"
    },
    {
     "data": {
      "text/html": [
       "<span style=\"white-space:pre; font-family: monospace\">¯1 1\n",
       " 5 4\n",
       "</span>"
      ]
     },
     "execution_count": 4,
     "metadata": {},
     "output_type": "execute_result"
    }
   ],
   "source": [
    "E⌹P\n",
    "(⌹P)+.×E"
   ]
  },
  {
   "cell_type": "markdown",
   "id": "86f71a0d",
   "metadata": {},
   "source": [
    "So far, there's nothing much controversial here. However, `⌹` isn't just for matrices. You can use it on vectors too, or even on a matrix and a vector."
   ]
  },
  {
   "cell_type": "code",
   "execution_count": 5,
   "id": "edf8881a",
   "metadata": {},
   "outputs": [
    {
     "data": {
      "text/html": [
       "<span style=\"white-space:pre; font-family: monospace\">1.3\n",
       "</span>"
      ]
     },
     "execution_count": 5,
     "metadata": {},
     "output_type": "execute_result"
    }
   ],
   "source": [
    "2 7⌹3 1"
   ]
  },
  {
   "cell_type": "markdown",
   "id": "bbbf0c05",
   "metadata": {},
   "source": [
    "What does this mean? Well, following the above reasoning, we can perhaps see that the following should be equivalent:"
   ]
  },
  {
   "cell_type": "code",
   "execution_count": 6,
   "id": "a81b4e7e",
   "metadata": {},
   "outputs": [
    {
     "data": {
      "text/html": [
       "<span style=\"white-space:pre; font-family: monospace\">1.3\n",
       "</span>"
      ]
     },
     "execution_count": 6,
     "metadata": {},
     "output_type": "execute_result"
    }
   ],
   "source": [
    "(⌹3 1)+.×2 7 "
   ]
  },
  {
   "cell_type": "markdown",
   "id": "47119fb1",
   "metadata": {},
   "source": [
    "and that `⌹ v` represents the vector divided by the square of its norm:"
   ]
  },
  {
   "cell_type": "code",
   "execution_count": 7,
   "id": "c1b73593",
   "metadata": {},
   "outputs": [
    {
     "data": {
      "text/html": [
       "<span style=\"white-space:pre; font-family: monospace\">0.3 0.1\n",
       "</span>"
      ]
     },
     "execution_count": 7,
     "metadata": {},
     "output_type": "execute_result"
    }
   ],
   "source": [
    " ⌹3 1"
   ]
  },
  {
   "cell_type": "markdown",
   "id": "89865f3b",
   "metadata": {},
   "source": [
    "Another way to think of it is that `2 7⌹3 1` is the \"length\" of the component of `2 7` in the `3 1`-direction. \n",
    "\n",
    "![vectors](IMG/vectors.gif)\n",
    "In other words, if we project `2 7` perpendicularly to the extension of `3 1` we hit a point on `3 1`'s extension which is `1.3×3 1` from `0 0`. \n",
    "\n",
    "This kind of leads us towards some of the tricks `⌹` can do. We can even use `⌹` on scalars, where it behaves just as `÷` except it errors on `0÷0` (where `÷` doesn't error). This is convenient if you want to make sure to catch division-by-zero errors. \n",
    "\n",
    "A common usage for `⌹` is to solve equation systems. Consider\n",
    "\n",
    "\\begin{array}{rcrcr} 2x &+& 7y &=& 12 \\\\ x &+& 8y &=& 15 \\end{array}\n",
    "\n",
    "We can represent this as a matrix (our `E`) on the left of the equal signs and as a vector (`12 15`) on the right. "
   ]
  },
  {
   "cell_type": "code",
   "execution_count": 8,
   "id": "a2de0995",
   "metadata": {},
   "outputs": [
    {
     "data": {
      "text/html": [
       "<span style=\"white-space:pre; font-family: monospace\">¯1 2\n",
       "</span>"
      ]
     },
     "execution_count": 8,
     "metadata": {},
     "output_type": "execute_result"
    }
   ],
   "source": [
    "12 15⌹E"
   ]
  },
  {
   "cell_type": "markdown",
   "id": "4439cd4c",
   "metadata": {},
   "source": [
    "This says `x←¯1` and `y←2`. Let's check the result: "
   ]
  },
  {
   "cell_type": "code",
   "execution_count": 9,
   "id": "3b7bdbe8",
   "metadata": {},
   "outputs": [
    {
     "data": {
      "text/html": [
       "<span style=\"white-space:pre; font-family: monospace\">12\n",
       "</span>"
      ]
     },
     "execution_count": 9,
     "metadata": {},
     "output_type": "execute_result"
    },
    {
     "data": {
      "text/html": [
       "<span style=\"white-space:pre; font-family: monospace\">15\n",
       "</span>"
      ]
     },
     "execution_count": 9,
     "metadata": {},
     "output_type": "execute_result"
    }
   ],
   "source": [
    "2 7+.×¯1 2\n",
    "1 8+.×¯1 2"
   ]
  },
  {
   "cell_type": "markdown",
   "id": "9f02a334",
   "metadata": {},
   "source": [
    "OK, remember how we found `x y≡¯1 2` with `12 15⌹E`? It follows that if we add `x` and `y` we should get 1: "
   ]
  },
  {
   "cell_type": "code",
   "execution_count": 10,
   "id": "accfce7e",
   "metadata": {},
   "outputs": [
    {
     "data": {
      "text/html": [
       "<span style=\"white-space:pre; font-family: monospace\">¯1 2\n",
       "</span>"
      ]
     },
     "execution_count": 10,
     "metadata": {},
     "output_type": "execute_result"
    }
   ],
   "source": [
    "12 15 1⌹E⍪1 1"
   ]
  },
  {
   "cell_type": "markdown",
   "id": "2a41ec21",
   "metadata": {},
   "source": [
    "which simply means that\n",
    "\n",
    "\\begin{array}{rcrcr} 2x &+& 7y &=& 12 \\\\ x &+& 8y &=& 15 \\\\ x &+& y &=& 1\\end{array}\n",
    "\n",
    "\n",
    "But what if we tell APL that the last sum _doesn't_ equal 1?"
   ]
  },
  {
   "cell_type": "code",
   "execution_count": 13,
   "id": "85b9004a",
   "metadata": {},
   "outputs": [
    {
     "data": {
      "text/html": [
       "<span style=\"white-space:pre; font-family: monospace\">¯0.94129 1.98903\n",
       "</span>"
      ]
     },
     "execution_count": 13,
     "metadata": {},
     "output_type": "execute_result"
    }
   ],
   "source": [
    "(x y)←⎕←12 15 1.1⌹E⍪1 1"
   ]
  },
  {
   "cell_type": "markdown",
   "id": "78f3aa44",
   "metadata": {},
   "source": [
    "What nonsense _is_ this? It doesn't even fulfil any of the equations: "
   ]
  },
  {
   "cell_type": "code",
   "execution_count": 14,
   "id": "d436f8c3",
   "metadata": {},
   "outputs": [
    {
     "data": {
      "text/html": [
       "<span style=\"white-space:pre; font-family: monospace\">12.0406\n",
       "</span>"
      ]
     },
     "execution_count": 14,
     "metadata": {},
     "output_type": "execute_result"
    },
    {
     "data": {
      "text/html": [
       "<span style=\"white-space:pre; font-family: monospace\">14.971\n",
       "</span>"
      ]
     },
     "execution_count": 14,
     "metadata": {},
     "output_type": "execute_result"
    },
    {
     "data": {
      "text/html": [
       "<span style=\"white-space:pre; font-family: monospace\">1.04774\n",
       "</span>"
      ]
     },
     "execution_count": 14,
     "metadata": {},
     "output_type": "execute_result"
    }
   ],
   "source": [
    "2 7+.×x y\n",
    "1 8+.×x y\n",
    "1 1+.×x y"
   ]
  },
  {
   "cell_type": "markdown",
   "id": "7c992cf0",
   "metadata": {},
   "source": [
    "But as you can see, it is pretty close. This is an over-determined system, so APL found the solution that fits best. It defines \"best\" by a very common method called the [least squares](https://en.wikipedia.org/wiki/Least_squares) fit, which can also be used to make other kinds of fits. What it means is that it tries to minimise the squares of the \"errors\". In a sense, it smoothes the errors out, which means we can use it for smooth curve-fitting too. \n",
    "\n",
    "Unfortunately, we won't have the scope to go through many possibilities here, but you can see a few uses if you search APLcart for [`⌹` fit](https://aplcart.info/?q=%E2%8C%B9+fit). Let's just take the very first one from there: `⊢⌹1,∘⍪⊣`. Let's say we have"
   ]
  },
  {
   "cell_type": "code",
   "execution_count": 15,
   "id": "e0217a30",
   "metadata": {},
   "outputs": [],
   "source": [
    "x ← 0 1 3 4 5\n",
    "y ← 0 2 4 7 7"
   ]
  },
  {
   "cell_type": "markdown",
   "id": "bafec575",
   "metadata": {},
   "source": [
    "![points](IMG/points.png)"
   ]
  },
  {
   "cell_type": "code",
   "execution_count": 16,
   "id": "6997a0c3",
   "metadata": {},
   "outputs": [
    {
     "data": {
      "text/html": [
       "<span style=\"white-space:pre; font-family: monospace\">0.22093 1.45349\n",
       "</span>"
      ]
     },
     "execution_count": 16,
     "metadata": {},
     "output_type": "execute_result"
    }
   ],
   "source": [
    "x(⊢⌹1,∘⍪⊣)y"
   ]
  },
  {
   "cell_type": "markdown",
   "id": "aa368956",
   "metadata": {},
   "source": [
    "This means the best linear fit is $$y(x)=0.22093x+1.45349$$"
   ]
  },
  {
   "cell_type": "code",
   "execution_count": null,
   "id": "166b9ad2",
   "metadata": {},
   "outputs": [],
   "source": []
  }
 ],
 "metadata": {
  "kernelspec": {
   "display_name": "Dyalog APL",
   "language": "apl",
   "name": "dyalog-kernel"
  },
  "language_info": {
   "file_extension": ".apl",
   "mimetype": "text/apl",
   "name": "APL"
  }
 },
 "nbformat": 4,
 "nbformat_minor": 5
}
