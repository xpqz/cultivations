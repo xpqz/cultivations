{
 "cells": [
  {
   "cell_type": "markdown",
   "id": "721d5704",
   "metadata": {},
   "source": [
    "# Counting words, faster\n",
    "\n",
    "As a practical application, let's consider the counting of words in a string. There are many ways to do that, but I'll show you how an array oriented approach can give tremendous speed-ups. But first we have to generate some test data. Since actual letters don't matter, we'll just have a text consisting of `XY,`.  `,` will be our \"space\" because it is easier to see that way. Now a Perl programmer would, of course, jump to regular expressions. As we've seen, Dyalog APL has a really powerful support for the PCRE-flavour of regular expressions built-in:"
   ]
  },
  {
   "cell_type": "code",
   "execution_count": 2,
   "id": "6a659cec",
   "metadata": {},
   "outputs": [
    {
     "data": {
      "text/html": [
       "<span style=\"white-space:pre; font-family: monospace\">8\n",
       "</span>"
      ]
     },
     "execution_count": 2,
     "metadata": {},
     "output_type": "execute_result"
    }
   ],
   "source": [
    "≢'[^,]+'⎕S 3⊢',YYY,,YYYYYY,,XXXXXX,YYYYYYXXYYY,YYYXXYYYXX,XX,XXYYYXXXX,YYY'"
   ]
  },
  {
   "cell_type": "markdown",
   "id": "a87f52ad",
   "metadata": {},
   "source": [
    "`⎕S` is an operator which takes the regex on its left and what to return for each match on its right. 3 is a special code meaning the pattern number, which is just 0 because we only have one regex. Then we tally (count) that with `≢` and we're done. \n",
    "\n",
    "Another approach is to just split on the delimiter: a good job for `⊆` here. If you give it a Boolean mask as left argument, it isolates runs corresponding to runs of 1s, discarding the elements corresponding to 0s:"
   ]
  },
  {
   "cell_type": "code",
   "execution_count": 6,
   "id": "cd087131",
   "metadata": {},
   "outputs": [
    {
     "data": {
      "text/html": [
       "<span style=\"white-space:pre; font-family: monospace\">┌───┬──────┬──────┬───────────┬──────────┬──┬─────────┬───┐\n",
       "│YYY│YYYYYY│XXXXXX│YYYYYYXXYYY│YYYXXYYYXX│XX│XXYYYXXXX│YYY│\n",
       "└───┴──────┴──────┴───────────┴──────────┴──┴─────────┴───┘\n",
       "</span>"
      ]
     },
     "execution_count": 6,
     "metadata": {},
     "output_type": "execute_result"
    },
    {
     "data": {
      "text/html": [
       "<span style=\"white-space:pre; font-family: monospace\">0 1 1 1 0 0 1 1 1 1 1 1 0 0 1 1 1 1 1 1 0 1 1 1 1 1 1 1 1 1 1 1 0 1 1 1 1 1 1 1 1 1 1 0 1 1 0 1 1 1 1 1 1 1 1 1 0 1 1 1\n",
       "</span>"
      ]
     },
     "execution_count": 6,
     "metadata": {},
     "output_type": "execute_result"
    }
   ],
   "source": [
    "','≠',YYY,,YYYYYY,,XXXXXX,YYYYYYXXYYY,YYYXXYYYXX,XX,XXYYYXXXX,YYY'      ⍝ non-delimiters\n",
    "','(≠⊆⊢)',YYY,,YYYYYY,,XXXXXX,YYYYYYXXYYY,YYYXXYYYXX,XX,XXYYYXXXX,YYY'  ⍝ groups corresponding to runs of 1s"
   ]
  },
  {
   "cell_type": "markdown",
   "id": "73eeb001",
   "metadata": {},
   "source": [
    "Read `≠⊆⊢` as \"the difference partitions the right argument\". What remains is to count the partitions:"
   ]
  },
  {
   "cell_type": "code",
   "execution_count": 8,
   "id": "ebc653e9",
   "metadata": {},
   "outputs": [
    {
     "data": {
      "text/html": [
       "<span style=\"white-space:pre; font-family: monospace\">8\n",
       "</span>"
      ]
     },
     "execution_count": 8,
     "metadata": {},
     "output_type": "execute_result"
    }
   ],
   "source": [
    "','(≢≠⊆⊢)',YYY,,YYYYYY,,XXXXXX,YYYYYYXXYYY,YYYXXYYYXX,XX,XXYYYXXXX,YYY'"
   ]
  },
  {
   "cell_type": "markdown",
   "id": "40230521",
   "metadata": {},
   "source": [
    "This solution has an issue, but before we get to that, let's compare the performance of the \"pure\" APL solution to the regex solution. "
   ]
  },
  {
   "cell_type": "code",
   "execution_count": 12,
   "id": "bcc8e29d",
   "metadata": {},
   "outputs": [
    {
     "data": {
      "text/html": [
       "<span style=\"white-space:pre; font-family: monospace\">2000631\n",
       "  ≢'[^,]+'⎕S 3⊢t → 1.3E¯1 |   0% ⎕⎕⎕⎕⎕⎕⎕⎕⎕⎕⎕⎕⎕⎕⎕⎕⎕⎕⎕⎕⎕⎕⎕⎕⎕⎕⎕⎕⎕⎕⎕⎕⎕⎕⎕⎕⎕⎕⎕⎕\n",
       "  s(≢≠⊆⊢)t       → 1.3E¯2 | -90% ⎕⎕⎕⎕                                    \n",
       "</span>"
      ]
     },
     "execution_count": 12,
     "metadata": {},
     "output_type": "execute_result"
    }
   ],
   "source": [
    "cmpx '≢''[^,]+''⎕S 3⊢t' 's(≢≠⊆⊢)t' ⊣ s←',' ⊣ ⎕←≢t←',XY'[/⍨?1e6⍴3] ⊣ 'cmpx'⎕CY'dfns'"
   ]
  },
  {
   "cell_type": "markdown",
   "id": "6132d0e1",
   "metadata": {},
   "source": [
    "On about 2 million characters we're saving two thirds of the running time by using the split and count approach over regex. Quite a bit faster, but there is more scope: it is problematic that we split the array to count the pieces, as this has to make a new (pointer!) array. \n",
    "\n",
    "So our issue is that we need to ignore multiple spaces. We actually need to do _edge detection_. If we have a text, say `,YYY,,YYYYYY,,` we want to see whenever we go from a non-space to a space (or the opposite). The only gotcha is at the end, if there are no trailing spaces, we will miss the last word. APL has the \"find\" function `⍷`:"
   ]
  },
  {
   "cell_type": "code",
   "execution_count": 14,
   "id": "92b82585",
   "metadata": {},
   "outputs": [
    {
     "data": {
      "text/html": [
       "<span style=\"white-space:pre; font-family: monospace\">0 0 1 0 0 1 0 0 0 0 0\n",
       "</span>"
      ]
     },
     "execution_count": 14,
     "metadata": {},
     "output_type": "execute_result"
    }
   ],
   "source": [
    "'ss'⍷'mississippi'"
   ]
  },
  {
   "cell_type": "markdown",
   "id": "b45b2745",
   "metadata": {},
   "source": [
    "It indicates the beginning of its left argument (\"the top-left corner\") in its right argument. So now we can create an is-space mask, and look for `0 1`. "
   ]
  },
  {
   "cell_type": "code",
   "execution_count": 15,
   "id": "6fd92210",
   "metadata": {},
   "outputs": [
    {
     "data": {
      "text/html": [
       "<span style=\"white-space:pre; font-family: monospace\">1 0 0 0 1 1 0 0 0 0 0 0 1 1\n",
       "</span>"
      ]
     },
     "execution_count": 15,
     "metadata": {},
     "output_type": "execute_result"
    },
    {
     "data": {
      "text/html": [
       "<span style=\"white-space:pre; font-family: monospace\">0 0 0 1 0 0 0 0 0 0 0 1 0 0\n",
       "</span>"
      ]
     },
     "execution_count": 15,
     "metadata": {},
     "output_type": "execute_result"
    },
    {
     "data": {
      "text/html": [
       "<span style=\"white-space:pre; font-family: monospace\">2\n",
       "</span>"
      ]
     },
     "execution_count": 15,
     "metadata": {},
     "output_type": "execute_result"
    }
   ],
   "source": [
    "','=',YYY,,YYYYYY,,'        ⍝ is-space mask\n",
    "0 1⍷','=',YYY,,YYYYYY,,'    ⍝ locate star points for 0 1 patterns\n",
    "+/0 1⍷','=',YYY,,YYYYYY,,'  ⍝ count them"
   ]
  },
  {
   "cell_type": "markdown",
   "id": "2126b42b",
   "metadata": {},
   "source": [
    "However, it counts wrong here: "
   ]
  },
  {
   "cell_type": "code",
   "execution_count": 16,
   "id": "091ab186",
   "metadata": {},
   "outputs": [
    {
     "data": {
      "text/html": [
       "<span style=\"white-space:pre; font-family: monospace\">1\n",
       "</span>"
      ]
     },
     "execution_count": 16,
     "metadata": {},
     "output_type": "execute_result"
    }
   ],
   "source": [
    "+/0 1⍷','=',YYY,,YYYYYY'"
   ]
  },
  {
   "cell_type": "markdown",
   "id": "cf09ca2d",
   "metadata": {},
   "source": [
    "So we need to add a \"space\" to the end."
   ]
  },
  {
   "cell_type": "code",
   "execution_count": 29,
   "id": "6ead54bd",
   "metadata": {},
   "outputs": [
    {
     "data": {
      "text/html": [
       "<span style=\"white-space:pre; font-family: monospace\">2\n",
       "</span>"
      ]
     },
     "execution_count": 29,
     "metadata": {},
     "output_type": "execute_result"
    }
   ],
   "source": [
    "','{+/0 1⍷1,⍨⍺=⍵}',YYY,,YYYYYY'"
   ]
  },
  {
   "cell_type": "markdown",
   "id": "a68acddf",
   "metadata": {},
   "source": [
    "How do they stack up, speed-wise? "
   ]
  },
  {
   "cell_type": "code",
   "execution_count": 30,
   "id": "e6710651",
   "metadata": {},
   "outputs": [
    {
     "data": {
      "text/html": [
       "<span style=\"white-space:pre; font-family: monospace\">2000511\n",
       "  ≢'[^,]+'⎕S 3⊢t   → 1.0E¯1 |   0% ⎕⎕⎕⎕⎕⎕⎕⎕⎕⎕⎕⎕⎕⎕⎕⎕⎕⎕⎕⎕⎕⎕⎕⎕⎕⎕⎕⎕⎕⎕⎕⎕⎕⎕⎕⎕⎕⎕⎕⎕\n",
       "  s(≢≠⊆⊢)t         → 1.3E¯2 | -88% ⎕⎕⎕⎕⎕                                   \n",
       "  s{+/0 1⍷1,⍨⍺=⍵}t → 3.0E¯2 | -71% ⎕⎕⎕⎕⎕⎕⎕⎕⎕⎕⎕⎕                            \n",
       "</span>"
      ]
     },
     "execution_count": 30,
     "metadata": {},
     "output_type": "execute_result"
    }
   ],
   "source": [
    "cmpx '≢''[^,]+''⎕S 3⊢t' 's(≢≠⊆⊢)t' 's{+/0 1⍷1,⍨⍺=⍵}t'⊣ s←',' ⊣ ⎕←≢t←',XY'[/⍨?1e6⍴3]"
   ]
  },
  {
   "cell_type": "markdown",
   "id": "44cba387",
   "metadata": {},
   "source": [
    "Unfortunately, that's a bit slower, but perhaps we can think of another way to exploit our idea to look for the 0 to 1 transition? Since we're looking for `0 1`, we can just insert `<` between elements, using a windowed reduction:"
   ]
  },
  {
   "cell_type": "code",
   "execution_count": 31,
   "id": "55a1d0a2",
   "metadata": {},
   "outputs": [
    {
     "data": {
      "text/html": [
       "<span style=\"white-space:pre; font-family: monospace\">2\n",
       "</span>"
      ]
     },
     "execution_count": 31,
     "metadata": {},
     "output_type": "execute_result"
    }
   ],
   "source": [
    "','{+/2</1,⍨⍺=⍵}',YYY,,YYYYYY'"
   ]
  },
  {
   "cell_type": "markdown",
   "id": "239a7d4b",
   "metadata": {},
   "source": [
    "As before, we append a 1 _after_ we've calculated our binary mask. We could, of course, also have written that as "
   ]
  },
  {
   "cell_type": "code",
   "execution_count": 32,
   "id": "cf91f430",
   "metadata": {},
   "outputs": [
    {
     "data": {
      "text/html": [
       "<span style=\"white-space:pre; font-family: monospace\">2\n",
       "</span>"
      ]
     },
     "execution_count": 32,
     "metadata": {},
     "output_type": "execute_result"
    }
   ],
   "source": [
    "','{+/2</⍺=⍵,⍺}',YYY,,YYYYYY'"
   ]
  },
  {
   "cell_type": "markdown",
   "id": "460dd95a",
   "metadata": {},
   "source": [
    "which is adding an extra ',' at the end, before calculating the mask. When we concatenate the space to the string, APL has to create a copy of the whole string with one additional byte at the end, which is costlier than appending a 1 to a bit-Boolean array as we did in the first version. \n",
    "\n",
    "Note also that `2</` takes care of duplicate spaces. What about performance?"
   ]
  },
  {
   "cell_type": "code",
   "execution_count": 33,
   "id": "5a321c07",
   "metadata": {},
   "outputs": [
    {
     "data": {
      "text/html": [
       "<span style=\"white-space:pre; font-family: monospace\">1999250\n",
       "  ≢'[^,]+'⎕S 3⊢t  → 1.1E¯1 |    0% ⎕⎕⎕⎕⎕⎕⎕⎕⎕⎕⎕⎕⎕⎕⎕⎕⎕⎕⎕⎕⎕⎕⎕⎕⎕⎕⎕⎕⎕⎕⎕⎕⎕⎕⎕⎕⎕⎕⎕⎕\n",
       "  s(≢≠⊆⊢)t        → 1.4E¯2 |  -88% ⎕⎕⎕⎕⎕                                   \n",
       "  s{+/0 1⍷⍺=⍵,⍺}t → 3.1E¯2 |  -71% ⎕⎕⎕⎕⎕⎕⎕⎕⎕⎕⎕⎕                            \n",
       "  s{+/2&lt;/1,⍨⍺=⍵}t → 1.9E¯4 | -100%                                         \n",
       "</span>"
      ]
     },
     "execution_count": 33,
     "metadata": {},
     "output_type": "execute_result"
    }
   ],
   "source": [
    "cmpx '≢''[^,]+''⎕S 3⊢t' 's(≢≠⊆⊢)t' 's{+/0 1⍷⍺=⍵,⍺}t' 's{+/2</1,⍨⍺=⍵}t'⊣ s←',' ⊣ ⎕←≢t←',XY'[/⍨?1e6⍴3]"
   ]
  },
  {
   "cell_type": "markdown",
   "id": "f102dd9c",
   "metadata": {},
   "source": [
    "That's a crushing improvement! Let's zoom in a bit, by removing the slower versions from the comparison:"
   ]
  },
  {
   "cell_type": "code",
   "execution_count": 34,
   "id": "1150ba77",
   "metadata": {},
   "outputs": [
    {
     "data": {
      "text/html": [
       "<span style=\"white-space:pre; font-family: monospace\">1999765\n",
       "  s(≢≠⊆⊢)t         → 1.6E¯2 |   0% ⎕⎕⎕⎕⎕⎕⎕⎕⎕⎕⎕⎕⎕⎕⎕⎕⎕⎕⎕⎕⎕⎕⎕⎕⎕⎕⎕⎕⎕⎕⎕⎕⎕⎕⎕⎕⎕⎕⎕⎕\n",
       "  s{+/2&lt;/(⍺=⍵),1}t → 5.2E¯4 | -97% ⎕                                       \n",
       "</span>"
      ]
     },
     "execution_count": 34,
     "metadata": {},
     "output_type": "execute_result"
    }
   ],
   "source": [
    "cmpx 's(≢≠⊆⊢)t' 's{+/2</(⍺=⍵),1}t'⊣ s←',' ⊣ ⎕←≢t←',XY'[/⍨?1e6⍴3]"
   ]
  },
  {
   "cell_type": "markdown",
   "id": "698d6701",
   "metadata": {},
   "source": [
    "\n"
   ]
  }
 ],
 "metadata": {
  "kernelspec": {
   "display_name": "Dyalog APL",
   "language": "apl",
   "name": "dyalog-kernel"
  },
  "language_info": {
   "file_extension": ".apl",
   "mimetype": "text/apl",
   "name": "APL"
  }
 },
 "nbformat": 4,
 "nbformat_minor": 5
}
