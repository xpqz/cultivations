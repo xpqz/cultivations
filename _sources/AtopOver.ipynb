{
 "cells": [
  {
   "cell_type": "markdown",
   "id": "40a7b536",
   "metadata": {},
   "source": [
    "# Atop and Over in depth `⍤⍥`\n",
    "\n",
    "[Atop](http://help.dyalog.com/latest/index.htm#Language/Primitive%20Operators/Atop.htm), `⍤`, and [Over](http://help.dyalog.com/latest/index.htm#Language/Primitive%20Operators/Over.htm), `⍥`, are compositional operators recently added to Dyalog. \n",
    "\n",
    "## Atop `f⍤g`\n",
    "\n",
    "First atop, which has been assigned `function⍤function` thus sharing the symbol with the [rank](http://help.dyalog.com/latest/index.htm#Language/Primitive%20Operators/Rank.htm) operator's `function⍤array`. You may be familiar with the 2-train, which is also called \"atop\": `(f g)Y` and `X(f g)Y`. Maybe you've even been burned by `f∘g Y` being an atop, but `X f∘g Y` _not_ being an atop. Well, the atop operator is what you would expect. In other words, `f⍤g Y` is exactly like `f∘g Y` but `X f⍤g Y` is `f X g Y` or `X (f g) Y`. We strongly recommend transitioning to use `⍤` in places where you've hitherto used monadic `f∘g`: it will prevent (at least one potential cause of) frustration if you ever decide to add a left argument to your code. \n",
    "\n",
    "Here's an example of what can happen. Let's say you define a function that returns the magnitude of reciprocal. "
   ]
  },
  {
   "cell_type": "code",
   "execution_count": 1,
   "id": "580d00a1",
   "metadata": {},
   "outputs": [
    {
     "data": {
      "text/html": [
       "<span style=\"white-space:pre; font-family: monospace\">0.25\n",
       "</span>"
      ]
     },
     "execution_count": 1,
     "metadata": {},
     "output_type": "execute_result"
    },
    {
     "data": {
      "text/html": [
       "<span style=\"white-space:pre; font-family: monospace\">0.2\n",
       "</span>"
      ]
     },
     "execution_count": 1,
     "metadata": {},
     "output_type": "execute_result"
    }
   ],
   "source": [
    "|∘÷ ¯4\n",
    "|∘÷ ¯5"
   ]
  },
  {
   "cell_type": "markdown",
   "id": "8fda4c98",
   "metadata": {},
   "source": [
    "(This could, of course, be written without the `∘` but we've opted for a very simple function for illustration purposes). Now you get a feature request that the function should take a left argument which is a numerator (instead of the default 1)."
   ]
  },
  {
   "cell_type": "code",
   "execution_count": 2,
   "id": "6b70bb4a",
   "metadata": {},
   "outputs": [
    {
     "data": {
      "text/html": [
       "<span style=\"white-space:pre; font-family: monospace\">1.75\n",
       "</span>"
      ]
     },
     "execution_count": 2,
     "metadata": {},
     "output_type": "execute_result"
    },
    {
     "data": {
      "text/html": [
       "<span style=\"white-space:pre; font-family: monospace\">1.8\n",
       "</span>"
      ]
     },
     "execution_count": 2,
     "metadata": {},
     "output_type": "execute_result"
    }
   ],
   "source": [
    "2 |∘÷ ¯4\n",
    "2 |∘÷ ¯5"
   ]
  },
  {
   "cell_type": "markdown",
   "id": "b5dc057e",
   "metadata": {},
   "source": [
    "Oops. However:"
   ]
  },
  {
   "cell_type": "code",
   "execution_count": 3,
   "id": "7f3e2a77",
   "metadata": {},
   "outputs": [
    {
     "data": {
      "text/html": [
       "<span style=\"white-space:pre; font-family: monospace\">0.25\n",
       "</span>"
      ]
     },
     "execution_count": 3,
     "metadata": {},
     "output_type": "execute_result"
    },
    {
     "data": {
      "text/html": [
       "<span style=\"white-space:pre; font-family: monospace\">0.2\n",
       "</span>"
      ]
     },
     "execution_count": 3,
     "metadata": {},
     "output_type": "execute_result"
    },
    {
     "data": {
      "text/html": [
       "<span style=\"white-space:pre; font-family: monospace\">0.5\n",
       "</span>"
      ]
     },
     "execution_count": 3,
     "metadata": {},
     "output_type": "execute_result"
    },
    {
     "data": {
      "text/html": [
       "<span style=\"white-space:pre; font-family: monospace\">0.4\n",
       "</span>"
      ]
     },
     "execution_count": 3,
     "metadata": {},
     "output_type": "execute_result"
    }
   ],
   "source": [
    "|⍤÷ ¯4\n",
    "|⍤÷ ¯5\n",
    "2 |⍤÷ ¯4\n",
    "2 |⍤÷ ¯5"
   ]
  },
  {
   "cell_type": "markdown",
   "id": "99a157bc",
   "metadata": {},
   "source": [
    "One way to look at `f∘g` vs `f⍤g` is that when given a left argument, `∘` gives it to the left-hand function and `⍤` gives it to the right-hand function. Other than that, they are equivalent. Another way to look at `f∘g` vs `f⍤g` is simply choosing order of the first two tokens in the equivalent explicit expression: `X f∘g Y` computes `X f g Y` and `X f⍤g Y` computes `f X g Y`. So we're simply swapping `X` and `f`.\n",
    "\n",
    "Then there's the classic problem with slashes, especially in tacit programming. If you've ever tried using replicate/compress in a train, you'll have bumped into the fact that slashes prefer being operators over being functions. This means that `{(5<⍵)/⍵}` _doesn't_ convert to `(5<⊢)/⊢`.\n",
    "\n",
    "Whilst it may not be obvious at first sight, if we define `f←5<⊢` it might become clearer that `f/⊢` isn't at all what we want. Now, there's an axiom in APL that an operator cannot be an operand (shh, don't mention `∘.f`). This means that if a slash ends up in a situation where it has to be an operand, it will resort to being a function. You may even have noticed that constructs like `⊢(/⍨)5<⊢` work fine, but `⊢/⍨5<⊢` doesn't. This is because the `/` in isolation with the `⍨` is forced to become the operand of `⍨`. But since operators bind from the left, `⊢/` binds first, and so `⊢/⍨5<⊢` becomes `(⊢/)⍨5<⊢` or `(5<⊢)⊢/(5<⊢)` which is usually not what you want. \n",
    "\n",
    "So, `⍤` to the rescue.\n",
    "\n",
    "If `⍤` (or any dyadic operator) is found to the immediate left of a slash, then clearly the dyadic operator cannot be the operand of the slash, `⍤` being a dyadic operator itself, and it can't be part of the function on the left, since it requires a right-operand, too. Therefore, the slash is forced to become a function.\n",
    "\n",
    "So `-⍤/` is the negation of the replicate: "
   ]
  },
  {
   "cell_type": "code",
   "execution_count": 4,
   "id": "2ecb3dcf",
   "metadata": {},
   "outputs": [
    {
     "data": {
      "text/html": [
       "<span style=\"white-space:pre; font-family: monospace\">¯10 ¯30 ¯30\n",
       "</span>"
      ]
     },
     "execution_count": 4,
     "metadata": {},
     "output_type": "execute_result"
    }
   ],
   "source": [
    "1 0 2-⍤/10 20 30"
   ]
  },
  {
   "cell_type": "markdown",
   "id": "2eb9046a",
   "metadata": {},
   "source": [
    "It is easy to think then that \"oh, this is an atop, so I should be able to do this with parentheses too; `(f g)`\" but that'd be a mistake: `(-/)` is just a normal minus-reduction. Another mistake is to think: \"if a slash is an operand, it'll be a function\" and then think that `/∘⊢` would work like `⊢⍤/` by pre-processing the right argument with a no-op rather than post-processing the result with a no-op. \n",
    "\n",
    "Let's say we want a function `Apply` which takes an argument consisting of two vectors; a mask and some data, and computes `mask/data`. It isn't sufficient to write"
   ]
  },
  {
   "cell_type": "code",
   "execution_count": 5,
   "id": "02043814",
   "metadata": {},
   "outputs": [],
   "source": [
    "Apply ← // ⍝ Incorrect; returns an enclosed result"
   ]
  },
  {
   "cell_type": "markdown",
   "id": "a7eaec60",
   "metadata": {},
   "source": [
    "Instead, we can write"
   ]
  },
  {
   "cell_type": "code",
   "execution_count": 6,
   "id": "1c8b74e3",
   "metadata": {},
   "outputs": [],
   "source": [
    "Apply ← ⊃⊢⍤//"
   ]
  },
  {
   "cell_type": "markdown",
   "id": "931d4f26",
   "metadata": {},
   "source": [
    "In fact, once `⊢⍤/` becomes more established as a common pattern, you can actually help the reader of your code by using `⊢⍤/` so they don't have to consider if your slash is replicate or reduce. For example, if your code says `z←x/y` it might not be obvious what's going on. If you instead write `z←x⊢⍤/y` your reader knows exactly what you're doing. \n",
    "\n",
    "Another somewhat contrived example: given an array, replace every element with two copies of itself prefixed and suffixed by the relevant prototypal element. E.g. `'abc'` becomes `' aa  bb  cc '`.  `10 20 30` should become `0 10 10 0 0 20 20 0 0 30 30 0`. "
   ]
  },
  {
   "cell_type": "code",
   "execution_count": 9,
   "id": "91b1d668",
   "metadata": {},
   "outputs": [
    {
     "data": {
      "text/html": [
       "<span style=\"white-space:pre; font-family: monospace\">┌→───────────┐\n",
       "│ aa  bb  cc │\n",
       "└────────────┘\n",
       "</span>"
      ]
     },
     "execution_count": 9,
     "metadata": {},
     "output_type": "execute_result"
    },
    {
     "data": {
      "text/html": [
       "<span style=\"white-space:pre; font-family: monospace\">0 10 10 0 0 20 20 0 0 30 30 0\n",
       "</span>"
      ]
     },
     "execution_count": 9,
     "metadata": {},
     "output_type": "execute_result"
    }
   ],
   "source": [
    "f ← ⊢⊢⍤⍀⍨0 2 0⍴⍨3×≢\n",
    "]display f 'abc'\n",
    "f 10 20 30"
   ]
  },
  {
   "cell_type": "markdown",
   "id": "2aad2432",
   "metadata": {},
   "source": [
    "Note how we force `⍀` into a function by saying `⊢⍤⍀` in the train."
   ]
  },
  {
   "cell_type": "markdown",
   "id": "ade3eff6",
   "metadata": {},
   "source": [
    "## Over `⍥`\n",
    "\n",
    "Remember how `f∘g` pre-processes the right argument of `f` using `g`? One way to look at [Over](http://help.dyalog.com/latest/index.htm#Language/Primitive%20Operators/Over.htm) is simply as preprocessing _all_ arguments of `f` using `g`. All, as in both or the only. So, again `f⍥g Y` is the same as `f⍤g Y` and `f∘g Y`. The difference is, again, when we do a dyadic application. While `X f∘g Y` is `X f(g Y)` we have `X f⍥g Y` be `(g X)f(g Y)`. This may seem like an overly involved operator, but really, the pattern of pre-processing both arguments comes up a lot. Once you start looking for it, you'll see it all over.\n",
    "\n",
    "For example, write a dyadic function computing the sum of absolute values of its arguments. "
   ]
  },
  {
   "cell_type": "code",
   "execution_count": 10,
   "id": "b6c5b36b",
   "metadata": {},
   "outputs": [
    {
     "data": {
      "text/html": [
       "<span style=\"white-space:pre; font-family: monospace\">28\n",
       "</span>"
      ]
     },
     "execution_count": 10,
     "metadata": {},
     "output_type": "execute_result"
    }
   ],
   "source": [
    "¯5 +⍥| 23"
   ]
  },
  {
   "cell_type": "markdown",
   "id": "d2aa3845",
   "metadata": {},
   "source": [
    "Compare that to the old-fashioned `+/∘|`, or even `⊃(+/∘|{⍺⍵})`. Another: given arguments which are vectors, which one has the smallest maximum? Return ¯1 if the left argument has the smallest maximum, 1 if the right one has, or 0 if they are equal."
   ]
  },
  {
   "cell_type": "code",
   "execution_count": 11,
   "id": "5472d1e2",
   "metadata": {},
   "outputs": [
    {
     "data": {
      "text/html": [
       "<span style=\"white-space:pre; font-family: monospace\">¯1\n",
       "</span>"
      ]
     },
     "execution_count": 11,
     "metadata": {},
     "output_type": "execute_result"
    }
   ],
   "source": [
    "1 0 3 4 5 ×⍤-⍥(⌈/) 7 1 2 3 4 8 6 3"
   ]
  },
  {
   "cell_type": "markdown",
   "id": "20188057",
   "metadata": {},
   "source": [
    "OK, how about this: write an alternative to replicate which can take arguments of equal shape, both with rank greater than 1, and replicates the corresponding elements. Since the result might otherwise be ragged, you have to return a vector. \n",
    "\n",
    "```apl\n",
    "      (2 3⍴⍳6) YourFunction 2 3⍴⎕A\n",
    "ABBCCCDDDDEEEEEFFFFFF\n",
    "```"
   ]
  },
  {
   "cell_type": "code",
   "execution_count": 14,
   "id": "e2108f27",
   "metadata": {},
   "outputs": [
    {
     "data": {
      "text/html": [
       "<span style=\"white-space:pre; font-family: monospace\">ABBCCCDDDDEEEEEFFFFFF\n",
       "</span>"
      ]
     },
     "execution_count": 14,
     "metadata": {},
     "output_type": "execute_result"
    }
   ],
   "source": [
    "(2 3⍴⍳6) ⊢⍤/⍥, 2 3⍴⎕A ⍝ Replicate over catenate"
   ]
  },
  {
   "cell_type": "markdown",
   "id": "7bcd0c8a",
   "metadata": {},
   "source": [
    "In this case, you don't _need_ `⊢⍤` but it is good for clarity, and necessary if used inline in a train. One favourite is `,⍥⊂`prefer over {⍺ ⍵}"
   ]
  }
 ],
 "metadata": {
  "kernelspec": {
   "display_name": "Dyalog APL",
   "language": "apl",
   "name": "dyalog-kernel"
  },
  "language_info": {
   "file_extension": ".apl",
   "mimetype": "text/apl",
   "name": "APL"
  }
 },
 "nbformat": 4,
 "nbformat_minor": 5
}
