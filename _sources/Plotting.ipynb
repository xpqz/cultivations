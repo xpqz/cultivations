{
 "cells": [
  {
   "cell_type": "markdown",
   "id": "b9dd9e85",
   "metadata": {},
   "source": [
    "# Plotting with SharpPlot\n",
    "\n",
    "This Cultivation was hosted by Nicolas Delcros. Nicolas also gave a [presentation](https://dyalog.tv/Dyalog13/?v=Xo3vRQMaPxo) on SharpPlot at the Dyalog '13 user conference, and there are several [blog posts](https://www.dyalog.com/blog/category/sharpplot/) available on the topic, too.\n",
    "\n",
    "[SharpPlot](https://sharpplot.com) is a professional charting and typesetting engine that ships with Dyalog APL. If you want to draw graphs or plot functions using APL, SharpPlot has you covered. SharpPlot comes in two versions, firstly a native .NET bundle that can be used through Dyalog's .NET integration, and secondly as a pure APL workspace, referred to as `Causeway`. Whilst they're identical in terms of functionality, the former tends to be faster, but the latter obviously has the advantage of working everywhere Dyalog works, without the need to have access to .NET. We'll be using the `Causeway` approach here.\n",
    "\n",
    "Let's kick this off with an example! First we need to pull in two functions from the `sharpplot` workspace."
   ]
  },
  {
   "cell_type": "code",
   "execution_count": 1,
   "id": "b08cc773",
   "metadata": {},
   "outputs": [],
   "source": [
    "'InitCauseway' 'View' ⎕CY'sharpplot'"
   ]
  },
  {
   "cell_type": "code",
   "execution_count": 2,
   "id": "c7827ace",
   "metadata": {},
   "outputs": [],
   "source": [
    "⎕RL←16807 1   ⍝ fixed seed for random numbers"
   ]
  },
  {
   "cell_type": "markdown",
   "id": "ce2aba3a",
   "metadata": {},
   "source": [
    "Let's write a function we can use to generate some data to plot,"
   ]
  },
  {
   "cell_type": "code",
   "execution_count": 3,
   "id": "b6ee38be",
   "metadata": {},
   "outputs": [],
   "source": [
    "]dinput\n",
    "NormalRandom ← {\n",
    "  depth ← 1000000000                    ⍝ Randomness depth\n",
    "  (x y) ← ⊂[1+⍳⍴,⍵](?(2,⍵)⍴depth)÷depth ⍝ Two random variables within ]0;1]\n",
    "  ((-2×⍟x)*0.5)×1○○2×y                  ⍝ https://en.wikipedia.org/wiki/Box-Muller_transform    \n",
    "}"
   ]
  },
  {
   "cell_type": "markdown",
   "id": "398db6a2",
   "metadata": {},
   "source": [
    "Now we can draw a SharpPlot [line graph](https://sharpplot.com/SharpPlot-DrawLineGraph.htm):"
   ]
  },
  {
   "cell_type": "code",
   "execution_count": 4,
   "id": "d62c92d6",
   "metadata": {},
   "outputs": [],
   "source": [
    "line ← ⊃↓+\\NormalRandom 5 100\n",
    "InitCauseway ⍬\n",
    "sp ← ⎕NEW Causeway.SharpPlot\n",
    "sp.DrawLineGraph ⊂line                  ⍝ Single argument must be enclosed\n",
    "\n",
    "sp.SaveSvg 'plot1.svg' Causeway.SvgMode.FixedAspect ⍝ Write the graph image to disk"
   ]
  },
  {
   "cell_type": "markdown",
   "id": "3d7d5572",
   "metadata": {},
   "source": [
    "![plot1](plot1.svg)\n",
    "\n",
    "Unfortunately, many of the SharpPlot functions don't actually return anything, making them tricky to use inside a dfn. Here's a somewhat hideous workaround for this,"
   ]
  },
  {
   "cell_type": "code",
   "execution_count": 5,
   "id": "e84cb836",
   "metadata": {},
   "outputs": [],
   "source": [
    "]dinput\n",
    "Plot ← {\n",
    "    do ← {⍎'⍺⍺ ⍵ ⋄ ⍵' ⋄ ⍺⍺}\n",
    "    _ ← InitCauseway do ⍬\n",
    "    sp ← ⎕NEW Causeway.SharpPlot\n",
    "    _ ← sp.DrawLineGraph do ⍵\n",
    "    sp\n",
    "}"
   ]
  },
  {
   "cell_type": "markdown",
   "id": "159fcdcb",
   "metadata": {},
   "source": [
    "You may have gathered that what we get returned from this function is a SharpPlot instance, with a bunch of methods and properties. You might draw another line graph, or any other kind of graph, or add some notes, perhaps.\n",
    "\n",
    "Ok, let's plot some more involved data. Here we have some personal account-keeping, showing expenditures of different types across a set of dates. A quirk here is that SharpPlot uses so-called \"OLE dates\" which are one-off to international day numbers (IDN ― the number of days since the beginning of 1899-12-31)."
   ]
  },
  {
   "cell_type": "code",
   "execution_count": 6,
   "id": "9a01c768",
   "metadata": {},
   "outputs": [
    {
     "data": {
      "text/html": [
       "<span style=\"white-space:pre; font-family: monospace\">┌─────────────────┬─────────────────┬────────────────┬─────────────────┬─────────────────┬─────────────────┬────────────────┬─────────────────┬─────────────────┬────────────────┬─────────────────┬─────────────────┬────────────────┬────────────────┬─────────────────┬─────────────────┬────────────────┬─────────────────┬─────────────────┬─────────────────┐\n",
       "│2019 5 19 0 0 0 0│2019 7 24 0 0 0 0│2019 8 1 0 0 0 0│2019 7 14 0 0 0 0│2019 7 31 0 0 0 0│2019 6 26 0 0 0 0│2019 6 1 0 0 0 0│2019 6 30 0 0 0 0│2019 4 26 0 0 0 0│2019 7 7 0 0 0 0│2019 5 22 0 0 0 0│2019 6 28 0 0 0 0│2019 6 7 0 0 0 0│2019 6 2 0 0 0 0│2019 6 29 0 0 0 0│2019 5 27 0 0 0 0│2019 7 5 0 0 0 0│2019 7 13 0 0 0 0│2019 7 25 0 0 0 0│2019 6 22 0 0 0 0│\n",
       "├─────────────────┼─────────────────┼────────────────┼─────────────────┼─────────────────┼─────────────────┼────────────────┼─────────────────┼─────────────────┼────────────────┼─────────────────┼─────────────────┼────────────────┼────────────────┼─────────────────┼─────────────────┼────────────────┼─────────────────┼─────────────────┼─────────────────┤\n",
       "│Groceries        │Entertainment    │Entertainment   │Groceries        │Entertainment    │Groceries        │Groceries       │Groceries        │Groceries        │Entertainment   │Subscription     │Groceries        │Groceries       │Subscription    │Entertainment    │Groceries        │Subscription    │Groceries        │Groceries        │Subscription     │\n",
       "├─────────────────┼─────────────────┼────────────────┼─────────────────┼─────────────────┼─────────────────┼────────────────┼─────────────────┼─────────────────┼────────────────┼─────────────────┼─────────────────┼────────────────┼────────────────┼─────────────────┼─────────────────┼────────────────┼─────────────────┼─────────────────┼─────────────────┤\n",
       "│107              │36               │105             │58               │116              │53               │96              │115              │91               │43              │63               │81               │57              │45              │91               │114              │74              │73               │33               │41               │\n",
       "└─────────────────┴─────────────────┴────────────────┴─────────────────┴─────────────────┴─────────────────┴────────────────┴─────────────────┴─────────────────┴────────────────┴─────────────────┴─────────────────┴────────────────┴────────────────┴─────────────────┴─────────────────┴────────────────┴─────────────────┴─────────────────┴─────────────────┘\n",
       "</span>"
      ]
     },
     "execution_count": 6,
     "metadata": {},
     "output_type": "execute_result"
    }
   ],
   "source": [
    "'date'⎕CY'dfns'\n",
    "↑(date¨43578+?20⍴100)(('Groceries' 'Entertainment' 'Subscription')[?20⍴3])(20+?20⍴100)"
   ]
  },
  {
   "cell_type": "code",
   "execution_count": 7,
   "id": "27eab9d4",
   "metadata": {},
   "outputs": [],
   "source": [
    "∇ sp ← Budget size;count;dates;oledates;type\n",
    "  dates ← date¨43578+size?10×size\n",
    "  type ← 'Groceries' 'Entertainment' 'Subscription'[?size⍴3]\n",
    "  count ← 20+?size⍴100\n",
    "\n",
    "  oledates ← {1+2 ⎕NQ'.' 'DateToIDN'⍵}¨dates \n",
    "  InitCauseway ⍬\n",
    "  sp ← ⎕NEW Causeway.SharpPlot\n",
    "  sp.SplitBy⊂type ⍝ single argument must be enclosed\n",
    "  sp.ScatterPlotStyle ← Causeway.ScatterPlotStyles.(GridLines+Risers)\n",
    "  sp.SetColors System.Drawing.Color.(Blue Red Green)\n",
    "  sp.SetMarkers Causeway.Marker.Bullet\n",
    "  sp.XAxisStyle ← Causeway.XAxisStyles.(Date)\n",
    "  sp.XDateFormat ←'dd-MM-yyyy'\n",
    "  sp.DrawScatterPlot count oledates\n",
    "∇"
   ]
  },
  {
   "cell_type": "code",
   "execution_count": 8,
   "id": "ca3a9ee1",
   "metadata": {},
   "outputs": [],
   "source": [
    "gr ← Budget 10\n",
    "gr.SaveSvg 'plot02.svg' Causeway.SvgMode.FixedAspect"
   ]
  },
  {
   "cell_type": "markdown",
   "id": "fb252c41",
   "metadata": {},
   "source": [
    "![plot2](plot02.svg)"
   ]
  },
  {
   "cell_type": "markdown",
   "id": "a434f38f",
   "metadata": {},
   "source": [
    "Here's a subset of Our World In Data's [dataset on COVID-19](https://github.com/owid/covid-19-data/tree/master/public/data). We've picked out the data for United States, Canada, United Kingdom, France and Denmark, plotting the new cases per million, and new deaths per million over time, starting from January, 2022. We did a bit of data slicing and date conversion outside APL, detailed [here](https://github.com/xpqz/owidp), in order for us to be able to focus mainly on the plotting aspect."
   ]
  },
  {
   "cell_type": "code",
   "execution_count": 9,
   "id": "a43473c0",
   "metadata": {},
   "outputs": [],
   "source": [
    "∇ {sp}←OwidCovidData;Causeway;InitCauseway;View;countries_to_plot;csv;data;date;dates;field;fields_to_plot;location;locations;miss;row;sp;values\n",
    "miss ← ¯1E300 ⍝ missing value\n",
    "csv ← {⎕CSV ⍵ ⍬ 4} '/Users/stefan/work/data/covid_subset2.csv'\n",
    "dates ← {⍵[⍋⍵]}∪date ← 20 1⎕DT csv[;2]\n",
    "csv[;2] ← date\n",
    "\n",
    "locations ← ∪location←csv[;1]\n",
    "row ← csv[;1 2]⍳↑locations∘.{⍺ ⍵}dates\n",
    "csv ⍪← (⊂'')(⊂'')miss miss\n",
    "data ← csv[row;3 4]\n",
    "\n",
    "fields_to_plot ← 'New cases per million' 'New deaths per million'\n",
    "countries_to_plot ← 'United States' 'Canada' 'United Kingdom' 'France' 'Denmark'\n",
    "\n",
    "'InitCauseway' 'View'⎕CY'sharpplot'\n",
    "InitCauseway ⍬ \n",
    "sp ← ⎕NEW Causeway.SharpPlot\n",
    "sp.MissingValue ← miss\n",
    "sp.SetTrellis ≢fields_to_plot\n",
    "\n",
    ":For field :In ⍳≢fields_to_plot\n",
    "    sp.NewCell\n",
    "    sp.Heading ← field⊃fields_to_plot\n",
    "    sp.MarginBottom ← 70\n",
    "    sp.SetKeyText ⊂countries_to_plot\n",
    "    sp.YAxisStyle ← Causeway.YAxisStyles.LogScale\n",
    "    sp.XAxisStyle ← Causeway.XAxisStyles.(Date+MonthlyTicks)\n",
    "    sp.XDateFormat ← 'MMM-yy'\n",
    "    values ← ↓data[;;field]\n",
    "    sp.DrawLineGraph values dates\n",
    "    sp.DrawKey ⍬\n",
    ":EndFor\n",
    "∇"
   ]
  },
  {
   "cell_type": "code",
   "execution_count": 10,
   "id": "03230a93",
   "metadata": {},
   "outputs": [],
   "source": [
    "InitCauseway ⍬ \n",
    "cov ← OwidCovidData\n",
    "cov.SaveSvg 'plot03.svg' Causeway.SvgMode.FixedAspect"
   ]
  },
  {
   "cell_type": "markdown",
   "id": "0b64f138",
   "metadata": {},
   "source": [
    "![plot3](plot03.svg)"
   ]
  },
  {
   "cell_type": "code",
   "execution_count": null,
   "id": "cab8c4c3",
   "metadata": {},
   "outputs": [],
   "source": []
  }
 ],
 "metadata": {
  "kernelspec": {
   "display_name": "Dyalog APL",
   "language": "apl",
   "name": "dyalog-kernel"
  },
  "language_info": {
   "file_extension": ".apl",
   "mimetype": "text/apl",
   "name": "APL"
  }
 },
 "nbformat": 4,
 "nbformat_minor": 5
}
