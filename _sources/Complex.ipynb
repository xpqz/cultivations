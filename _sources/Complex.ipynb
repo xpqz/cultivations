{
 "cells": [
  {
   "cell_type": "markdown",
   "id": "9dd2bbba",
   "metadata": {},
   "source": [
    "# Complex numbers\n",
    "\n",
    "Instead of `a+bi` or `a+b×i`, APL uses `aJb` for scalar atomic complex numbers. In other words, `3+4i` is `3J4` and i is `0J1`. The arithmetic functions support complex mathematics where sensible. Of special interest are monadic `+` and `|` and the circular functions `k○Y`. Monadic `+` is the complex conjugate, that is, `a+bi → a-bi`. "
   ]
  },
  {
   "cell_type": "code",
   "execution_count": 1,
   "id": "31e13784",
   "metadata": {},
   "outputs": [
    {
     "data": {
      "text/html": [
       "<span style=\"white-space:pre; font-family: monospace\">1.79891J1.11179\n",
       "</span>"
      ]
     },
     "execution_count": 1,
     "metadata": {},
     "output_type": "execute_result"
    }
   ],
   "source": [
    "2J4*0.5"
   ]
  },
  {
   "cell_type": "markdown",
   "id": "22495945",
   "metadata": {},
   "source": [
    "We can combine a real and imaginary parts with `re+0J1×im` but since the complex numbers are atomic (simple scalars) we need a way to split them. For this we have `9○Y` and `11○Y` which would be `Re(Y)` and `Im(Y)` in traditional notation. You might think it odd that we have numbered functions (like the trigonometric functions; sine and cosine are `1○Y` and `2○Y`) but it can actually be really neat because `○` is a scalar function. \n",
    "\n",
    "Let's say we have a vector of complex numbers `Nv←2J3 0J1 10` then how might we get a 2-row matrix with one row for the real parts and one row for the complex part? "
   ]
  },
  {
   "cell_type": "code",
   "execution_count": 2,
   "id": "3231ad31",
   "metadata": {},
   "outputs": [
    {
     "data": {
      "text/html": [
       "<span style=\"white-space:pre; font-family: monospace\">2 0 10\n",
       "3 1  0\n",
       "</span>"
      ]
     },
     "execution_count": 2,
     "metadata": {},
     "output_type": "execute_result"
    }
   ],
   "source": [
    "Nv←2J3 0J1 10\n",
    "9 11∘.○Nv "
   ]
  },
  {
   "cell_type": "markdown",
   "id": "4bff677c",
   "metadata": {},
   "source": [
    "Now, if we have an array `N←2 2⍴2J3 0J1 10 0` and want a two-element vector where each element has the same shape as `N` but the first has the real parts and the second the imaginary parts? "
   ]
  },
  {
   "cell_type": "code",
   "execution_count": 3,
   "id": "f7ba3471",
   "metadata": {},
   "outputs": [
    {
     "data": {
      "text/html": [
       "<span style=\"white-space:pre; font-family: monospace\">┌────┬───┐\n",
       "│ 2 0│3 1│\n",
       "│10 0│0 0│\n",
       "└────┴───┘\n",
       "</span>"
      ]
     },
     "execution_count": 3,
     "metadata": {},
     "output_type": "execute_result"
    }
   ],
   "source": [
    "N←2 2⍴2J3 0J1 10 0\n",
    "9 11○⊂N"
   ]
  },
  {
   "cell_type": "markdown",
   "id": "a5e27de4",
   "metadata": {},
   "source": [
    "The solution can be either a tacit function `(9 11○⊂)N` or the expression `9 11○⊂N` though the outcome is equivalent. First we enclose `N` which makes it a scalar. Then we pair that scalar with a vector `9 11` as arguments to a scalar function, `○`. This makes APL do a scalar extension: `9 11○(⍴9 11)⍴⊂N` or `9 11○N N` or `(9○N)(11○N)`.\n",
    "\n",
    "Now, if you're familiar with the trigonometric functions, you'll know that negating the left argument of `○` gives you the inverse function. For example, `sin` is `1○Y` and `arcsin` is `¯1○Y`. So `11○Y` extracts the imaginary part into a real number. `¯11○Y` will \"put back\" a real number into its imaginary place:  "
   ]
  },
  {
   "cell_type": "code",
   "execution_count": 4,
   "id": "0569ed9e",
   "metadata": {},
   "outputs": [
    {
     "data": {
      "text/html": [
       "<span style=\"white-space:pre; font-family: monospace\">0J3\n",
       "</span>"
      ]
     },
     "execution_count": 4,
     "metadata": {},
     "output_type": "execute_result"
    }
   ],
   "source": [
    "¯11○3"
   ]
  },
  {
   "cell_type": "markdown",
   "id": "35171852",
   "metadata": {},
   "source": [
    "Of course, it can't restore the real part, as that was discarded. So… given our 2-element real-and-complex vector from above, how can we reconstitute our original `N`? In other words, how can we convert `(2 0)(3 1)` back to `2J3 0J1`?"
   ]
  },
  {
   "cell_type": "code",
   "execution_count": 6,
   "id": "609ab8f4",
   "metadata": {},
   "outputs": [
    {
     "data": {
      "text/html": [
       "<span style=\"white-space:pre; font-family: monospace\">2J3 0J1\n",
       "</span>"
      ]
     },
     "execution_count": 6,
     "metadata": {},
     "output_type": "execute_result"
    }
   ],
   "source": [
    "⊃+/¯9 ¯11○(2 0)(3 1)"
   ]
  },
  {
   "cell_type": "markdown",
   "id": "e2239a92",
   "metadata": {},
   "source": [
    "If the argument is a matrix, we can use"
   ]
  },
  {
   "cell_type": "code",
   "execution_count": 10,
   "id": "c4b5beaa",
   "metadata": {},
   "outputs": [
    {
     "data": {
      "text/html": [
       "<span style=\"white-space:pre; font-family: monospace\">┌────┬───┐\n",
       "│ 2 0│3 1│\n",
       "│10 0│0 0│\n",
       "└────┴───┘\n",
       "</span>"
      ]
     },
     "execution_count": 10,
     "metadata": {},
     "output_type": "execute_result"
    }
   ],
   "source": [
    "N←2 2⍴2J3 0J1 10 0\n",
    "m←9 11○⊂N\n",
    "⊃¯9 ¯11+.○9 11○⊂m"
   ]
  },
  {
   "cell_type": "markdown",
   "id": "00db1e7a",
   "metadata": {},
   "source": [
    "If you deal with complex numbers a lot, you might want to define `J←{⍺+0j1×⍵}` which will then allow you to write `a J b` to form `aJb`, and so `⊃J/vec` for this challenge.\n",
    "\n",
    "Complex numbers are not just for hard-core mathematicians. Sometimes they are convenient to use as simple scalar 2D coordinates, where the real part represents offset along one axis, and the imaginary part along the other. One benefit in doing so is that some formulas become vastly simpler with this representation. Let's say we have two points in 2D space, `(a,b)` and `(x,y)`, and we want to compute the distance between them. The traditional approach is something like this:"
   ]
  },
  {
   "cell_type": "code",
   "execution_count": 13,
   "id": "9013a4b2",
   "metadata": {},
   "outputs": [
    {
     "data": {
      "text/html": [
       "<span style=\"white-space:pre; font-family: monospace\">5\n",
       "</span>"
      ]
     },
     "execution_count": 13,
     "metadata": {},
     "output_type": "execute_result"
    }
   ],
   "source": [
    "a b x y←4 6 1 2\n",
    "0.5*⍨+/2*⍨a b-x y"
   ]
  },
  {
   "cell_type": "markdown",
   "id": "16a32aa8",
   "metadata": {},
   "source": [
    "Let's rewrite it given `u v←4j6 1j2`:"
   ]
  },
  {
   "cell_type": "code",
   "execution_count": 14,
   "id": "a533c2b3",
   "metadata": {},
   "outputs": [
    {
     "data": {
      "text/html": [
       "<span style=\"white-space:pre; font-family: monospace\">5\n",
       "</span>"
      ]
     },
     "execution_count": 14,
     "metadata": {},
     "output_type": "execute_result"
    }
   ],
   "source": [
    "u v←4j6 1j2\n",
    "|u-v "
   ]
  },
  {
   "cell_type": "markdown",
   "id": "0cb22489",
   "metadata": {},
   "source": [
    "This lends itself nicely to a 2-train:"
   ]
  },
  {
   "cell_type": "code",
   "execution_count": 15,
   "id": "bd0f7e12",
   "metadata": {},
   "outputs": [
    {
     "data": {
      "text/html": [
       "<span style=\"white-space:pre; font-family: monospace\">5\n",
       "</span>"
      ]
     },
     "execution_count": 15,
     "metadata": {},
     "output_type": "execute_result"
    }
   ],
   "source": [
    "Dist←|-\n",
    "u Dist v"
   ]
  },
  {
   "cell_type": "markdown",
   "id": "ff9fc513",
   "metadata": {},
   "source": [
    "Now imagine you need to represent some vectors in 2D space. `3j3` would point north-east. We can now rotate the pointer 90 degrees counter-clockwise, with `0j1×3j3`: "
   ]
  },
  {
   "cell_type": "code",
   "execution_count": 16,
   "id": "5ce80b39",
   "metadata": {},
   "outputs": [
    {
     "data": {
      "text/html": [
       "<span style=\"white-space:pre; font-family: monospace\">¯3J3\n",
       "</span>"
      ]
     },
     "execution_count": 16,
     "metadata": {},
     "output_type": "execute_result"
    }
   ],
   "source": [
    "0J1×3J3"
   ]
  },
  {
   "cell_type": "markdown",
   "id": "c476b85e",
   "metadata": {},
   "source": [
    "Now it points north-west instead. Using `0J¯1×` will rotate clockwise instead. Also, multiplication by `¯1` (which is `0J1*2`) and so rotation by 180 degrees, giving us the oppositely pointed vector, and further multiplication by `0J1` (i.e. to `0J1*3`) is 270 degrees. This means we can get the four corners with `3j3×0j1*⍳4`. Similarly, we can get the four cardinal directions with `3J0×0J1*⍳4`:  "
   ]
  },
  {
   "cell_type": "code",
   "execution_count": 18,
   "id": "36fa6322",
   "metadata": {},
   "outputs": [
    {
     "data": {
      "text/html": [
       "<span style=\"white-space:pre; font-family: monospace\">¯3J3 ¯3J¯3 3J¯3 3J3\n",
       "</span>"
      ]
     },
     "execution_count": 18,
     "metadata": {},
     "output_type": "execute_result"
    },
    {
     "data": {
      "text/html": [
       "<span style=\"white-space:pre; font-family: monospace\">0J3 ¯3 0J¯3 3\n",
       "</span>"
      ]
     },
     "execution_count": 18,
     "metadata": {},
     "output_type": "execute_result"
    }
   ],
   "source": [
    "3J3×0J1*⍳4\n",
    "3×0J1*⍳4"
   ]
  },
  {
   "cell_type": "markdown",
   "id": "14e2aec4",
   "metadata": {},
   "source": [
    "Some more cheatsheet about vectors: `+v` is reflection by x-axis, `+-v` is by y-axis, `|v` is length, `×v` is unit vector in that direction, `k××v` is vector of length `k` in that direction. If you want to scale vector `v` with scaling factor `k`, do `k×v`, and to rotate vector `v` by the angle of vector `w`, do `v××w`.\n",
    "\n",
    "You can represent a number of \"moves\" in 2D space as complex vectors, say `moves←1j2 0j3 ¯1j0`. This means move 1 right and 2 up, then 3 right, then 1 down. Given such a moves sequence, where do we end up?"
   ]
  },
  {
   "cell_type": "code",
   "execution_count": 19,
   "id": "c478f0e5",
   "metadata": {},
   "outputs": [
    {
     "data": {
      "text/html": [
       "<span style=\"white-space:pre; font-family: monospace\">0J5\n",
       "</span>"
      ]
     },
     "execution_count": 19,
     "metadata": {},
     "output_type": "execute_result"
    }
   ],
   "source": [
    "moves←1j2 0j3 ¯1j0\n",
    "+/moves"
   ]
  },
  {
   "cell_type": "markdown",
   "id": "8f5c69db",
   "metadata": {},
   "source": [
    "What points did we pass through? "
   ]
  },
  {
   "cell_type": "code",
   "execution_count": 21,
   "id": "f03fde14",
   "metadata": {},
   "outputs": [
    {
     "data": {
      "text/html": [
       "<span style=\"white-space:pre; font-family: monospace\">1J2 1J5 0J5\n",
       "</span>"
      ]
     },
     "execution_count": 21,
     "metadata": {},
     "output_type": "execute_result"
    }
   ],
   "source": [
    "+\\moves"
   ]
  },
  {
   "cell_type": "markdown",
   "id": "e7dadbd3",
   "metadata": {},
   "source": [
    "Although we may want to say"
   ]
  },
  {
   "cell_type": "code",
   "execution_count": 22,
   "id": "5981f85e",
   "metadata": {},
   "outputs": [
    {
     "data": {
      "text/html": [
       "<span style=\"white-space:pre; font-family: monospace\">0 1J2 1J5 0J5\n",
       "</span>"
      ]
     },
     "execution_count": 22,
     "metadata": {},
     "output_type": "execute_result"
    }
   ],
   "source": [
    "+\\0,moves"
   ]
  },
  {
   "cell_type": "markdown",
   "id": "efa3d8b7",
   "metadata": {},
   "source": [
    "to include the origin. \n",
    "\n",
    "Conversely, given a set of points, what is the corresponding moves sequence?"
   ]
  },
  {
   "cell_type": "code",
   "execution_count": 25,
   "id": "bc88784b",
   "metadata": {},
   "outputs": [
    {
     "data": {
      "text/html": [
       "<span style=\"white-space:pre; font-family: monospace\">1J2 0J3 ¯1\n",
       "</span>"
      ]
     },
     "execution_count": 25,
     "metadata": {},
     "output_type": "execute_result"
    }
   ],
   "source": [
    "2-⍨/0 1J2 1J5 0J5"
   ]
  },
  {
   "cell_type": "markdown",
   "id": "740d3a42",
   "metadata": {},
   "source": [
    "Sometimes, it is convenient to deal with the angle (upwards from due east) and magnitude (pointer length) instead of the \"coordinates\". We can already get the magnitude (absolute value) with `|Y` but the angle (or phase) is `12○Y`. Side note: the `12○Y` is the one called `atan2()` in other languages. Remember how convenient it was to use the scalar `○` function with a 2-element left argument `9 11`. For that same reason, `|Y` exists as `○` argument, which is 10 of course. So `10 12○Y` gives you the magnitude and phase. Of course, we can use `10 12∘.○Y` and `10 12○⊂Y` like before. \n",
    "\n",
    "How about the other way, if we have an angle and magnitude and want to combine them into a single complex number?\n",
    "Remember how we used `{⍺+¯11○⍵}` before. This is then `{⍺×¯12○⍵}` (or, if you prefer, `¯10 ¯12×.○Y`). "
   ]
  },
  {
   "cell_type": "code",
   "execution_count": null,
   "id": "3f6ee088",
   "metadata": {},
   "outputs": [],
   "source": []
  }
 ],
 "metadata": {
  "kernelspec": {
   "display_name": "Dyalog APL",
   "language": "apl",
   "name": "dyalog-kernel"
  },
  "language_info": {
   "file_extension": ".apl",
   "mimetype": "text/apl",
   "name": "APL"
  }
 },
 "nbformat": 4,
 "nbformat_minor": 5
}
